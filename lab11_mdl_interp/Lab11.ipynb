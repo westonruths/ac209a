{
 "cells": [
  {
   "cell_type": "markdown",
   "metadata": {
    "tags": []
   },
   "source": [
    "# <img style=\"float: left; padding-right: 10px; width: 45px\" src=\"https://raw.githubusercontent.com/Harvard-IACS/2018-CS109A/master/content/styles/iacs.png\"> CS109A Introduction to Data Science\n",
    "\n",
    "## Lab 11 Interpreting Machine Learning Models \n",
    "\n",
    "\n",
    "**Harvard University**<br/>\n",
    "**Fall 2021**<br/>\n",
    "**Instructors**: Pavlos Protopapas and Natesh Pillai\\\n",
    "**Lab Team**: Marios Mattheakis, Hayden Joy, Chris Gumb, and Eleni Kaxiras<br/>\n",
    "**Authors**: Kevin Rader, Pavlos Protopapas, Yongwhan Lim, and Chris Gumb\n",
    "<hr style=\"height:2pt\">"
   ]
  },
  {
   "cell_type": "code",
   "execution_count": 1,
   "metadata": {
    "scrolled": true
   },
   "outputs": [
    {
     "data": {
      "text/html": [
       "<style>\n",
       "blockquote { background: #AEDE94; }\n",
       "h1 { \n",
       "    padding-top: 25px;\n",
       "    padding-bottom: 25px;\n",
       "    text-align: left; \n",
       "    padding-left: 10px;\n",
       "    background-color: #DDDDDD; \n",
       "    color: black;\n",
       "}\n",
       "h2 { \n",
       "    padding-top: 10px;\n",
       "    padding-bottom: 10px;\n",
       "    text-align: left; \n",
       "    padding-left: 5px;\n",
       "    background-color: #EEEEEE; \n",
       "    color: black;\n",
       "}\n",
       "\n",
       "div.exercise {\n",
       "\tbackground-color: #ffcccc;\n",
       "\tborder-color: #E9967A; \t\n",
       "\tborder-left: 5px solid #800080; \n",
       "\tpadding: 0.5em;\n",
       "}\n",
       "\n",
       "div.exercise-r {\n",
       "\tbackground-color: #fce8e8;\n",
       "\tborder-color: #E9967A; \t\n",
       "\tborder-left: 5px solid #800080; \n",
       "\tpadding: 0.5em;\n",
       "}\n",
       "\n",
       "\n",
       "span.sub-q {\n",
       "\tfont-weight: bold;\n",
       "}\n",
       "div.theme {\n",
       "\tbackground-color: #DDDDDD;\n",
       "\tborder-color: #E9967A; \t\n",
       "\tborder-left: 5px solid #800080; \n",
       "\tpadding: 0.5em;\n",
       "\tfont-size: 18pt;\n",
       "}\n",
       "div.gc { \n",
       "\tbackground-color: #AEDE94;\n",
       "\tborder-color: #E9967A; \t \n",
       "\tborder-left: 5px solid #800080; \n",
       "\tpadding: 0.5em;\n",
       "\tfont-size: 12pt;\n",
       "}\n",
       "p.q1 { \n",
       "    padding-top: 5px;\n",
       "    padding-bottom: 5px;\n",
       "    text-align: left; \n",
       "    padding-left: 5px;\n",
       "    background-color: #EEEEEE; \n",
       "    color: black;\n",
       "}\n",
       "header {\n",
       "   padding-top: 35px;\n",
       "    padding-bottom: 35px;\n",
       "    text-align: left; \n",
       "    padding-left: 10px;\n",
       "    background-color: #DDDDDD; \n",
       "    color: black;\n",
       "}\n",
       "</style>\n",
       "\n"
      ],
      "text/plain": [
       "<IPython.core.display.HTML object>"
      ]
     },
     "execution_count": 1,
     "metadata": {},
     "output_type": "execute_result"
    }
   ],
   "source": [
    "#RUN THIS CELL \n",
    "import requests\n",
    "from IPython.core.display import HTML\n",
    "styles = requests.get(\n",
    "    \"https://raw.githubusercontent.com/Harvard-IACS/2018-CS109A/master/content/styles/cs109.css\"\n",
    ").text\n",
    "HTML(styles)"
   ]
  },
  {
   "cell_type": "markdown",
   "metadata": {
    "tags": []
   },
   "source": [
    "# Table of Contents \n",
    "- Feature Importance \n",
    "- Permutation Importance\n",
    "- ELI5\n",
    "- Interpretation Through Predictions\n",
    "- Surrogate Explainer Model\n",
    "- LIME \n",
    "- SHAP\n",
    "   "
   ]
  },
  {
   "cell_type": "markdown",
   "metadata": {},
   "source": [
    "## Learning Goals\n",
    "\n",
    "- Interpret the results of 'black box' machine learning models using several methods. \n",
    "- Explore the ELI5, LIME, and SHAP packages.\n"
   ]
  },
  {
   "cell_type": "code",
   "execution_count": 2,
   "metadata": {},
   "outputs": [
    {
     "name": "stdout",
     "output_type": "stream",
     "text": [
      "Requirement already satisfied: numpy==1.20.0 in /Users/wruths/opt/anaconda3/envs/cs109a/lib/python3.9/site-packages (1.20.0)\n",
      "Requirement already satisfied: numba==0.54.0 in /Users/wruths/opt/anaconda3/envs/cs109a/lib/python3.9/site-packages (0.54.0)\n",
      "Requirement already satisfied: llvmlite<0.38,>=0.37.0rc1 in /Users/wruths/opt/anaconda3/envs/cs109a/lib/python3.9/site-packages (from numba==0.54.0) (0.37.0)\n",
      "Requirement already satisfied: setuptools in /Users/wruths/opt/anaconda3/envs/cs109a/lib/python3.9/site-packages (from numba==0.54.0) (57.4.0)\n"
     ]
    }
   ],
   "source": [
    "# required for SHAP and needs to be run before imports\n",
    "!pip install numpy==1.20.0 numba==0.54.0"
   ]
  },
  {
   "cell_type": "code",
   "execution_count": 3,
   "metadata": {},
   "outputs": [
    {
     "ename": "ModuleNotFoundError",
     "evalue": "No module named 'graphviz'",
     "output_type": "error",
     "traceback": [
      "\u001b[0;31m---------------------------------------------------------------------------\u001b[0m",
      "\u001b[0;31mModuleNotFoundError\u001b[0m                       Traceback (most recent call last)",
      "\u001b[0;32m/var/folders/7w/dkjvv8f57hv2qg30psq105jr0000gn/T/ipykernel_24817/309781706.py\u001b[0m in \u001b[0;36m<module>\u001b[0;34m\u001b[0m\n\u001b[1;32m     15\u001b[0m \u001b[0;34m\u001b[0m\u001b[0m\n\u001b[1;32m     16\u001b[0m \u001b[0;32mfrom\u001b[0m \u001b[0msklearn\u001b[0m\u001b[0;34m.\u001b[0m\u001b[0mmodel_selection\u001b[0m \u001b[0;32mimport\u001b[0m \u001b[0mtrain_test_split\u001b[0m\u001b[0;34m\u001b[0m\u001b[0;34m\u001b[0m\u001b[0m\n\u001b[0;32m---> 17\u001b[0;31m \u001b[0;32mimport\u001b[0m \u001b[0mgraphviz\u001b[0m\u001b[0;34m\u001b[0m\u001b[0;34m\u001b[0m\u001b[0m\n\u001b[0m\u001b[1;32m     18\u001b[0m \u001b[0;34m\u001b[0m\u001b[0m\n\u001b[1;32m     19\u001b[0m \u001b[0mnp\u001b[0m\u001b[0;34m.\u001b[0m\u001b[0mrandom\u001b[0m\u001b[0;34m.\u001b[0m\u001b[0mseed\u001b[0m\u001b[0;34m(\u001b[0m\u001b[0;36m109\u001b[0m\u001b[0;34m)\u001b[0m\u001b[0;34m\u001b[0m\u001b[0;34m\u001b[0m\u001b[0m\n",
      "\u001b[0;31mModuleNotFoundError\u001b[0m: No module named 'graphviz'"
     ]
    }
   ],
   "source": [
    "import pandas as pd\n",
    "import sys\n",
    "import numpy as np\n",
    "import scipy as sp\n",
    "import sklearn as sk\n",
    "import matplotlib.pyplot as plt\n",
    "\n",
    "from sklearn import tree\n",
    "from sklearn import ensemble\n",
    "\n",
    "# Here are the decision trees\n",
    "from sklearn.tree import DecisionTreeClassifier\n",
    "from sklearn.ensemble import RandomForestClassifier\n",
    "from sklearn.ensemble import AdaBoostClassifier\n",
    "\n",
    "from sklearn.model_selection import train_test_split\n",
    "import graphviz\n",
    "\n",
    "np.random.seed(109)"
   ]
  },
  {
   "cell_type": "code",
   "execution_count": 4,
   "metadata": {},
   "outputs": [],
   "source": [
    "# For the sake of time, we'll fit some models quickly and they won't converge\n",
    "# We'll supress those pesky warnings\n",
    "from warnings import simplefilter\n",
    "from sklearn.exceptions import ConvergenceWarning\n",
    "simplefilter(\"ignore\", category=ConvergenceWarning)"
   ]
  },
  {
   "cell_type": "markdown",
   "metadata": {
    "tags": []
   },
   "source": [
    "## Model Interpretability 🔎\n",
    "\n",
    "- As a data scientist, you need to know ins and outs of machine learning models.\n",
    "- Often you need to provide a **trustworthy, transparent, and accountable explanation** to stakeholders beyond the final evaluation metrics (e.g., Accuracy, ROC-AUC score, etc.).\n",
    "- To provide a good justification, we would do well to have an easily generalizable framework to explain a machine learning model.\n",
    "\n",
    "But there are inherent trade-off between model interpretability and accuracy.\\\n",
    "And there are many ways to explain the machine learning models:\n",
    "- Use only interpretable models\n",
    "    - Linear regression, logistic regression, decision trees, etc.\n",
    "    - But these are often times too simple and don't perform well!\n",
    "- Use model specific interpretation methods\n",
    "    - Lacks generalization because it is model dependent!\n",
    "- Use **model-agnostic methods**"
   ]
  },
  {
   "cell_type": "markdown",
   "metadata": {},
   "source": [
    "#### Data Wrangling"
   ]
  },
  {
   "cell_type": "markdown",
   "metadata": {},
   "source": [
    "Today, we will be using the `Heart.csv` data set we've seen many times before.  We to predict `AHD` from the other features and then interpret the models predictions.\\\n",
    "For this reason it will be nice to have a description of all the features at hand."
   ]
  },
  {
   "cell_type": "markdown",
   "metadata": {},
   "source": [
    "The data includes:\n",
    "- Age: displays the age of the individual.\n",
    "- Sex: displays the sex of the individual using the following format :\n",
    "    - 1 = male\n",
    "    - 0 = female\n",
    "- Chest-pain type: displays the type of chest-pain experienced by the individual using the following format :\n",
    "    - typical angina\n",
    "    - atypical angina\n",
    "    - non—anginal pain\n",
    "    - asymptotic\n",
    "- Resting Blood Pressure: displays the resting blood pressure value of an individual in mmHg (unit)\n",
    "- Serum Cholestrol: displays the serum cholesterol in mg/dl (unit)\n",
    "- Fasting Blood Sugar: compares the fasting blood sugar value of an individual with 120mg/dl.\n",
    "    - If fasting blood sugar > 120mg/dl then : 1 (true)\n",
    "    - else : 0 (false)\n",
    "- Resting ECG : displays resting electrocardiographic results\n",
    "    - 0 = normal\n",
    "    - 1 = having ST-T wave abnormality\n",
    "    - 2 = left ventricular hyperthrophy\n",
    "- Max heart rate achieved : displays the max heart rate achieved by an individual.\n",
    "- Exercise induced angina :\n",
    "    - 1 = yes\n",
    "    - 0 = no\n",
    "- ST depression induced by exercise relative to rest (`Oldspeak`)\n",
    "- Peak exercise ST segment (`Slope`):\n",
    "    - 1 = upsloping\n",
    "    - 2 = flat\n",
    "    - 3 = downsloping\n",
    "- Number of major vessels (0–3) colored by flourosopy (`Ca`)\n",
    "- Thal : displays the thalassemia :\n",
    "    - normal\n",
    "    - fixed defect\n",
    "    - reversible defect\n",
    "- Diagnosis of heart disease : Displays whether the individual is suffering from heart disease or not :\n",
    "    - Yes\n",
    "    - No"
   ]
  },
  {
   "cell_type": "markdown",
   "metadata": {},
   "source": [
    "We'll read in the data and do a bit of preprocessing."
   ]
  },
  {
   "cell_type": "code",
   "execution_count": 5,
   "metadata": {},
   "outputs": [],
   "source": [
    "heart_df = pd.read_csv('data/Heart.csv', index_col=0)"
   ]
  },
  {
   "cell_type": "code",
   "execution_count": 6,
   "metadata": {},
   "outputs": [
    {
     "name": "stdout",
     "output_type": "stream",
     "text": [
      "(303, 14)\n"
     ]
    },
    {
     "data": {
      "text/html": [
       "<div>\n",
       "<style scoped>\n",
       "    .dataframe tbody tr th:only-of-type {\n",
       "        vertical-align: middle;\n",
       "    }\n",
       "\n",
       "    .dataframe tbody tr th {\n",
       "        vertical-align: top;\n",
       "    }\n",
       "\n",
       "    .dataframe thead th {\n",
       "        text-align: right;\n",
       "    }\n",
       "</style>\n",
       "<table border=\"1\" class=\"dataframe\">\n",
       "  <thead>\n",
       "    <tr style=\"text-align: right;\">\n",
       "      <th></th>\n",
       "      <th>Age</th>\n",
       "      <th>Sex</th>\n",
       "      <th>ChestPain</th>\n",
       "      <th>RestBP</th>\n",
       "      <th>Chol</th>\n",
       "      <th>Fbs</th>\n",
       "      <th>RestECG</th>\n",
       "      <th>MaxHR</th>\n",
       "      <th>ExAng</th>\n",
       "      <th>Oldpeak</th>\n",
       "      <th>Slope</th>\n",
       "      <th>Ca</th>\n",
       "      <th>Thal</th>\n",
       "      <th>AHD</th>\n",
       "    </tr>\n",
       "  </thead>\n",
       "  <tbody>\n",
       "    <tr>\n",
       "      <th>1</th>\n",
       "      <td>63</td>\n",
       "      <td>1</td>\n",
       "      <td>typical</td>\n",
       "      <td>145</td>\n",
       "      <td>233</td>\n",
       "      <td>1</td>\n",
       "      <td>2</td>\n",
       "      <td>150</td>\n",
       "      <td>0</td>\n",
       "      <td>2.3</td>\n",
       "      <td>3</td>\n",
       "      <td>0.0</td>\n",
       "      <td>fixed</td>\n",
       "      <td>No</td>\n",
       "    </tr>\n",
       "    <tr>\n",
       "      <th>2</th>\n",
       "      <td>67</td>\n",
       "      <td>1</td>\n",
       "      <td>asymptomatic</td>\n",
       "      <td>160</td>\n",
       "      <td>286</td>\n",
       "      <td>0</td>\n",
       "      <td>2</td>\n",
       "      <td>108</td>\n",
       "      <td>1</td>\n",
       "      <td>1.5</td>\n",
       "      <td>2</td>\n",
       "      <td>3.0</td>\n",
       "      <td>normal</td>\n",
       "      <td>Yes</td>\n",
       "    </tr>\n",
       "    <tr>\n",
       "      <th>3</th>\n",
       "      <td>67</td>\n",
       "      <td>1</td>\n",
       "      <td>asymptomatic</td>\n",
       "      <td>120</td>\n",
       "      <td>229</td>\n",
       "      <td>0</td>\n",
       "      <td>2</td>\n",
       "      <td>129</td>\n",
       "      <td>1</td>\n",
       "      <td>2.6</td>\n",
       "      <td>2</td>\n",
       "      <td>2.0</td>\n",
       "      <td>reversable</td>\n",
       "      <td>Yes</td>\n",
       "    </tr>\n",
       "    <tr>\n",
       "      <th>4</th>\n",
       "      <td>37</td>\n",
       "      <td>1</td>\n",
       "      <td>nonanginal</td>\n",
       "      <td>130</td>\n",
       "      <td>250</td>\n",
       "      <td>0</td>\n",
       "      <td>0</td>\n",
       "      <td>187</td>\n",
       "      <td>0</td>\n",
       "      <td>3.5</td>\n",
       "      <td>3</td>\n",
       "      <td>0.0</td>\n",
       "      <td>normal</td>\n",
       "      <td>No</td>\n",
       "    </tr>\n",
       "    <tr>\n",
       "      <th>5</th>\n",
       "      <td>41</td>\n",
       "      <td>0</td>\n",
       "      <td>nontypical</td>\n",
       "      <td>130</td>\n",
       "      <td>204</td>\n",
       "      <td>0</td>\n",
       "      <td>2</td>\n",
       "      <td>172</td>\n",
       "      <td>0</td>\n",
       "      <td>1.4</td>\n",
       "      <td>1</td>\n",
       "      <td>0.0</td>\n",
       "      <td>normal</td>\n",
       "      <td>No</td>\n",
       "    </tr>\n",
       "  </tbody>\n",
       "</table>\n",
       "</div>"
      ],
      "text/plain": [
       "   Age  Sex     ChestPain  RestBP  Chol  Fbs  RestECG  MaxHR  ExAng  Oldpeak  \\\n",
       "1   63    1       typical     145   233    1        2    150      0      2.3   \n",
       "2   67    1  asymptomatic     160   286    0        2    108      1      1.5   \n",
       "3   67    1  asymptomatic     120   229    0        2    129      1      2.6   \n",
       "4   37    1    nonanginal     130   250    0        0    187      0      3.5   \n",
       "5   41    0    nontypical     130   204    0        2    172      0      1.4   \n",
       "\n",
       "   Slope   Ca        Thal  AHD  \n",
       "1      3  0.0       fixed   No  \n",
       "2      2  3.0      normal  Yes  \n",
       "3      2  2.0  reversable  Yes  \n",
       "4      3  0.0      normal   No  \n",
       "5      1  0.0      normal   No  "
      ]
     },
     "execution_count": 6,
     "metadata": {},
     "output_type": "execute_result"
    }
   ],
   "source": [
    "print(heart_df.shape)\n",
    "heart_df.head()"
   ]
  },
  {
   "cell_type": "code",
   "execution_count": 7,
   "metadata": {},
   "outputs": [
    {
     "data": {
      "text/html": [
       "<div>\n",
       "<style scoped>\n",
       "    .dataframe tbody tr th:only-of-type {\n",
       "        vertical-align: middle;\n",
       "    }\n",
       "\n",
       "    .dataframe tbody tr th {\n",
       "        vertical-align: top;\n",
       "    }\n",
       "\n",
       "    .dataframe thead th {\n",
       "        text-align: right;\n",
       "    }\n",
       "</style>\n",
       "<table border=\"1\" class=\"dataframe\">\n",
       "  <thead>\n",
       "    <tr style=\"text-align: right;\">\n",
       "      <th></th>\n",
       "      <th>Age</th>\n",
       "      <th>Sex</th>\n",
       "      <th>RestBP</th>\n",
       "      <th>Chol</th>\n",
       "      <th>Fbs</th>\n",
       "      <th>RestECG</th>\n",
       "      <th>MaxHR</th>\n",
       "      <th>ExAng</th>\n",
       "      <th>Oldpeak</th>\n",
       "      <th>Slope</th>\n",
       "      <th>Ca</th>\n",
       "    </tr>\n",
       "  </thead>\n",
       "  <tbody>\n",
       "    <tr>\n",
       "      <th>count</th>\n",
       "      <td>303.000000</td>\n",
       "      <td>303.000000</td>\n",
       "      <td>303.000000</td>\n",
       "      <td>303.000000</td>\n",
       "      <td>303.000000</td>\n",
       "      <td>303.000000</td>\n",
       "      <td>303.000000</td>\n",
       "      <td>303.000000</td>\n",
       "      <td>303.000000</td>\n",
       "      <td>303.000000</td>\n",
       "      <td>299.000000</td>\n",
       "    </tr>\n",
       "    <tr>\n",
       "      <th>mean</th>\n",
       "      <td>54.438944</td>\n",
       "      <td>0.679868</td>\n",
       "      <td>131.689769</td>\n",
       "      <td>246.693069</td>\n",
       "      <td>0.148515</td>\n",
       "      <td>0.990099</td>\n",
       "      <td>149.607261</td>\n",
       "      <td>0.326733</td>\n",
       "      <td>1.039604</td>\n",
       "      <td>1.600660</td>\n",
       "      <td>0.672241</td>\n",
       "    </tr>\n",
       "    <tr>\n",
       "      <th>std</th>\n",
       "      <td>9.038662</td>\n",
       "      <td>0.467299</td>\n",
       "      <td>17.599748</td>\n",
       "      <td>51.776918</td>\n",
       "      <td>0.356198</td>\n",
       "      <td>0.994971</td>\n",
       "      <td>22.875003</td>\n",
       "      <td>0.469794</td>\n",
       "      <td>1.161075</td>\n",
       "      <td>0.616226</td>\n",
       "      <td>0.937438</td>\n",
       "    </tr>\n",
       "    <tr>\n",
       "      <th>min</th>\n",
       "      <td>29.000000</td>\n",
       "      <td>0.000000</td>\n",
       "      <td>94.000000</td>\n",
       "      <td>126.000000</td>\n",
       "      <td>0.000000</td>\n",
       "      <td>0.000000</td>\n",
       "      <td>71.000000</td>\n",
       "      <td>0.000000</td>\n",
       "      <td>0.000000</td>\n",
       "      <td>1.000000</td>\n",
       "      <td>0.000000</td>\n",
       "    </tr>\n",
       "    <tr>\n",
       "      <th>25%</th>\n",
       "      <td>48.000000</td>\n",
       "      <td>0.000000</td>\n",
       "      <td>120.000000</td>\n",
       "      <td>211.000000</td>\n",
       "      <td>0.000000</td>\n",
       "      <td>0.000000</td>\n",
       "      <td>133.500000</td>\n",
       "      <td>0.000000</td>\n",
       "      <td>0.000000</td>\n",
       "      <td>1.000000</td>\n",
       "      <td>0.000000</td>\n",
       "    </tr>\n",
       "    <tr>\n",
       "      <th>50%</th>\n",
       "      <td>56.000000</td>\n",
       "      <td>1.000000</td>\n",
       "      <td>130.000000</td>\n",
       "      <td>241.000000</td>\n",
       "      <td>0.000000</td>\n",
       "      <td>1.000000</td>\n",
       "      <td>153.000000</td>\n",
       "      <td>0.000000</td>\n",
       "      <td>0.800000</td>\n",
       "      <td>2.000000</td>\n",
       "      <td>0.000000</td>\n",
       "    </tr>\n",
       "    <tr>\n",
       "      <th>75%</th>\n",
       "      <td>61.000000</td>\n",
       "      <td>1.000000</td>\n",
       "      <td>140.000000</td>\n",
       "      <td>275.000000</td>\n",
       "      <td>0.000000</td>\n",
       "      <td>2.000000</td>\n",
       "      <td>166.000000</td>\n",
       "      <td>1.000000</td>\n",
       "      <td>1.600000</td>\n",
       "      <td>2.000000</td>\n",
       "      <td>1.000000</td>\n",
       "    </tr>\n",
       "    <tr>\n",
       "      <th>max</th>\n",
       "      <td>77.000000</td>\n",
       "      <td>1.000000</td>\n",
       "      <td>200.000000</td>\n",
       "      <td>564.000000</td>\n",
       "      <td>1.000000</td>\n",
       "      <td>2.000000</td>\n",
       "      <td>202.000000</td>\n",
       "      <td>1.000000</td>\n",
       "      <td>6.200000</td>\n",
       "      <td>3.000000</td>\n",
       "      <td>3.000000</td>\n",
       "    </tr>\n",
       "  </tbody>\n",
       "</table>\n",
       "</div>"
      ],
      "text/plain": [
       "              Age         Sex      RestBP        Chol         Fbs     RestECG  \\\n",
       "count  303.000000  303.000000  303.000000  303.000000  303.000000  303.000000   \n",
       "mean    54.438944    0.679868  131.689769  246.693069    0.148515    0.990099   \n",
       "std      9.038662    0.467299   17.599748   51.776918    0.356198    0.994971   \n",
       "min     29.000000    0.000000   94.000000  126.000000    0.000000    0.000000   \n",
       "25%     48.000000    0.000000  120.000000  211.000000    0.000000    0.000000   \n",
       "50%     56.000000    1.000000  130.000000  241.000000    0.000000    1.000000   \n",
       "75%     61.000000    1.000000  140.000000  275.000000    0.000000    2.000000   \n",
       "max     77.000000    1.000000  200.000000  564.000000    1.000000    2.000000   \n",
       "\n",
       "            MaxHR       ExAng     Oldpeak       Slope          Ca  \n",
       "count  303.000000  303.000000  303.000000  303.000000  299.000000  \n",
       "mean   149.607261    0.326733    1.039604    1.600660    0.672241  \n",
       "std     22.875003    0.469794    1.161075    0.616226    0.937438  \n",
       "min     71.000000    0.000000    0.000000    1.000000    0.000000  \n",
       "25%    133.500000    0.000000    0.000000    1.000000    0.000000  \n",
       "50%    153.000000    0.000000    0.800000    2.000000    0.000000  \n",
       "75%    166.000000    1.000000    1.600000    2.000000    1.000000  \n",
       "max    202.000000    1.000000    6.200000    3.000000    3.000000  "
      ]
     },
     "execution_count": 7,
     "metadata": {},
     "output_type": "execute_result"
    }
   ],
   "source": [
    "heart_df.describe()"
   ]
  },
  {
   "cell_type": "code",
   "execution_count": 8,
   "metadata": {},
   "outputs": [],
   "source": [
    "X = heart_df[['Age','Sex','ChestPain','RestBP','Chol','Fbs','RestECG','MaxHR','ExAng','Oldpeak','Slope','Ca','Thal']]\n",
    "y = (heart_df['AHD']=='Yes').astype(int)"
   ]
  },
  {
   "cell_type": "code",
   "execution_count": 9,
   "metadata": {},
   "outputs": [],
   "source": [
    "# These are our categorical columns\n",
    "X = X.assign(ChestPain=X['ChestPain'].astype('category').cat.codes)\n",
    "X = X.assign(Thal=X['Thal'].astype('category').cat.codes)"
   ]
  },
  {
   "cell_type": "code",
   "execution_count": 10,
   "metadata": {},
   "outputs": [],
   "source": [
    "# The mode of Ca is 0\n",
    "X['Ca']=X['Ca'].fillna(0)"
   ]
  },
  {
   "cell_type": "code",
   "execution_count": 11,
   "metadata": {},
   "outputs": [],
   "source": [
    "# Here we're actually getting indices from the split call!\n",
    "itrain, itest = train_test_split(range(X.shape[0]), train_size=0.80, stratify=heart_df.AHD)\n",
    "\n",
    "X_train = X.iloc[itrain, :]\n",
    "X_test = X.iloc[itest, :]\n",
    "y_train = y.iloc[itrain]\n",
    "y_test = y.iloc[itest]"
   ]
  },
  {
   "cell_type": "code",
   "execution_count": 12,
   "metadata": {},
   "outputs": [
    {
     "data": {
      "text/html": [
       "<div>\n",
       "<style scoped>\n",
       "    .dataframe tbody tr th:only-of-type {\n",
       "        vertical-align: middle;\n",
       "    }\n",
       "\n",
       "    .dataframe tbody tr th {\n",
       "        vertical-align: top;\n",
       "    }\n",
       "\n",
       "    .dataframe thead th {\n",
       "        text-align: right;\n",
       "    }\n",
       "</style>\n",
       "<table border=\"1\" class=\"dataframe\">\n",
       "  <thead>\n",
       "    <tr style=\"text-align: right;\">\n",
       "      <th></th>\n",
       "      <th>Age</th>\n",
       "      <th>Sex</th>\n",
       "      <th>ChestPain</th>\n",
       "      <th>RestBP</th>\n",
       "      <th>Chol</th>\n",
       "      <th>Fbs</th>\n",
       "      <th>RestECG</th>\n",
       "      <th>MaxHR</th>\n",
       "      <th>ExAng</th>\n",
       "      <th>Oldpeak</th>\n",
       "      <th>Slope</th>\n",
       "      <th>Ca</th>\n",
       "      <th>Thal</th>\n",
       "    </tr>\n",
       "  </thead>\n",
       "  <tbody>\n",
       "    <tr>\n",
       "      <th>1</th>\n",
       "      <td>63</td>\n",
       "      <td>1</td>\n",
       "      <td>3</td>\n",
       "      <td>145</td>\n",
       "      <td>233</td>\n",
       "      <td>1</td>\n",
       "      <td>2</td>\n",
       "      <td>150</td>\n",
       "      <td>0</td>\n",
       "      <td>2.3</td>\n",
       "      <td>3</td>\n",
       "      <td>0.0</td>\n",
       "      <td>0</td>\n",
       "    </tr>\n",
       "    <tr>\n",
       "      <th>2</th>\n",
       "      <td>67</td>\n",
       "      <td>1</td>\n",
       "      <td>0</td>\n",
       "      <td>160</td>\n",
       "      <td>286</td>\n",
       "      <td>0</td>\n",
       "      <td>2</td>\n",
       "      <td>108</td>\n",
       "      <td>1</td>\n",
       "      <td>1.5</td>\n",
       "      <td>2</td>\n",
       "      <td>3.0</td>\n",
       "      <td>1</td>\n",
       "    </tr>\n",
       "    <tr>\n",
       "      <th>3</th>\n",
       "      <td>67</td>\n",
       "      <td>1</td>\n",
       "      <td>0</td>\n",
       "      <td>120</td>\n",
       "      <td>229</td>\n",
       "      <td>0</td>\n",
       "      <td>2</td>\n",
       "      <td>129</td>\n",
       "      <td>1</td>\n",
       "      <td>2.6</td>\n",
       "      <td>2</td>\n",
       "      <td>2.0</td>\n",
       "      <td>2</td>\n",
       "    </tr>\n",
       "    <tr>\n",
       "      <th>4</th>\n",
       "      <td>37</td>\n",
       "      <td>1</td>\n",
       "      <td>1</td>\n",
       "      <td>130</td>\n",
       "      <td>250</td>\n",
       "      <td>0</td>\n",
       "      <td>0</td>\n",
       "      <td>187</td>\n",
       "      <td>0</td>\n",
       "      <td>3.5</td>\n",
       "      <td>3</td>\n",
       "      <td>0.0</td>\n",
       "      <td>1</td>\n",
       "    </tr>\n",
       "    <tr>\n",
       "      <th>5</th>\n",
       "      <td>41</td>\n",
       "      <td>0</td>\n",
       "      <td>2</td>\n",
       "      <td>130</td>\n",
       "      <td>204</td>\n",
       "      <td>0</td>\n",
       "      <td>2</td>\n",
       "      <td>172</td>\n",
       "      <td>0</td>\n",
       "      <td>1.4</td>\n",
       "      <td>1</td>\n",
       "      <td>0.0</td>\n",
       "      <td>1</td>\n",
       "    </tr>\n",
       "    <tr>\n",
       "      <th>...</th>\n",
       "      <td>...</td>\n",
       "      <td>...</td>\n",
       "      <td>...</td>\n",
       "      <td>...</td>\n",
       "      <td>...</td>\n",
       "      <td>...</td>\n",
       "      <td>...</td>\n",
       "      <td>...</td>\n",
       "      <td>...</td>\n",
       "      <td>...</td>\n",
       "      <td>...</td>\n",
       "      <td>...</td>\n",
       "      <td>...</td>\n",
       "    </tr>\n",
       "    <tr>\n",
       "      <th>299</th>\n",
       "      <td>45</td>\n",
       "      <td>1</td>\n",
       "      <td>3</td>\n",
       "      <td>110</td>\n",
       "      <td>264</td>\n",
       "      <td>0</td>\n",
       "      <td>0</td>\n",
       "      <td>132</td>\n",
       "      <td>0</td>\n",
       "      <td>1.2</td>\n",
       "      <td>2</td>\n",
       "      <td>0.0</td>\n",
       "      <td>2</td>\n",
       "    </tr>\n",
       "    <tr>\n",
       "      <th>300</th>\n",
       "      <td>68</td>\n",
       "      <td>1</td>\n",
       "      <td>0</td>\n",
       "      <td>144</td>\n",
       "      <td>193</td>\n",
       "      <td>1</td>\n",
       "      <td>0</td>\n",
       "      <td>141</td>\n",
       "      <td>0</td>\n",
       "      <td>3.4</td>\n",
       "      <td>2</td>\n",
       "      <td>2.0</td>\n",
       "      <td>2</td>\n",
       "    </tr>\n",
       "    <tr>\n",
       "      <th>301</th>\n",
       "      <td>57</td>\n",
       "      <td>1</td>\n",
       "      <td>0</td>\n",
       "      <td>130</td>\n",
       "      <td>131</td>\n",
       "      <td>0</td>\n",
       "      <td>0</td>\n",
       "      <td>115</td>\n",
       "      <td>1</td>\n",
       "      <td>1.2</td>\n",
       "      <td>2</td>\n",
       "      <td>1.0</td>\n",
       "      <td>2</td>\n",
       "    </tr>\n",
       "    <tr>\n",
       "      <th>302</th>\n",
       "      <td>57</td>\n",
       "      <td>0</td>\n",
       "      <td>2</td>\n",
       "      <td>130</td>\n",
       "      <td>236</td>\n",
       "      <td>0</td>\n",
       "      <td>2</td>\n",
       "      <td>174</td>\n",
       "      <td>0</td>\n",
       "      <td>0.0</td>\n",
       "      <td>2</td>\n",
       "      <td>1.0</td>\n",
       "      <td>1</td>\n",
       "    </tr>\n",
       "    <tr>\n",
       "      <th>303</th>\n",
       "      <td>38</td>\n",
       "      <td>1</td>\n",
       "      <td>1</td>\n",
       "      <td>138</td>\n",
       "      <td>175</td>\n",
       "      <td>0</td>\n",
       "      <td>0</td>\n",
       "      <td>173</td>\n",
       "      <td>0</td>\n",
       "      <td>0.0</td>\n",
       "      <td>1</td>\n",
       "      <td>0.0</td>\n",
       "      <td>1</td>\n",
       "    </tr>\n",
       "  </tbody>\n",
       "</table>\n",
       "<p>303 rows × 13 columns</p>\n",
       "</div>"
      ],
      "text/plain": [
       "     Age  Sex  ChestPain  RestBP  Chol  Fbs  RestECG  MaxHR  ExAng  Oldpeak  \\\n",
       "1     63    1          3     145   233    1        2    150      0      2.3   \n",
       "2     67    1          0     160   286    0        2    108      1      1.5   \n",
       "3     67    1          0     120   229    0        2    129      1      2.6   \n",
       "4     37    1          1     130   250    0        0    187      0      3.5   \n",
       "5     41    0          2     130   204    0        2    172      0      1.4   \n",
       "..   ...  ...        ...     ...   ...  ...      ...    ...    ...      ...   \n",
       "299   45    1          3     110   264    0        0    132      0      1.2   \n",
       "300   68    1          0     144   193    1        0    141      0      3.4   \n",
       "301   57    1          0     130   131    0        0    115      1      1.2   \n",
       "302   57    0          2     130   236    0        2    174      0      0.0   \n",
       "303   38    1          1     138   175    0        0    173      0      0.0   \n",
       "\n",
       "     Slope   Ca  Thal  \n",
       "1        3  0.0     0  \n",
       "2        2  3.0     1  \n",
       "3        2  2.0     2  \n",
       "4        3  0.0     1  \n",
       "5        1  0.0     1  \n",
       "..     ...  ...   ...  \n",
       "299      2  0.0     2  \n",
       "300      2  2.0     2  \n",
       "301      2  1.0     2  \n",
       "302      2  1.0     1  \n",
       "303      1  0.0     1  \n",
       "\n",
       "[303 rows x 13 columns]"
      ]
     },
     "execution_count": 12,
     "metadata": {},
     "output_type": "execute_result"
    }
   ],
   "source": [
    "# After preprocessing\n",
    "X"
   ]
  },
  {
   "cell_type": "markdown",
   "metadata": {},
   "source": [
    "**Q:** 🤔 How were the categorical variables handled?  How were missing values treated?  Were these wise choices?"
   ]
  },
  {
   "cell_type": "markdown",
   "metadata": {},
   "source": [
    "---"
   ]
  },
  {
   "cell_type": "markdown",
   "metadata": {},
   "source": [
    "## Fitting Four Untuned ML Models\n",
    "\n",
    "Start with 2 decision tree models and evaluate using AUC:"
   ]
  },
  {
   "cell_type": "code",
   "execution_count": 13,
   "metadata": {},
   "outputs": [],
   "source": [
    "# fit a possibly underfit (depth = 3) decision tree classifier\n",
    "dt3 = tree.DecisionTreeClassifier(max_depth = 3)\n",
    "dt3.fit(X_train,y_train)\n",
    "\n",
    "# fit an overfit (depth = 10) decision tree classifier\n",
    "dt10 = tree.DecisionTreeClassifier(max_depth = 10)\n",
    "dt10.fit(X_train,y_train);"
   ]
  },
  {
   "cell_type": "code",
   "execution_count": 14,
   "metadata": {},
   "outputs": [
    {
     "name": "stdout",
     "output_type": "stream",
     "text": [
      "AUC on train for dt3: 0.894230107970566\n",
      "AUC on test for dt3: 0.8398268398268398\n",
      "AUC on train for dt10: 1.0\n",
      "AUC on test for dt10: 0.6520562770562771\n"
     ]
    }
   ],
   "source": [
    "# Evaluate using AUC\n",
    "print(\"AUC on train for dt3:\",sk.metrics.roc_auc_score(y_train,dt3.predict_proba(X_train)[:,1]))\n",
    "print(\"AUC on test for dt3:\",sk.metrics.roc_auc_score(y_test,dt3.predict_proba(X_test)[:,1]))\n",
    "\n",
    "print(\"AUC on train for dt10:\",sk.metrics.roc_auc_score(y_train,dt10.predict_proba(X_train)[:,1]))\n",
    "print(\"AUC on test for dt10:\",sk.metrics.roc_auc_score(y_test,dt10.predict_proba(X_test)[:,1]))"
   ]
  },
  {
   "cell_type": "markdown",
   "metadata": {},
   "source": [
    "Now fit the two ensemble models: **Random Forest** and **AdaBoost**:"
   ]
  },
  {
   "cell_type": "code",
   "execution_count": 15,
   "metadata": {},
   "outputs": [],
   "source": [
    "# fit random forest and adaboost models\n",
    "randomforest = RandomForestClassifier(n_estimators=100, max_features='sqrt', max_depth=10)\n",
    "randomforest.fit(X_train,y_train);\n",
    "\n",
    "adaboost = AdaBoostClassifier(\n",
    "    base_estimator=DecisionTreeClassifier(max_depth=2),\n",
    "    n_estimators=150,\n",
    "    learning_rate=.05)\n",
    "adaboost.fit(X_train,y_train);"
   ]
  },
  {
   "cell_type": "code",
   "execution_count": 16,
   "metadata": {},
   "outputs": [
    {
     "name": "stdout",
     "output_type": "stream",
     "text": [
      "AUC on train for randomforest: 0.9999999999999999\n",
      "AUC on test for randomforest: 0.902056277056277\n",
      "AUC on train for adaboost: 0.9955986520872018\n",
      "AUC on test for adaboost: 0.8571428571428572\n"
     ]
    }
   ],
   "source": [
    "# evaluating\n",
    "print(\"AUC on train for randomforest:\",sk.metrics.roc_auc_score(y_train,randomforest.predict_proba(X_train)[:,1]))\n",
    "print(\"AUC on test for randomforest:\",sk.metrics.roc_auc_score(y_test,randomforest.predict_proba(X_test)[:,1]))\n",
    "\n",
    "print(\"AUC on train for adaboost:\",sk.metrics.roc_auc_score(y_train,adaboost.predict_proba(X_train)[:,1]))\n",
    "print(\"AUC on test for adaboost:\",sk.metrics.roc_auc_score(y_test,adaboost.predict_proba(X_test)[:,1]))"
   ]
  },
  {
   "cell_type": "markdown",
   "metadata": {},
   "source": [
    "**Q**: 🤔 Which model performs best?  Which models are overfit?  How do you know?"
   ]
  },
  {
   "cell_type": "markdown",
   "metadata": {},
   "source": [
    "## Variable Importance"
   ]
  },
  {
   "cell_type": "markdown",
   "metadata": {},
   "source": [
    "Fill in the blanks below to calculate the variable importances from the 4 untuned models above."
   ]
  },
  {
   "cell_type": "code",
   "execution_count": 17,
   "metadata": {},
   "outputs": [
    {
     "data": {
      "text/plain": [
       "Index(['ChestPain', 'Oldpeak', 'Ca', 'MaxHR', 'Thal', 'Slope', 'ExAng',\n",
       "       'RestECG', 'Fbs', 'Chol', 'RestBP', 'Sex', 'Age'],\n",
       "      dtype='object')"
      ]
     },
     "execution_count": 17,
     "metadata": {},
     "output_type": "execute_result"
    }
   ],
   "source": [
    "X.columns[np.flip(np.argsort(dt3.feature_importances_))]"
   ]
  },
  {
   "cell_type": "code",
   "execution_count": 18,
   "metadata": {},
   "outputs": [
    {
     "data": {
      "image/png": "[encoded data removed]",
      "text/plain": [
       "<Figure size 1728x432 with 4 Axes>"
      ]
     },
     "metadata": {
      "needs_background": "light"
     },
     "output_type": "display_data"
    }
   ],
   "source": [
    "fig, axs = plt.subplots(1,4, figsize=(24,6))\n",
    "models = {'depth-3 tree': dt3,\n",
    "          'depth-10 tree': dt10,\n",
    "          'random forest': randomforest,\n",
    "          'adaboost': adaboost} \n",
    "num_features = 10 \n",
    "for i, (name, model) in enumerate(models.items()):\n",
    "    importances = model.feature_importances_\n",
    "    order = np.argsort(importances)[-num_features:]\n",
    "    axs[i].barh(range(num_features), importances[order], tick_label=X.columns[order]);\n",
    "    axs[i].set_title(f\"Relative Variable Importance for {name}\")\n",
    "                                  "
   ]
  },
  {
   "cell_type": "markdown",
   "metadata": {},
   "source": [
    "**Q**: 🤔 How do these variable importance measures compare for these 4 models?  Which predictor is most important in general?  How is it related to `AHD`? "
   ]
  },
  {
   "cell_type": "markdown",
   "metadata": {},
   "source": [
    "**What other approaches can be taken to measure variable importance?**\n",
    "\n",
    "One alternative for random forest:\n",
    "- Record the prediction accuracy on the *oob* samples for each tree.\n",
    "- Randomly permute the data for column $j$ in the *oob* samples, then record the accuracy again.\n",
    "- The decrease in accuracy as a result of this permuting is averaged over all trees, and is used as a measure of the importance of variable $j$ in the random forest. "
   ]
  },
  {
   "cell_type": "markdown",
   "metadata": {},
   "source": [
    "This idea of re-permuting a variable and *refitting* a model to see how much more\n",
    "poorly it performs is called **permutation feature importance**."
   ]
  },
  {
   "cell_type": "markdown",
   "metadata": {},
   "source": [
    "---"
   ]
  },
  {
   "cell_type": "markdown",
   "metadata": {},
   "source": [
    "## Permutation Importance"
   ]
  },
  {
   "cell_type": "markdown",
   "metadata": {},
   "source": [
    "This method is sometimes preferred to the standard feature importance approach shown above, why?\n",
    "\n",
    "Keep in mind that when two features are correlated and one of the features is permuted, the model will still have access to the feature through its correlated feature.\n",
    "\n",
    "**Q:** 🤔 What is the one glaring disadvantage to the permutation approach? ⏲️"
   ]
  },
  {
   "cell_type": "markdown",
   "metadata": {
    "tags": []
   },
   "source": [
    "## ELI5 👶❓\n",
    "\n",
    "ELI5 is a Python package which helps to debug machine learning classifiers and explain their predictions. It provides support for several machine learning frameworks and packages such as `sklearn`, `keras` (Neural Networks), `XGBoost`, and others!\n",
    "[ELI5 Documentation](https://eli5.readthedocs.io/en/latest/overview.html)\\\n",
    "[ELI5 GitHub Repo](https://github.com/TeamHG-Memex/eli5)\n",
    "\n",
    "ELI5 stands for \"[explain like I'm five](https://www.reddit.com/r/explainlikeimfive/).\"\\\n",
    "Its visualizations show weights for each feature depicting how influential it might have been in contributing to the final prediction decision.\n",
    "\n",
    "Below we'll use the `eli5` package to calculate permutation importance."
   ]
  },
  {
   "cell_type": "code",
   "execution_count": null,
   "metadata": {},
   "outputs": [],
   "source": [
    "!pip install eli5"
   ]
  },
  {
   "cell_type": "code",
   "execution_count": null,
   "metadata": {},
   "outputs": [],
   "source": [
    "import eli5"
   ]
  },
  {
   "cell_type": "code",
   "execution_count": null,
   "metadata": {},
   "outputs": [],
   "source": [
    "#permutation importance for the random forest\n",
    "from eli5.sklearn import PermutationImportance\n",
    "\n",
    "seed = 42\n",
    "\n",
    "perm = PermutationImportance(randomforest, random_state=seed, n_iter=10).fit(X_test, y_test)\n",
    "eli5.show_weights(perm, feature_names=X.columns.tolist())"
   ]
  },
  {
   "cell_type": "markdown",
   "metadata": {},
   "source": [
    "Now the importances for the adaboost model."
   ]
  },
  {
   "cell_type": "code",
   "execution_count": null,
   "metadata": {},
   "outputs": [],
   "source": [
    "perm = PermutationImportance(adaboost,random_state=seed,n_iter=10).fit(X_test, y_test)\n",
    "eli5.show_weights(perm,feature_names=X.columns.tolist())"
   ]
  },
  {
   "cell_type": "markdown",
   "metadata": {},
   "source": [
    "**Q**: 🤔 How do the permutation importance measures compare to the default variable importance in the random forest?  How does the boosted model compare to the random forest?"
   ]
  },
  {
   "cell_type": "markdown",
   "metadata": {
    "tags": []
   },
   "source": [
    "## A Sneak Peak at NLP (more after Thanksgiving break! 🦃)\n",
    "\n",
    "Next, we'll see how ELI5 can be used to visualize feature importance for **text data.**\\\n",
    "We'll try and predict what newsgroup a post came from based on the words it contains.\n",
    "\n",
    "The motivation here is that we all have strong, relevant domain knowledge (e.g., knowing English) and so will be able to sanity check the importance placed on different words for a given classification. We can use these insights to then to determine if our model is actually learning what it should and use that information to iterate on and improve the model.\n",
    "\n",
    "Don't get too caught up on the preprocessing of the text data. What we're really interested in here are the ELI5 visualizations and how we can interpret them."
   ]
  },
  {
   "cell_type": "code",
   "execution_count": null,
   "metadata": {},
   "outputs": [],
   "source": [
    "from sklearn.datasets import fetch_20newsgroups\n",
    "\n",
    "categories = ['alt.atheism', 'soc.religion.christian',\n",
    "              'comp.graphics', 'sci.med']\n",
    "twenty_train = fetch_20newsgroups(\n",
    "    subset='train',\n",
    "    categories=categories,\n",
    "    shuffle=True,\n",
    "    random_state=42\n",
    ")\n",
    "twenty_test = fetch_20newsgroups(\n",
    "    subset='test',\n",
    "    categories=categories,\n",
    "    shuffle=True,\n",
    "    random_state=42\n",
    ")"
   ]
  },
  {
   "cell_type": "code",
   "execution_count": null,
   "metadata": {},
   "outputs": [],
   "source": [
    "from sklearn.feature_extraction.text import CountVectorizer\n",
    "from sklearn.linear_model import LogisticRegressionCV\n",
    "from sklearn.pipeline import make_pipeline\n",
    "\n",
    "vec = CountVectorizer()\n",
    "clf = LogisticRegressionCV(max_iter=10)\n",
    "pipe = make_pipeline(vec, clf)\n",
    "pipe.fit(twenty_train.data, twenty_train.target);"
   ]
  },
  {
   "cell_type": "code",
   "execution_count": null,
   "metadata": {},
   "outputs": [],
   "source": [
    "from sklearn import metrics\n",
    "\n",
    "def print_report(pipe):\n",
    "    y_test = twenty_test.target\n",
    "    y_pred = pipe.predict(twenty_test.data)\n",
    "    report = metrics.classification_report(y_test, y_pred,\n",
    "        target_names=twenty_test.target_names)\n",
    "    print(report)\n",
    "    print(\"accuracy: {:0.3f}\".format(metrics.accuracy_score(y_test, y_pred)))\n",
    "\n",
    "print_report(pipe)"
   ]
  },
  {
   "cell_type": "code",
   "execution_count": null,
   "metadata": {},
   "outputs": [],
   "source": [
    "eli5.show_weights(clf, top=10)"
   ]
  },
  {
   "cell_type": "markdown",
   "metadata": {},
   "source": [
    "The table above doesn’t make any sense; the problem is that eli5 was not able to get feature and class names from the classifier object alone.\\\n",
    "We can provide feature and target names explicitly:"
   ]
  },
  {
   "cell_type": "code",
   "execution_count": null,
   "metadata": {},
   "outputs": [],
   "source": [
    "eli5.show_weights(clf, vec=vec, top=10,\n",
    "                  target_names=twenty_test.target_names)"
   ]
  },
  {
   "cell_type": "code",
   "execution_count": null,
   "metadata": {},
   "outputs": [],
   "source": [
    "# Let’s check prediction results on an example:\n",
    "eli5.show_prediction(clf, twenty_test.data[0], vec=vec,\n",
    "                     target_names=twenty_test.target_names)"
   ]
  },
  {
   "cell_type": "markdown",
   "metadata": {
    "tags": []
   },
   "source": [
    "#### Baseline model, improved data\n",
    "\n",
    "20 newsgroups dataset provides an option to remove footers and headers from the messages. Let's clean up the data and retrain the classifier."
   ]
  },
  {
   "cell_type": "code",
   "execution_count": null,
   "metadata": {},
   "outputs": [],
   "source": [
    "twenty_train = fetch_20newsgroups(\n",
    "    subset='train',\n",
    "    categories=categories,\n",
    "    shuffle=True,\n",
    "    random_state=42,\n",
    "    remove=['headers', 'footers'],\n",
    ")\n",
    "twenty_test = fetch_20newsgroups(\n",
    "    subset='test',\n",
    "    categories=categories,\n",
    "    shuffle=True,\n",
    "    random_state=42,\n",
    "    remove=['headers', 'footers'],\n",
    ")\n",
    "\n",
    "vec = CountVectorizer()\n",
    "clf = LogisticRegressionCV(max_iter=10)\n",
    "pipe = make_pipeline(vec, clf)\n",
    "pipe.fit(twenty_train.data, twenty_train.target);"
   ]
  },
  {
   "cell_type": "code",
   "execution_count": null,
   "metadata": {},
   "outputs": [],
   "source": [
    "# We just made the task harder and more realistic for a classifier.\n",
    "print_report(pipe)"
   ]
  },
  {
   "cell_type": "code",
   "execution_count": null,
   "metadata": {},
   "outputs": [],
   "source": [
    "# So, what have the updated classifier learned?\n",
    "eli5.show_prediction(clf, twenty_test.data[0], vec=vec,\n",
    "                     target_names=twenty_test.target_names,\n",
    "                     targets=['sci.med'])"
   ]
  },
  {
   "cell_type": "markdown",
   "metadata": {
    "tags": []
   },
   "source": [
    "#### Pipeline improvements\n",
    "\n",
    "We can try removing stop words, applying TF-IDF, or both. Let's try that out."
   ]
  },
  {
   "cell_type": "code",
   "execution_count": null,
   "metadata": {},
   "outputs": [],
   "source": [
    "vec = CountVectorizer(stop_words='english')\n",
    "clf = LogisticRegressionCV(max_iter=10)\n",
    "pipe = make_pipeline(vec, clf)\n",
    "pipe.fit(twenty_train.data, twenty_train.target)\n",
    "\n",
    "print_report(pipe)"
   ]
  },
  {
   "cell_type": "code",
   "execution_count": null,
   "metadata": {},
   "outputs": [],
   "source": [
    "eli5.show_prediction(clf, twenty_test.data[0], vec=vec,\n",
    "                     target_names=twenty_test.target_names,\n",
    "                     targets=['sci.med'])"
   ]
  },
  {
   "cell_type": "code",
   "execution_count": null,
   "metadata": {},
   "outputs": [],
   "source": [
    "# Try TF-IDF scheme.\n",
    "from sklearn.feature_extraction.text import TfidfVectorizer\n",
    "\n",
    "vec = TfidfVectorizer()\n",
    "clf = LogisticRegressionCV(max_iter=10)\n",
    "pipe = make_pipeline(vec, clf)\n",
    "pipe.fit(twenty_train.data, twenty_train.target)\n",
    "\n",
    "print_report(pipe)"
   ]
  },
  {
   "cell_type": "code",
   "execution_count": null,
   "metadata": {},
   "outputs": [],
   "source": [
    "eli5.show_prediction(clf, twenty_test.data[0], vec=vec,\n",
    "                     target_names=twenty_test.target_names,\n",
    "                     targets=['sci.med'])"
   ]
  },
  {
   "cell_type": "code",
   "execution_count": null,
   "metadata": {},
   "outputs": [],
   "source": [
    "# Do both stop words and TF-IDF.\n",
    "vec = TfidfVectorizer(stop_words='english')\n",
    "clf = LogisticRegressionCV(max_iter=10)\n",
    "pipe = make_pipeline(vec, clf)\n",
    "pipe.fit(twenty_train.data, twenty_train.target)\n",
    "\n",
    "print_report(pipe)"
   ]
  },
  {
   "cell_type": "code",
   "execution_count": null,
   "metadata": {},
   "outputs": [],
   "source": [
    "eli5.show_prediction(clf, twenty_test.data[0], vec=vec,\n",
    "                     target_names=twenty_test.target_names,\n",
    "                     targets=['sci.med'])"
   ]
  },
  {
   "cell_type": "markdown",
   "metadata": {},
   "source": [
    "---"
   ]
  },
  {
   "cell_type": "markdown",
   "metadata": {},
   "source": [
    "Variable Importance is great! It tells you what features are important in shaping the model predictions.\\\n",
    "But what is missing?\n",
    "- It does not give any measure for *how* the predictors are related to the response (positive, negative, quasi-linear, curved, interactions, etc.).\n",
    "- This is where the parametric model wins out! Inference and interpretations are much easier and is the whole point of such models.\n",
    "\n",
    "**Q:** 🤔 What can we do to measure these relationships in a machine learning or nonparametric model? What did we do with k-NN? \n",
    "\n",
    "Well, we could just plot the predictions! Easy with 1 predictor, but what if we have hundreds?\n",
    "\n",
    "How do I extract the relationship between a given predictor and the response when, in the model, it is embedded in the context of the other predictors?\\\n",
    "We could hold all the other variables constant!\n",
    "\n",
    "What needs to be done algorithmically to put this in practice?\n",
    "Set the other predictors equal to *something* and only vary the predictor of interest)"
   ]
  },
  {
   "cell_type": "markdown",
   "metadata": {},
   "source": [
    "---"
   ]
  },
  {
   "cell_type": "markdown",
   "metadata": {},
   "source": [
    "## Interpretation through Prediction Plots\n",
    "\n",
    "In a machine learning model (like ensemble methods), the association between predictors and the response are not measured directly as these models are ‘black box’ models:\\\n",
    "Inputs (X, predictors) $\\rightarrow$ black box (sklearn, etc.) $\\rightarrow$ Outputs (Y, response)\n",
    "\n",
    "What if we care about how the predictors relate to the response? This\n",
    "is where we need to figure out what the black box is doing to\n",
    "transform the inputs into the outputs."
   ]
  },
  {
   "cell_type": "markdown",
   "metadata": {},
   "source": [
    "**Simplest Approach**\\\n",
    "Use predict (or better yet, predict_proba) to plot the predicted values vs. the observed values for $X_j$.\\\n",
    "What is a problem with this approach how can we fix it? (The other variables are changing!)\\\n",
    "The fix is not so easy. We cannot just fit a logistic regression model so\n",
    "easily to the predicted probabilities. Why not?\\\n",
    "An example is worth a thousand words…"
   ]
  },
  {
   "cell_type": "markdown",
   "metadata": {},
   "source": [
    "We start by plotting the predictions for all the observed data."
   ]
  },
  {
   "cell_type": "code",
   "execution_count": null,
   "metadata": {},
   "outputs": [],
   "source": [
    "yhat_rf_train = randomforest.predict_proba(X_train)[:,1]\n",
    "plt.scatter(X_train[['Age']],yhat_rf_train, label='train')\n",
    "yhat_rf_test = randomforest.predict_proba(X_test)[:,1]\n",
    "plt.scatter(X_test[['Age']],yhat_rf_test,marker='x', label='test')\n",
    "plt.title(\"Predicted Probabilities vs. Age from the RF in train and test\")\n",
    "plt.legend();"
   ]
  },
  {
   "cell_type": "code",
   "execution_count": null,
   "metadata": {},
   "outputs": [],
   "source": [
    "yhat_rf_train = adaboost.predict_proba(X_train)[:,1]\n",
    "plt.scatter(X_train[['Age']],yhat_rf_train, label='train');\n",
    "yhat_rf_test = adaboost.predict_proba(X_test)[:,1]\n",
    "plt.scatter(X_test[['Age']],yhat_rf_test,marker='x', label='test');\n",
    "plt.title(\"Predicted Probabilities vs. Age from The adaboost model in train and test\");"
   ]
  },
  {
   "cell_type": "markdown",
   "metadata": {},
   "source": [
    "**Q:** 🤔 How do the random forest and boosted models compare in the interpretation of Age with AHD?  Which is more reliable?"
   ]
  },
  {
   "cell_type": "markdown",
   "metadata": {},
   "source": [
    "This gives us our approach: vary the inputs (the predictors) and see what happens to the response.\\\n",
    "If we care about the ‘marginal’ or ‘conditional’ effect of how a specific $x$ relates to $y$, then we should vary only one predictor at a time.\\\n",
    "How should we handle the other predictors? That is to say, what\n",
    "value should we hold them at?"
   ]
  },
  {
   "cell_type": "markdown",
   "metadata": {},
   "source": [
    "There are two general approaches holding the other predictors constant:\n",
    "1. Predict $\\hat{Y}$ at the mean (or most common) value for each of the\n",
    "other predictors, vary only the predictor you care about, $X_j$, and\n",
    "plot the predictions $\\hat{Y}$ vs. $X_j$.\n",
    "2. Predict $\\hat{Y}$ at the observed values of for all the other predictors,\n",
    "vary only the predictor you care about, $\\hat{Y}$, and plot the\n",
    "predictions $\\hat{Y}$ vs. $X_j$. Essentially this means creating a new data\n",
    "frame for each observation, and imputing all reasonable values of $X_j$."
   ]
  },
  {
   "cell_type": "code",
   "execution_count": null,
   "metadata": {},
   "outputs": [],
   "source": [
    "# Create the data frame of means to do the prediction\n",
    "means1 = X_train.mean(axis = 0)\n",
    "means_df = (means1.to_frame()).transpose()\n",
    "\n",
    "# Do the prediction at all observed ages\n",
    "Ages = np.arange(np.min(X['Age']),np.max(X['Age']))\n",
    "means_df  = pd.concat([means_df]*Ages.size,ignore_index=True)\n",
    "means_df['Age'] = Ages\n"
   ]
  },
  {
   "cell_type": "code",
   "execution_count": null,
   "metadata": {},
   "outputs": [],
   "source": [
    "#plots at means\n",
    "yhat_rf = randomforest.predict_proba(means_df)[:,1]\n",
    "plt.scatter(X_train['Age'],y_train)\n",
    "plt.plot(means_df['Age'],yhat_rf,color=\"red\")\n",
    "plt.title(\"Predicted Probabilities vs. Age from NN in train\");"
   ]
  },
  {
   "cell_type": "code",
   "execution_count": null,
   "metadata": {},
   "outputs": [],
   "source": [
    "#Plots for all observations.  And then averaged\n",
    "yhat_rfs = []\n",
    "for i in range(0,X_train.shape[0]):\n",
    "    obs = X_train.iloc[i,:].to_frame().transpose()\n",
    "    obs_df  = pd.concat([obs]*Ages.size,ignore_index=True)\n",
    "    obs_df['Age'] = Ages\n",
    "    yhat_rf = randomforest.predict_proba(obs_df)[:,1]\n",
    "    yhat_rfs.append(yhat_rf)\n",
    "    plt.plot(obs_df['Age'],yhat_rf,color='blue',alpha=0.05)\n",
    "\n",
    "plt.plot(obs_df['Age'],np.mean(yhat_rfs,axis=0),color='red',linewidth=2);\n",
    "    \n",
    "plt.ylim(0,1)\n",
    "plt.title(\"Predicted Probabilities vs. Age from RF in train for all observations\");"
   ]
  },
  {
   "cell_type": "code",
   "execution_count": null,
   "metadata": {},
   "outputs": [],
   "source": [
    "# plot the 90% prediction interval\n",
    "plt.plot(obs_df['Age'],np.median(yhat_rfs,axis=0),color='red', label='median')\n",
    "plt.plot(obs_df['Age'],np.quantile(yhat_rfs,q=.05,axis=0),color='blue',\n",
    "         label='90% prediction interval')\n",
    "plt.plot(obs_df['Age'],np.quantile(yhat_rfs,q=.95,axis=0),color='blue')\n",
    "plt.title(\"Predicted Probabilities vs. Age from RF in train for all observations\")\n",
    "plt.legend();"
   ]
  },
  {
   "cell_type": "markdown",
   "metadata": {},
   "source": [
    "**Q:**🤔 Interpret the two plots above.  What is the difference in the interpretations?  Is there any evidence of interaction effects between Age and the other predictors?  How do you know?"
   ]
  },
  {
   "cell_type": "markdown",
   "metadata": {},
   "source": [
    "---"
   ]
  },
  {
   "cell_type": "markdown",
   "metadata": {},
   "source": [
    "## Surrogate Explainer Model\n",
    "\n",
    "Another option is to fit an explainable model to predict the predictions of the blackbox model!"
   ]
  },
  {
   "cell_type": "markdown",
   "metadata": {},
   "source": [
    "<div class=\"alert alert-success\">\n",
    "    <strong>🏋🏻‍♂️ TEAM ACTIVITY:</strong> Create Surrogate Explainer Models!</div>  "
   ]
  },
  {
   "cell_type": "code",
   "execution_count": null,
   "metadata": {},
   "outputs": [],
   "source": [
    "from sklearn import linear_model\n",
    "from sklearn import tree\n",
    "from sklearn import neighbors"
   ]
  },
  {
   "cell_type": "markdown",
   "metadata": {},
   "source": [
    "**Instructions:** \n",
    "- Choose either `randomforest` or `adaboost` as your model to explain\n",
    "- Get its predictions on `X_train` and `X_test`, save these as `bb_y_train` and `bb_y_test` respectively ('bb' for black box)\n",
    "- Choose a type of interpretable model (you can select one from inside the 3 modules imported above)\n",
    "- Fit this interpretable model on `X_train` and `bb_y_train`. That is, predict the original model's predictions!\n",
    "- How well does your model predict the predictions? Check the accuracy on train and test\n",
    "- Interpret your model! Can you get a global sense of how the model makes its predictions?\n",
    "- If you have time, try a second type of interpretable model\n",
    "- Add as many cells as you need and you can make use of any other imports we have."
   ]
  },
  {
   "cell_type": "code",
   "execution_count": null,
   "metadata": {},
   "outputs": [],
   "source": [
    "# your code here\n",
    "\n",
    "\n",
    "\n"
   ]
  },
  {
   "cell_type": "markdown",
   "metadata": {},
   "source": [
    "---"
   ]
  },
  {
   "cell_type": "markdown",
   "metadata": {
    "tags": []
   },
   "source": [
    "## LIME \n",
    "\n",
    "In the above exercise we used surrogates model to try give use a **global** explanation of our model's predictions.\\\n",
    "But we may be interested in a **local** explanation. That is, why did our blackbox model give *a particular* observation the prediction it did?\n",
    "\n",
    "A method called **LIME** was proposed in the paper [\"Why Should I Trust You?\": Explaining the Predictions of Any Classifier](https://arxiv.org/pdf/1602.04938v3.pdf), and it attempts to do just this. So what is LIME?"
   ]
  },
  {
   "cell_type": "markdown",
   "metadata": {},
   "source": [
    "**Locally**: The explanation should be able to explain how the model behaves for individual observations.\\\n",
    "**Interpretable:** The explanation must be easy to understand by humans (but may depend on the target audience).\\\n",
    "**Model-agnostic:** The method should be able to explain any model.\\\n",
    "**Explanations:** self-explanatory 😁. This is the whole goal!"
   ]
  },
  {
   "cell_type": "markdown",
   "metadata": {
    "tags": []
   },
   "source": [
    "As before, the approach is to use a directly interpretable model (e.g., a linear model) to help explain a model that is not directly interpretable."
   ]
  },
  {
   "cell_type": "markdown",
   "metadata": {},
   "source": [
    "**LIME ALGORITHM**\n",
    "1. Select your instance of interest for which you want to have an explanation of its black box prediction.\n",
    "2. Randomly generate points all over the feature space (sample X values from a Normal distribution inferred from the training set)\n",
    "3. Get the black box predictions for these new points.\n",
    "4. Weight each of the generated points based on their proximity to the point of interest using a kenerl function (e.g., exponential, Gaussian, etc.)\n",
    "5. Fit a *weighted*, interpretable model on the synthetic data and the original model's predictions.\n",
    "6. Explain the prediction by interpreting the local model."
   ]
  },
  {
   "cell_type": "markdown",
   "metadata": {},
   "source": [
    "This method can be applied to tabular data, text, and images!"
   ]
  },
  {
   "cell_type": "markdown",
   "metadata": {},
   "source": [
    "**Toy Example**"
   ]
  },
  {
   "cell_type": "markdown",
   "metadata": {},
   "source": [
    "<img src='fig/LIME_plot.png' width='400px'>"
   ]
  },
  {
   "cell_type": "markdown",
   "metadata": {},
   "source": [
    "In the plot above, the colored regions represent either side of the original model's decision boundary.\\\n",
    "The large red marker is our point of interest.\\\n",
    "The other points are the generated data. Their color represents the *original* model's predictions and their size represents their weight based on their distance from the point of interest.\\\n",
    "The dashed line is the predictions of the interpretable surrogate model."
   ]
  },
  {
   "cell_type": "markdown",
   "metadata": {},
   "source": [
    "The **objective** can be expressed as:"
   ]
  },
  {
   "cell_type": "markdown",
   "metadata": {},
   "source": [
    "<img src='fig/LIME_eq.png'>"
   ]
  },
  {
   "cell_type": "markdown",
   "metadata": {},
   "source": [
    "The explanation model for observation $x$ is the model $g$ (e.g., linear regression model) that minimizes loss $L$ (e.g., mean squared error), which measures how close the explanation is to the prediction of the original model $f$ (e.g., deep learning model), while the model complexity $\\Omega$ is kept low (e.g., prefer fewer features).\\\n",
    "$G$ is the family of possible explanations.\\\n",
    "$\\pi_x$ is a proximity measure defining a neighborhood around instance $x$ we consider for an explanation."
   ]
  },
  {
   "cell_type": "markdown",
   "metadata": {},
   "source": [
    "There are several LIME implementations for Python. We'll be using one simply called [lime](https://github.com/marcotcr/lime)."
   ]
  },
  {
   "cell_type": "markdown",
   "metadata": {},
   "source": [
    "Because we're working with tabular data we'll be using [LimeTabularExplainer](http://gael-varoquaux.info/interpreting_ml_tuto/content/02_why/04_black_box_interpretation.html)."
   ]
  },
  {
   "cell_type": "code",
   "execution_count": null,
   "metadata": {},
   "outputs": [],
   "source": [
    "!pip install lime"
   ]
  },
  {
   "cell_type": "code",
   "execution_count": null,
   "metadata": {},
   "outputs": [],
   "source": [
    "import lime"
   ]
  },
  {
   "cell_type": "code",
   "execution_count": null,
   "metadata": {},
   "outputs": [],
   "source": [
    "from lime.lime_tabular import LimeTabularExplainer\n",
    "\n",
    "explainer = LimeTabularExplainer(X_train.values,\n",
    "                                 feature_names=X_train.columns,\n",
    "                                 class_names = [0,1],\n",
    "                                 mode='classification')"
   ]
  },
  {
   "cell_type": "code",
   "execution_count": null,
   "metadata": {},
   "outputs": [],
   "source": [
    "idx = 109\n",
    "\n",
    "exp = explainer.explain_instance(X_train.values[idx], \n",
    "                                 randomforest.predict_proba, \n",
    "                                 num_features = 13)\n",
    "\n",
    "print('Observation #: %d' % idx)\n",
    "print('Probability(AHD) =', randomforest.predict_proba(X_train)[idx][1])\n",
    "print('True class: %s' % y_train.iloc[idx])"
   ]
  },
  {
   "cell_type": "code",
   "execution_count": null,
   "metadata": {},
   "outputs": [],
   "source": [
    "### Plot the results\n",
    "exp.as_pyplot_figure();"
   ]
  },
  {
   "cell_type": "code",
   "execution_count": null,
   "metadata": {},
   "outputs": [],
   "source": [
    "# change the observation number and see what changes.\n",
    "idx = 209\n",
    "exp = explainer.explain_instance(X_train.values[idx], \n",
    "                                 randomforest.predict_proba, \n",
    "                                 num_features = 13)\n",
    "\n",
    "print('Observation #: %d' % idx)\n",
    "print('Probability(AHD) =', randomforest.predict_proba(X_train)[idx][1])\n",
    "print('True class: %s' % y_train.iloc[idx])"
   ]
  },
  {
   "cell_type": "code",
   "execution_count": null,
   "metadata": {},
   "outputs": [],
   "source": [
    "### Plot the results\n",
    "# exp.as_list()\n",
    "exp.as_pyplot_figure();"
   ]
  },
  {
   "cell_type": "markdown",
   "metadata": {},
   "source": [
    "We also have a `show_in_notebook` methode but the pyplot figure one above is more concise."
   ]
  },
  {
   "cell_type": "code",
   "execution_count": null,
   "metadata": {},
   "outputs": [],
   "source": [
    "exp.show_in_notebook(show_table=True, show_all=False)"
   ]
  },
  {
   "cell_type": "markdown",
   "metadata": {},
   "source": [
    "You can also print the explanation as list."
   ]
  },
  {
   "cell_type": "code",
   "execution_count": null,
   "metadata": {},
   "outputs": [],
   "source": [
    "exp.as_list()"
   ]
  },
  {
   "cell_type": "markdown",
   "metadata": {},
   "source": [
    "**Q:** 🤔 Interpret the LIME results above.  Do they agree with the other interpretations for the random forest model seen so far?"
   ]
  },
  {
   "cell_type": "markdown",
   "metadata": {},
   "source": [
    "<div class=\"alert alert-success\">\n",
    "    <strong>🏋🏻‍♂️ TEAM ACTIVITY:</strong> Inspect the Worst Prediction</div>  "
   ]
  },
  {
   "cell_type": "markdown",
   "metadata": {},
   "source": [
    "**Instruction:**\n",
    "- Which observation in the test data does the random forest get *most wrong*?\n",
    "    - Think about how you would determin this\n",
    "- Use LIME to interpret this bad prediction.\n",
    "    - Do we have any insight into what is driving the mistake or not?"
   ]
  },
  {
   "cell_type": "code",
   "execution_count": null,
   "metadata": {},
   "outputs": [],
   "source": [
    "# your code here\n",
    "\n"
   ]
  },
  {
   "cell_type": "markdown",
   "metadata": {
    "tags": []
   },
   "source": [
    "#### Potential Issues\n",
    "\n",
    "- The surrogate is fit to **randomly generated data**. And so interpretations can be *unstable*, changing with each run.\n",
    "- The local approximation is highly sensitive to the choice of **kernel width**.\n",
    "\n",
    "When LIME was initially proposed, the kernel used to define the neighborhood near the point of interest was selected using heuristics.\n",
    "\n",
    "<img src='fig/SHAP_kernel.png' width='700px'>\n",
    "\n",
    "<p style=\"font-size:11px\">Image by <a href=\"https://towardsdatascience.com/lime-explain-machine-learning-predictions-af8f18189bfe\">Giorgio Visani</a></p>"
   ]
  },
  {
   "cell_type": "markdown",
   "metadata": {},
   "source": [
    "Though there has been recent work on LIME's instability and sensitivity to kernel width. [OptiLIME](https://arxiv.org/pdf/2006.05714.pdf) proposes a more principled way.\\\n",
    "They have an open-source implementation on [Github](https://github.com/giorgiovisani/lime_stability/tree/master/OptiLIME)."
   ]
  },
  {
   "cell_type": "markdown",
   "metadata": {},
   "source": [
    "## Shapley Values 🏅"
   ]
  },
  {
   "cell_type": "markdown",
   "metadata": {},
   "source": [
    "The **Shapley value** is a solution concept in cooperative game theory. It was named in honor of [Lloyd Shapley](https://en.wikipedia.org/wiki/Lloyd_Shapley), who introduced it in 1951 and won the Nobel Prize in Economics for it in 2012. The landmark paper in which it was described is [A Value for n-person Games](https://www.rand.org/pubs/papers/P295.html) (1953).\\\n",
    "It is a method for **assigning payouts to players** depending on their **contribution** to the total payout. Players cooperate in a **coalition** and receive a certain profit from this cooperation."
   ]
  },
  {
   "cell_type": "markdown",
   "metadata": {},
   "source": [
    "<img src='fig/SHAP_fig.png' width=600px>\n",
    "\n",
    "<p style=\"font-size:11px\">Image by <a href=\"https://www.youtube.com/channel/UCScjF2g0_ZNy0Yv3KbsbR7Q\">DeepFindr</a></p>"
   ]
  },
  {
   "cell_type": "markdown",
   "metadata": {},
   "source": [
    "For each player, we'll look at all possible subsets of players in which they are included (each subset is a \"coalition\") and see how the payout changes if they are removed from the coalition.\\\n",
    "Their average contribution across all coalitions is that player's Shapley Value."
   ]
  },
  {
   "cell_type": "markdown",
   "metadata": {},
   "source": [
    "For our purposes:\n",
    "- The **game** is the prediction task for a single instance of the dataset.\n",
    "- The **gain/loss** is the actual prediction for this instance minus the average prediction for all instances.\n",
    "- The **players** are the feature values of the instance that collaborate to receive the gain."
   ]
  },
  {
   "cell_type": "markdown",
   "metadata": {},
   "source": [
    "**Four Axioms:**\n",
    "\n",
    "- **Efficiency:** the feature contributions must add up to the difference of prediction for $x$ and the average.\n",
    "- **Symmetry:** the contributions of two feature values $j$ and $k$ should be the same if they contribute equally to all possible coalitions.\n",
    "- **Dummy:** a feature $j$ that does not change the predicted value regardless of which coalition of feature values it is added to should have a Shapley value of 0.\n",
    "- **Additivity:** for combined payouts, their Shapley values are additive.\n",
    "\n",
    "The Shapley value is the *only* attribution method that satisfies the properties Efficiency, Symmetry, Dummy and Additivity, which together can be considered a definition of a fair payout."
   ]
  },
  {
   "cell_type": "markdown",
   "metadata": {},
   "source": [
    "**Shapley Value Advantage over LIME:**\n",
    "- The Shapley value is an explanation method with a solid theory: the four axioms (efficiency, symmetry, dummy, additivity) give it a reasonable foundation.\n",
    "\n",
    "**Some Disadvantages of Shapley Values:**\n",
    "- Computationally prohibitively expensive. There are $2^p$ possible coalitions! 😵\n",
    "- Shapley value method always use all the features.\n",
    "- Access to the data is required if you want to calculate the Shapley value for a new data instance.\n",
    "- The Shapley value method suffers from inclusion of unrealistic data instances when features are correlated."
   ]
  },
  {
   "cell_type": "markdown",
   "metadata": {},
   "source": [
    "## SHAP"
   ]
  },
  {
   "cell_type": "markdown",
   "metadata": {},
   "source": [
    "<img src='fig/SHAP.png'>"
   ]
  },
  {
   "cell_type": "markdown",
   "metadata": {},
   "source": [
    "SHAP (SHapley Additive exPlanations) is a unified approach to explain the output of any machine learning model.\\\n",
    "SHAP connects game theory with local explanations, uniting several previous methods.\n",
    "\n",
    "It was proposed in [A Unified Approach to Interpreting Model Predictions](https://arxiv.org/abs/1705.07874) by Scott Lundberg and Su-In Lee."
   ]
  },
  {
   "cell_type": "markdown",
   "metadata": {},
   "source": [
    "SHAP provides multiple explainers for different kind of models:\n",
    "- **Kernel Explainer (Kernel SHAP):** Uses the Kernel SHAP method to explain the output of any function.\n",
    "- **Tree Explainer**: Uses Tree SHAP algorithms to explain the output of ensemble tree models.\n",
    "- **Gradient Explainer:** Support TensorFlow and Keras models (neural network libraries).\n",
    "- **Deep Explainer (DEEP SHAP):** Meant to approximate SHAP values for deep learning models.\n",
    "- and several others!"
   ]
  },
  {
   "cell_type": "markdown",
   "metadata": {},
   "source": [
    "<img src='fig/SHAP_eq0.png'>"
   ]
  },
  {
   "cell_type": "markdown",
   "metadata": {},
   "source": [
    "- $\\phi_i$: The Shapley Value for predictor $i$\n",
    "- $z'$: A 'coalition' of predictors (i.e., a subset of predictors)\n",
    "- $M$: The maximum coalition size"
   ]
  },
  {
   "cell_type": "markdown",
   "metadata": {},
   "source": [
    "**Kernel SHAP** consists of five steps:\n",
    "- Sample coalitions $z_{k}^{'} \\in \\{0, 1\\}^M, k \\in \\{1 , \\dots , K\\}$ (1 = feature present in coalition, 0 = feature absent).\n",
    "- Get prediction for each $z_{k}^{'}$ by first converting $z_{k}^{'}$ to the original feature space and then applying model $f$: $f(h_x(z_{k}^{'}))$.\n",
    "- Compute the weight for each $z_{k}^{'}$ with the SHAP kernel.\n",
    "- Fit weighted linear model.\n",
    "- Return Shapley values $\\phi_k$, the coefficients from the linear model.\n",
    "\n",
    "**Further explanation:**\n",
    "- We can create a random coalition by repeated coin flips until we have a chain of 0's and 1's. For example, the vector of (1,0,1,0) means that we have a coalition of the first and third features. The K sampled coalitions become the dataset for the regression model.\n",
    "- For tabular data, $h_x$ maps 0's to the values of another instance that we sample from the data. This means that we equate \"feature value is absent\" with \"feature value is replaced by random feature value from data\".\n",
    "\n",
    "**SHAP Kernel:**\\\n",
    "<img src='fig/SHAP_eq1.png'>\n",
    "\n",
    "where M is the maximum coalition size and |z′| is the number of present features in instance z′.\n"
   ]
  },
  {
   "cell_type": "markdown",
   "metadata": {},
   "source": [
    "Build our weighted linear regression model, $g$:\n",
    "\n",
    "<img src='fig/SHAP_eq2.png'>\n",
    "\n",
    "We train $g$ by optimizing the following loss function $L$:\n",
    "\n",
    "<img src='fig/SHAP_eq3.png'>\n",
    "\n",
    "where $Z$ is the training data.\\\n",
    "This is the good old sum of squared errors that we usually optimize for linear models.\\\n",
    "The estimated coefficients of the model, the $\\phi_j$s are the Shapley Values."
   ]
  },
  {
   "cell_type": "markdown",
   "metadata": {},
   "source": [
    "**Tree SHAP**\n",
    "\n",
    "- Lundberg et. al (2018) proposed TreeSHAP, a variant of SHAP for tree-based machine learning models such as decision trees, random forests and gradient boosted trees.\n",
    "- TreeSHAP was introduced as a fast, model-specific alternative to KernelSHAP\n",
    "- Compared to exact KernelSHAP, it reduces the computational complexity from $TL^2M$ to $TLD^2$ where $M$ is maximum coalition size, $T$ is the number of trees, $L$ is the maximum number of leaves in any tree, and $D$ the maximal depth of any tree."
   ]
  },
  {
   "cell_type": "code",
   "execution_count": null,
   "metadata": {},
   "outputs": [],
   "source": [
    "# requires numpy=1.20.0 and numba==0.54.0\n",
    "!pip install shap"
   ]
  },
  {
   "cell_type": "code",
   "execution_count": null,
   "metadata": {},
   "outputs": [],
   "source": [
    "!pip install xgboost"
   ]
  },
  {
   "cell_type": "code",
   "execution_count": null,
   "metadata": {},
   "outputs": [],
   "source": [
    "import xgboost\n",
    "import shap\n",
    "\n",
    "# load JS visualization code to notebook\n",
    "shap.initjs()\n",
    "\n",
    "# train XGBoost model\n",
    "model = xgboost.train({\"learning_rate\": 0.01}, xgboost.DMatrix(X_train, label=y_train), 100)\n",
    "\n",
    "# explain the model's predictions using SHAP\n",
    "# (same syntax works for LightGBM, CatBoost, scikit-learn and spark models)\n",
    "explainer = shap.TreeExplainer(model)\n",
    "shap_values = explainer.shap_values(X_train)\n",
    "\n",
    "# visualize the first prediction's explanation\n",
    "shap.force_plot(explainer.expected_value, shap_values[0,:], X_train.iloc[0,:])"
   ]
  },
  {
   "cell_type": "markdown",
   "metadata": {},
   "source": [
    "The above explanation shows features each contributing to push the model output\n",
    "from the base value, which is the average model output over the training dataset we passed\n",
    "to the model output. Features pushing the prediction higher are shown in red,\n",
    "those pushing the prediction lower are in blue.\n",
    "\n",
    "If we take many explanations such as the one shown above, rotate them 90 degrees,\n",
    "and then stack them horizontally, we can see explanations for an entire dataset:"
   ]
  },
  {
   "cell_type": "code",
   "execution_count": null,
   "metadata": {},
   "outputs": [],
   "source": [
    "# load JS visualization code to notebook\n",
    "shap.initjs()\n",
    "\n",
    "# visualize the training set predictions\n",
    "shap.force_plot(explainer.expected_value, shap_values, X_train)"
   ]
  },
  {
   "cell_type": "markdown",
   "metadata": {},
   "source": [
    "If you scroll, you will see a contribution from each feature value.\n",
    "You can use the top dropdown menu to sort by similarity, output value, and\n",
    "each feature values; for example, by ChestPain. The feature values are sorted in\n",
    "asecending order. Now you can use the left dropdown menu to zoom into a\n",
    "contribution from a particular feature value."
   ]
  },
  {
   "cell_type": "markdown",
   "metadata": {},
   "source": [
    "To understand how a single feature effects the output of the model we can plot\n",
    "the SHAP value of that feature vs. the value of the feature for all the\n",
    "examples in a dataset. Since SHAP values represent a feature's responsibility\n",
    "for a change in the model output, the plot below represents the change in\n",
    "predicted probability of having heart disease as `age`\n",
    "changes. Vertical dispersion at a single value of `age` represents interaction\n",
    "effects with other features. To help reveal these interactions dependence_plot\n",
    "automatically selects another feature for coloring. In this case coloring by ChestPain highlights that age has a much higher impact on the predicted probability of heart disease for those with chest pain."
   ]
  },
  {
   "cell_type": "code",
   "execution_count": null,
   "metadata": {},
   "outputs": [],
   "source": [
    "# You can use dependence_plot function to create a dependence plot to show the effect\n",
    "# of a single feature across the whole dataset.\n",
    "shap.dependence_plot(\"Age\", shap_values, X_train)"
   ]
  },
  {
   "cell_type": "markdown",
   "metadata": {},
   "source": [
    "To get an overview of which features are most important for a model we can\n",
    "plot the SHAP values of every feature for every sample. The plot below sorts\n",
    "features by the sum of SHAP value magnitudes over all samples, and uses SHAP\n",
    "values to show the distribution of the impacts each feature has on the model\n",
    "output. The color represents the feature value (red high, blue low)."
   ]
  },
  {
   "cell_type": "code",
   "execution_count": null,
   "metadata": {},
   "outputs": [],
   "source": [
    "# You can use summary_plot function to summarize the effects of all the features.\n",
    "shap.summary_plot(shap_values, X_train)"
   ]
  },
  {
   "cell_type": "code",
   "execution_count": null,
   "metadata": {},
   "outputs": [],
   "source": [
    "# We can also just take the mean absolute value of the SHAP values for each\n",
    "# feature to get a standard bar plot:\n",
    "\n",
    "shap.summary_plot(shap_values, X_train, plot_type=\"bar\")"
   ]
  },
  {
   "cell_type": "markdown",
   "metadata": {},
   "source": [
    "#### Model agnostic example with [KernelExplainer](https://shap-lrjball.readthedocs.io/en/latest/generated/shap.KernelExplainer.html)\n",
    "\n",
    "Kernel SHAP uses a specially-weighted local linear regression to estimate SHAP values for *any* model. Does that sound familiar?\\\n",
    "The computed importance values are Shapley values from game theory and also coefficents from a local linear regression.\\\n",
    "Below is a simple example for explaining a multi-class SVM on the classic iris dataset."
   ]
  },
  {
   "cell_type": "code",
   "execution_count": null,
   "metadata": {},
   "outputs": [],
   "source": [
    "import sklearn\n",
    "# from sklearn.model_selection import train_test_split\n",
    "\n",
    "# print the JS visualization code to the notebook\n",
    "shap.initjs()\n",
    "\n",
    "# train a SVM classifier\n",
    "# X_train,X_test,Y_train,Y_test = train_test_split(*shap.datasets.iris(), test_size=0.2, random_state=0)\n",
    "svm = sklearn.svm.SVC(kernel='rbf', probability=True)\n",
    "svm.fit(X_train, y_train)\n",
    "\n",
    "# use Kernel SHAP to explain test set predictions\n",
    "explainer = shap.KernelExplainer(svm.predict_proba, X_train, link=\"logit\")\n",
    "shap_values = explainer.shap_values(X_test, nsamples=100)"
   ]
  },
  {
   "cell_type": "code",
   "execution_count": null,
   "metadata": {},
   "outputs": [],
   "source": [
    "# plot the SHAP values for the first a specific test observation\n",
    "obs = 5\n",
    "shap.force_plot(explainer.expected_value[0], shap_values[0][obs,:], X_test.iloc[obs,:], link=\"logit\")"
   ]
  },
  {
   "cell_type": "code",
   "execution_count": null,
   "metadata": {},
   "outputs": [],
   "source": [
    "display(X_test[obs:obs+1])\n",
    "y[obs]"
   ]
  },
  {
   "cell_type": "code",
   "execution_count": null,
   "metadata": {},
   "outputs": [],
   "source": [
    "X_train.Chol.mean(), X_train.MaxHR.mean()"
   ]
  },
  {
   "cell_type": "markdown",
   "metadata": {},
   "source": [
    "<div class=\"alert alert-success\">\n",
    "    <strong>🏋🏻‍♂️ TEAM ACTIVITY:</strong> Inspect the Worst Prediction</div>  "
   ]
  },
  {
   "cell_type": "markdown",
   "metadata": {},
   "source": [
    "**Instruction:**\n",
    "- Which observation in the test data does the model predict correctly and most confidently?\n",
    "    - There could be ties. Pick just one.\n",
    "- Use `force_plot` to interpret this confident prediction.\n",
    "    - Do we have any insight into what is driving the decision?"
   ]
  },
  {
   "cell_type": "code",
   "execution_count": null,
   "metadata": {},
   "outputs": [],
   "source": [
    "# your code here\n",
    "\n",
    "\n"
   ]
  },
  {
   "cell_type": "markdown",
   "metadata": {},
   "source": [
    "## Conclusion\n",
    "\n",
    "We looked at ELI5, LIME, and SHAP as a way to explain machine learning models in model-agnostic way.\\\n",
    "But there remains a tension between explainability and accuracy of machine learning models.\n"
   ]
  },
  {
   "cell_type": "markdown",
   "metadata": {},
   "source": [
    "## References\n",
    "\n",
    "Interpretable ML: https://christophm.github.io/interpretable-ml-book\n",
    "\n",
    "ELI5: https://eli5.readthedocs.io/en/latest/index.html\n",
    "\n",
    "LIME: https://github.com/marcotcr/lime\n",
    "\n",
    "SHAP: https://github.com/slundberg/shap"
   ]
  },
  {
   "cell_type": "markdown",
   "metadata": {
    "tags": []
   },
   "source": [
    "**FIN**"
   ]
  },
  {
   "cell_type": "code",
   "execution_count": null,
   "metadata": {},
   "outputs": [],
   "source": []
  }
 ],
 "metadata": {
  "anaconda-cloud": {},
  "kernelspec": {
   "display_name": "Python 3 (ipykernel)",
   "language": "python",
   "name": "python3"
  },
  "language_info": {
   "codemirror_mode": {
    "name": "ipython",
    "version": 3
   },
   "file_extension": ".py",
   "mimetype": "text/x-python",
   "name": "python",
   "nbconvert_exporter": "python",
   "pygments_lexer": "ipython3",
   "version": "3.9.6"
  }
 },
 "nbformat": 4,
 "nbformat_minor": 4
}
