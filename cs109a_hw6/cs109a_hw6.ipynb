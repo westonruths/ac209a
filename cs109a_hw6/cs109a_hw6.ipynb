{
 "cells": [
  {
   "cell_type": "markdown",
   "metadata": {
    "button": false,
    "new_sheet": false,
    "run_control": {
     "read_only": false
    }
   },
   "source": [
    "# <img style=\"float: left; padding-right: 10px; width: 45px\" src=\"https://raw.githubusercontent.com/Harvard-IACS/2018-CS109A/master/content/styles/iacs.png\"> CS109A Introduction to Data Science\n",
    "\n",
    "## Homework 6: Trees, Bagging, Random Forests, and Boosting\n",
    "\n",
    "\n",
    "**Harvard University**<br/>\n",
    "**Fall 2021**<br/>\n",
    "**Instructors**: Pavlos Protopapas and Natesh Pillai\n",
    "\n",
    "<hr style=\"height:2pt\">\n",
    "\n"
   ]
  },
  {
   "cell_type": "code",
   "execution_count": 1,
   "metadata": {
    "button": false,
    "collapsed": false,
    "jupyter": {
     "outputs_hidden": false
    },
    "new_sheet": false,
    "run_control": {
     "read_only": false
    }
   },
   "outputs": [
    {
     "data": {
      "text/html": [
       "<style>\n",
       "blockquote { background: #AEDE94; }\n",
       "h1 {\n",
       "    padding-top: 25px;\n",
       "    padding-bottom: 25px;\n",
       "    text-align: left;\n",
       "    padding-left: 10px;\n",
       "    background-color: #63ACBE;\n",
       "    color: black;\n",
       "}\n",
       "h2 {\n",
       "    padding-top: 10px;\n",
       "    padding-bottom: 10px;\n",
       "    text-align: left;\n",
       "    padding-left: 5px;\n",
       "    background-color: #EEEEEE;\n",
       "    color: black;\n",
       "}\n",
       "\n",
       "div.exercise {\n",
       "\tbackground-color: #f8b4ab;\n",
       "\tborder-color: #E9967A;\n",
       "\tborder-left: 5px solid #601A4A;\n",
       "\tpadding: 0.5em;\n",
       "}\n",
       "\n",
       "div.exercise-r {\n",
       "\tbackground-color: #ffd0d0;\n",
       "\tborder-color: #E9967A;\n",
       "\tborder-left: 5px solid #601A4A;\n",
       "\tpadding: 0.5em;\n",
       "}\n",
       "\n",
       "\n",
       "span.sub-q {\n",
       "\tfont-weight: bold;\n",
       "}\n",
       "div.theme {\n",
       "\tbackground-color: #63ACBE;\n",
       "\tborder-color: #E9967A;\n",
       "\tborder-left: 5px solid #601A4A;\n",
       "\tpadding: 0.5em;\n",
       "\tfont-size: 18pt;\n",
       "}\n",
       "div.gc {\n",
       "\tbackground-color: #AEDE94;\n",
       "\tborder-color: #E9967A;\n",
       "\tborder-left: 5px solid #601A4A;\n",
       "\tpadding: 0.5em;\n",
       "\tfont-size: 12pt;\n",
       "}\n",
       "p.q1 {\n",
       "    padding-top: 5px;\n",
       "    padding-bottom: 5px;\n",
       "    text-align: left;\n",
       "    padding-left: 5px;\n",
       "    background-color: #EEEEEE;\n",
       "    color: black;\n",
       "}\n",
       "header {\n",
       "   padding-top: 35px;\n",
       "    padding-bottom: 35px;\n",
       "    text-align: left;\n",
       "    padding-left: 10px;\n",
       "    background-color: #DDDDDD;\n",
       "    color: black;\n",
       "}\n",
       "span.emph {\n",
       "\tcolor: #601A4A;\n",
       "\tfont-weight: bold;\n",
       "}\n",
       "\n",
       "</style>\n"
      ],
      "text/plain": [
       "<IPython.core.display.HTML object>"
      ]
     },
     "execution_count": 1,
     "metadata": {},
     "output_type": "execute_result"
    }
   ],
   "source": [
    "# RUN THIS CELL \n",
    "import requests\n",
    "from IPython.core.display import HTML\n",
    "styles = requests.get(\n",
    "    \"https://raw.githubusercontent.com/Harvard-IACS/2021-CS109A/master/\"\n",
    "    \"themes/static/css/cs109.css\"\n",
    ").text\n",
    "HTML(styles)"
   ]
  },
  {
   "cell_type": "markdown",
   "metadata": {},
   "source": [
    "### Import Libraries"
   ]
  },
  {
   "cell_type": "code",
   "execution_count": 2,
   "metadata": {
    "button": false,
    "new_sheet": false,
    "run_control": {
     "read_only": false
    }
   },
   "outputs": [],
   "source": [
    "import matplotlib.pyplot as plt\n",
    "import numpy as np\n",
    "import pandas as pd\n",
    "import seaborn as sns\n",
    "\n",
    "from sklearn.ensemble import RandomForestClassifier\n",
    "from sklearn.ensemble import AdaBoostClassifier\n",
    "from sklearn.metrics import accuracy_score\n",
    "from sklearn.model_selection import cross_val_score\n",
    "from sklearn.tree import DecisionTreeClassifier\n",
    "from sklearn.utils import resample\n",
    "\n",
    "# pandas tricks for better display\n",
    "pd.set_option('display.width', 1500)\n",
    "pd.set_option('display.max_columns', 100)\n",
    "\n",
    "%matplotlib inline"
   ]
  },
  {
   "cell_type": "markdown",
   "metadata": {
    "button": false,
    "new_sheet": false,
    "run_control": {
     "read_only": false
    }
   },
   "source": [
    "<a id=\"instructions\"></a>\n",
    "\n",
    "<hr style=\"height:2pt\">\n",
    "\n",
    "### INSTRUCTIONS\n",
    "\n",
    "- **THIS IS AN INDIVIDUAL ASSIGNMENT. Collaboration on this homework IS NOT PERMITTED.**\n",
    "\n",
    "- To submit your assignment follow the instructions given in Canvas.\n",
    "\n",
    "- Please **restart the kernel and run the entire notebook again before you submit.**\n",
    "\n",
    "- Running cells out of order is a common pitfall in Jupyter Notebooks. To make sure your code continues to work, restart the kernel and rerun your notebook periodically while working through this assignment. \n",
    "\n",
    "- We have tried to include all the libraries you may need to do the assignment in the imports cell provided below. **Please use only the libraries provided in those imports.**\n",
    "\n",
    "- Please use `.head(...)` when viewing data. Do not submit a notebook that is **excessively long**. \n",
    "\n",
    "- In questions that require code to answer, such as \"calculate and report $R^2$\", do not just output the value from a cell. Write a `print(...)` function that clearly labels the output, includes a reference to the calculated value, and rounds it to a reasonable number of digits. **Do not hard code values in your printed output**. For example, this is an appropriate print statement:\n",
    "```python\n",
    "print(f'The R^2 is {R:.4f}')\n",
    "```\n",
    "- **Your plots MUST be clearly labeled and easy to read,** including clear labels for the $x$ and $y$ axes, a descriptive title (\"MSE plot\" is NOT a descriptive title; \"95% confidence interval of coefficients for degree-5 polynomial model\" on the other hand is descriptive), a legend when appropriate, and clearly formatted text and graphics.\n",
    "\n",
    "- **Your code may also be evaluated for efficiency and clarity.** As a result, correct output is not always sufficient for full credit.\n",
    "\n",
    "<hr style=\"height:2pt\">"
   ]
  },
  {
   "cell_type": "markdown",
   "metadata": {},
   "source": [
    "<a id=\"contents\"></a>\n",
    "\n",
    "## Notebook contents\n",
    "\n",
    "- [**Overview and data description**](#intro)\n",
    "\n",
    "\n",
    "- [**Question 1: Decision Tree [14 pts]**](#part1)\n",
    "  - [Solutions](#part1solutions)\n",
    "\n",
    "\n",
    "- [**Question 2: Bagging [27 pts]**](#part2) \n",
    "  - [Solutions](#part2solutions)\n",
    "\n",
    "\n",
    "- [**Question 3: Random Forests [14 pts]**](#part3) \n",
    "  - [Solutions](#part3solutions)\n",
    "\n",
    "\n",
    "- [**Question 4: Boosting [30 pts]**](#part4) \n",
    "  - [Solutions](#part4solutions)\n",
    "\n",
    "\n",
    "- [**Question 5: Understanding [15 pts]**](#part5) \n",
    "  - [Solutions](#part5solutions)\n",
    "  \n",
    "  "
   ]
  },
  {
   "cell_type": "markdown",
   "metadata": {
    "button": false,
    "new_sheet": false,
    "run_control": {
     "read_only": false
    }
   },
   "source": [
    "<a id=\"intro\"></a>\n",
    "\n",
    "## Overview and data description\n",
    "\n",
    "[Return to contents](#contents)\n",
    "\n",
    "\n",
    "### Higgs boson discovery\n",
    "\n",
    "The discovery of the Higgs boson in July 2012 marked a fundamental breakthrough in particle physics. The Higgs boson particle was discovered through experiments at the Large Hadron Collider at CERN, by colliding beams of protons at high energy. A key challenge in analyzing the results of these experiments is to differentiate between collisions that produce Higgs bosons and collisions that produce only background noise. \n",
    "\n",
    "### Data description\n",
    "\n",
    "You are provided with data from Monte-Carlo simulations of collisions of particles in a particle collider experiment. The training set is available in `Higgs_train.csv` and the test set is in `Higgs_test.csv`. Each row in these files corresponds to a particle collision described by 28 features (columns 1-28), of which the first 21 features are kinematic properties measured by the particle detectors in the accelerator, and the remaining features are derived by physicists from the first 21 features. The class label is provided in the last column, with a label of 1 indicating that the collision produces Higgs bosons (signal), and a label of 0 indicating that the collision produces other particles (background).\n",
    "\n",
    "The data set provided to you is a small subset of the HIGGS data set in the UCI machine learning repository. The following paper contains further details about the data set and the predictors used: [Baldi et al., Nature Communications 5, 2014](https://www.nature.com/articles/ncomms5308).\n",
    "\n",
    "### Loading the data\n",
    "\n",
    "Run the following cell to load the data. Do not modify this code. We need to ensure everyone has the exact same arrays for this homework."
   ]
  },
  {
   "cell_type": "code",
   "execution_count": 3,
   "metadata": {
    "editable": false
   },
   "outputs": [
    {
     "name": "stdout",
     "output_type": "stream",
     "text": [
      "Our data contains 5,000 training samples and 5,000 test samples.\n",
      "\n",
      "TRAINING DATA INFORMATION:\n",
      "\n",
      "<class 'pandas.core.frame.DataFrame'>\n",
      "RangeIndex: 5000 entries, 0 to 4999\n",
      "Data columns (total 29 columns):\n",
      " #   Column                    Non-Null Count  Dtype  \n",
      "---  ------                    --------------  -----  \n",
      " 0   lepton pT                 5000 non-null   float64\n",
      " 1   lepton eta                5000 non-null   float64\n",
      " 2   lepton phi                5000 non-null   float64\n",
      " 3   missing energy magnitude  5000 non-null   float64\n",
      " 4   missing energy phi        5000 non-null   float64\n",
      " 5   jet 1 pt                  5000 non-null   float64\n",
      " 6   jet 1 eta                 5000 non-null   float64\n",
      " 7   jet 1 phi                 5000 non-null   float64\n",
      " 8   jet 1 b-tag               5000 non-null   float64\n",
      " 9   jet 2 pt                  5000 non-null   float64\n",
      " 10  jet 2 eta                 5000 non-null   float64\n",
      " 11  jet 2 phi                 5000 non-null   float64\n",
      " 12  jet 2 b-tag               5000 non-null   float64\n",
      " 13  jet 3 pt                  5000 non-null   float64\n",
      " 14  jet 3 eta                 5000 non-null   float64\n",
      " 15  jet 3 phi                 5000 non-null   float64\n",
      " 16  jet 3 b-tag               5000 non-null   float64\n",
      " 17  jet 4 pt                  5000 non-null   float64\n",
      " 18  jet 4 eta                 5000 non-null   float64\n",
      " 19  jet 4 phi                 5000 non-null   float64\n",
      " 20  jet 4 b-tag               5000 non-null   float64\n",
      " 21  m_jj                      5000 non-null   float64\n",
      " 22  m_jjj                     5000 non-null   float64\n",
      " 23  m_lv                      5000 non-null   float64\n",
      " 24  m_jlv                     5000 non-null   float64\n",
      " 25  m_bb                      5000 non-null   float64\n",
      " 26  m_wbb                     5000 non-null   float64\n",
      " 27  m_wwbb                    5000 non-null   float64\n",
      " 28  class                     5000 non-null   float64\n",
      "dtypes: float64(29)\n",
      "memory usage: 1.1 MB\n",
      "\n",
      "TRAINING DATA HEAD:\n"
     ]
    },
    {
     "data": {
      "text/html": [
       "<div>\n",
       "<style scoped>\n",
       "    .dataframe tbody tr th:only-of-type {\n",
       "        vertical-align: middle;\n",
       "    }\n",
       "\n",
       "    .dataframe tbody tr th {\n",
       "        vertical-align: top;\n",
       "    }\n",
       "\n",
       "    .dataframe thead th {\n",
       "        text-align: right;\n",
       "    }\n",
       "</style>\n",
       "<table border=\"1\" class=\"dataframe\">\n",
       "  <thead>\n",
       "    <tr style=\"text-align: right;\">\n",
       "      <th></th>\n",
       "      <th>lepton pT</th>\n",
       "      <th>lepton eta</th>\n",
       "      <th>lepton phi</th>\n",
       "      <th>missing energy magnitude</th>\n",
       "      <th>missing energy phi</th>\n",
       "      <th>jet 1 pt</th>\n",
       "      <th>jet 1 eta</th>\n",
       "      <th>jet 1 phi</th>\n",
       "      <th>jet 1 b-tag</th>\n",
       "      <th>jet 2 pt</th>\n",
       "      <th>jet 2 eta</th>\n",
       "      <th>jet 2 phi</th>\n",
       "      <th>jet 2 b-tag</th>\n",
       "      <th>jet 3 pt</th>\n",
       "      <th>jet 3 eta</th>\n",
       "      <th>jet 3 phi</th>\n",
       "      <th>jet 3 b-tag</th>\n",
       "      <th>jet 4 pt</th>\n",
       "      <th>jet 4 eta</th>\n",
       "      <th>jet 4 phi</th>\n",
       "      <th>jet 4 b-tag</th>\n",
       "      <th>m_jj</th>\n",
       "      <th>m_jjj</th>\n",
       "      <th>m_lv</th>\n",
       "      <th>m_jlv</th>\n",
       "      <th>m_bb</th>\n",
       "      <th>m_wbb</th>\n",
       "      <th>m_wwbb</th>\n",
       "      <th>class</th>\n",
       "    </tr>\n",
       "  </thead>\n",
       "  <tbody>\n",
       "    <tr>\n",
       "      <th>0</th>\n",
       "      <td>0.377</td>\n",
       "      <td>-1.5800</td>\n",
       "      <td>-1.7100</td>\n",
       "      <td>0.991</td>\n",
       "      <td>0.114</td>\n",
       "      <td>1.250</td>\n",
       "      <td>0.620</td>\n",
       "      <td>-1.480</td>\n",
       "      <td>2.17</td>\n",
       "      <td>0.754</td>\n",
       "      <td>0.7750</td>\n",
       "      <td>-0.667</td>\n",
       "      <td>2.21</td>\n",
       "      <td>1.280</td>\n",
       "      <td>-1.190</td>\n",
       "      <td>0.505</td>\n",
       "      <td>0.00</td>\n",
       "      <td>1.110</td>\n",
       "      <td>-0.464</td>\n",
       "      <td>0.397</td>\n",
       "      <td>0.00</td>\n",
       "      <td>0.522</td>\n",
       "      <td>1.320</td>\n",
       "      <td>0.982</td>\n",
       "      <td>1.360</td>\n",
       "      <td>0.965</td>\n",
       "      <td>1.310</td>\n",
       "      <td>1.080</td>\n",
       "      <td>1.0</td>\n",
       "    </tr>\n",
       "    <tr>\n",
       "      <th>1</th>\n",
       "      <td>0.707</td>\n",
       "      <td>0.0876</td>\n",
       "      <td>-0.4000</td>\n",
       "      <td>0.919</td>\n",
       "      <td>-1.230</td>\n",
       "      <td>1.170</td>\n",
       "      <td>-0.553</td>\n",
       "      <td>0.886</td>\n",
       "      <td>2.17</td>\n",
       "      <td>1.300</td>\n",
       "      <td>0.7620</td>\n",
       "      <td>-1.060</td>\n",
       "      <td>2.21</td>\n",
       "      <td>0.607</td>\n",
       "      <td>0.459</td>\n",
       "      <td>1.020</td>\n",
       "      <td>0.00</td>\n",
       "      <td>0.497</td>\n",
       "      <td>0.956</td>\n",
       "      <td>0.236</td>\n",
       "      <td>0.00</td>\n",
       "      <td>0.440</td>\n",
       "      <td>0.829</td>\n",
       "      <td>0.992</td>\n",
       "      <td>1.160</td>\n",
       "      <td>2.220</td>\n",
       "      <td>1.190</td>\n",
       "      <td>0.938</td>\n",
       "      <td>1.0</td>\n",
       "    </tr>\n",
       "    <tr>\n",
       "      <th>2</th>\n",
       "      <td>0.617</td>\n",
       "      <td>0.2660</td>\n",
       "      <td>-1.3500</td>\n",
       "      <td>1.150</td>\n",
       "      <td>1.040</td>\n",
       "      <td>0.955</td>\n",
       "      <td>0.377</td>\n",
       "      <td>-0.148</td>\n",
       "      <td>0.00</td>\n",
       "      <td>1.060</td>\n",
       "      <td>-0.0194</td>\n",
       "      <td>1.110</td>\n",
       "      <td>0.00</td>\n",
       "      <td>1.470</td>\n",
       "      <td>0.205</td>\n",
       "      <td>-1.060</td>\n",
       "      <td>2.55</td>\n",
       "      <td>1.490</td>\n",
       "      <td>-0.398</td>\n",
       "      <td>-0.542</td>\n",
       "      <td>0.00</td>\n",
       "      <td>1.020</td>\n",
       "      <td>1.030</td>\n",
       "      <td>0.986</td>\n",
       "      <td>0.928</td>\n",
       "      <td>1.370</td>\n",
       "      <td>0.982</td>\n",
       "      <td>0.917</td>\n",
       "      <td>1.0</td>\n",
       "    </tr>\n",
       "    <tr>\n",
       "      <th>3</th>\n",
       "      <td>0.851</td>\n",
       "      <td>-0.3810</td>\n",
       "      <td>-0.0713</td>\n",
       "      <td>1.470</td>\n",
       "      <td>-0.795</td>\n",
       "      <td>0.692</td>\n",
       "      <td>0.883</td>\n",
       "      <td>0.497</td>\n",
       "      <td>0.00</td>\n",
       "      <td>1.620</td>\n",
       "      <td>0.1240</td>\n",
       "      <td>1.180</td>\n",
       "      <td>1.11</td>\n",
       "      <td>1.290</td>\n",
       "      <td>0.160</td>\n",
       "      <td>-0.916</td>\n",
       "      <td>2.55</td>\n",
       "      <td>0.945</td>\n",
       "      <td>0.796</td>\n",
       "      <td>-1.520</td>\n",
       "      <td>0.00</td>\n",
       "      <td>1.200</td>\n",
       "      <td>1.100</td>\n",
       "      <td>0.987</td>\n",
       "      <td>1.350</td>\n",
       "      <td>1.460</td>\n",
       "      <td>0.995</td>\n",
       "      <td>0.954</td>\n",
       "      <td>1.0</td>\n",
       "    </tr>\n",
       "    <tr>\n",
       "      <th>4</th>\n",
       "      <td>0.768</td>\n",
       "      <td>-0.6920</td>\n",
       "      <td>-0.0402</td>\n",
       "      <td>0.615</td>\n",
       "      <td>0.144</td>\n",
       "      <td>0.749</td>\n",
       "      <td>0.397</td>\n",
       "      <td>-0.874</td>\n",
       "      <td>0.00</td>\n",
       "      <td>1.150</td>\n",
       "      <td>0.1270</td>\n",
       "      <td>1.320</td>\n",
       "      <td>2.21</td>\n",
       "      <td>0.730</td>\n",
       "      <td>-0.758</td>\n",
       "      <td>-1.120</td>\n",
       "      <td>0.00</td>\n",
       "      <td>0.848</td>\n",
       "      <td>0.107</td>\n",
       "      <td>0.502</td>\n",
       "      <td>1.55</td>\n",
       "      <td>0.922</td>\n",
       "      <td>0.864</td>\n",
       "      <td>0.983</td>\n",
       "      <td>1.370</td>\n",
       "      <td>0.601</td>\n",
       "      <td>0.919</td>\n",
       "      <td>0.957</td>\n",
       "      <td>0.0</td>\n",
       "    </tr>\n",
       "  </tbody>\n",
       "</table>\n",
       "</div>"
      ],
      "text/plain": [
       "   lepton pT  lepton eta  lepton phi  missing energy magnitude  missing energy phi  jet 1 pt  jet 1 eta  jet 1 phi  jet 1 b-tag  jet 2 pt  jet 2 eta  jet 2 phi  jet 2 b-tag  jet 3 pt  jet 3 eta  jet 3 phi  jet 3 b-tag  jet 4 pt  jet 4 eta  jet 4 phi  jet 4 b-tag   m_jj  m_jjj   m_lv  m_jlv   m_bb  m_wbb  m_wwbb  class\n",
       "0      0.377     -1.5800     -1.7100                     0.991               0.114     1.250      0.620     -1.480         2.17     0.754     0.7750     -0.667         2.21     1.280     -1.190      0.505         0.00     1.110     -0.464      0.397         0.00  0.522  1.320  0.982  1.360  0.965  1.310   1.080    1.0\n",
       "1      0.707      0.0876     -0.4000                     0.919              -1.230     1.170     -0.553      0.886         2.17     1.300     0.7620     -1.060         2.21     0.607      0.459      1.020         0.00     0.497      0.956      0.236         0.00  0.440  0.829  0.992  1.160  2.220  1.190   0.938    1.0\n",
       "2      0.617      0.2660     -1.3500                     1.150               1.040     0.955      0.377     -0.148         0.00     1.060    -0.0194      1.110         0.00     1.470      0.205     -1.060         2.55     1.490     -0.398     -0.542         0.00  1.020  1.030  0.986  0.928  1.370  0.982   0.917    1.0\n",
       "3      0.851     -0.3810     -0.0713                     1.470              -0.795     0.692      0.883      0.497         0.00     1.620     0.1240      1.180         1.11     1.290      0.160     -0.916         2.55     0.945      0.796     -1.520         0.00  1.200  1.100  0.987  1.350  1.460  0.995   0.954    1.0\n",
       "4      0.768     -0.6920     -0.0402                     0.615               0.144     0.749      0.397     -0.874         0.00     1.150     0.1270      1.320         2.21     0.730     -0.758     -1.120         0.00     0.848      0.107      0.502         1.55  0.922  0.864  0.983  1.370  0.601  0.919   0.957    0.0"
      ]
     },
     "metadata": {},
     "output_type": "display_data"
    },
    {
     "name": "stdout",
     "output_type": "stream",
     "text": [
      "\n",
      "TRAINING DATA SUMMARY STATISTICS:\n"
     ]
    },
    {
     "data": {
      "text/html": [
       "<div>\n",
       "<style scoped>\n",
       "    .dataframe tbody tr th:only-of-type {\n",
       "        vertical-align: middle;\n",
       "    }\n",
       "\n",
       "    .dataframe tbody tr th {\n",
       "        vertical-align: top;\n",
       "    }\n",
       "\n",
       "    .dataframe thead th {\n",
       "        text-align: right;\n",
       "    }\n",
       "</style>\n",
       "<table border=\"1\" class=\"dataframe\">\n",
       "  <thead>\n",
       "    <tr style=\"text-align: right;\">\n",
       "      <th></th>\n",
       "      <th>lepton pT</th>\n",
       "      <th>lepton eta</th>\n",
       "      <th>lepton phi</th>\n",
       "      <th>missing energy magnitude</th>\n",
       "      <th>missing energy phi</th>\n",
       "      <th>jet 1 pt</th>\n",
       "      <th>jet 1 eta</th>\n",
       "      <th>jet 1 phi</th>\n",
       "      <th>jet 1 b-tag</th>\n",
       "      <th>jet 2 pt</th>\n",
       "      <th>jet 2 eta</th>\n",
       "      <th>jet 2 phi</th>\n",
       "      <th>jet 2 b-tag</th>\n",
       "      <th>jet 3 pt</th>\n",
       "      <th>jet 3 eta</th>\n",
       "      <th>jet 3 phi</th>\n",
       "      <th>jet 3 b-tag</th>\n",
       "      <th>jet 4 pt</th>\n",
       "      <th>jet 4 eta</th>\n",
       "      <th>jet 4 phi</th>\n",
       "      <th>jet 4 b-tag</th>\n",
       "      <th>m_jj</th>\n",
       "      <th>m_jjj</th>\n",
       "      <th>m_lv</th>\n",
       "      <th>m_jlv</th>\n",
       "      <th>m_bb</th>\n",
       "      <th>m_wbb</th>\n",
       "      <th>m_wwbb</th>\n",
       "      <th>class</th>\n",
       "    </tr>\n",
       "  </thead>\n",
       "  <tbody>\n",
       "    <tr>\n",
       "      <th>count</th>\n",
       "      <td>5000.000000</td>\n",
       "      <td>5000.000000</td>\n",
       "      <td>5000.000000</td>\n",
       "      <td>5000.000000</td>\n",
       "      <td>5000.000000</td>\n",
       "      <td>5000.000000</td>\n",
       "      <td>5000.000000</td>\n",
       "      <td>5000.000000</td>\n",
       "      <td>5000.000000</td>\n",
       "      <td>5000.000000</td>\n",
       "      <td>5000.000000</td>\n",
       "      <td>5000.000000</td>\n",
       "      <td>5000.000000</td>\n",
       "      <td>5000.000000</td>\n",
       "      <td>5000.000000</td>\n",
       "      <td>5000.000000</td>\n",
       "      <td>5000.000000</td>\n",
       "      <td>5000.000000</td>\n",
       "      <td>5000.000000</td>\n",
       "      <td>5000.000000</td>\n",
       "      <td>5000.000000</td>\n",
       "      <td>5000.000000</td>\n",
       "      <td>5000.000000</td>\n",
       "      <td>5000.000000</td>\n",
       "      <td>5000.000000</td>\n",
       "      <td>5000.000000</td>\n",
       "      <td>5000.000000</td>\n",
       "      <td>5000.000000</td>\n",
       "      <td>5000.000000</td>\n",
       "    </tr>\n",
       "    <tr>\n",
       "      <th>mean</th>\n",
       "      <td>0.978645</td>\n",
       "      <td>-0.014280</td>\n",
       "      <td>-0.018956</td>\n",
       "      <td>1.005793</td>\n",
       "      <td>0.002528</td>\n",
       "      <td>0.980390</td>\n",
       "      <td>0.025014</td>\n",
       "      <td>-0.007104</td>\n",
       "      <td>0.993678</td>\n",
       "      <td>0.988659</td>\n",
       "      <td>-0.010310</td>\n",
       "      <td>-0.006926</td>\n",
       "      <td>1.006922</td>\n",
       "      <td>0.997004</td>\n",
       "      <td>0.018817</td>\n",
       "      <td>0.003952</td>\n",
       "      <td>1.011994</td>\n",
       "      <td>0.982806</td>\n",
       "      <td>0.005201</td>\n",
       "      <td>0.003349</td>\n",
       "      <td>1.007810</td>\n",
       "      <td>1.038431</td>\n",
       "      <td>1.027201</td>\n",
       "      <td>1.054719</td>\n",
       "      <td>1.023094</td>\n",
       "      <td>0.958464</td>\n",
       "      <td>1.033432</td>\n",
       "      <td>0.960494</td>\n",
       "      <td>0.524600</td>\n",
       "    </tr>\n",
       "    <tr>\n",
       "      <th>std</th>\n",
       "      <td>0.547025</td>\n",
       "      <td>1.011927</td>\n",
       "      <td>0.997945</td>\n",
       "      <td>0.591907</td>\n",
       "      <td>1.003337</td>\n",
       "      <td>0.463677</td>\n",
       "      <td>1.002018</td>\n",
       "      <td>1.014559</td>\n",
       "      <td>1.028920</td>\n",
       "      <td>0.476462</td>\n",
       "      <td>1.007983</td>\n",
       "      <td>1.002177</td>\n",
       "      <td>1.045206</td>\n",
       "      <td>0.471681</td>\n",
       "      <td>1.007824</td>\n",
       "      <td>0.999656</td>\n",
       "      <td>1.200416</td>\n",
       "      <td>0.497681</td>\n",
       "      <td>1.007999</td>\n",
       "      <td>1.008904</td>\n",
       "      <td>1.400846</td>\n",
       "      <td>0.619460</td>\n",
       "      <td>0.353984</td>\n",
       "      <td>0.173243</td>\n",
       "      <td>0.427141</td>\n",
       "      <td>0.495720</td>\n",
       "      <td>0.352966</td>\n",
       "      <td>0.306057</td>\n",
       "      <td>0.499444</td>\n",
       "    </tr>\n",
       "    <tr>\n",
       "      <th>min</th>\n",
       "      <td>0.275000</td>\n",
       "      <td>-2.410000</td>\n",
       "      <td>-1.740000</td>\n",
       "      <td>0.010000</td>\n",
       "      <td>-1.740000</td>\n",
       "      <td>0.170000</td>\n",
       "      <td>-2.920000</td>\n",
       "      <td>-1.740000</td>\n",
       "      <td>0.000000</td>\n",
       "      <td>0.198000</td>\n",
       "      <td>-2.910000</td>\n",
       "      <td>-1.740000</td>\n",
       "      <td>0.000000</td>\n",
       "      <td>0.265000</td>\n",
       "      <td>-2.720000</td>\n",
       "      <td>-1.740000</td>\n",
       "      <td>0.000000</td>\n",
       "      <td>0.366000</td>\n",
       "      <td>-2.500000</td>\n",
       "      <td>-1.740000</td>\n",
       "      <td>0.000000</td>\n",
       "      <td>0.151000</td>\n",
       "      <td>0.443000</td>\n",
       "      <td>0.339000</td>\n",
       "      <td>0.371000</td>\n",
       "      <td>0.079500</td>\n",
       "      <td>0.413000</td>\n",
       "      <td>0.452000</td>\n",
       "      <td>0.000000</td>\n",
       "    </tr>\n",
       "    <tr>\n",
       "      <th>25%</th>\n",
       "      <td>0.587000</td>\n",
       "      <td>-0.764250</td>\n",
       "      <td>-0.877500</td>\n",
       "      <td>0.581000</td>\n",
       "      <td>-0.870000</td>\n",
       "      <td>0.676000</td>\n",
       "      <td>-0.659250</td>\n",
       "      <td>-0.885000</td>\n",
       "      <td>0.000000</td>\n",
       "      <td>0.666000</td>\n",
       "      <td>-0.699000</td>\n",
       "      <td>-0.859500</td>\n",
       "      <td>0.000000</td>\n",
       "      <td>0.664750</td>\n",
       "      <td>-0.679250</td>\n",
       "      <td>-0.858000</td>\n",
       "      <td>0.000000</td>\n",
       "      <td>0.619000</td>\n",
       "      <td>-0.707250</td>\n",
       "      <td>-0.869250</td>\n",
       "      <td>0.000000</td>\n",
       "      <td>0.798750</td>\n",
       "      <td>0.850000</td>\n",
       "      <td>0.986000</td>\n",
       "      <td>0.768000</td>\n",
       "      <td>0.672000</td>\n",
       "      <td>0.826000</td>\n",
       "      <td>0.772750</td>\n",
       "      <td>0.000000</td>\n",
       "    </tr>\n",
       "    <tr>\n",
       "      <th>50%</th>\n",
       "      <td>0.846000</td>\n",
       "      <td>-0.009305</td>\n",
       "      <td>-0.016050</td>\n",
       "      <td>0.903500</td>\n",
       "      <td>0.001300</td>\n",
       "      <td>0.891000</td>\n",
       "      <td>0.049500</td>\n",
       "      <td>-0.023500</td>\n",
       "      <td>1.090000</td>\n",
       "      <td>0.891000</td>\n",
       "      <td>-0.004800</td>\n",
       "      <td>-0.030700</td>\n",
       "      <td>1.110000</td>\n",
       "      <td>0.899500</td>\n",
       "      <td>0.045700</td>\n",
       "      <td>0.018800</td>\n",
       "      <td>0.000000</td>\n",
       "      <td>0.877000</td>\n",
       "      <td>0.012900</td>\n",
       "      <td>-0.004700</td>\n",
       "      <td>0.000000</td>\n",
       "      <td>0.898000</td>\n",
       "      <td>0.957000</td>\n",
       "      <td>0.990000</td>\n",
       "      <td>0.922000</td>\n",
       "      <td>0.868000</td>\n",
       "      <td>0.952000</td>\n",
       "      <td>0.877500</td>\n",
       "      <td>1.000000</td>\n",
       "    </tr>\n",
       "    <tr>\n",
       "      <th>75%</th>\n",
       "      <td>1.220000</td>\n",
       "      <td>0.725500</td>\n",
       "      <td>0.837000</td>\n",
       "      <td>1.300000</td>\n",
       "      <td>0.866000</td>\n",
       "      <td>1.160000</td>\n",
       "      <td>0.716000</td>\n",
       "      <td>0.894000</td>\n",
       "      <td>2.170000</td>\n",
       "      <td>1.192500</td>\n",
       "      <td>0.692250</td>\n",
       "      <td>0.855500</td>\n",
       "      <td>2.210000</td>\n",
       "      <td>1.232500</td>\n",
       "      <td>0.717000</td>\n",
       "      <td>0.855000</td>\n",
       "      <td>2.550000</td>\n",
       "      <td>1.220000</td>\n",
       "      <td>0.719000</td>\n",
       "      <td>0.859000</td>\n",
       "      <td>3.100000</td>\n",
       "      <td>1.030000</td>\n",
       "      <td>1.090000</td>\n",
       "      <td>1.030000</td>\n",
       "      <td>1.160000</td>\n",
       "      <td>1.120000</td>\n",
       "      <td>1.140000</td>\n",
       "      <td>1.060000</td>\n",
       "      <td>1.000000</td>\n",
       "    </tr>\n",
       "    <tr>\n",
       "      <th>max</th>\n",
       "      <td>5.330000</td>\n",
       "      <td>2.430000</td>\n",
       "      <td>1.740000</td>\n",
       "      <td>6.260000</td>\n",
       "      <td>1.740000</td>\n",
       "      <td>4.190000</td>\n",
       "      <td>2.960000</td>\n",
       "      <td>1.740000</td>\n",
       "      <td>2.170000</td>\n",
       "      <td>4.800000</td>\n",
       "      <td>2.910000</td>\n",
       "      <td>1.740000</td>\n",
       "      <td>2.210000</td>\n",
       "      <td>4.630000</td>\n",
       "      <td>2.730000</td>\n",
       "      <td>1.740000</td>\n",
       "      <td>2.550000</td>\n",
       "      <td>5.770000</td>\n",
       "      <td>2.490000</td>\n",
       "      <td>1.740000</td>\n",
       "      <td>3.100000</td>\n",
       "      <td>10.600000</td>\n",
       "      <td>5.740000</td>\n",
       "      <td>3.940000</td>\n",
       "      <td>6.220000</td>\n",
       "      <td>5.080000</td>\n",
       "      <td>4.320000</td>\n",
       "      <td>3.500000</td>\n",
       "      <td>1.000000</td>\n",
       "    </tr>\n",
       "  </tbody>\n",
       "</table>\n",
       "</div>"
      ],
      "text/plain": [
       "         lepton pT   lepton eta   lepton phi  missing energy magnitude  missing energy phi     jet 1 pt    jet 1 eta    jet 1 phi  jet 1 b-tag     jet 2 pt    jet 2 eta    jet 2 phi  jet 2 b-tag     jet 3 pt    jet 3 eta    jet 3 phi  jet 3 b-tag     jet 4 pt    jet 4 eta    jet 4 phi  jet 4 b-tag         m_jj        m_jjj         m_lv        m_jlv         m_bb        m_wbb       m_wwbb        class\n",
       "count  5000.000000  5000.000000  5000.000000               5000.000000         5000.000000  5000.000000  5000.000000  5000.000000  5000.000000  5000.000000  5000.000000  5000.000000  5000.000000  5000.000000  5000.000000  5000.000000  5000.000000  5000.000000  5000.000000  5000.000000  5000.000000  5000.000000  5000.000000  5000.000000  5000.000000  5000.000000  5000.000000  5000.000000  5000.000000\n",
       "mean      0.978645    -0.014280    -0.018956                  1.005793            0.002528     0.980390     0.025014    -0.007104     0.993678     0.988659    -0.010310    -0.006926     1.006922     0.997004     0.018817     0.003952     1.011994     0.982806     0.005201     0.003349     1.007810     1.038431     1.027201     1.054719     1.023094     0.958464     1.033432     0.960494     0.524600\n",
       "std       0.547025     1.011927     0.997945                  0.591907            1.003337     0.463677     1.002018     1.014559     1.028920     0.476462     1.007983     1.002177     1.045206     0.471681     1.007824     0.999656     1.200416     0.497681     1.007999     1.008904     1.400846     0.619460     0.353984     0.173243     0.427141     0.495720     0.352966     0.306057     0.499444\n",
       "min       0.275000    -2.410000    -1.740000                  0.010000           -1.740000     0.170000    -2.920000    -1.740000     0.000000     0.198000    -2.910000    -1.740000     0.000000     0.265000    -2.720000    -1.740000     0.000000     0.366000    -2.500000    -1.740000     0.000000     0.151000     0.443000     0.339000     0.371000     0.079500     0.413000     0.452000     0.000000\n",
       "25%       0.587000    -0.764250    -0.877500                  0.581000           -0.870000     0.676000    -0.659250    -0.885000     0.000000     0.666000    -0.699000    -0.859500     0.000000     0.664750    -0.679250    -0.858000     0.000000     0.619000    -0.707250    -0.869250     0.000000     0.798750     0.850000     0.986000     0.768000     0.672000     0.826000     0.772750     0.000000\n",
       "50%       0.846000    -0.009305    -0.016050                  0.903500            0.001300     0.891000     0.049500    -0.023500     1.090000     0.891000    -0.004800    -0.030700     1.110000     0.899500     0.045700     0.018800     0.000000     0.877000     0.012900    -0.004700     0.000000     0.898000     0.957000     0.990000     0.922000     0.868000     0.952000     0.877500     1.000000\n",
       "75%       1.220000     0.725500     0.837000                  1.300000            0.866000     1.160000     0.716000     0.894000     2.170000     1.192500     0.692250     0.855500     2.210000     1.232500     0.717000     0.855000     2.550000     1.220000     0.719000     0.859000     3.100000     1.030000     1.090000     1.030000     1.160000     1.120000     1.140000     1.060000     1.000000\n",
       "max       5.330000     2.430000     1.740000                  6.260000            1.740000     4.190000     2.960000     1.740000     2.170000     4.800000     2.910000     1.740000     2.210000     4.630000     2.730000     1.740000     2.550000     5.770000     2.490000     1.740000     3.100000    10.600000     5.740000     3.940000     6.220000     5.080000     4.320000     3.500000     1.000000"
      ]
     },
     "metadata": {},
     "output_type": "display_data"
    }
   ],
   "source": [
    "# RUN THIS CELL\n",
    "# DO NOT MODIFY THIS CODE\n",
    "\n",
    "data_train = pd.read_csv(\"data/Higgs_train.csv\")\n",
    "data_test = pd.read_csv(\"data/Higgs_test.csv\")\n",
    "\n",
    "print(\n",
    "    f\"Our data contains {len(data_train):,} training samples \"\n",
    "    f\"and {len(data_test):,} test samples.\\n\"\n",
    ")\n",
    "\n",
    "print(\"TRAINING DATA INFORMATION:\\n\")\n",
    "data_train.info()\n",
    "\n",
    "print(\"\\nTRAINING DATA HEAD:\")\n",
    "display(data_train.head())\n",
    "\n",
    "print(\"\\nTRAINING DATA SUMMARY STATISTICS:\")\n",
    "display(data_train.describe())\n",
    "\n",
    "# Split dataframe into X and y numpy arrays\n",
    "X_train = data_train.iloc[:, data_train.columns != \"class\"].values\n",
    "y_train = data_train[\"class\"].values\n",
    "X_test = data_test.iloc[:, data_test.columns != \"class\"].values\n",
    "y_test = data_test[\"class\"].values"
   ]
  },
  {
   "cell_type": "markdown",
   "metadata": {
    "button": false,
    "new_sheet": false,
    "run_control": {
     "read_only": false
    }
   },
   "source": [
    "<a id=\"part1\"></a>\n",
    "\n",
    "## <div class='exercise'>Question 1: Decision Tree [14 pts]</div> \n",
    "    \n",
    "[Return to contents](#contents)\n",
    "    \n",
    "We will start by fitting a basic model that will serve as our \"baseline\" (i.e. a simple model that we can use as a starting point and can reasonably compare to other models). We will use a decision tree as our baseline model. We will later compare bagging, random forests, and boosting models in subsequent questions. We want a fair comparison, so it is important to keep important aspects of the experiments consistent (e.g. the data used to report train and test scores). We will tune the decision tree using cross-validation (of course). The hyper-parameter we will tune is the \"maximum tree depth\", which we will refer to as \"depth\" for simplicity.\n",
    "\n",
    "Since we will only use tree-based methods in this homework, we do not need to scale our predictor or response variables. \n",
    "\n",
    "**1.1** In this problem, we will observe how both tree-depth and cross-validation affect our ability to accurately model data. Specifically, for each tree depth from 1 to 20 (inclusive):\n",
    "\n",
    "- Fit a decision tree to the entire **training** set.\n",
    "\n",
    "- Evaluate on the entire **training** set (i.e., `.score(...)`), while storing the scores in a variable named `train_scores`.\n",
    "\n",
    "- Perform 5-fold cross-validation with the entire **training** set, while storing the mean validation score and the validation standard deviation  in variables named `cvmeans` and `cvstds`, respectively.\n",
    "\n",
    "Now that we have these informative scores, let us plot them. Generate 2 plots, both showing (a) the non-cross-validation training scores, (b) the mean validation scores, and (c) a shaded region that illustrates the +/-2 standard deviation validation bounds for each tree depth. The content and formatting of these 2 plots should be identical, EXCEPT in one plot set the limits on the y-axis to focus on the validation performance. Remember to label and title each plot appropropriately.\n",
    "\n",
    "**HINT:** You can use `plt.fill_between(...)` to easily generate the shaded region in your plots.\n",
    "    \n",
    "**1.2** Using the cross-validation experiments from above, select a depth you deem most appropriate for using on future, unseen data, and justify your choice. Then, using this depth, report the classification accuracies on the train and test set. Store the train and test accuracies in variables named `best_cv_tree_train_score` and `best_cv_tree_test_score`, respectively, which we will refer to in later questions.\n",
    "\n",
    "**1.3** In terms of the bias-variance tradeoff, how does limiting tree depth avoid over-fitting? What is one downside of limiting the tree depth? \n"
   ]
  },
  {
   "cell_type": "markdown",
   "metadata": {
    "button": false,
    "new_sheet": false,
    "run_control": {
     "read_only": false
    }
   },
   "source": [
    "<a id=\"part1solutions\"></a>\n",
    "\n",
    "## Question 1: Solutions\n",
    "\n",
    "[Return to contents](#contents)"
   ]
  },
  {
   "cell_type": "markdown",
   "metadata": {
    "autograde": "1.1",
    "button": false,
    "new_sheet": false,
    "run_control": {
     "read_only": false
    }
   },
   "source": [
    "<div class='exercise-r'>\n",
    "\n",
    "**1.1** In this problem, we will observe how both tree-depth and cross-validation affect our ability to accurately model data. Specifically, for each tree depth from 1 to 20 (inclusive):\n",
    "\n",
    "- Fit a decision tree to the entire **training** set.\n",
    "\n",
    "- Evaluate on the entire **training** set (i.e., `.score(...)`), while storing the scores in a variable named `train_scores`.\n",
    "\n",
    "- Perform 5-fold cross-validation with the entire **training** set, while storing the mean validation score and the validation standard deviation  in variables named `cvmeans` and `cvstds`, respectively.\n",
    "\n",
    "Now that we have these informative scores, let us plot them. Generate 2 plots, both showing (a) the non-cross-validation training scores, (b) the mean validation scores, and (c) a shaded region that illustrates the +/-2 standard deviation validation bounds for each tree depth. The content and formatting of these 2 plots should be identical, EXCEPT in one plot set the limits on the y-axis to focus on the validation performance. Remember to label and title each plot appropropriately.\n",
    "\n",
    "**HINT:** You can use `plt.fill_between(...)` to easily generate the shaded region in your plots.\n",
    "\n",
    "</div>"
   ]
  },
  {
   "cell_type": "code",
   "execution_count": 4,
   "metadata": {},
   "outputs": [],
   "source": [
    "# your code here \n",
    "\n",
    "train_scores = {}\n",
    "cvmeans = {}\n",
    "cvstds = {}\n",
    "\n",
    "tree_depth_start, tree_depth_end = 1, 20\n",
    "for i in range(tree_depth_start, tree_depth_end + 1):\n",
    "    \n",
    "    #declare tree model object\n",
    "    model = DecisionTreeClassifier(max_depth=i)\n",
    "    \n",
    "    #fit the decision tree to the entire training set\n",
    "    model.fit(X_train, y_train)\n",
    "    \n",
    "    #Evaluate on the entire training set (i.e., .score(...)), while storing the scores in a variable named train_scores.\n",
    "    train_scores[i] = model.score(X_train, y_train)\n",
    "    \n",
    "    #get cv metrics\n",
    "    scores = cross_val_score(estimator=model, X=X_train, y=y_train, cv=5, n_jobs=-1)\n",
    "    cvmeans[i] = scores.mean()\n",
    "    cvstds[i] = np.std(scores)"
   ]
  },
  {
   "cell_type": "code",
   "execution_count": 5,
   "metadata": {},
   "outputs": [
    {
     "data": {
      "image/png": "[encoded data removed]",
      "text/plain": [
       "<Figure size 1008x432 with 2 Axes>"
      ]
     },
     "metadata": {
      "needs_background": "light"
     },
     "output_type": "display_data"
    }
   ],
   "source": [
    "#Plot helpers\n",
    "lists_train_scores = sorted(train_scores.items())\n",
    "x_train_scores, y_train_scores = zip(*lists_train_scores)   \n",
    "\n",
    "lists_cvmeans = sorted(cvmeans.items())\n",
    "x_cvmeans, y_cvmeans = zip(*lists_cvmeans)   \n",
    "\n",
    "stds = np.array([ scores for scores in cvstds.values() ])\n",
    "\n",
    "#Plot\n",
    "f, axes = plt.subplots(1,2, figsize=(14,6))\n",
    "\n",
    "axes[0].plot(x_train_scores, y_train_scores, 'r-', marker='x', label=\"Non-Cross-Validation Training Scores\")\n",
    "axes[0].plot(x_cvmeans, y_cvmeans, 'b-', marker='o', label=\"Mean Validation Scores\")\n",
    "axes[0].fill_between(x_cvmeans, y_cvmeans + stds, y_cvmeans - stds, alpha=0.2, label=\"Validation Bounds\")\n",
    "axes[0].legend()\n",
    "axes[0].set_title('Variation of Accuracy with Depth - Simple Decision Tree')\n",
    "axes[0].set_ylabel(\"Scores\")\n",
    "axes[0].set_xlabel(\"Maximum Depth\")\n",
    "axes[0].set_xticks(x_train_scores)\n",
    "axes[0].grid(ls=\":\")\n",
    "\n",
    "axes[1].plot(x_train_scores, y_train_scores, 'r-', marker='x', label=\"Non-Cross-Validation Training Scores\")\n",
    "axes[1].plot(x_cvmeans, y_cvmeans, 'b-', marker='o', label=\"Mean Validation Scores\")\n",
    "axes[1].fill_between(x_cvmeans, y_cvmeans + stds, y_cvmeans - stds, alpha=0.2, label=\"Validation Bounds\")\n",
    "axes[1].legend()\n",
    "axes[1].set_title('Variation of Accuracy with Depth - Simple Decision Tree \\n Zoomed In on Validation Performance')\n",
    "axes[1].set_ylabel(\"Scores\")\n",
    "axes[1].set_xlabel(\"Maximum Depth\")\n",
    "axes[1].set_ylim([min(cvmeans.values())-.02, max(cvmeans.values())+.02])\n",
    "axes[1].set_xticks(x_train_scores)\n",
    "axes[1].grid(ls=\":\")\n",
    "\n",
    "plt.tight_layout()\n",
    "plt.show()"
   ]
  },
  {
   "cell_type": "markdown",
   "metadata": {
    "autograde": "1.2",
    "button": false,
    "new_sheet": false,
    "run_control": {
     "read_only": false
    }
   },
   "source": [
    "<div class='exercise-r'>\n",
    "\n",
    "**1.2** Using the cross-validation experiments from above, select a depth you deem most appropriate for using on future, unseen data, and justify your choice. Then, using this depth, report the classification accuracies on the train and test set. Store the train and test accuracies in variables named `best_cv_tree_train_score` and `best_cv_tree_test_score`, respectively, which we will refer to in later questions.\n",
    "\n",
    "</div>"
   ]
  },
  {
   "cell_type": "code",
   "execution_count": 6,
   "metadata": {
    "button": false,
    "collapsed": false,
    "jupyter": {
     "outputs_hidden": false
    },
    "new_sheet": false,
    "run_control": {
     "read_only": false
    }
   },
   "outputs": [
    {
     "name": "stdout",
     "output_type": "stream",
     "text": [
      "The best depth is:  5\n",
      "The classification accuracy of the TRAIN set is: 0.6422\n",
      "The classification accuracy of the TEST set is: 0.6524\n"
     ]
    }
   ],
   "source": [
    "# your code here\n",
    "#Find the best depth\n",
    "best_depth = max(cvmeans, key=cvmeans.get)\n",
    "print(\"The best depth is: \", best_depth)\n",
    "\n",
    "#declare tree model object\n",
    "model = DecisionTreeClassifier(max_depth=best_depth)\n",
    "\n",
    "#fit the decision tree to the entire training set\n",
    "model.fit(X_train, y_train)\n",
    "\n",
    "best_cv_tree_train_score = cross_val_score(estimator=model, X=X_train, y=y_train, cv=5, n_jobs=-1)\n",
    "best_cv_tree_test_score = cross_val_score(estimator=model, X=X_test, y=y_test, cv=5, n_jobs=-1)\n",
    "\n",
    "print(f'The classification accuracy of the TRAIN set is: {best_cv_tree_train_score.mean():.4f}')\n",
    "print(f'The classification accuracy of the TEST set is: {best_cv_tree_test_score.mean():.4f}')"
   ]
  },
  {
   "cell_type": "markdown",
   "metadata": {
    "button": false,
    "new_sheet": false,
    "run_control": {
     "read_only": false
    }
   },
   "source": [
    "**I chose a depth of 5 as it has the highest mean validation score.**"
   ]
  },
  {
   "cell_type": "markdown",
   "metadata": {
    "autograde": "1.3",
    "button": false,
    "new_sheet": false,
    "run_control": {
     "read_only": false
    }
   },
   "source": [
    "<div class='exercise-r'>\n",
    "\n",
    "**1.3** In terms of the bias-variance tradeoff, how does limiting tree depth avoid over-fitting? What is one downside of limiting the tree depth?\n",
    "\n",
    "</div>"
   ]
  },
  {
   "cell_type": "markdown",
   "metadata": {
    "button": false,
    "new_sheet": false,
    "run_control": {
     "read_only": false
    }
   },
   "source": [
    "**Limiting tree depth increases our bias but decreases our variance. This helps us avoid over-fitting because an over-fitted model generally has low bias and high variance. However, by limiting the tree depth we can potentially increase our bias too much and then underfit.**"
   ]
  },
  {
   "cell_type": "markdown",
   "metadata": {
    "button": false,
    "new_sheet": false,
    "run_control": {
     "read_only": false
    }
   },
   "source": [
    "<a id=\"part2\"></a>\n",
    "\n",
    "## <div class='exercise'>Question 2: Bagging [27 pts]</div> \n",
    "\n",
    "[Return to contents](#contents)\n",
    "\n",
    "Bagging is the technique of building the same model on multiple bootstrap samples from the data and combining each model's prediction to get an overall classification. In this question, we build an example by hand and study how the number of bootstrapped datasets impacts the resulting classification accuracy.\n",
    "\n",
    "\n",
    "**2.1** Based on your results from [Question 1](#part1solutions), choose a tree depth that WILL overfit the training set. What evidence leads you to believe that this depth overfits? Assign your choice to a variable named `tree_depth`. (You may want to explore different settings for this value in the problems below. However, be certain that your final choice and rationale is based on your results from Question 1.)\n",
    "\n",
    "**2.2** Here we will use the `tree_depth` chosen in Question 2.1 to generate 55 boostrapped sets of decision tree predictions for both the training and test data. To accomplish this:\n",
    "\n",
    "- First, complete the `bagger` function based on the function's signature and docstring provided in the code cell below.\n",
    "- Then, make a single call to that function to return your bootstrapped results.\n",
    "- Store your returned results as: \n",
    "  1. `bagging_train_df`: a dataframe containing your training data predictions (see the \"required dataframe structure\" below)\n",
    "  2. `bagging_test_df`: a dataframe containing your test data predictions\n",
    "  3. `bagging_models_list`: a list containing your 55 fitted model objects (i.e. fitted estimators)\n",
    "- Finally, display the heads of both dataframes.\n",
    "\n",
    "**NOTE:** There is no need to do anything with your `bagging_models_list` list yet. It will not be used until later in [Question 3.2](#part3).\n",
    "\n",
    "**REQUIRED DATAFRAME STRUCTURE:** The training and test prediction results of your bootstraps should be returned by the `bagger` function as dataframes formatted like the example shown below. Each row should represent one observation (from either the training or test set depending on the dataframe), and each column should represent one bootstrapped result. The values stored in the dataframe are the bootstrapped predictions for each observation as illustrated below.\n",
    "\n",
    "As an example, the required structure of the `bagging_train_df` and `bagging_test_df` dataframes is:\n",
    "\n",
    "|     |bootstrap model 1|bootstrap model 2|...|bootstrap model 55|  \n",
    "| --- | --- | --- | --- | --- |\n",
    "|0| 0 | 1|... |0|\n",
    "|1| 1| 1|... |0|\n",
    "|2| 0| 0|... |1|\n",
    "|...| ...| ...|... |... |\n",
    "| $n$-1 | 0| 0|... |1|\n",
    "\n",
    "**HINT:** You can use `resample(...)` from scikit-learn to easily bootstrap the $X$ and $y$ data.\n",
    "\n",
    "**2.3**  Aggregate all 55 bootstrapped models to get a combined prediction for each training and test observation (i.e. predict a `1` if, and only if, a majority of the models predict that observation to be from class 1). Assign the bagging train and test accuracies to variables named `bagging_accuracy_train` and `bagging_accuracy_test`. What accuracy does this \"bagging\" model achieve on the training and test sets? Using Python's `assert` keyword, write an assertion that verifies that this test set accuracy is at least as good as the accuracy for the model you fit in [Question 1](#part1solutions).\n",
    "\n",
    "**HINT:** You can use `np.mean(...)` to easily test for majority. If a majority of models vote 1, consider what that implies about the mean.\n",
    "\n",
    "**2.4** We want to know how the number of bootstraps affects our bagging ensemble's performance. Use the `running_predictions(...)` function provided below to get the model's accuracy score when using only $j$ of the bootstrapped models, where $j \\in [1, 2, 3, ..., 55]$. Using the `tree_depth` chosen in Question 2.1, make a plot that illustrates the accuracy on the training set and test set at each number of bootstraps (varying $j$ from 1 to 55). Please see the `running_predictions` signature and docstring regarding the use of the function. You should be able to use your `bagger`-generated dataframes from Q2.2 as an input to this function.\n",
    "\n",
    "On your plot, in addition to the training and test accuracies at each value $j$, also include horizontal lines for two baseline comparisons:\n",
    "\n",
    "1. The test accuracy of the best model from [Question 1](#part1solutions);\n",
    "2. The test accuracy of a single decision tree with the overfit `tree_depth` you chose in Question 2.1, trained on the full training set.\n",
    "\n",
    "**2.5** Referring to your graph from 2.4, compare the performance of bagging against the baseline of a single `tree_depth` tree. Explain the differences you see.\n",
    "\n",
    "**2.6** Bagging and limiting tree depth both affect how much the model overfits. Compare and contrast these two approaches. Your answer should refer to your graph in 2.4 and may duplicate something you said in your answer to 2.5.\n",
    "\n",
    "**2.7** In what ways might our bagging classifier be overfitting the data? In what ways might it be underfitting?"
   ]
  },
  {
   "cell_type": "markdown",
   "metadata": {
    "button": false,
    "new_sheet": false,
    "run_control": {
     "read_only": false
    }
   },
   "source": [
    "<a id=\"part2solutions\"></a>\n",
    "\n",
    "## Question 2: Solutions\n",
    "\n",
    "[Return to contents](#contents)"
   ]
  },
  {
   "cell_type": "markdown",
   "metadata": {
    "autograde": "2.1",
    "button": false,
    "new_sheet": false,
    "run_control": {
     "read_only": false
    }
   },
   "source": [
    "<div class='exercise-r'>\n",
    "\n",
    "**2.1** Based on your results from [Question 1](#part1solutions), choose a tree depth that WILL overfit the training set. What evidence leads you to believe that this depth overfits? Assign your choice to a variable named `tree_depth`. (You may want to explore different settings for this value in the problems below. However, be certain that your final choice and rationale is based on your results from Question 1.)\n",
    "\n",
    "</div>"
   ]
  },
  {
   "cell_type": "code",
   "execution_count": 7,
   "metadata": {
    "button": false,
    "new_sheet": false,
    "run_control": {
     "read_only": false
    },
    "tags": []
   },
   "outputs": [],
   "source": [
    "# your code here\n",
    "tree_depth = 19"
   ]
  },
  {
   "cell_type": "markdown",
   "metadata": {
    "button": false,
    "new_sheet": false,
    "run_control": {
     "read_only": false
    }
   },
   "source": [
    "**I chose a depth of 19 as this resulted in the lowest mean validation score while simultaneously having the highest non-cross validated training score. This tells me that the model is significantly overfitting on the training set.**"
   ]
  },
  {
   "cell_type": "markdown",
   "metadata": {
    "autograde": "2.2",
    "button": false,
    "new_sheet": false,
    "run_control": {
     "read_only": false
    }
   },
   "source": [
    "<div class='exercise-r'>\n",
    "\n",
    "**2.2** Here we will use the `tree_depth` chosen in Question 2.1 to generate 55 boostrapped sets of decision tree predictions for both the training and test data. To accomplish this:\n",
    "\n",
    "- First, complete the `bagger` function based on the function's signature and docstring provided in the code cell below.\n",
    "- Then, make a single call to that function to return your bootstrapped results.\n",
    "- Store your returned results as: \n",
    "  1. `bagging_train_df`: a dataframe containing your training data predictions (see the \"required dataframe structure\" below)\n",
    "  2. `bagging_test_df`: a dataframe containing your test data predictions\n",
    "  3. `bagging_models_list`: a list containing your 55 fitted model objects (i.e. fitted estimators)\n",
    "- Finally, display the heads of both dataframes.\n",
    "\n",
    "**NOTE:** There is no need to do anything with your `bagging_models_list` list yet. It will not be used until later in [Question 3.2](#part3).\n",
    "\n",
    "**REQUIRED DATAFRAME STRUCTURE:** The training and test prediction results of your bootstraps should be returned by the `bagger` function as dataframes formatted like the example shown below. Each row should represent one observation (from either the training or test set depending on the dataframe), and each column should represent one bootstrapped result. The values stored in the dataframe are the bootstrapped predictions for each observation as illustrated below.\n",
    "\n",
    "As an example, the required structure of the `bagging_train_df` and `bagging_test_df` dataframes is:\n",
    "\n",
    "|     |bootstrap model 1|bootstrap model 2|...|bootstrap model 55|  \n",
    "| --- | --- | --- | --- | --- |\n",
    "|0| 0 | 1|... |0|\n",
    "|1| 1| 1|... |0|\n",
    "|2| 0| 0|... |1|\n",
    "|...| ...| ...|... |... |\n",
    "| $n$-1 | 0| 0|... |1|\n",
    "\n",
    "**HINT:** You can use `resample(...)` from scikit-learn to easily bootstrap the $X$ and $y$ data.\n",
    "\n",
    "</div>"
   ]
  },
  {
   "cell_type": "code",
   "execution_count": 8,
   "metadata": {
    "button": false,
    "new_sheet": false,
    "run_control": {
     "read_only": false
    }
   },
   "outputs": [],
   "source": [
    "# Complete this function as instructed\n",
    "# Do not modify the function signature or docstring\n",
    "def bagger(\n",
    "    n_trees: int,\n",
    "    tree_depth: int,\n",
    "    X_train: np.ndarray,\n",
    "    y_train: np.ndarray,\n",
    "    X_test: np.ndarray,\n",
    "    random_seed: int = 0,\n",
    ") -> (pd.DataFrame, pd.DataFrame, list):\n",
    "    \"\"\"Generate boostrapped DecisionTreeClassifier predictions\n",
    "    \n",
    "    Function fits bootstrapped DecisionTreeClassifier models\n",
    "    and returns training and test predictions for each of those\n",
    "    bootstrapped models, along with the fitted model objects as\n",
    "    described in Question 2.2 question text.\n",
    "    \n",
    "    :param n_trees: int, number of bootstrapped decision trees\n",
    "    :param tree_depth: int, maximum tree depth\n",
    "    :param X_train: np.ndarray, training X observations\n",
    "    :param y_train: np.ndarray, training y observations\n",
    "    :param X_test: np.ndarray, test X observations\n",
    "    :param random_seed: int, random seed used to set np.random.seed\n",
    "                        to ensure replicable results (default=0)\n",
    "    \n",
    "    :returns: (pd.DataFrame, pd.DataFrame, list), tuple containing 3\n",
    "              objects, (1) bagging_train_df dataframe\n",
    "              as described in Q2.2 question text, (2) bagging_test_df\n",
    "              dataframe as described in Q2.2, and (3) bagging_models_list\n",
    "              containing every trained DecisionTreeClassifier model\n",
    "              object (i.e. estimator), one estimator for each bootstrap\n",
    "              (you will need this list later in Q3.2)\n",
    "    \"\"\"\n",
    "    # your code here\n",
    "    \n",
    "    #Creating model\n",
    "    np.random.seed(random_seed)\n",
    "    model = DecisionTreeClassifier(max_depth=tree_depth)\n",
    "\n",
    "    #Initializing variables\n",
    "    predictions_train = np.zeros( shape = (data_train.shape[0], n_trees))\n",
    "    predictions_test  = np.zeros( shape = (data_test.shape[0],  n_trees))\n",
    "    bagging_models_list = []\n",
    "\n",
    "    #Conduct bootstraping iterations\n",
    "    for i in range(n_trees):\n",
    "        boot_X, boot_y = resample(X_train, y_train, replace=True)\n",
    "\n",
    "        model.fit(boot_X, boot_y)  \n",
    "        predictions_train[:,i] = model.predict(X_train)   \n",
    "        predictions_test[:,i] = model.predict(X_test)\n",
    "        bagging_models_list.append(model)\n",
    "\n",
    "    #Make Predictions Dataframe\n",
    "    columns = [\"bootstrap model \"+str(i+1) for i in range(n_trees)]\n",
    "    bagging_train_df = pd.DataFrame(predictions_train, columns=columns)\n",
    "    bagging_test_df = pd.DataFrame(predictions_test, columns=columns)\n",
    "    \n",
    "    # end of your code here\n",
    "    \n",
    "    return bagging_train_df, bagging_test_df, bagging_models_list\n",
    "     "
   ]
  },
  {
   "cell_type": "code",
   "execution_count": 9,
   "metadata": {
    "button": false,
    "collapsed": false,
    "jupyter": {
     "outputs_hidden": false
    },
    "new_sheet": false,
    "run_control": {
     "read_only": false
    }
   },
   "outputs": [],
   "source": [
    "# your code here\n",
    "bagging_train_df, bagging_test_df, bagging_models_list = bagger(55, tree_depth, X_train, y_train, X_test)"
   ]
  },
  {
   "cell_type": "code",
   "execution_count": 10,
   "metadata": {},
   "outputs": [
    {
     "data": {
      "text/html": [
       "<div>\n",
       "<style scoped>\n",
       "    .dataframe tbody tr th:only-of-type {\n",
       "        vertical-align: middle;\n",
       "    }\n",
       "\n",
       "    .dataframe tbody tr th {\n",
       "        vertical-align: top;\n",
       "    }\n",
       "\n",
       "    .dataframe thead th {\n",
       "        text-align: right;\n",
       "    }\n",
       "</style>\n",
       "<table border=\"1\" class=\"dataframe\">\n",
       "  <thead>\n",
       "    <tr style=\"text-align: right;\">\n",
       "      <th></th>\n",
       "      <th>bootstrap model 1</th>\n",
       "      <th>bootstrap model 2</th>\n",
       "      <th>bootstrap model 3</th>\n",
       "      <th>bootstrap model 4</th>\n",
       "      <th>bootstrap model 5</th>\n",
       "      <th>bootstrap model 6</th>\n",
       "      <th>bootstrap model 7</th>\n",
       "      <th>bootstrap model 8</th>\n",
       "      <th>bootstrap model 9</th>\n",
       "      <th>bootstrap model 10</th>\n",
       "      <th>bootstrap model 11</th>\n",
       "      <th>bootstrap model 12</th>\n",
       "      <th>bootstrap model 13</th>\n",
       "      <th>bootstrap model 14</th>\n",
       "      <th>bootstrap model 15</th>\n",
       "      <th>bootstrap model 16</th>\n",
       "      <th>bootstrap model 17</th>\n",
       "      <th>bootstrap model 18</th>\n",
       "      <th>bootstrap model 19</th>\n",
       "      <th>bootstrap model 20</th>\n",
       "      <th>bootstrap model 21</th>\n",
       "      <th>bootstrap model 22</th>\n",
       "      <th>bootstrap model 23</th>\n",
       "      <th>bootstrap model 24</th>\n",
       "      <th>bootstrap model 25</th>\n",
       "      <th>bootstrap model 26</th>\n",
       "      <th>bootstrap model 27</th>\n",
       "      <th>bootstrap model 28</th>\n",
       "      <th>bootstrap model 29</th>\n",
       "      <th>bootstrap model 30</th>\n",
       "      <th>bootstrap model 31</th>\n",
       "      <th>bootstrap model 32</th>\n",
       "      <th>bootstrap model 33</th>\n",
       "      <th>bootstrap model 34</th>\n",
       "      <th>bootstrap model 35</th>\n",
       "      <th>bootstrap model 36</th>\n",
       "      <th>bootstrap model 37</th>\n",
       "      <th>bootstrap model 38</th>\n",
       "      <th>bootstrap model 39</th>\n",
       "      <th>bootstrap model 40</th>\n",
       "      <th>bootstrap model 41</th>\n",
       "      <th>bootstrap model 42</th>\n",
       "      <th>bootstrap model 43</th>\n",
       "      <th>bootstrap model 44</th>\n",
       "      <th>bootstrap model 45</th>\n",
       "      <th>bootstrap model 46</th>\n",
       "      <th>bootstrap model 47</th>\n",
       "      <th>bootstrap model 48</th>\n",
       "      <th>bootstrap model 49</th>\n",
       "      <th>bootstrap model 50</th>\n",
       "      <th>bootstrap model 51</th>\n",
       "      <th>bootstrap model 52</th>\n",
       "      <th>bootstrap model 53</th>\n",
       "      <th>bootstrap model 54</th>\n",
       "      <th>bootstrap model 55</th>\n",
       "    </tr>\n",
       "  </thead>\n",
       "  <tbody>\n",
       "    <tr>\n",
       "      <th>0</th>\n",
       "      <td>1.0</td>\n",
       "      <td>1.0</td>\n",
       "      <td>1.0</td>\n",
       "      <td>1.0</td>\n",
       "      <td>0.0</td>\n",
       "      <td>0.0</td>\n",
       "      <td>1.0</td>\n",
       "      <td>0.0</td>\n",
       "      <td>1.0</td>\n",
       "      <td>1.0</td>\n",
       "      <td>1.0</td>\n",
       "      <td>1.0</td>\n",
       "      <td>0.0</td>\n",
       "      <td>1.0</td>\n",
       "      <td>1.0</td>\n",
       "      <td>1.0</td>\n",
       "      <td>1.0</td>\n",
       "      <td>0.0</td>\n",
       "      <td>1.0</td>\n",
       "      <td>0.0</td>\n",
       "      <td>1.0</td>\n",
       "      <td>1.0</td>\n",
       "      <td>1.0</td>\n",
       "      <td>0.0</td>\n",
       "      <td>1.0</td>\n",
       "      <td>1.0</td>\n",
       "      <td>1.0</td>\n",
       "      <td>1.0</td>\n",
       "      <td>1.0</td>\n",
       "      <td>1.0</td>\n",
       "      <td>1.0</td>\n",
       "      <td>1.0</td>\n",
       "      <td>1.0</td>\n",
       "      <td>0.0</td>\n",
       "      <td>1.0</td>\n",
       "      <td>1.0</td>\n",
       "      <td>1.0</td>\n",
       "      <td>1.0</td>\n",
       "      <td>0.0</td>\n",
       "      <td>0.0</td>\n",
       "      <td>1.0</td>\n",
       "      <td>1.0</td>\n",
       "      <td>1.0</td>\n",
       "      <td>1.0</td>\n",
       "      <td>1.0</td>\n",
       "      <td>1.0</td>\n",
       "      <td>1.0</td>\n",
       "      <td>0.0</td>\n",
       "      <td>1.0</td>\n",
       "      <td>0.0</td>\n",
       "      <td>1.0</td>\n",
       "      <td>1.0</td>\n",
       "      <td>1.0</td>\n",
       "      <td>1.0</td>\n",
       "      <td>1.0</td>\n",
       "    </tr>\n",
       "    <tr>\n",
       "      <th>1</th>\n",
       "      <td>0.0</td>\n",
       "      <td>1.0</td>\n",
       "      <td>1.0</td>\n",
       "      <td>1.0</td>\n",
       "      <td>1.0</td>\n",
       "      <td>1.0</td>\n",
       "      <td>1.0</td>\n",
       "      <td>1.0</td>\n",
       "      <td>1.0</td>\n",
       "      <td>0.0</td>\n",
       "      <td>1.0</td>\n",
       "      <td>1.0</td>\n",
       "      <td>1.0</td>\n",
       "      <td>1.0</td>\n",
       "      <td>0.0</td>\n",
       "      <td>1.0</td>\n",
       "      <td>1.0</td>\n",
       "      <td>1.0</td>\n",
       "      <td>1.0</td>\n",
       "      <td>1.0</td>\n",
       "      <td>1.0</td>\n",
       "      <td>1.0</td>\n",
       "      <td>1.0</td>\n",
       "      <td>1.0</td>\n",
       "      <td>1.0</td>\n",
       "      <td>0.0</td>\n",
       "      <td>1.0</td>\n",
       "      <td>0.0</td>\n",
       "      <td>0.0</td>\n",
       "      <td>0.0</td>\n",
       "      <td>1.0</td>\n",
       "      <td>0.0</td>\n",
       "      <td>1.0</td>\n",
       "      <td>1.0</td>\n",
       "      <td>1.0</td>\n",
       "      <td>1.0</td>\n",
       "      <td>1.0</td>\n",
       "      <td>1.0</td>\n",
       "      <td>1.0</td>\n",
       "      <td>1.0</td>\n",
       "      <td>1.0</td>\n",
       "      <td>1.0</td>\n",
       "      <td>1.0</td>\n",
       "      <td>1.0</td>\n",
       "      <td>1.0</td>\n",
       "      <td>1.0</td>\n",
       "      <td>1.0</td>\n",
       "      <td>0.0</td>\n",
       "      <td>0.0</td>\n",
       "      <td>1.0</td>\n",
       "      <td>1.0</td>\n",
       "      <td>1.0</td>\n",
       "      <td>0.0</td>\n",
       "      <td>0.0</td>\n",
       "      <td>1.0</td>\n",
       "    </tr>\n",
       "    <tr>\n",
       "      <th>2</th>\n",
       "      <td>1.0</td>\n",
       "      <td>1.0</td>\n",
       "      <td>1.0</td>\n",
       "      <td>1.0</td>\n",
       "      <td>1.0</td>\n",
       "      <td>1.0</td>\n",
       "      <td>1.0</td>\n",
       "      <td>1.0</td>\n",
       "      <td>1.0</td>\n",
       "      <td>1.0</td>\n",
       "      <td>1.0</td>\n",
       "      <td>1.0</td>\n",
       "      <td>1.0</td>\n",
       "      <td>1.0</td>\n",
       "      <td>1.0</td>\n",
       "      <td>0.0</td>\n",
       "      <td>1.0</td>\n",
       "      <td>1.0</td>\n",
       "      <td>1.0</td>\n",
       "      <td>1.0</td>\n",
       "      <td>1.0</td>\n",
       "      <td>1.0</td>\n",
       "      <td>0.0</td>\n",
       "      <td>1.0</td>\n",
       "      <td>0.0</td>\n",
       "      <td>1.0</td>\n",
       "      <td>1.0</td>\n",
       "      <td>1.0</td>\n",
       "      <td>1.0</td>\n",
       "      <td>1.0</td>\n",
       "      <td>0.0</td>\n",
       "      <td>1.0</td>\n",
       "      <td>1.0</td>\n",
       "      <td>1.0</td>\n",
       "      <td>1.0</td>\n",
       "      <td>1.0</td>\n",
       "      <td>1.0</td>\n",
       "      <td>1.0</td>\n",
       "      <td>1.0</td>\n",
       "      <td>0.0</td>\n",
       "      <td>1.0</td>\n",
       "      <td>1.0</td>\n",
       "      <td>1.0</td>\n",
       "      <td>1.0</td>\n",
       "      <td>1.0</td>\n",
       "      <td>0.0</td>\n",
       "      <td>0.0</td>\n",
       "      <td>1.0</td>\n",
       "      <td>1.0</td>\n",
       "      <td>1.0</td>\n",
       "      <td>1.0</td>\n",
       "      <td>0.0</td>\n",
       "      <td>1.0</td>\n",
       "      <td>0.0</td>\n",
       "      <td>1.0</td>\n",
       "    </tr>\n",
       "    <tr>\n",
       "      <th>3</th>\n",
       "      <td>1.0</td>\n",
       "      <td>1.0</td>\n",
       "      <td>1.0</td>\n",
       "      <td>1.0</td>\n",
       "      <td>1.0</td>\n",
       "      <td>1.0</td>\n",
       "      <td>1.0</td>\n",
       "      <td>1.0</td>\n",
       "      <td>0.0</td>\n",
       "      <td>0.0</td>\n",
       "      <td>1.0</td>\n",
       "      <td>1.0</td>\n",
       "      <td>1.0</td>\n",
       "      <td>1.0</td>\n",
       "      <td>1.0</td>\n",
       "      <td>1.0</td>\n",
       "      <td>1.0</td>\n",
       "      <td>1.0</td>\n",
       "      <td>1.0</td>\n",
       "      <td>1.0</td>\n",
       "      <td>1.0</td>\n",
       "      <td>1.0</td>\n",
       "      <td>1.0</td>\n",
       "      <td>1.0</td>\n",
       "      <td>1.0</td>\n",
       "      <td>1.0</td>\n",
       "      <td>1.0</td>\n",
       "      <td>1.0</td>\n",
       "      <td>1.0</td>\n",
       "      <td>1.0</td>\n",
       "      <td>1.0</td>\n",
       "      <td>1.0</td>\n",
       "      <td>0.0</td>\n",
       "      <td>1.0</td>\n",
       "      <td>1.0</td>\n",
       "      <td>1.0</td>\n",
       "      <td>1.0</td>\n",
       "      <td>0.0</td>\n",
       "      <td>1.0</td>\n",
       "      <td>1.0</td>\n",
       "      <td>1.0</td>\n",
       "      <td>0.0</td>\n",
       "      <td>0.0</td>\n",
       "      <td>0.0</td>\n",
       "      <td>1.0</td>\n",
       "      <td>1.0</td>\n",
       "      <td>0.0</td>\n",
       "      <td>1.0</td>\n",
       "      <td>0.0</td>\n",
       "      <td>1.0</td>\n",
       "      <td>1.0</td>\n",
       "      <td>1.0</td>\n",
       "      <td>1.0</td>\n",
       "      <td>1.0</td>\n",
       "      <td>1.0</td>\n",
       "    </tr>\n",
       "    <tr>\n",
       "      <th>4</th>\n",
       "      <td>0.0</td>\n",
       "      <td>0.0</td>\n",
       "      <td>0.0</td>\n",
       "      <td>0.0</td>\n",
       "      <td>0.0</td>\n",
       "      <td>0.0</td>\n",
       "      <td>0.0</td>\n",
       "      <td>1.0</td>\n",
       "      <td>1.0</td>\n",
       "      <td>0.0</td>\n",
       "      <td>0.0</td>\n",
       "      <td>0.0</td>\n",
       "      <td>0.0</td>\n",
       "      <td>0.0</td>\n",
       "      <td>0.0</td>\n",
       "      <td>1.0</td>\n",
       "      <td>1.0</td>\n",
       "      <td>0.0</td>\n",
       "      <td>0.0</td>\n",
       "      <td>0.0</td>\n",
       "      <td>0.0</td>\n",
       "      <td>0.0</td>\n",
       "      <td>0.0</td>\n",
       "      <td>0.0</td>\n",
       "      <td>0.0</td>\n",
       "      <td>0.0</td>\n",
       "      <td>0.0</td>\n",
       "      <td>0.0</td>\n",
       "      <td>0.0</td>\n",
       "      <td>0.0</td>\n",
       "      <td>0.0</td>\n",
       "      <td>0.0</td>\n",
       "      <td>1.0</td>\n",
       "      <td>1.0</td>\n",
       "      <td>0.0</td>\n",
       "      <td>0.0</td>\n",
       "      <td>0.0</td>\n",
       "      <td>0.0</td>\n",
       "      <td>0.0</td>\n",
       "      <td>0.0</td>\n",
       "      <td>1.0</td>\n",
       "      <td>0.0</td>\n",
       "      <td>1.0</td>\n",
       "      <td>0.0</td>\n",
       "      <td>0.0</td>\n",
       "      <td>0.0</td>\n",
       "      <td>0.0</td>\n",
       "      <td>0.0</td>\n",
       "      <td>0.0</td>\n",
       "      <td>1.0</td>\n",
       "      <td>0.0</td>\n",
       "      <td>1.0</td>\n",
       "      <td>1.0</td>\n",
       "      <td>0.0</td>\n",
       "      <td>0.0</td>\n",
       "    </tr>\n",
       "  </tbody>\n",
       "</table>\n",
       "</div>"
      ],
      "text/plain": [
       "   bootstrap model 1  bootstrap model 2  bootstrap model 3  bootstrap model 4  bootstrap model 5  bootstrap model 6  bootstrap model 7  bootstrap model 8  bootstrap model 9  bootstrap model 10  bootstrap model 11  bootstrap model 12  bootstrap model 13  bootstrap model 14  bootstrap model 15  bootstrap model 16  bootstrap model 17  bootstrap model 18  bootstrap model 19  bootstrap model 20  bootstrap model 21  bootstrap model 22  bootstrap model 23  bootstrap model 24  bootstrap model 25  bootstrap model 26  bootstrap model 27  bootstrap model 28  bootstrap model 29  bootstrap model 30  bootstrap model 31  bootstrap model 32  bootstrap model 33  bootstrap model 34  bootstrap model 35  bootstrap model 36  bootstrap model 37  bootstrap model 38  bootstrap model 39  bootstrap model 40  bootstrap model 41  bootstrap model 42  bootstrap model 43  bootstrap model 44  bootstrap model 45  bootstrap model 46  bootstrap model 47  bootstrap model 48  bootstrap model 49  bootstrap model 50  bootstrap model 51  bootstrap model 52  bootstrap model 53  bootstrap model 54  bootstrap model 55\n",
       "0                1.0                1.0                1.0                1.0                0.0                0.0                1.0                0.0                1.0                 1.0                 1.0                 1.0                 0.0                 1.0                 1.0                 1.0                 1.0                 0.0                 1.0                 0.0                 1.0                 1.0                 1.0                 0.0                 1.0                 1.0                 1.0                 1.0                 1.0                 1.0                 1.0                 1.0                 1.0                 0.0                 1.0                 1.0                 1.0                 1.0                 0.0                 0.0                 1.0                 1.0                 1.0                 1.0                 1.0                 1.0                 1.0                 0.0                 1.0                 0.0                 1.0                 1.0                 1.0                 1.0                 1.0\n",
       "1                0.0                1.0                1.0                1.0                1.0                1.0                1.0                1.0                1.0                 0.0                 1.0                 1.0                 1.0                 1.0                 0.0                 1.0                 1.0                 1.0                 1.0                 1.0                 1.0                 1.0                 1.0                 1.0                 1.0                 0.0                 1.0                 0.0                 0.0                 0.0                 1.0                 0.0                 1.0                 1.0                 1.0                 1.0                 1.0                 1.0                 1.0                 1.0                 1.0                 1.0                 1.0                 1.0                 1.0                 1.0                 1.0                 0.0                 0.0                 1.0                 1.0                 1.0                 0.0                 0.0                 1.0\n",
       "2                1.0                1.0                1.0                1.0                1.0                1.0                1.0                1.0                1.0                 1.0                 1.0                 1.0                 1.0                 1.0                 1.0                 0.0                 1.0                 1.0                 1.0                 1.0                 1.0                 1.0                 0.0                 1.0                 0.0                 1.0                 1.0                 1.0                 1.0                 1.0                 0.0                 1.0                 1.0                 1.0                 1.0                 1.0                 1.0                 1.0                 1.0                 0.0                 1.0                 1.0                 1.0                 1.0                 1.0                 0.0                 0.0                 1.0                 1.0                 1.0                 1.0                 0.0                 1.0                 0.0                 1.0\n",
       "3                1.0                1.0                1.0                1.0                1.0                1.0                1.0                1.0                0.0                 0.0                 1.0                 1.0                 1.0                 1.0                 1.0                 1.0                 1.0                 1.0                 1.0                 1.0                 1.0                 1.0                 1.0                 1.0                 1.0                 1.0                 1.0                 1.0                 1.0                 1.0                 1.0                 1.0                 0.0                 1.0                 1.0                 1.0                 1.0                 0.0                 1.0                 1.0                 1.0                 0.0                 0.0                 0.0                 1.0                 1.0                 0.0                 1.0                 0.0                 1.0                 1.0                 1.0                 1.0                 1.0                 1.0\n",
       "4                0.0                0.0                0.0                0.0                0.0                0.0                0.0                1.0                1.0                 0.0                 0.0                 0.0                 0.0                 0.0                 0.0                 1.0                 1.0                 0.0                 0.0                 0.0                 0.0                 0.0                 0.0                 0.0                 0.0                 0.0                 0.0                 0.0                 0.0                 0.0                 0.0                 0.0                 1.0                 1.0                 0.0                 0.0                 0.0                 0.0                 0.0                 0.0                 1.0                 0.0                 1.0                 0.0                 0.0                 0.0                 0.0                 0.0                 0.0                 1.0                 0.0                 1.0                 1.0                 0.0                 0.0"
      ]
     },
     "execution_count": 10,
     "metadata": {},
     "output_type": "execute_result"
    }
   ],
   "source": [
    "bagging_train_df.head()"
   ]
  },
  {
   "cell_type": "code",
   "execution_count": 11,
   "metadata": {},
   "outputs": [
    {
     "data": {
      "text/html": [
       "<div>\n",
       "<style scoped>\n",
       "    .dataframe tbody tr th:only-of-type {\n",
       "        vertical-align: middle;\n",
       "    }\n",
       "\n",
       "    .dataframe tbody tr th {\n",
       "        vertical-align: top;\n",
       "    }\n",
       "\n",
       "    .dataframe thead th {\n",
       "        text-align: right;\n",
       "    }\n",
       "</style>\n",
       "<table border=\"1\" class=\"dataframe\">\n",
       "  <thead>\n",
       "    <tr style=\"text-align: right;\">\n",
       "      <th></th>\n",
       "      <th>bootstrap model 1</th>\n",
       "      <th>bootstrap model 2</th>\n",
       "      <th>bootstrap model 3</th>\n",
       "      <th>bootstrap model 4</th>\n",
       "      <th>bootstrap model 5</th>\n",
       "      <th>bootstrap model 6</th>\n",
       "      <th>bootstrap model 7</th>\n",
       "      <th>bootstrap model 8</th>\n",
       "      <th>bootstrap model 9</th>\n",
       "      <th>bootstrap model 10</th>\n",
       "      <th>bootstrap model 11</th>\n",
       "      <th>bootstrap model 12</th>\n",
       "      <th>bootstrap model 13</th>\n",
       "      <th>bootstrap model 14</th>\n",
       "      <th>bootstrap model 15</th>\n",
       "      <th>bootstrap model 16</th>\n",
       "      <th>bootstrap model 17</th>\n",
       "      <th>bootstrap model 18</th>\n",
       "      <th>bootstrap model 19</th>\n",
       "      <th>bootstrap model 20</th>\n",
       "      <th>bootstrap model 21</th>\n",
       "      <th>bootstrap model 22</th>\n",
       "      <th>bootstrap model 23</th>\n",
       "      <th>bootstrap model 24</th>\n",
       "      <th>bootstrap model 25</th>\n",
       "      <th>bootstrap model 26</th>\n",
       "      <th>bootstrap model 27</th>\n",
       "      <th>bootstrap model 28</th>\n",
       "      <th>bootstrap model 29</th>\n",
       "      <th>bootstrap model 30</th>\n",
       "      <th>bootstrap model 31</th>\n",
       "      <th>bootstrap model 32</th>\n",
       "      <th>bootstrap model 33</th>\n",
       "      <th>bootstrap model 34</th>\n",
       "      <th>bootstrap model 35</th>\n",
       "      <th>bootstrap model 36</th>\n",
       "      <th>bootstrap model 37</th>\n",
       "      <th>bootstrap model 38</th>\n",
       "      <th>bootstrap model 39</th>\n",
       "      <th>bootstrap model 40</th>\n",
       "      <th>bootstrap model 41</th>\n",
       "      <th>bootstrap model 42</th>\n",
       "      <th>bootstrap model 43</th>\n",
       "      <th>bootstrap model 44</th>\n",
       "      <th>bootstrap model 45</th>\n",
       "      <th>bootstrap model 46</th>\n",
       "      <th>bootstrap model 47</th>\n",
       "      <th>bootstrap model 48</th>\n",
       "      <th>bootstrap model 49</th>\n",
       "      <th>bootstrap model 50</th>\n",
       "      <th>bootstrap model 51</th>\n",
       "      <th>bootstrap model 52</th>\n",
       "      <th>bootstrap model 53</th>\n",
       "      <th>bootstrap model 54</th>\n",
       "      <th>bootstrap model 55</th>\n",
       "    </tr>\n",
       "  </thead>\n",
       "  <tbody>\n",
       "    <tr>\n",
       "      <th>0</th>\n",
       "      <td>1.0</td>\n",
       "      <td>0.0</td>\n",
       "      <td>1.0</td>\n",
       "      <td>1.0</td>\n",
       "      <td>0.0</td>\n",
       "      <td>0.0</td>\n",
       "      <td>1.0</td>\n",
       "      <td>0.0</td>\n",
       "      <td>0.0</td>\n",
       "      <td>0.0</td>\n",
       "      <td>1.0</td>\n",
       "      <td>1.0</td>\n",
       "      <td>1.0</td>\n",
       "      <td>0.0</td>\n",
       "      <td>0.0</td>\n",
       "      <td>0.0</td>\n",
       "      <td>1.0</td>\n",
       "      <td>0.0</td>\n",
       "      <td>0.0</td>\n",
       "      <td>0.0</td>\n",
       "      <td>0.0</td>\n",
       "      <td>0.0</td>\n",
       "      <td>1.0</td>\n",
       "      <td>0.0</td>\n",
       "      <td>1.0</td>\n",
       "      <td>0.0</td>\n",
       "      <td>1.0</td>\n",
       "      <td>1.0</td>\n",
       "      <td>0.0</td>\n",
       "      <td>1.0</td>\n",
       "      <td>1.0</td>\n",
       "      <td>1.0</td>\n",
       "      <td>0.0</td>\n",
       "      <td>1.0</td>\n",
       "      <td>1.0</td>\n",
       "      <td>1.0</td>\n",
       "      <td>1.0</td>\n",
       "      <td>1.0</td>\n",
       "      <td>1.0</td>\n",
       "      <td>1.0</td>\n",
       "      <td>1.0</td>\n",
       "      <td>0.0</td>\n",
       "      <td>1.0</td>\n",
       "      <td>1.0</td>\n",
       "      <td>0.0</td>\n",
       "      <td>0.0</td>\n",
       "      <td>1.0</td>\n",
       "      <td>1.0</td>\n",
       "      <td>1.0</td>\n",
       "      <td>0.0</td>\n",
       "      <td>0.0</td>\n",
       "      <td>0.0</td>\n",
       "      <td>0.0</td>\n",
       "      <td>1.0</td>\n",
       "      <td>1.0</td>\n",
       "    </tr>\n",
       "    <tr>\n",
       "      <th>1</th>\n",
       "      <td>0.0</td>\n",
       "      <td>1.0</td>\n",
       "      <td>1.0</td>\n",
       "      <td>0.0</td>\n",
       "      <td>0.0</td>\n",
       "      <td>1.0</td>\n",
       "      <td>1.0</td>\n",
       "      <td>1.0</td>\n",
       "      <td>0.0</td>\n",
       "      <td>0.0</td>\n",
       "      <td>1.0</td>\n",
       "      <td>1.0</td>\n",
       "      <td>1.0</td>\n",
       "      <td>1.0</td>\n",
       "      <td>1.0</td>\n",
       "      <td>0.0</td>\n",
       "      <td>0.0</td>\n",
       "      <td>1.0</td>\n",
       "      <td>1.0</td>\n",
       "      <td>1.0</td>\n",
       "      <td>1.0</td>\n",
       "      <td>0.0</td>\n",
       "      <td>1.0</td>\n",
       "      <td>0.0</td>\n",
       "      <td>0.0</td>\n",
       "      <td>0.0</td>\n",
       "      <td>1.0</td>\n",
       "      <td>0.0</td>\n",
       "      <td>1.0</td>\n",
       "      <td>1.0</td>\n",
       "      <td>0.0</td>\n",
       "      <td>1.0</td>\n",
       "      <td>0.0</td>\n",
       "      <td>0.0</td>\n",
       "      <td>0.0</td>\n",
       "      <td>1.0</td>\n",
       "      <td>0.0</td>\n",
       "      <td>1.0</td>\n",
       "      <td>1.0</td>\n",
       "      <td>0.0</td>\n",
       "      <td>0.0</td>\n",
       "      <td>0.0</td>\n",
       "      <td>0.0</td>\n",
       "      <td>0.0</td>\n",
       "      <td>1.0</td>\n",
       "      <td>1.0</td>\n",
       "      <td>1.0</td>\n",
       "      <td>1.0</td>\n",
       "      <td>0.0</td>\n",
       "      <td>1.0</td>\n",
       "      <td>0.0</td>\n",
       "      <td>0.0</td>\n",
       "      <td>0.0</td>\n",
       "      <td>0.0</td>\n",
       "      <td>0.0</td>\n",
       "    </tr>\n",
       "    <tr>\n",
       "      <th>2</th>\n",
       "      <td>1.0</td>\n",
       "      <td>0.0</td>\n",
       "      <td>1.0</td>\n",
       "      <td>1.0</td>\n",
       "      <td>1.0</td>\n",
       "      <td>0.0</td>\n",
       "      <td>1.0</td>\n",
       "      <td>0.0</td>\n",
       "      <td>1.0</td>\n",
       "      <td>0.0</td>\n",
       "      <td>0.0</td>\n",
       "      <td>1.0</td>\n",
       "      <td>0.0</td>\n",
       "      <td>1.0</td>\n",
       "      <td>0.0</td>\n",
       "      <td>0.0</td>\n",
       "      <td>0.0</td>\n",
       "      <td>0.0</td>\n",
       "      <td>0.0</td>\n",
       "      <td>1.0</td>\n",
       "      <td>0.0</td>\n",
       "      <td>1.0</td>\n",
       "      <td>1.0</td>\n",
       "      <td>1.0</td>\n",
       "      <td>0.0</td>\n",
       "      <td>1.0</td>\n",
       "      <td>1.0</td>\n",
       "      <td>0.0</td>\n",
       "      <td>0.0</td>\n",
       "      <td>0.0</td>\n",
       "      <td>0.0</td>\n",
       "      <td>1.0</td>\n",
       "      <td>0.0</td>\n",
       "      <td>0.0</td>\n",
       "      <td>0.0</td>\n",
       "      <td>1.0</td>\n",
       "      <td>1.0</td>\n",
       "      <td>0.0</td>\n",
       "      <td>1.0</td>\n",
       "      <td>1.0</td>\n",
       "      <td>1.0</td>\n",
       "      <td>0.0</td>\n",
       "      <td>0.0</td>\n",
       "      <td>1.0</td>\n",
       "      <td>0.0</td>\n",
       "      <td>0.0</td>\n",
       "      <td>0.0</td>\n",
       "      <td>1.0</td>\n",
       "      <td>1.0</td>\n",
       "      <td>0.0</td>\n",
       "      <td>1.0</td>\n",
       "      <td>1.0</td>\n",
       "      <td>0.0</td>\n",
       "      <td>1.0</td>\n",
       "      <td>0.0</td>\n",
       "    </tr>\n",
       "    <tr>\n",
       "      <th>3</th>\n",
       "      <td>1.0</td>\n",
       "      <td>1.0</td>\n",
       "      <td>1.0</td>\n",
       "      <td>0.0</td>\n",
       "      <td>1.0</td>\n",
       "      <td>1.0</td>\n",
       "      <td>0.0</td>\n",
       "      <td>1.0</td>\n",
       "      <td>1.0</td>\n",
       "      <td>1.0</td>\n",
       "      <td>1.0</td>\n",
       "      <td>0.0</td>\n",
       "      <td>1.0</td>\n",
       "      <td>0.0</td>\n",
       "      <td>0.0</td>\n",
       "      <td>1.0</td>\n",
       "      <td>1.0</td>\n",
       "      <td>0.0</td>\n",
       "      <td>1.0</td>\n",
       "      <td>1.0</td>\n",
       "      <td>1.0</td>\n",
       "      <td>1.0</td>\n",
       "      <td>1.0</td>\n",
       "      <td>0.0</td>\n",
       "      <td>1.0</td>\n",
       "      <td>0.0</td>\n",
       "      <td>0.0</td>\n",
       "      <td>1.0</td>\n",
       "      <td>1.0</td>\n",
       "      <td>0.0</td>\n",
       "      <td>1.0</td>\n",
       "      <td>1.0</td>\n",
       "      <td>1.0</td>\n",
       "      <td>1.0</td>\n",
       "      <td>0.0</td>\n",
       "      <td>0.0</td>\n",
       "      <td>1.0</td>\n",
       "      <td>1.0</td>\n",
       "      <td>1.0</td>\n",
       "      <td>0.0</td>\n",
       "      <td>1.0</td>\n",
       "      <td>1.0</td>\n",
       "      <td>0.0</td>\n",
       "      <td>1.0</td>\n",
       "      <td>1.0</td>\n",
       "      <td>0.0</td>\n",
       "      <td>1.0</td>\n",
       "      <td>1.0</td>\n",
       "      <td>1.0</td>\n",
       "      <td>1.0</td>\n",
       "      <td>1.0</td>\n",
       "      <td>1.0</td>\n",
       "      <td>1.0</td>\n",
       "      <td>0.0</td>\n",
       "      <td>1.0</td>\n",
       "    </tr>\n",
       "    <tr>\n",
       "      <th>4</th>\n",
       "      <td>0.0</td>\n",
       "      <td>0.0</td>\n",
       "      <td>0.0</td>\n",
       "      <td>0.0</td>\n",
       "      <td>0.0</td>\n",
       "      <td>0.0</td>\n",
       "      <td>1.0</td>\n",
       "      <td>0.0</td>\n",
       "      <td>0.0</td>\n",
       "      <td>0.0</td>\n",
       "      <td>0.0</td>\n",
       "      <td>0.0</td>\n",
       "      <td>1.0</td>\n",
       "      <td>0.0</td>\n",
       "      <td>0.0</td>\n",
       "      <td>0.0</td>\n",
       "      <td>0.0</td>\n",
       "      <td>1.0</td>\n",
       "      <td>0.0</td>\n",
       "      <td>1.0</td>\n",
       "      <td>0.0</td>\n",
       "      <td>1.0</td>\n",
       "      <td>0.0</td>\n",
       "      <td>0.0</td>\n",
       "      <td>0.0</td>\n",
       "      <td>1.0</td>\n",
       "      <td>1.0</td>\n",
       "      <td>1.0</td>\n",
       "      <td>0.0</td>\n",
       "      <td>1.0</td>\n",
       "      <td>1.0</td>\n",
       "      <td>1.0</td>\n",
       "      <td>0.0</td>\n",
       "      <td>1.0</td>\n",
       "      <td>0.0</td>\n",
       "      <td>0.0</td>\n",
       "      <td>1.0</td>\n",
       "      <td>1.0</td>\n",
       "      <td>0.0</td>\n",
       "      <td>1.0</td>\n",
       "      <td>0.0</td>\n",
       "      <td>0.0</td>\n",
       "      <td>1.0</td>\n",
       "      <td>0.0</td>\n",
       "      <td>0.0</td>\n",
       "      <td>1.0</td>\n",
       "      <td>0.0</td>\n",
       "      <td>0.0</td>\n",
       "      <td>1.0</td>\n",
       "      <td>1.0</td>\n",
       "      <td>1.0</td>\n",
       "      <td>0.0</td>\n",
       "      <td>1.0</td>\n",
       "      <td>1.0</td>\n",
       "      <td>0.0</td>\n",
       "    </tr>\n",
       "  </tbody>\n",
       "</table>\n",
       "</div>"
      ],
      "text/plain": [
       "   bootstrap model 1  bootstrap model 2  bootstrap model 3  bootstrap model 4  bootstrap model 5  bootstrap model 6  bootstrap model 7  bootstrap model 8  bootstrap model 9  bootstrap model 10  bootstrap model 11  bootstrap model 12  bootstrap model 13  bootstrap model 14  bootstrap model 15  bootstrap model 16  bootstrap model 17  bootstrap model 18  bootstrap model 19  bootstrap model 20  bootstrap model 21  bootstrap model 22  bootstrap model 23  bootstrap model 24  bootstrap model 25  bootstrap model 26  bootstrap model 27  bootstrap model 28  bootstrap model 29  bootstrap model 30  bootstrap model 31  bootstrap model 32  bootstrap model 33  bootstrap model 34  bootstrap model 35  bootstrap model 36  bootstrap model 37  bootstrap model 38  bootstrap model 39  bootstrap model 40  bootstrap model 41  bootstrap model 42  bootstrap model 43  bootstrap model 44  bootstrap model 45  bootstrap model 46  bootstrap model 47  bootstrap model 48  bootstrap model 49  bootstrap model 50  bootstrap model 51  bootstrap model 52  bootstrap model 53  bootstrap model 54  bootstrap model 55\n",
       "0                1.0                0.0                1.0                1.0                0.0                0.0                1.0                0.0                0.0                 0.0                 1.0                 1.0                 1.0                 0.0                 0.0                 0.0                 1.0                 0.0                 0.0                 0.0                 0.0                 0.0                 1.0                 0.0                 1.0                 0.0                 1.0                 1.0                 0.0                 1.0                 1.0                 1.0                 0.0                 1.0                 1.0                 1.0                 1.0                 1.0                 1.0                 1.0                 1.0                 0.0                 1.0                 1.0                 0.0                 0.0                 1.0                 1.0                 1.0                 0.0                 0.0                 0.0                 0.0                 1.0                 1.0\n",
       "1                0.0                1.0                1.0                0.0                0.0                1.0                1.0                1.0                0.0                 0.0                 1.0                 1.0                 1.0                 1.0                 1.0                 0.0                 0.0                 1.0                 1.0                 1.0                 1.0                 0.0                 1.0                 0.0                 0.0                 0.0                 1.0                 0.0                 1.0                 1.0                 0.0                 1.0                 0.0                 0.0                 0.0                 1.0                 0.0                 1.0                 1.0                 0.0                 0.0                 0.0                 0.0                 0.0                 1.0                 1.0                 1.0                 1.0                 0.0                 1.0                 0.0                 0.0                 0.0                 0.0                 0.0\n",
       "2                1.0                0.0                1.0                1.0                1.0                0.0                1.0                0.0                1.0                 0.0                 0.0                 1.0                 0.0                 1.0                 0.0                 0.0                 0.0                 0.0                 0.0                 1.0                 0.0                 1.0                 1.0                 1.0                 0.0                 1.0                 1.0                 0.0                 0.0                 0.0                 0.0                 1.0                 0.0                 0.0                 0.0                 1.0                 1.0                 0.0                 1.0                 1.0                 1.0                 0.0                 0.0                 1.0                 0.0                 0.0                 0.0                 1.0                 1.0                 0.0                 1.0                 1.0                 0.0                 1.0                 0.0\n",
       "3                1.0                1.0                1.0                0.0                1.0                1.0                0.0                1.0                1.0                 1.0                 1.0                 0.0                 1.0                 0.0                 0.0                 1.0                 1.0                 0.0                 1.0                 1.0                 1.0                 1.0                 1.0                 0.0                 1.0                 0.0                 0.0                 1.0                 1.0                 0.0                 1.0                 1.0                 1.0                 1.0                 0.0                 0.0                 1.0                 1.0                 1.0                 0.0                 1.0                 1.0                 0.0                 1.0                 1.0                 0.0                 1.0                 1.0                 1.0                 1.0                 1.0                 1.0                 1.0                 0.0                 1.0\n",
       "4                0.0                0.0                0.0                0.0                0.0                0.0                1.0                0.0                0.0                 0.0                 0.0                 0.0                 1.0                 0.0                 0.0                 0.0                 0.0                 1.0                 0.0                 1.0                 0.0                 1.0                 0.0                 0.0                 0.0                 1.0                 1.0                 1.0                 0.0                 1.0                 1.0                 1.0                 0.0                 1.0                 0.0                 0.0                 1.0                 1.0                 0.0                 1.0                 0.0                 0.0                 1.0                 0.0                 0.0                 1.0                 0.0                 0.0                 1.0                 1.0                 1.0                 0.0                 1.0                 1.0                 0.0"
      ]
     },
     "execution_count": 11,
     "metadata": {},
     "output_type": "execute_result"
    }
   ],
   "source": [
    "bagging_test_df.head()"
   ]
  },
  {
   "cell_type": "markdown",
   "metadata": {
    "autograde": "2.3",
    "button": false,
    "new_sheet": false,
    "run_control": {
     "read_only": false
    }
   },
   "source": [
    "<div class='exercise-r'>\n",
    "\n",
    "**2.3**  Aggregate all 55 bootstrapped models to get a combined prediction for each training and test observation (i.e. predict a `1` if, and only if, a majority of the models predict that observation to be from class 1). Assign the bagging train and test accuracies to variables named `bagging_accuracy_train` and `bagging_accuracy_test`. What accuracy does this \"bagging\" model achieve on the training and test sets? Using Python's `assert` keyword, write an assertion that verifies that this test set accuracy is at least as good as the accuracy for the model you fit in [Question 1](#part1solutions).\n",
    "\n",
    "**HINT:** You can use `np.mean(...)` to easily test for majority. If a majority of models vote 1, consider what that implies about the mean.\n",
    "\n",
    "</div>"
   ]
  },
  {
   "cell_type": "code",
   "execution_count": 12,
   "metadata": {
    "button": false,
    "collapsed": false,
    "jupyter": {
     "outputs_hidden": false
    },
    "new_sheet": false,
    "run_control": {
     "read_only": false
    }
   },
   "outputs": [
    {
     "name": "stdout",
     "output_type": "stream",
     "text": [
      "Bagging: \tAccuracy, Training Set \t: 0.9994\n",
      "Bagging: \tAccuracy, Testing Set \t: 0.6884\n"
     ]
    }
   ],
   "source": [
    "# your code here\n",
    "def get_prediction(df):\n",
    "    return np.mean(df, axis=1)>0.5\n",
    "\n",
    "#Check Accuracy of Spam Detection in Train and Test Set\n",
    "bagging_accuracy_train = accuracy_score(y_train, get_prediction(bagging_train_df))\n",
    "bagging_accuracy_test  = accuracy_score(y_test, get_prediction(bagging_test_df))\n",
    "\n",
    "print(\"Bagging: \\tAccuracy, Training Set \\t: {:0.4f}\".format(bagging_accuracy_train))\n",
    "print(\"Bagging: \\tAccuracy, Testing Set \\t: {:0.4f}\".format(bagging_accuracy_test))\n",
    "\n",
    "assert bagging_accuracy_test >= max(best_cv_tree_test_score)"
   ]
  },
  {
   "cell_type": "markdown",
   "metadata": {
    "autograde": "2.4",
    "button": false,
    "new_sheet": false,
    "run_control": {
     "read_only": false
    }
   },
   "source": [
    "<div class='exercise-r'>\n",
    "\n",
    "**2.4** We want to know how the number of bootstraps affects our bagging ensemble's performance. Use the `running_predictions(...)` function provided below to get the model's accuracy score when using only $j$ of the bootstrapped models, where $j \\in [1, 2, 3, ..., 55]$. Using the `tree_depth` chosen in Question 2.1, make a plot that illustrates the accuracy on the training set and test set at each number of bootstraps (varying $j$ from 1 to 55). Please see the `running_predictions` signature and docstring regarding the use of the function. You should be able to use your `bagger`-generated dataframes from Q2.2 as an input to this function.\n",
    "\n",
    "On your plot, in addition to the training and test accuracies at each value $j$, also include horizontal lines for two baseline comparisons:\n",
    "\n",
    "1. The test accuracy of the best model from [Question 1](#part1solutions);\n",
    "2. The test accuracy of a single decision tree with the overfit `tree_depth` you chose in Question 2.1, trained on the full training set.\n",
    "\n",
    "</div>"
   ]
  },
  {
   "cell_type": "code",
   "execution_count": 13,
   "metadata": {
    "editable": false
   },
   "outputs": [],
   "source": [
    "# RUN THIS CELL\n",
    "# DO NOT MODIFY THIS CODE\n",
    "\n",
    "def running_predictions(\n",
    "    bagger_results_df: pd.DataFrame,\n",
    "    targets: np.ndarray,\n",
    ") -> pd.Series:\n",
    "    \"\"\"Generates running accuracy of intermediate bootstraps when bagging \n",
    "    \n",
    "    Generates a series of accuracy scores calculated using the\n",
    "    running predictions of each additional bootstrapped model\n",
    "    generated using the Question 2.2 `bagger` function. For example,\n",
    "    the first accuracy in the series represents the predictive\n",
    "    accuracy of just the first bootstrapped model. The second accuracy\n",
    "    reflects the bagged accuracy of the first 2 bootstrapped models. The\n",
    "    j-th accuracy reflects the bagged accuracy of the first j\n",
    "    bootstrapped models.\n",
    "    \n",
    "    :param bagger_results_df: pd.DataFrame, a bagging results dataframe\n",
    "                              (either train or test) output from the Q2.2\n",
    "                              `bagger` function\n",
    "    :param targets: np.ndarray, 1-dimensional array of true class labels\n",
    "                    for either train or test observations (i.e y_train or\n",
    "                    y_test, whichever corresponds to the inputted\n",
    "                    bagger_results_df)             \n",
    "    :returns: pd.Series, a series of values showing the accuracy of\n",
    "              using the initial j trees to predict the targets for each\n",
    "              value of j bootstrapped models\n",
    "    \"\"\"\n",
    "    # verify that input data objects meet the requirements specified\n",
    "    # in the docstring\n",
    "    assert type(bagger_results_df)==pd.core.frame.DataFrame, (\n",
    "        \"baggin_results_df input must be a pd.DataFrame\"\n",
    "    )\n",
    "    assert type(targets)==np.ndarray, (\n",
    "        \"targets input must be an np.ndarray\"\n",
    "    )\n",
    "    assert targets.ndim==1, (\n",
    "        \"targets input np.ndarray must be one-dimensional\"\n",
    "    )\n",
    "    \n",
    "    # identify the number of bootstrapped trees in inputted bagger df\n",
    "    n_trees = bagger_results_df.shape[1]\n",
    "    \n",
    "    # calculate the running percentage of models voting 1 as each\n",
    "    # additional model is considered\n",
    "    running_percent_1s = (\n",
    "        np.cumsum(bagger_results_df, axis=1)/np.arange(1,n_trees+1)\n",
    "    )\n",
    "    \n",
    "    # predict 1 when the running average is above 0.5\n",
    "    running_conclusions = running_percent_1s > 0.5\n",
    "    \n",
    "    # check whether the running predictions match the targets\n",
    "    running_correctnesss = running_conclusions == targets.reshape(-1,1)\n",
    "    \n",
    "    # calculate and return final accuracies\n",
    "    return np.mean(running_correctnesss, axis=0)\n"
   ]
  },
  {
   "cell_type": "code",
   "execution_count": 24,
   "metadata": {
    "button": false,
    "collapsed": false,
    "jupyter": {
     "outputs_hidden": false
    },
    "new_sheet": false,
    "run_control": {
     "read_only": false
    }
   },
   "outputs": [
    {
     "data": {
      "image/png": "[encoded data removed]",
      "text/plain": [
       "<Figure size 1008x432 with 1 Axes>"
      ]
     },
     "metadata": {
      "needs_background": "light"
     },
     "output_type": "display_data"
    }
   ],
   "source": [
    "# your code here\n",
    "# The test accuracy of a single decision tree with the overfit \n",
    "# tree_depth you chose in Question 2.1, trained on the full training set.\n",
    "model = DecisionTreeClassifier(max_depth=tree_depth)\n",
    "model.fit(X_train, y_train)  \n",
    "single_tree_score = model.score(X_test, y_test)\n",
    "    \n",
    "# Plotting\n",
    "train_pred = running_predictions(bagging_train_df, y_train)\n",
    "test_pred = running_predictions(bagging_test_df, y_test)\n",
    "\n",
    "f, axes = plt.subplots(1,1, figsize=(14,6))\n",
    "\n",
    "xvals = range(1,56)\n",
    "\n",
    "axes.plot(xvals, train_pred, 'r-', marker='x', label=\"Training Set with Bagging Model\")\n",
    "axes.plot(xvals, test_pred, 'b-', marker='o', label=\"Test Set with Bagging Model\")\n",
    "axes.axhline(y=max(best_cv_tree_test_score), color='g', linestyle='-', label=\"Test Accuracy from Q1\")\n",
    "axes.axhline(y=single_tree_score, color='orange', linestyle='-', label=\"Test Accuracy for Single Decision Tree from Q2.1\")\n",
    "axes.legend()\n",
    "axes.set_title('Training and Test Accuracies At Each Bootstrap')\n",
    "axes.set_ylabel(\"Model Accuracy Score\")\n",
    "axes.set_xlabel(\"j of the Bootstrap Model\")\n",
    "axes.set_xticks(xvals)\n",
    "axes.grid(ls=\":\")\n"
   ]
  },
  {
   "cell_type": "markdown",
   "metadata": {
    "autograde": "2.5",
    "button": false,
    "new_sheet": false,
    "run_control": {
     "read_only": false
    }
   },
   "source": [
    "<div class='exercise-r'>\n",
    "\n",
    "**2.5** Referring to your graph from 2.4, compare the performance of bagging against the baseline of a single `tree_depth` tree. Explain the differences you see.\n",
    "\n",
    "</div>"
   ]
  },
  {
   "cell_type": "markdown",
   "metadata": {
    "button": false,
    "new_sheet": false,
    "run_control": {
     "read_only": false
    }
   },
   "source": [
    "**For most values of j, the performance of bagging is better than that of single tree_depth tree. This is because bagging helps us to reduce variance by creating an ensemble of of different models. The average of all the predictions from these trees are used to create a more robust solution than just a single tree. By reducing variance, bagging avoids overfitting to the train data and therefore performs better on the test data than the single tree.**"
   ]
  },
  {
   "cell_type": "markdown",
   "metadata": {
    "autograde": "2.6",
    "button": false,
    "new_sheet": false,
    "run_control": {
     "read_only": false
    }
   },
   "source": [
    "<div class='exercise-r'>\n",
    "\n",
    "**2.6** Bagging and limiting tree depth both affect how much the model overfits. Compare and contrast these two approaches. Your answer should refer to your graph in 2.4 and may duplicate something you said in your answer to 2.5.\n",
    "\n",
    "</div>"
   ]
  },
  {
   "cell_type": "markdown",
   "metadata": {
    "button": false,
    "new_sheet": false,
    "run_control": {
     "read_only": false
    }
   },
   "source": [
    "**Comparing the results from Q1 (which involved limiting the tree depth by analyzing the scores at each depth) to bagging, we see that we achieve similar performance with our test accuracy. Limiting the depth of a tree ensures that we are not overfitting to our training data because it avoids having highly specified leaves. Bagging, as discussed in the previous question, avoids overfitting by creating an ensemble of models. As we see, by limiting overfitting we achieve higher accuracy scores.**"
   ]
  },
  {
   "cell_type": "markdown",
   "metadata": {
    "autograde": "2.7",
    "button": false,
    "new_sheet": false,
    "run_control": {
     "read_only": false
    }
   },
   "source": [
    "<div class='exercise-r'>\n",
    "\n",
    "**2.7** In what ways might our bagging classifier be overfitting the data? In what ways might it be underfitting?\n",
    "\n",
    "</div>"
   ]
  },
  {
   "cell_type": "markdown",
   "metadata": {
    "button": false,
    "new_sheet": false,
    "run_control": {
     "read_only": false
    }
   },
   "source": [
    "**Our bagging model assumes that tree_depth is the best depth, but we might be able to better tune this parameter along with our ensemble of models- by limiting the depth even further we could potentially avoid overfitting. On the flip side, bagging does not help when underfitting is already occuring, so if we have limited our depth too much then our bagging model will continue to underfit.**"
   ]
  },
  {
   "cell_type": "markdown",
   "metadata": {
    "button": false,
    "new_sheet": false,
    "run_control": {
     "read_only": false
    }
   },
   "source": [
    "<a id=\"part3\"></a>\n",
    "\n",
    "## <div class='exercise'>Question 3: Random Forests [14 pts]</div> \n",
    "\n",
    "[Return to contents](#contents)\n",
    "\n",
    "Random forests are closely related to the bagging model we built by hand in Question 2. In this question, we will compare our bagging results with the results of using scikit-learn's `RandomForestClassifier`.\n",
    "\n",
    "**3.1**  Fit a `RandomForestClassifier` to the original `X_train` data using the same tree depth and number of trees you used in Question 2.2, and set the maximum number of features to use when looking for the best split to be the square root of the total number of features. Evaluate and report this classifier's accuracy on the training and test sets. Then, assign those accuracies to the variables `random_forest_train_score` and `random_forest_test_score`.\n",
    "\n",
    "**3.2** Among all of the decision trees you fit in the bagging process (i.e. each of the fitted model objects stored in `bagging_models_list`), how many times is each feature used as the top/first node? How about for each tree in the random forest you just fit? Assign the answers to these questions to two pandas Series called `top_predictors_bagging` and `top_predictors_rf`, and display them.\n",
    "\n",
    "What about the process of training the Random Forest causes this difference? What implication does this observation have on the accuracy of bagging vs. random forest?\n",
    "\n",
    "**HINT:** A decision tree's top feature is stored as `.tree_.feature[0]`. A random forest object stores its decision trees in its `.estimators_` attribute.\n",
    "\n",
    "**3.3**: Make a Pandas table (following the expected structure shown below) of the training and test accuracy for the following models and name it `results_df`:\n",
    "\n",
    "1. Single tree with the best depth chosen by cross-validation (from Question 1)\n",
    "2. A single overfit tree trained on all data (from Question 2, using the depth you chose there)\n",
    "3. Bagging 55 such trees (from Question 2)\n",
    "4. A random forest of 55 such trees (from Question 3.1)\n",
    "\n",
    "Display your `results_df` dataframe and answer: What is the relative performance of each model on the training set? On the test set? Comment on how these relationships make sense (or don't make sense) in light of how each model treats the bias-variance tradeoff.\n",
    "\n",
    "**NOTE:** This problem should not require fitting any new models, though you may need to go back and store the accuracies from models you fit previously.\n",
    "\n",
    "The expected structure for `results_df` is:  \n",
    "\n",
    "| classifier | training accuracy | test accuracy |\n",
    "| --- |  --- | --- |\n",
    "| single depth-$i$ tree chosen by CV | ... | ... |\n",
    "| single overfit depth-$k$ tree | ... | ... |\n",
    "| bagging 55 depth-$k$ trees | ... | ... |\n",
    "| random forest of 55 depth-$k$ trees | ... | ... |\n"
   ]
  },
  {
   "cell_type": "markdown",
   "metadata": {
    "button": false,
    "new_sheet": false,
    "run_control": {
     "read_only": false
    }
   },
   "source": [
    "<a id=\"part3solutions\"></a>\n",
    "\n",
    "## Question 3: Solutions\n",
    "\n",
    "[Return to contents](#contents)"
   ]
  },
  {
   "cell_type": "markdown",
   "metadata": {
    "autograde": "3.1",
    "button": false,
    "new_sheet": false,
    "run_control": {
     "read_only": false
    }
   },
   "source": [
    "<div class='exercise-r'>\n",
    "\n",
    "**3.1**  Fit a `RandomForestClassifier` to the original `X_train` data using the same tree depth and number of trees you used in Question 2.2, and set the maximum number of features to use when looking for the best split to be the square root of the total number of features. Evaluate and report this classifier's accuracy on the training and test sets. Then, assign those accuracies to the variables `random_forest_train_score` and `random_forest_test_score`.\n",
    "\n",
    "</div>"
   ]
  },
  {
   "cell_type": "code",
   "execution_count": 15,
   "metadata": {
    "button": false,
    "collapsed": false,
    "jupyter": {
     "outputs_hidden": false
    },
    "new_sheet": false,
    "run_control": {
     "read_only": false
    }
   },
   "outputs": [],
   "source": [
    "# your code here\n"
   ]
  },
  {
   "cell_type": "markdown",
   "metadata": {
    "autograde": "3.2",
    "button": false,
    "new_sheet": false,
    "run_control": {
     "read_only": false
    }
   },
   "source": [
    "<div class='exercise-r'>\n",
    "\n",
    "**3.2** Among all of the decision trees you fit in the bagging process (i.e. each of the fitted model objects stored in `bagging_models_list`), how many times is each feature used as the top/first node? How about for each tree in the random forest you just fit? Assign the answers to these questions to two pandas Series called `top_predictors_bagging` and `top_predictors_rf`, and display them.\n",
    "\n",
    "What about the process of training the Random Forest causes this difference? What implication does this observation have on the accuracy of bagging vs. random forest?\n",
    "\n",
    "**HINT:** A decision tree's top feature is stored as `.tree_.feature[0]`. A random forest object stores its decision trees in its `.estimators_` attribute.\n",
    "\n",
    "</div>"
   ]
  },
  {
   "cell_type": "code",
   "execution_count": 16,
   "metadata": {
    "button": false,
    "collapsed": false,
    "jupyter": {
     "outputs_hidden": false
    },
    "new_sheet": false,
    "run_control": {
     "read_only": false
    }
   },
   "outputs": [],
   "source": [
    "# your code here\n"
   ]
  },
  {
   "cell_type": "markdown",
   "metadata": {
    "button": false,
    "new_sheet": false,
    "run_control": {
     "read_only": false
    }
   },
   "source": [
    "**your answer here**"
   ]
  },
  {
   "cell_type": "markdown",
   "metadata": {
    "autograde": "3.3",
    "button": false,
    "new_sheet": false,
    "run_control": {
     "read_only": false
    }
   },
   "source": [
    "<div class='exercise-r'>\n",
    "\n",
    "**3.3**: Make a Pandas table (following the expected structure shown below) of the training and test accuracy for the following models and name it `results_df`:\n",
    "\n",
    "1. Single tree with the best depth chosen by cross-validation (from Question 1)\n",
    "2. A single overfit tree trained on all data (from Question 2, using the depth you chose there)\n",
    "3. Bagging 55 such trees (from Question 2)\n",
    "4. A random forest of 55 such trees (from Question 3.1)\n",
    "\n",
    "Display your `results_df` dataframe and answer: What is the relative performance of each model on the training set? On the test set? Comment on how these relationships make sense (or don't make sense) in light of how each model treats the bias-variance tradeoff.\n",
    "\n",
    "**NOTE:** This problem should not require fitting any new models, though you may need to go back and store the accuracies from models you fit previously.\n",
    "\n",
    "The expected structure for `results_df` is:  \n",
    "\n",
    "| classifier | training accuracy | test accuracy |\n",
    "| --- |  --- | --- |\n",
    "| single depth-$i$ tree chosen by CV | ... | ... |\n",
    "| single overfit depth-$k$ tree | ... | ... |\n",
    "| bagging 55 depth-$k$ trees | ... | ... |\n",
    "| random forest of 55 depth-$k$ trees | ... | ... |\n",
    "\n",
    "</div>"
   ]
  },
  {
   "cell_type": "code",
   "execution_count": 17,
   "metadata": {
    "button": false,
    "collapsed": false,
    "jupyter": {
     "outputs_hidden": false
    },
    "new_sheet": false,
    "run_control": {
     "read_only": false
    }
   },
   "outputs": [],
   "source": [
    "# your code here\n"
   ]
  },
  {
   "cell_type": "markdown",
   "metadata": {
    "button": false,
    "new_sheet": false,
    "run_control": {
     "read_only": false
    }
   },
   "source": [
    "**your answer here**"
   ]
  },
  {
   "cell_type": "markdown",
   "metadata": {
    "button": false,
    "new_sheet": false,
    "run_control": {
     "read_only": false
    }
   },
   "source": [
    "<a id=\"part4\"></a>\n",
    "\n",
    "## <div class='exercise'>Question 4: Boosting [30 pts]</div> \n",
    "\n",
    "[Return to contents](#contents)\n",
    "\n",
    "In this question, we explore a different kind of ensemble method, boosting. Each new model is trained on a dataset weighted towards observations that the current model predicts incorrectly. \n",
    "\n",
    "We will focus on the AdaBoost flavor of boosting and examine the ensemble model's accuracy as the algorithm adds more estimators (iterations) to the ensemble.\n",
    "\n",
    "**4.1** We will motivate AdaBoost by noticing patterns in the errors that a single classifier makes:\n",
    "\n",
    "- Fit `tree1`, a decision tree of depth-3, to the training data. \n",
    "\n",
    "- Report the train and test accuracies. \n",
    "\n",
    "- For each predictor, make a plot that compares two distributions: the values of that predictor for observations that `tree1` classifies correctly, and the values of that predictor for observations that `tree1` classifies incorrectly. \n",
    "\n",
    "- Do you notice any predictors for which the distributions are clearly different?\n",
    "    \n",
    "**HINTS:**\n",
    "- The use of subplots using `plt.subplots(...)` will make this plotting exercise easier to code and will help you to present these visuals in a cleaner, easier to view manner.\n",
    "- You may find [`sns.kdeplot(...)`](https://seaborn.pydata.org/generated/seaborn.kdeplot.html) useful for this exercise. If you do use it, please note from the Seaborn documentation that `sns.kdeplot` takes `ax` as a parameter.\n",
    "\n",
    "**4.2** The following code (see code cell below) \"attempts\" to implement a simplified version of boosting using just two classifiers. However, this implementation has both fuctionality AND stylistic flaws. Imagine that you are a grader for a college course in Data Science. Write a set of grading comments (in the provided Markdown cell) for the student who submitted this code. Point out the flaws in their provided code submission.\n",
    "\n",
    "The intended functionality (i.e. expected requirements) of this \"attempted\" code is to accomplish the following:\n",
    "\n",
    "1. Fit an initial tree with a maximum depth of 3.\n",
    "2. Construct an array of sample weights that give a weight of 1 to samples that the initial tree classified correctly, and a weight of 2 to samples that the initial tree misclassified.\n",
    "3. Fit a second depth-3 decision tree using those sample weights.\n",
    "4. Predict by computing the probabilities that the initial tree and the second tree each assign to the positive class, then take the average of those two probabilities as the prediction probability.\n",
    "5. Report the training and test accuracies of just the initial tree, as well the training and test accuracies of the full 2-tree boosting ensemble.\n",
    "\n",
    "**NOTE:** Please do not modify anything in the code cell itself.\n",
    "\n",
    "**4.3** Now, imagine that you are the Teaching Fellow responsible for writing the \"solutions\" code for the simplified version of boosting using just two classifiers that had been \"attempted\" in Question 4.2:\n",
    "\n",
    "- Write an excellent example implementation from scratch (i.e. using just scikit-learn's `DecisionTreeClassifier` and NumPy to perform your boosting). Your implementation should be written either [functionally](https://docs.python.org/3/tutorial/controlflow.html#defining-functions) or as a [class](https://docs.python.org/3/tutorial/classes.html), such that you can then call the function(s) or class methods to generate your predictions and/or accuracy scores.\n",
    "\n",
    "- Report on the performance of your boosting algorithm by printing the training and test accuracies of just the initial tree, as well the training and test accuracies of the full 2-tree boosting ensemble.\n",
    "\n",
    "**4.4** Now, let us use the scikit-learn implementation of AdaBoost: Use `AdaBoostClassifier` to fit another ensemble to `X_train`. Use a decision tree of depth-3 as the base learner, a learning rate 0.05, the default algorithm `SAMME.R`, and run the boosting for 800 iterations. Make a plot of the effect of the number of iterations on the model's train and test accuracy.\n",
    "\n",
    "**HINT:** The `.staged_score(...)` method provides the accuracy numbers you'll need for plotting. You'll need to use `list(...)` to convert the \"generator\" that `staged_score` returns into an ordinary list.\n",
    "\n",
    "**4.5** Repeat the plot above for a base learner with depths of 1, 2, 3, and 4. Therefore, you should end up with 4 separate plots or subplots. What trends do you see in the training and test accuracy?\n",
    "\n",
    "**NOTE:** It is okay if your code re-fits the depth-3 classifier instead of reusing the results from the previous problem.\n",
    "\n",
    "**4.6** Answer the following interpretive questions. The use of code is optional here, but should be used if you find it is needed to answer any of these questions. \n",
    "\n",
    "\n",
    "- **4.6.1** Based on the plots from Question 4.5, what combination of base learner depth and the number of iterations seems optimal and why? \n",
    "\n",
    "\n",
    "- **4.6.2** Why should we be hesitant to select our learner depth and number of iterations hyperparameters based on our inspection of these train and test results? What are the risks of doing so? \n",
    "\n",
    "\n",
    "- **4.6.3** Setting those risks aside, if you do select the base learner depth and number of iterations based on those plots, how does the performance of that model compare with the performance of the ensemble methods you considered in Question 2 and Question 3?\n"
   ]
  },
  {
   "cell_type": "markdown",
   "metadata": {
    "button": false,
    "new_sheet": false,
    "run_control": {
     "read_only": false
    }
   },
   "source": [
    "<a id=\"part4solutions\"></a>\n",
    "\n",
    "## Question 4: Solutions\n",
    "\n",
    "[Return to contents](#contents)"
   ]
  },
  {
   "cell_type": "markdown",
   "metadata": {
    "autograde": "4.1",
    "button": false,
    "new_sheet": false,
    "run_control": {
     "read_only": false
    }
   },
   "source": [
    "<div class='exercise-r'>\n",
    "\n",
    "**4.1** We will motivate AdaBoost by noticing patterns in the errors that a single classifier makes:\n",
    "\n",
    "- Fit `tree1`, a decision tree of depth-3, to the training data. \n",
    "\n",
    "- Report the train and test accuracies. \n",
    "\n",
    "- For each predictor, make a plot that compares two distributions: the values of that predictor for observations that `tree1` classifies correctly, and the values of that predictor for observations that `tree1` classifies incorrectly. \n",
    "\n",
    "- Do you notice any predictors for which the distributions are clearly different?\n",
    "    \n",
    "**HINTS:**\n",
    "- The use of subplots using `plt.subplots(...)` will make this plotting exercise easier to code and will help you to present these visuals in a cleaner, easier to view manner.\n",
    "- You may find [`sns.kdeplot(...)`](https://seaborn.pydata.org/generated/seaborn.kdeplot.html) useful for this exercise. If you do use it, please note from the Seaborn documentation that `sns.kdeplot` takes `ax` as a parameter.\n",
    "\n",
    "</div>"
   ]
  },
  {
   "cell_type": "code",
   "execution_count": 18,
   "metadata": {
    "button": false,
    "new_sheet": false,
    "run_control": {
     "read_only": false
    }
   },
   "outputs": [],
   "source": [
    "# your code here\n"
   ]
  },
  {
   "cell_type": "markdown",
   "metadata": {
    "button": false,
    "new_sheet": false,
    "run_control": {
     "read_only": false
    }
   },
   "source": [
    "**your answer here**"
   ]
  },
  {
   "cell_type": "markdown",
   "metadata": {
    "autograde": "4.2",
    "button": false,
    "new_sheet": false,
    "run_control": {
     "read_only": false
    }
   },
   "source": [
    "<div class='exercise-r'>\n",
    "\n",
    "**4.2** The following code (see code cell below) \"attempts\" to implement a simplified version of boosting using just two classifiers. However, this implementation has both fuctionality AND stylistic flaws. Imagine that you are a grader for a college course in Data Science. Write a set of grading comments (in the provided Markdown cell) for the student who submitted this code. Point out the flaws in their provided code submission.\n",
    "\n",
    "The intended functionality (i.e. expected requirements) of this \"attempted\" code is to accomplish the following:\n",
    "\n",
    "1. Fit an initial tree with a maximum depth of 3.\n",
    "2. Construct an array of sample weights that give a weight of 1 to samples that the initial tree classified correctly, and a weight of 2 to samples that the initial tree misclassified.\n",
    "3. Fit a second depth-3 decision tree using those sample weights.\n",
    "4. Predict by computing the probabilities that the initial tree and the second tree each assign to the positive class, then take the average of those two probabilities as the prediction probability.\n",
    "5. Report the training and test accuracies of just the initial tree, as well the training and test accuracies of the full 2-tree boosting ensemble.\n",
    "\n",
    "**NOTE:** Please do not modify anything in the code cell itself.\n",
    "\n",
    "</div>"
   ]
  },
  {
   "cell_type": "code",
   "execution_count": 19,
   "metadata": {
    "editable": false
   },
   "outputs": [
    {
     "name": "stdout",
     "output_type": "stream",
     "text": [
      "tree1 accuracy: 0.3582\n",
      "Boosted accuracy: 0.0008\n",
      "Boosted accuracy: 0.002\n"
     ]
    }
   ],
   "source": [
    "# RUN THIS CELL\n",
    "# \"Attempted\" boosting implementation\n",
    "\n",
    "def boostmeup(X, y):\n",
    "    tree = DecisionTreeClassifier(max_depth=3)\n",
    "    tree1 = tree.fit(X, y)\n",
    "    sample_weight = np.ones(len(X_train))\n",
    "    q = 0\n",
    "    for idx in range(len(X_train)):\n",
    "          if tree1.predict([X_train[idx]]) != y_train[idx]:\n",
    "             sample_weight[idx] = sample_weight[idx] * 2\n",
    "             q = q + 1\n",
    "    print(\"tree1 accuracy:\", q / len(X_train))\n",
    "    tree2 = tree.fit(X_train, y_train, sample_weight=sample_weight)\n",
    "    \n",
    "# Train\n",
    "    q = 0\n",
    "    for idx in range(len(X_train)):\n",
    "        t1p = tree1.predict_proba([X_train[idx]])[0][1]\n",
    "        t2p = tree2.predict_proba([X_train[idx]])[0][1]\n",
    "        m = (t1p + t2p) / 2\n",
    "        if m > .5:\n",
    "            if y_train[idx] == True:\n",
    "                q = q + 0\n",
    "            else:\n",
    "                q = q + 1\n",
    "        else:\n",
    "            if y_train[idx] == True:\n",
    "                q = q + 1\n",
    "            else:\n",
    "                q = 0\n",
    "    print(\"Boosted accuracy:\", q / len(X_train))\n",
    "\n",
    "# Test\n",
    "    q = 0\n",
    "    for idx in range(len(X_test)):\n",
    "        t1p = tree1.predict_proba([X_test[idx]])[0][1]\n",
    "        t2p = tree2.predict_proba([X_test[idx]])[0][1]\n",
    "        m = (t1p + t2p) / 2\n",
    "        if m > .5:\n",
    "            if y_train[idx] == True:\n",
    "                q = q + 0\n",
    "            else:\n",
    "                q = q + 1\n",
    "        else:\n",
    "            if y_train[idx] == True:\n",
    "                q = q + 1\n",
    "            else:\n",
    "                q = 0\n",
    "    print(\"Boosted accuracy:\", q / len(X_test))\n",
    "\n",
    "boostmeup(X_train, y_train)"
   ]
  },
  {
   "cell_type": "markdown",
   "metadata": {
    "button": false,
    "new_sheet": false,
    "run_control": {
     "read_only": false
    }
   },
   "source": [
    "**your answer here**"
   ]
  },
  {
   "cell_type": "markdown",
   "metadata": {},
   "source": [
    "<div class='exercise-r'>\n",
    "\n",
    "**4.3** Now, imagine that you are the Teaching Fellow responsible for writing the \"solutions\" code for the simplified version of boosting using just two classifiers that had been \"attempted\" in Question 4.2:\n",
    "\n",
    "- Write an excellent example implementation from scratch (i.e. using just scikit-learn's `DecisionTreeClassifier` and NumPy to perform your boosting). Your implementation should be written either [functionally](https://docs.python.org/3/tutorial/controlflow.html#defining-functions) or as a [class](https://docs.python.org/3/tutorial/classes.html), such that you can then call the function(s) or class methods to generate your predictions and/or accuracy scores.\n",
    "\n",
    "- Report on the performance of your boosting algorithm by printing the training and test accuracies of just the initial tree, as well the training and test accuracies of the full 2-tree boosting ensemble.\n",
    "\n",
    "</div>"
   ]
  },
  {
   "cell_type": "code",
   "execution_count": 20,
   "metadata": {
    "button": false,
    "collapsed": false,
    "jupyter": {
     "outputs_hidden": false
    },
    "new_sheet": false,
    "run_control": {
     "read_only": false
    }
   },
   "outputs": [],
   "source": [
    "# your code here\n"
   ]
  },
  {
   "cell_type": "markdown",
   "metadata": {
    "autograde": "4.3",
    "button": false,
    "new_sheet": false,
    "run_control": {
     "read_only": false
    }
   },
   "source": [
    "<div class='exercise-r'>\n",
    "\n",
    "**4.4** Now, let us use the scikit-learn implementation of AdaBoost: Use `AdaBoostClassifier` to fit another ensemble to `X_train`. Use a decision tree of depth-3 as the base learner, a learning rate 0.05, the default algorithm `SAMME.R`, and run the boosting for 800 iterations. Make a plot of the effect of the number of iterations on the model's train and test accuracy.\n",
    "\n",
    "**HINT:** The `.staged_score(...)` method provides the accuracy numbers you'll need for plotting. You'll need to use `list(...)` to convert the \"generator\" that `staged_score` returns into an ordinary list.\n",
    "\n",
    "</div>"
   ]
  },
  {
   "cell_type": "code",
   "execution_count": 21,
   "metadata": {
    "button": false,
    "collapsed": false,
    "jupyter": {
     "outputs_hidden": false
    },
    "new_sheet": false,
    "run_control": {
     "read_only": false
    }
   },
   "outputs": [],
   "source": [
    "# your code here\n"
   ]
  },
  {
   "cell_type": "markdown",
   "metadata": {
    "autograde": "4.4",
    "button": false,
    "new_sheet": false,
    "run_control": {
     "read_only": false
    }
   },
   "source": [
    "<div class='exercise-r'>\n",
    "\n",
    "**4.5** Repeat the plot above for a base learner with depths of 1, 2, 3, and 4. Therefore, you should end up with 4 separate plots or subplots. What trends do you see in the training and test accuracy?\n",
    "\n",
    "**NOTE:** It is okay if your code re-fits the depth-3 classifier instead of reusing the results from the previous problem.\n",
    "\n",
    "</div>"
   ]
  },
  {
   "cell_type": "code",
   "execution_count": 22,
   "metadata": {
    "button": false,
    "new_sheet": false,
    "run_control": {
     "read_only": false
    }
   },
   "outputs": [],
   "source": [
    "# your code here\n"
   ]
  },
  {
   "cell_type": "markdown",
   "metadata": {
    "button": false,
    "new_sheet": false,
    "run_control": {
     "read_only": false
    }
   },
   "source": [
    "**your answer here**"
   ]
  },
  {
   "cell_type": "markdown",
   "metadata": {
    "autograde": "4.5",
    "button": false,
    "new_sheet": false,
    "run_control": {
     "read_only": false
    }
   },
   "source": [
    "<div class='exercise-r'>\n",
    "\n",
    "**4.6** Answer the following interpretive questions. The use of code is optional here, but should be used if you find it is needed to answer any of these questions. \n",
    "\n",
    "</div>"
   ]
  },
  {
   "cell_type": "code",
   "execution_count": 23,
   "metadata": {
    "button": false,
    "collapsed": false,
    "jupyter": {
     "outputs_hidden": false
    },
    "new_sheet": false,
    "run_control": {
     "read_only": false
    }
   },
   "outputs": [],
   "source": [
    "# your code here\n"
   ]
  },
  {
   "cell_type": "markdown",
   "metadata": {},
   "source": [
    "<div class='exercise-r'>\n",
    "\n",
    "**4.6.1** Based on the plots from Question 4.5, what combination of base learner depth and the number of iterations seems optimal and why?\n",
    "\n",
    "</div>"
   ]
  },
  {
   "cell_type": "markdown",
   "metadata": {},
   "source": [
    "**your answer here**"
   ]
  },
  {
   "cell_type": "markdown",
   "metadata": {},
   "source": [
    "<div class='exercise-r'>\n",
    "\n",
    "**4.6.2** Why should we be hesitant to select our learner depth and number of iterations hyperparameters based on our inspection of these train and test results? What are the risks of doing so?\n",
    "\n",
    "</div>"
   ]
  },
  {
   "cell_type": "markdown",
   "metadata": {},
   "source": [
    "**your answer here**"
   ]
  },
  {
   "cell_type": "markdown",
   "metadata": {},
   "source": [
    "<div class='exercise-r'>\n",
    "\n",
    "**4.6.3** Setting those risks aside, if you do select the base learner depth and number of iterations based on those plots, how does the performance of that model compare with the performance of the ensemble methods you considered in Question 2 and Question 3?\n",
    "\n",
    "</div>"
   ]
  },
  {
   "cell_type": "markdown",
   "metadata": {
    "button": false,
    "new_sheet": false,
    "run_control": {
     "read_only": false
    }
   },
   "source": [
    "**your answer here**"
   ]
  },
  {
   "cell_type": "markdown",
   "metadata": {
    "button": false,
    "new_sheet": false,
    "run_control": {
     "read_only": false
    }
   },
   "source": [
    "<a id=\"part5\"></a>\n",
    "\n",
    "## <div class='exercise'>Question 5: Understanding [15 pts]</div> \n",
    "\n",
    "[Return to contents](#contents)\n",
    "\n",
    "This question is intended to evaluate your overall knowledge and understanding of the current material. You may need to refer to lecture notes and other course materials to answer these questions.\n",
    "    \n",
    "\n",
    "**5.1** How do boosting and bagging relate: what is common to both, and what is unique to each?\n",
    "\n",
    "**5.2** Reflect on the overall performance of all of the different classifiers you have seen throughout this assignment. Which performed best? Why do you think that may have happened?\n",
    "\n",
    "**5.3** What is the impact of having too many trees in boosting and in bagging? In which instance is it worse to have too many trees?\n",
    "\n",
    "**5.4** Which technique, boosting or bagging, is better suited to parallelization, where you could have multiple computers working on a problem at the same time? Why?\n",
    "\n",
    "**5.5** Which of these techniques can be extended to regression tasks? How?"
   ]
  },
  {
   "cell_type": "markdown",
   "metadata": {
    "button": false,
    "new_sheet": false,
    "run_control": {
     "read_only": false
    }
   },
   "source": [
    "<a id=\"part5solutions\"></a>\n",
    "\n",
    "## Question 5: Solutions\n",
    "\n",
    "[Return to contents](#contents)"
   ]
  },
  {
   "cell_type": "markdown",
   "metadata": {
    "autograde": "5.1",
    "button": false,
    "new_sheet": false,
    "run_control": {
     "read_only": false
    }
   },
   "source": [
    "<div class='exercise-r'>\n",
    "\n",
    "**5.1** How do boosting and bagging relate: what is common to both, and what is unique to each?\n",
    "\n",
    "</div>"
   ]
  },
  {
   "cell_type": "markdown",
   "metadata": {
    "button": false,
    "new_sheet": false,
    "run_control": {
     "read_only": false
    }
   },
   "source": [
    "**your answer here**"
   ]
  },
  {
   "cell_type": "markdown",
   "metadata": {
    "autograde": "5.2",
    "button": false,
    "new_sheet": false,
    "run_control": {
     "read_only": false
    }
   },
   "source": [
    "<div class='exercise-r'>\n",
    "\n",
    "**5.2** Reflect on the overall performance of all of the different classifiers you have seen throughout this assignment. Which performed best? Why do you think that may have happened?\n",
    "\n",
    "</div>"
   ]
  },
  {
   "cell_type": "markdown",
   "metadata": {
    "button": false,
    "new_sheet": false,
    "run_control": {
     "read_only": false
    }
   },
   "source": [
    "**your answer here**"
   ]
  },
  {
   "cell_type": "markdown",
   "metadata": {
    "autograde": "5.3",
    "button": false,
    "new_sheet": false,
    "run_control": {
     "read_only": false
    }
   },
   "source": [
    "<div class='exercise-r'>\n",
    "\n",
    "**5.3** What is the impact of having too many trees in boosting and in bagging? In which instance is it worse to have too many trees?\n",
    "\n",
    "</div>"
   ]
  },
  {
   "cell_type": "markdown",
   "metadata": {
    "button": false,
    "new_sheet": false,
    "run_control": {
     "read_only": false
    }
   },
   "source": [
    "**your answer here**"
   ]
  },
  {
   "cell_type": "markdown",
   "metadata": {
    "autograde": "5.4",
    "button": false,
    "new_sheet": false,
    "run_control": {
     "read_only": false
    }
   },
   "source": [
    "<div class='exercise-r'>\n",
    "\n",
    "**5.4** Which technique, boosting or bagging, is better suited to parallelization, where you could have multiple computers working on a problem at the same time? Why?\n",
    "\n",
    "</div>"
   ]
  },
  {
   "cell_type": "markdown",
   "metadata": {
    "button": false,
    "new_sheet": false,
    "run_control": {
     "read_only": false
    }
   },
   "source": [
    "**your answer here**"
   ]
  },
  {
   "cell_type": "markdown",
   "metadata": {
    "autograde": "5.5",
    "button": false,
    "new_sheet": false,
    "run_control": {
     "read_only": false
    }
   },
   "source": [
    "<div class='exercise-r'>\n",
    "\n",
    "**5.5** Which of these techniques can be extended to regression tasks? How?\n",
    "\n",
    "</div>"
   ]
  },
  {
   "cell_type": "markdown",
   "metadata": {
    "button": false,
    "new_sheet": false,
    "run_control": {
     "read_only": false
    }
   },
   "source": [
    "**your answer here**"
   ]
  },
  {
   "cell_type": "markdown",
   "metadata": {
    "button": false,
    "jupyter": {
     "outputs_hidden": true
    },
    "new_sheet": false,
    "run_control": {
     "read_only": false
    }
   },
   "source": [
    "#### THE END\n",
    "\n",
    "[Return to contents](#contents)"
   ]
  }
 ],
 "metadata": {
  "anaconda-cloud": {},
  "jupytext": {},
  "kernelspec": {
   "display_name": "Python 3 (ipykernel)",
   "language": "python",
   "name": "python3"
  },
  "language_info": {
   "codemirror_mode": {
    "name": "ipython",
    "version": 3
   },
   "file_extension": ".py",
   "mimetype": "text/x-python",
   "name": "python",
   "nbconvert_exporter": "python",
   "pygments_lexer": "ipython3",
   "version": "3.9.7"
  },
  "latex_envs": {
   "bibliofile": "biblio.bib",
   "cite_by": "apalike",
   "current_citInitial": 1,
   "eqLabelWithNumbers": true,
   "eqNumInitial": 0
  },
  "pycharm": {
   "stem_cell": {
    "cell_type": "raw",
    "metadata": {
     "collapsed": false
    },
    "source": []
   }
  },
  "toc": {
   "base_numbering": 1,
   "nav_menu": {},
   "number_sections": true,
   "sideBar": true,
   "skip_h1_title": false,
   "title_cell": "Table of Contents",
   "title_sidebar": "Contents",
   "toc_cell": false,
   "toc_position": {},
   "toc_section_display": true,
   "toc_window_display": false
  }
 },
 "nbformat": 4,
 "nbformat_minor": 4
}
