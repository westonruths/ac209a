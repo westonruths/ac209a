{
 "cells": [
  {
   "cell_type": "markdown",
   "metadata": {},
   "source": [
    "# <img style=\"float: left; padding-right: 10px; width: 45px\" src=\"https://raw.githubusercontent.com/Harvard-IACS/2018-CS109A/master/content/styles/iacs.png\"> CS109A Introduction to Data Science: \n",
    "\n",
    "## Homework 3: Polynomial and LASSO Regression\n",
    "\n",
    "**Harvard University**<br/>\n",
    "**Fall 2021**<br/>\n",
    "**Instructors**: Pavlos Protopapas and Natesh Pillai\n",
    "\n",
    "<hr style=\"height:2.4pt\">"
   ]
  },
  {
   "cell_type": "code",
   "execution_count": 1,
   "metadata": {},
   "outputs": [
    {
     "data": {
      "text/html": [
       "<style>\n",
       "blockquote { background: #AEDE94; }\n",
       "h1 {\n",
       "    padding-top: 25px;\n",
       "    padding-bottom: 25px;\n",
       "    text-align: left;\n",
       "    padding-left: 10px;\n",
       "    background-color: #63ACBE;\n",
       "    color: black;\n",
       "}\n",
       "h2 {\n",
       "    padding-top: 10px;\n",
       "    padding-bottom: 10px;\n",
       "    text-align: left;\n",
       "    padding-left: 5px;\n",
       "    background-color: #EEEEEE;\n",
       "    color: black;\n",
       "}\n",
       "\n",
       "div.exercise {\n",
       "\tbackground-color: #f8b4ab;\n",
       "\tborder-color: #E9967A;\n",
       "\tborder-left: 5px solid #601A4A;\n",
       "\tpadding: 0.5em;\n",
       "}\n",
       "\n",
       "div.exercise-r {\n",
       "\tbackground-color: #ffd0d0;\n",
       "\tborder-color: #E9967A;\n",
       "\tborder-left: 5px solid #601A4A;\n",
       "\tpadding: 0.5em;\n",
       "}\n",
       "\n",
       "\n",
       "span.sub-q {\n",
       "\tfont-weight: bold;\n",
       "}\n",
       "div.theme {\n",
       "\tbackground-color: #63ACBE;\n",
       "\tborder-color: #E9967A;\n",
       "\tborder-left: 5px solid #601A4A;\n",
       "\tpadding: 0.5em;\n",
       "\tfont-size: 18pt;\n",
       "}\n",
       "div.gc {\n",
       "\tbackground-color: #AEDE94;\n",
       "\tborder-color: #E9967A;\n",
       "\tborder-left: 5px solid #601A4A;\n",
       "\tpadding: 0.5em;\n",
       "\tfont-size: 12pt;\n",
       "}\n",
       "p.q1 {\n",
       "    padding-top: 5px;\n",
       "    padding-bottom: 5px;\n",
       "    text-align: left;\n",
       "    padding-left: 5px;\n",
       "    background-color: #EEEEEE;\n",
       "    color: black;\n",
       "}\n",
       "header {\n",
       "   padding-top: 35px;\n",
       "    padding-bottom: 35px;\n",
       "    text-align: left;\n",
       "    padding-left: 10px;\n",
       "    background-color: #DDDDDD;\n",
       "    color: black;\n",
       "}\n",
       "span.emph {\n",
       "\tcolor: #601A4A;\n",
       "\tfont-weight: bold;\n",
       "}\n",
       "\n",
       "</style>\n"
      ],
      "text/plain": [
       "<IPython.core.display.HTML object>"
      ]
     },
     "execution_count": 1,
     "metadata": {},
     "output_type": "execute_result"
    }
   ],
   "source": [
    "# RUN THIS CELL \n",
    "import requests\n",
    "from IPython.core.display import HTML\n",
    "styles = requests.get(\n",
    "    \"https://raw.githubusercontent.com/Harvard-IACS/2021-CS109A/master/\"\n",
    "    \"themes/static/css/cs109.css\"\n",
    ").text\n",
    "HTML(styles)"
   ]
  },
  {
   "cell_type": "markdown",
   "metadata": {
    "cell_id": "3c67b69c-c35a-45ee-88ff-99c701edb0a0",
    "colab_type": "text",
    "id": "BlViDCbxVtbG"
   },
   "source": [
    "### Import Libraries"
   ]
  },
  {
   "cell_type": "code",
   "execution_count": 2,
   "metadata": {
    "cell_id": "c81fe721-9f10-4eec-b9a3-3a2534d1c3a2",
    "colab": {
     "base_uri": "https://localhost:8080/",
     "height": 71
    },
    "colab_type": "code",
    "id": "aQbflkbDOxbz",
    "outputId": "a93e76ad-1f12-45fa-ec35-7853e450a1ff"
   },
   "outputs": [],
   "source": [
    "from collections import Counter\n",
    "import math\n",
    "\n",
    "import matplotlib.pyplot as plt\n",
    "import numpy as np\n",
    "import pandas as pd\n",
    "import seaborn as sns\n",
    "from sklearn.linear_model import Lasso\n",
    "from sklearn.linear_model import LinearRegression\n",
    "from sklearn.metrics import mean_squared_error\n",
    "from sklearn.model_selection import cross_validate\n",
    "from sklearn.model_selection import train_test_split\n",
    "from sklearn.preprocessing import PolynomialFeatures\n",
    "from sklearn.utils import shuffle\n",
    "\n",
    "%matplotlib inline"
   ]
  },
  {
   "cell_type": "markdown",
   "metadata": {},
   "source": [
    "<a id=\"instructions\"></a>\n",
    "\n",
    "<hr style=\"height:2pt\">\n",
    "\n",
    "### INSTRUCTIONS\n",
    "\n",
    "- **THIS IS AN INDIVIDUAL ASSIGNMENT. Collaboration on this homework is NOT PERMITTED.**\n",
    "\n",
    "- **THIS IS A TWO-WEEK HOMEWORK**. The material is indeed two-weeks-worth of work, so make sure you start it early!!!\n",
    "\n",
    "- To submit your assignment follow the instructions given in Canvas.\n",
    "\n",
    "- Please **restart the kernel and run the entire notebook again before you submit.**\n",
    "\n",
    "- Running cells out of order is a common pitfall in Jupyter Notebooks. To make sure your code continues to work, restart the kernel and rerun your notebook periodically while working through this assignment. \n",
    "\n",
    "- We have tried to include all the libraries you may need to do the assignment in the imports cell provided below. **Please use only the libraries provided in those imports.**\n",
    "\n",
    "- Please use `.head(...)` when viewing data. Do not submit a notebook that is **excessively long**. \n",
    "\n",
    "- In questions that require code to answer, such as \"calculate and report $R^2$\", do not just output the value from a cell. Write a `print(...)` function that clearly labels the output, includes a reference to the calculated value, and rounds it to a reasonable number of digits. **Do not hard code values in your printed output**. For example, this is an appropriate print statement:\n",
    "```python\n",
    "print(f'The R^2 is {R:.4f}')\n",
    "```\n",
    "- **Your plots MUST be clearly labeled and easy to read,** including clear labels for the $x$ and $y$ axes, a descriptive title (\"MSE plot\" is NOT a descriptive title; \"95% confidence interval of coefficients for degree-5 polynomial model\" on the other hand is descriptive), a legend when appropriate, and clearly formatted text and graphics.\n",
    "\n",
    "- **Your code may also be evaluated for efficiency and clarity.** As a result, correct output is not always sufficient for full credit.\n",
    "\n",
    "<hr style=\"height:2pt\">"
   ]
  },
  {
   "cell_type": "markdown",
   "metadata": {},
   "source": [
    "<a id=\"contents\"></a>\n",
    "\n",
    "## Notebook contents\n",
    "\n",
    "- [**Overview and data description**](#intro)\n",
    "\n",
    "\n",
    "- [**Question 1: Data visualization [5 pts]**](#part1)\n",
    "  - [Solutions](#part1solutions)\n",
    "\n",
    "\n",
    "- [**Your Homework 3 roadmap**](#roadmap)\n",
    "\n",
    "\n",
    "- [**Question 2: Guesstimate the polynomial relationship [14 pts]**](#part2)\n",
    "  - [Solutions](#part2solutions)\n",
    "\n",
    "\n",
    "- [**Question 3: Use a validation set to find the most promising polynomial relationship [12 pts]**](#part3)\n",
    "  - [Solutions](#part3solutions)\n",
    "\n",
    "\n",
    "- [**Question 4: Finding the best model by k-fold cross validation [14 pts]**](#part4)\n",
    "  - [Solutions](#part4solutions)\n",
    "\n",
    "\n",
    "- [**Question 5: Finding the most consistent model using k-fold cross validation with bootstraps [16 pts]**](#part5)\n",
    "  - [Solutions](#part5solutions)\n",
    "\n",
    "\n",
    "- [**Question 6: Improving model consistency with LASSO regularization [33 pts]**](#part6)\n",
    "  - [Solutions](#part6solutions)\n",
    "\n",
    "\n",
    "- [**Question 7: Analyze your best test MSEs for each section of the homework [6 pts]**](#part7)\n",
    "  - [Solutions](#part7solutions)"
   ]
  },
  {
   "cell_type": "markdown",
   "metadata": {
    "cell_id": "21e9f773-e015-44ec-88c8-7f24b9a8191f",
    "colab_type": "text",
    "id": "Uo0FiNThV923"
   },
   "source": [
    "<a id=\"intro\"></a>\n",
    "\n",
    "## Overview and data description\n",
    "\n",
    "[Return to contents](#contents)\n",
    "\n",
    "### Predicting percentage change in bacteria populations given their spreading factor\n",
    "\n",
    "In this homework, we will explore polynomial regression for predicting a quantitative variable. Specifically, we will build regression models that can predict the percentage change in bacteria population after 4 hours based on their \"spreading factor\". These prediction models can be useful in clustering of a novel bacteria to any class. \n",
    "\n",
    "If the percentage of change in population is positive, this indicates that the size of the bacteria population has grown. One important factor to note is that the percentage change could be negative. This indicates that within the specified time frame, the population of the bacteria has decreased from its original size.\n",
    "\n",
    "The data set for this problem has already been split for you. You will find the train and test data sets in the files `data/bacteria_train.csv` and `data/bacteria_test.csv`, respectively. The first column in each file gives information about the change in percentage of the population and the second column contains the spreading factor of bacteria populations.\n",
    "\n",
    "\n",
    "### Problem Description\n",
    "\n",
    "We will predict the percentage change in population, given the spreading factor. For this exercise, we will consider the `Spreading_factor` to be our predictor variable and `Perc_population` to be our response variable. We will explore several different approaches, with mean squared error ($MSE$) as an evaluative criteria, for finding the best fit and most robust polynomial regression for modeling this relationship.\n"
   ]
  },
  {
   "cell_type": "markdown",
   "metadata": {
    "cell_id": "12fa439c-9984-44e4-a4f7-581a3e01d520",
    "colab_type": "text",
    "id": "Inn1d2Hv1pIK"
   },
   "source": [
    "<a id=\"part1\"></a>\n",
    "\n",
    "## <div class='exercise'>Question 1: Data visualization [5 pts]</div> \n",
    "    \n",
    "[Return to contents](#contents)\n",
    "    \n",
    "**1.1** Generate a scatter plot of the data points in the `bacteria_train.csv` file with the spreading factor on the $x$-axis and the percentage change on the $y$-axis.\n",
    "\n",
    "**REMEMBER:** In this course, you will be expected to ALWAYS label your axes, title your graphs, and produce visuals that clearly communicate the data (as described in the [INSTRUCTIONS](#instructions) at the start of this notebook). Visuals should typically be accompanied by text identifying the key point of the visual and defending any choices you make as a data scientist regarding the visual to best communicate your data.\n",
    "\n",
    "**1.2** Based on the graph, is there any discernable relationship between the spreading factor and percentage change in population?"
   ]
  },
  {
   "cell_type": "markdown",
   "metadata": {},
   "source": [
    "<a id=\"part1solutions\"></a>\n",
    "\n",
    "## Question 1: Solutions\n",
    "\n",
    "[Return to contents](#contents)"
   ]
  },
  {
   "cell_type": "markdown",
   "metadata": {},
   "source": [
    "<div class='exercise-r'>\n",
    "\n",
    "**1.1** Generate a scatter plot of the data points in the `bacteria_train.csv` file with the spreading factor on the $x$-axis and the percentage change on the $y$-axis.\n",
    "\n",
    "**REMEMBER:** In this course, you will be expected to ALWAYS label your axes, title your graphs, and produce visuals that clearly communicate the data (as described in the [INSTRUCTIONS](#instructions) at the start of this notebook). Visuals should typically be accompanied by text identifying the key point of the visual and defending any choices you make as a data scientist regarding the visual to best communicate your data.\n",
    "\n",
    "</div>"
   ]
  },
  {
   "cell_type": "code",
   "execution_count": 3,
   "metadata": {
    "cell_id": "7e002b99-e7b2-4c64-af95-d9c7f031f476",
    "colab": {},
    "colab_type": "code",
    "id": "ENmKd_MY2B3C"
   },
   "outputs": [
    {
     "data": {
      "text/html": [
       "<div>\n",
       "<style scoped>\n",
       "    .dataframe tbody tr th:only-of-type {\n",
       "        vertical-align: middle;\n",
       "    }\n",
       "\n",
       "    .dataframe tbody tr th {\n",
       "        vertical-align: top;\n",
       "    }\n",
       "\n",
       "    .dataframe thead th {\n",
       "        text-align: right;\n",
       "    }\n",
       "</style>\n",
       "<table border=\"1\" class=\"dataframe\">\n",
       "  <thead>\n",
       "    <tr style=\"text-align: right;\">\n",
       "      <th></th>\n",
       "      <th>Perc_population</th>\n",
       "      <th>Spreading_factor</th>\n",
       "    </tr>\n",
       "  </thead>\n",
       "  <tbody>\n",
       "    <tr>\n",
       "      <th>0</th>\n",
       "      <td>1.535</td>\n",
       "      <td>0.190708</td>\n",
       "    </tr>\n",
       "    <tr>\n",
       "      <th>1</th>\n",
       "      <td>5.555</td>\n",
       "      <td>0.326928</td>\n",
       "    </tr>\n",
       "    <tr>\n",
       "      <th>2</th>\n",
       "      <td>-0.277</td>\n",
       "      <td>-0.459699</td>\n",
       "    </tr>\n",
       "    <tr>\n",
       "      <th>3</th>\n",
       "      <td>1.724</td>\n",
       "      <td>-0.193013</td>\n",
       "    </tr>\n",
       "    <tr>\n",
       "      <th>4</th>\n",
       "      <td>-0.550</td>\n",
       "      <td>-0.835745</td>\n",
       "    </tr>\n",
       "  </tbody>\n",
       "</table>\n",
       "</div>"
      ],
      "text/plain": [
       "   Perc_population  Spreading_factor\n",
       "0            1.535          0.190708\n",
       "1            5.555          0.326928\n",
       "2           -0.277         -0.459699\n",
       "3            1.724         -0.193013\n",
       "4           -0.550         -0.835745"
      ]
     },
     "execution_count": 3,
     "metadata": {},
     "output_type": "execute_result"
    }
   ],
   "source": [
    "# your code here\n",
    "# Load in the train data\n",
    "df_train = pd.read_csv(\"data/bacteria_train.csv\")\n",
    "df_train.head()"
   ]
  },
  {
   "cell_type": "code",
   "execution_count": 4,
   "metadata": {},
   "outputs": [
    {
     "data": {
      "image/png": "[encoded data removed]",
      "text/plain": [
       "<Figure size 720x288 with 1 Axes>"
      ]
     },
     "metadata": {
      "needs_background": "light"
     },
     "output_type": "display_data"
    }
   ],
   "source": [
    "fig, ax = plt.subplots(1,1, figsize =(10,4))\n",
    "plt.scatter(df_train.Spreading_factor, df_train.Perc_population, alpha=0.8)\n",
    "plt.title(\n",
    "    \"Spreading Factor vs. \"\n",
    "    \"Percentage Change in Bacteria Population\",\n",
    "    fontsize=14,\n",
    ")\n",
    "plt.xlabel(\"Spreading Factor\", fontsize=12)\n",
    "plt.ylabel(\"Percentage Change\", fontsize=12)\n",
    "plt.grid(\":\", alpha=0.4)\n",
    "plt.tight_layout()\n",
    "plt.show()"
   ]
  },
  {
   "cell_type": "markdown",
   "metadata": {
    "cell_id": "9f8a452f-c582-4403-afc7-e15ffe157d46"
   },
   "source": [
    "<div class='exercise-r'>\n",
    "\n",
    "**1.2** Based on the graph, is there any discernable relationship between the spreading factor and percentage change in population?\n",
    "\n",
    "</div>"
   ]
  },
  {
   "cell_type": "markdown",
   "metadata": {
    "cell_id": "f490a6f7-eeaa-4d8b-8b8c-2e9996816509"
   },
   "source": [
    "Yes, there is a trend between Spreading Factor and the Percentage Change in the Bacteria Population. The relationship appears to be non-linear but a positive correlation.\n"
   ]
  },
  {
   "cell_type": "markdown",
   "metadata": {
    "cell_id": "58d06521-c4cf-4304-b68a-595205946e44",
    "tags": []
   },
   "source": [
    "<a id=\"roadmap\"></a>\n",
    "\n",
    "<hr style='height:2px'> \n",
    "\n",
    "## Your Homework 3 roadmap\n",
    "\n",
    "[Return to contents](#contents)\n",
    "\n",
    "**We will be following this roadmap for Question 2 through Question 6:**\n",
    "\n",
    "![](data/soln-roadmap.png)\n"
   ]
  },
  {
   "cell_type": "markdown",
   "metadata": {
    "cell_id": "5c60cdd3-9885-4ac2-8144-635a481460f4",
    "tags": []
   },
   "source": [
    "<a id=\"part2\"></a>\n",
    "\n",
    "## <div class='exercise'>Question 2: Guesstimate the polynomial relationship [14 pts]</div> \n",
    "\n",
    "[Return to contents](#contents)\n",
    "\n",
    "\n",
    "**2.1** Guesstimate the degree of the polynomial regression that may best fit the data given our observation of the data in Question 1, and then fit that model following the requirements outlined below:\n",
    "- Create a single dictionary called `best_mse_dict` to store the best test $MSE$s for each type of model we will be building in this notebook. The keys of this dictionary will be the question number, and the values will be the $MSE$ values. So, for this question, you will have `best_mse_dict[\"2.1\"] = ...` .\n",
    "\n",
    "- Generate `PolynomialFeatures(...)` for your guesstimated degree and fit a polynomial regression using scikit-learn's `LinearRegression(...)` on the training set.\n",
    "- Generate a plot with both the train and test data, as well as your prediction curve.\n",
    "- Compute and print the $MSE$ on the test set and save that value to `best_mse_dict`.\n",
    "- Explain the rationale for your choice of degree (i.e. your \"guesstimation\") and comment on the fit of your model.\n",
    "  \n",
    "**2.2** Now we will compute confidence intervals for the coefficients generated in our model. For the same degree polynomial regression fit above in 2.1, compute and plot the 95% confidence interval of the beta (i.e. $\\beta$) values obtained in that regression model. Be certain to meet these primary requirements:\n",
    "\n",
    "- Report the coefficient values of the model fit above in 2.1.\n",
    "- Use bootstrapping to generate your 95% confidence intervals by refitting your model to each bootstrapped sample of your training data (you can limit your number of bootstraps to 100).\n",
    "- For each bootstrap, store the coefficients of the model, and use those stored coefficients to compute the $2.5$ and $97.5$ confidence bounds.\n",
    "- Plot the bootstrapped coefficients as a grid of histograms, one histogram for each $\\beta_i$, illustrating the distribution of bootstrapped coefficients for each $\\beta_i$. Each distribution should indicate the regions of 95% confidence. Use `plt.subplots(...)` to arrange your histograms as a grid of plots.\n",
    "- Comment on your findings.\n",
    "\n",
    "**REMEMBER:** Bootstrapped samples should always be the same size as the original data and sampled with replacement."
   ]
  },
  {
   "cell_type": "markdown",
   "metadata": {},
   "source": [
    "<a id=\"part2solutions\"></a>\n",
    "\n",
    "## Question 2: Solutions\n",
    "\n",
    "[Return to contents](#contents)"
   ]
  },
  {
   "cell_type": "markdown",
   "metadata": {
    "cell_id": "8f9f6e8b-e477-4a40-8a72-b4031b111b56",
    "colab_type": "text",
    "id": "Iwnsapke2CYu"
   },
   "source": [
    "<div class='exercise-r'>\n",
    "\n",
    "**2.1** Guesstimate the degree of the polynomial regression that may best fit the data given our observation of the data in Question 1, and then fit that model following the requirements outlined below:\n",
    "- Create a single dictionary called `best_mse_dict` to store the best test $MSE$s for each type of model we will be building in this notebook. The keys of this dictionary will be the question number, and the values will be the $MSE$ values. So, for this question, you will have `best_mse_dict[\"2.1\"] = ...` .\n",
    "\n",
    "- Generate `PolynomialFeatures(...)` for your guesstimated degree and fit a polynomial regression using scikit-learn's `LinearRegression(...)` on the training set.\n",
    "- Generate a plot with both the train and test data, as well as your prediction curve.\n",
    "- Compute and print the $MSE$ on the test set and save that value to `best_mse_dict`.\n",
    "- Explain the rationale for your choice of degree (i.e. your \"guesstimation\") and comment on the fit of your model.\n",
    "\n",
    "</div>"
   ]
  },
  {
   "cell_type": "code",
   "execution_count": 5,
   "metadata": {},
   "outputs": [
    {
     "data": {
      "text/html": [
       "<div>\n",
       "<style scoped>\n",
       "    .dataframe tbody tr th:only-of-type {\n",
       "        vertical-align: middle;\n",
       "    }\n",
       "\n",
       "    .dataframe tbody tr th {\n",
       "        vertical-align: top;\n",
       "    }\n",
       "\n",
       "    .dataframe thead th {\n",
       "        text-align: right;\n",
       "    }\n",
       "</style>\n",
       "<table border=\"1\" class=\"dataframe\">\n",
       "  <thead>\n",
       "    <tr style=\"text-align: right;\">\n",
       "      <th></th>\n",
       "      <th>Perc_population</th>\n",
       "      <th>Spreading_factor</th>\n",
       "    </tr>\n",
       "  </thead>\n",
       "  <tbody>\n",
       "    <tr>\n",
       "      <th>0</th>\n",
       "      <td>-0.516</td>\n",
       "      <td>-1.138880</td>\n",
       "    </tr>\n",
       "    <tr>\n",
       "      <th>1</th>\n",
       "      <td>-0.683</td>\n",
       "      <td>-1.818070</td>\n",
       "    </tr>\n",
       "    <tr>\n",
       "      <th>2</th>\n",
       "      <td>-0.045</td>\n",
       "      <td>-1.883300</td>\n",
       "    </tr>\n",
       "    <tr>\n",
       "      <th>3</th>\n",
       "      <td>1.125</td>\n",
       "      <td>-0.839582</td>\n",
       "    </tr>\n",
       "    <tr>\n",
       "      <th>4</th>\n",
       "      <td>-0.679</td>\n",
       "      <td>-1.478480</td>\n",
       "    </tr>\n",
       "  </tbody>\n",
       "</table>\n",
       "</div>"
      ],
      "text/plain": [
       "   Perc_population  Spreading_factor\n",
       "0           -0.516         -1.138880\n",
       "1           -0.683         -1.818070\n",
       "2           -0.045         -1.883300\n",
       "3            1.125         -0.839582\n",
       "4           -0.679         -1.478480"
      ]
     },
     "execution_count": 5,
     "metadata": {},
     "output_type": "execute_result"
    }
   ],
   "source": [
    "# Load in the test data\n",
    "df_test = pd.read_csv(\"data/bacteria_test.csv\")\n",
    "df_test.head()"
   ]
  },
  {
   "cell_type": "code",
   "execution_count": 6,
   "metadata": {
    "cell_id": "a3808aca-8630-4c1c-8284-4f53385dc98b",
    "tags": []
   },
   "outputs": [
    {
     "data": {
      "image/png": "[encoded data removed]",
      "text/plain": [
       "<Figure size 432x288 with 1 Axes>"
      ]
     },
     "metadata": {
      "needs_background": "light"
     },
     "output_type": "display_data"
    },
    {
     "name": "stdout",
     "output_type": "stream",
     "text": [
      "The MSE test value is 2.675 \n"
     ]
    }
   ],
   "source": [
    "# your code here\n",
    "# Create the best_mse_dict to store our MSE values over the course of this homework\n",
    "best_mse_dict = {}\n",
    "\n",
    "# Load split datasets\n",
    "x_train = df_train[['Spreading_factor']].values\n",
    "y_train = df_train['Perc_population'].values\n",
    "x_test = df_test[['Spreading_factor']].values\n",
    "y_test = df_test['Perc_population'].values\n",
    "\n",
    "# Guess the correct polynomial degree based on the above graph\n",
    "guess_degree = 2\n",
    "\n",
    "# Generate polynomial features on the train data\n",
    "x_poly_train = PolynomialFeatures(degree=guess_degree).fit_transform(x_train)\n",
    "\n",
    "# Generate polynomial features on the test data\n",
    "x_poly_test = PolynomialFeatures(degree=guess_degree).fit_transform(x_test)\n",
    "\n",
    "# Initialize a model to perform polynomial regression\n",
    "polymodel = LinearRegression(fit_intercept=False)\n",
    "\n",
    "# Fit the model on the polynomial transformed train data\n",
    "polymodel.fit(x_poly_train,y_train)\n",
    "\n",
    "# Predict on the entire polynomial transformed test data\n",
    "y_poly_pred = polymodel.predict(x_poly_test)\n",
    "\n",
    "# Helper code to visualise the results\n",
    "idx = np.argsort(x_test[:,0])\n",
    "x_test = x_test[idx]\n",
    "\n",
    "# Use the above index to get the appropriate predicted values for y_test\n",
    "# y_test values corresponding to sorted test data\n",
    "y_test = y_test[idx]\n",
    "\n",
    "# Non-linear predicted values\n",
    "y_poly_pred= y_poly_pred[idx]\n",
    "\n",
    "# First plot x & y values using plt.scatter\n",
    "plt.scatter(x_train, y_train, s=10, label=\"Train Data\")\n",
    "plt.scatter(x_test, y_test, s=10, label=\"Test Data\")\n",
    "\n",
    "# Plot the polynomial regression fit curve\n",
    "# Use x_test as apposed to x_poly_test because x_poly_test is a matrix\n",
    "plt.plot(x_test, y_poly_pred, label=\"Prediction Curve\", color='red', alpha=0.6)\n",
    "\n",
    "# Graph the train and test data as well as the polynomial fit\n",
    "plt.title(\n",
    "    \"Spreading Factor vs. \"\n",
    "    \"Percentage Change in Bacteria Population with Polynomial Fit\",\n",
    "    fontsize=14,\n",
    ")\n",
    "plt.xlabel(\"Spreading Factor\", fontsize=12)\n",
    "plt.ylabel(\"Percentage Change\", fontsize=12)\n",
    "plt.grid(\":\", alpha=0.4)\n",
    "plt.tight_layout()\n",
    "plt.legend()\n",
    "plt.show()\n",
    "\n",
    "# Calculate MSE\n",
    "testmse = mean_squared_error(y_test, y_poly_pred)\n",
    "print(f\"The MSE test value is {testmse:.3f} \")\n",
    "best_mse_dict[\"2.1\"] = testmse"
   ]
  },
  {
   "cell_type": "markdown",
   "metadata": {},
   "source": [
    "**INTERPRETATION:**"
   ]
  },
  {
   "cell_type": "markdown",
   "metadata": {},
   "source": [
    "My guestimate was for a 2nd degree polynomial. This is due to the single curve that the plot appears to take. The prediction curve does match this shape quite well but the MSE could be improved upon.\n"
   ]
  },
  {
   "cell_type": "markdown",
   "metadata": {
    "cell_id": "cc4960c5-9dad-46a4-a608-02b926bce340",
    "colab_type": "text",
    "id": "uZB7o6VR6Nt6"
   },
   "source": [
    "<div class='exercise-r'>\n",
    "\n",
    "**2.2** Now we will compute confidence intervals for the coefficients generated in our model. For the same degree polynomial regression fit above in 2.1, compute and plot the 95% confidence interval of the beta (i.e. $\\beta$) values obtained in that regression model. Be certain to meet these primary requirements:\n",
    "\n",
    "- Report the coefficient values of the model fit above in 2.1.\n",
    "- Use bootstrapping to generate your 95% confidence intervals by refitting your model to each bootstrapped sample of your training data (you can limit your number of bootstraps to 100).\n",
    "- For each bootstrap, store the coefficients of the model, and use those stored coefficients to compute the $2.5$ and $97.5$ confidence bounds.\n",
    "- Plot the bootstrapped coefficients as a grid of histograms, one histogram for each $\\beta_i$, illustrating the distribution of bootstrapped coefficients for each $\\beta_i$. Each distribution should indicate the regions of 95% confidence. Use `plt.subplots(...)` to arrange your histograms as a grid of plots.\n",
    "- Comment on your findings.\n",
    "\n",
    "**REMEMBER:** Bootstrapped samples should always be the same size as the original data and sampled with replacement.\n",
    "\n",
    "</div>"
   ]
  },
  {
   "cell_type": "code",
   "execution_count": 7,
   "metadata": {
    "cell_id": "4282bae2-c5b6-4830-b8ca-2d3c4f78a52e",
    "colab": {
     "base_uri": "https://localhost:8080/",
     "height": 119
    },
    "colab_type": "code",
    "id": "zMwOU88XVYM-",
    "outputId": "0ba8397f-e8af-4bcd-b0ca-9b672171d84f",
    "tags": []
   },
   "outputs": [
    {
     "name": "stdout",
     "output_type": "stream",
     "text": [
      "Coefficient Values of the Model Fit Above in 2.1: [1.54791898 1.93796806 0.70637891]\n",
      "Confidence Intervals for Beta 0: (1.3621998198513696, 1.7920214683994073)\n",
      "Confidence Intervals for Beta 1: (1.8183652049135641, 2.080467291962626)\n",
      "Confidence Intervals for Beta 2: (0.5655770423702433, 0.8549695087643303)\n"
     ]
    },
    {
     "data": {
      "image/png": "[encoded data removed]",
      "text/plain": [
       "<Figure size 720x432 with 3 Axes>"
      ]
     },
     "metadata": {
      "needs_background": "light"
     },
     "output_type": "display_data"
    }
   ],
   "source": [
    "# your code here\n",
    "### Report the coefficient values of the model fit above in 2.1.\n",
    "print('Coefficient Values of the Model Fit Above in 2.1:', polymodel.coef_)\n",
    "\n",
    "### Use bootstrapping to generate your 95% confidence intervals by refitting your model to each bootstrapped sample of your training data .\n",
    "# Set the number of bootstraps (limit to 100)\n",
    "numboot = 100\n",
    "\n",
    "# Guess the correct polynomial degree\n",
    "guess_degree = 2\n",
    "\n",
    "# Initialize a dictionary to store the coefficient values\n",
    "perc_dict = {}\n",
    "\n",
    "for i in range(guess_degree+1):\n",
    "    perc_dict[i] = []\n",
    "\n",
    "# Loop through each bootstrap\n",
    "for i in range(numboot):\n",
    "\n",
    "    # Create bootstrapped version of the training data using the sample function\n",
    "    # Set frac=1 and replace=True to get a bootstrap\n",
    "    df_new = df_train.sample(frac=1, replace=True)\n",
    "\n",
    "    # Get the predictor data ('Spreading_factor') from the new bootstrapped data\n",
    "    x_sample = df_new[['Spreading_factor']]\n",
    "\n",
    "    # Get the response data ('Perc_population') from the new bootstrapped data\n",
    "    y_sample = df_new.Perc_population\n",
    "\n",
    "    # Generate polynomial features on the train data\n",
    "    x_poly_sample = PolynomialFeatures(degree=guess_degree).fit_transform(x_sample)\n",
    "\n",
    "    # Initialize a model to perform polynomial regression\n",
    "    polymodel_sample = LinearRegression(fit_intercept=False)\n",
    "\n",
    "    # Fit the model on the polynomial transformed train data\n",
    "    polymodel_sample.fit(x_poly_sample,y_sample)\n",
    "\n",
    "    # Predict on the entire polynomial transformed test data\n",
    "    y_poly_pred_sample = polymodel_sample.predict(x_poly_sample)\n",
    "    \n",
    "    for i in range(guess_degree+1):\n",
    "        perc_dict[i].append(polymodel_sample.coef_[i])\n",
    "\n",
    "# Calculate confidence intervals for each beta\n",
    "beta_CI = {}\n",
    "for i in range(guess_degree+1):\n",
    "    beta_CI[i] = (np.percentile(perc_dict[i],2.5),np.percentile(perc_dict[i], 97.5))\n",
    "\n",
    "# Plot the histograms\n",
    "fig, ax = plt.subplots(1,guess_degree+1,figsize = (10, 6))\n",
    "fig.suptitle(\n",
    "    \"95% Confidence Intervals \\n\"\n",
    "    \"For the Coefficients of the Polynomial Model\",\n",
    "    fontsize=16,\n",
    ")\n",
    "\n",
    "for i in range(guess_degree+1):\n",
    "    print(\"Confidence Intervals for Beta \" + str(i) + \": \" + str(beta_CI[i]))\n",
    "    ax[i].hist(perc_dict[i], bins = 30, label = 'beta distribution', align = 'left', density = True)\n",
    "    ax[i].axvline(beta_CI[i][1], 0, 1, color = 'r', label = 'Right Interval')\n",
    "    ax[i].axvline(beta_CI[i][0], 0, 1, color = 'm', label = 'Left Interval')\n",
    "    ax[i].set_xlabel(\"Beta Value\", fontsize=12)\n",
    "    ax[i].set_ylabel(\"Frequency\", fontsize=12)\n",
    "    ax[i].set_title(\"Bootstrapped Coefficients \\n for Beta \" + str(i), fontsize=14)\n",
    "    ax[i].legend(loc=\"upper right\", fontsize=12)\n",
    "\n",
    "for a in ax:\n",
    "    a.grid(\":\", alpha=0.4)\n",
    "\n",
    "plt.tight_layout()\n",
    "plt.show()\n",
    "\n"
   ]
  },
  {
   "cell_type": "markdown",
   "metadata": {},
   "source": [
    "**INTERPRETATION:**"
   ]
  },
  {
   "cell_type": "markdown",
   "metadata": {},
   "source": [
    "Looking at these results we get a sense of the uncertainty over our estimates. Our coefficients from 2.1 fall within the 95% confidence intervals which tells us the results are not anamolous. However, to make further deductions on how certain we are in our estimation of the coefficients, further analysis (such as t-tests) must be done.\n"
   ]
  },
  {
   "cell_type": "markdown",
   "metadata": {
    "cell_id": "5c60cdd3-9885-4ac2-8144-635a481460f4",
    "tags": []
   },
   "source": [
    "<a id=\"part3\"></a>\n",
    "\n",
    "## <div class='exercise'>Question 3: Use a validation set to find the most promising polynomial relationship [12 pts]</div> \n",
    "\n",
    "[Return to contents](#contents)\n",
    "\n",
    "**3.1** Find the best degree polynomial relationship using a single validation set. Be certain to meet the requirements outlined below:\n",
    "\n",
    "- Split your training data such that you separate out a single 20% validation split.\n",
    "- Fit polynomial regression models up to **degree 30** on the 80% training set (one model for each degree polynomial regression).\n",
    "- Generate a single plot illustrating the train and validation $MSE$ values for each fitted degree polynomial regression model.\n",
    "- Compare the validation $MSE$ values and select and report the degree for which the validation error is lowest.\n",
    "\n",
    "\n",
    "**3.2** Now, with the best degree selected, train the polynomial regression on the **complete training set** (including the observations that you had previously removed to make the validation set). Report the train and test $MSE$ and add the test $MSE$ to `best_mse_dict`.\n",
    "\n",
    "\n",
    "**3.3** Generate a plot of the data and your regression curve (similar to [Question 2.1](#part2)). Comment on how your model fits the data and compare it to the fit of your \"guesstimated\" model from [Question 2](#part2solutions)."
   ]
  },
  {
   "cell_type": "markdown",
   "metadata": {},
   "source": [
    "<a id=\"part3solutions\"></a>\n",
    "\n",
    "## Question 3: Solutions\n",
    "\n",
    "[Return to contents](#contents)"
   ]
  },
  {
   "cell_type": "markdown",
   "metadata": {
    "cell_id": "0a790850-87c6-4f46-b89e-048a2295c92b",
    "colab_type": "text",
    "id": "IGFtXJmQap2q"
   },
   "source": [
    "<div class='exercise-r'>\n",
    "\n",
    "**3.1** Find the best degree polynomial relationship using a single validation set. Be certain to meet the requirements outlined below:\n",
    "\n",
    "- Split your training data such that you separate out a single 20% validation split.\n",
    "- Fit polynomial regression models up to **degree 30** on the 80% training set (one model for each degree polynomial regression).\n",
    "- Generate a single plot illustrating the train and validation $MSE$ values for each fitted degree polynomial regression model.\n",
    "- Compare the validation $MSE$ values and select and report the degree for which the validation error is lowest.\n",
    "\n",
    "</div>"
   ]
  },
  {
   "cell_type": "code",
   "execution_count": 8,
   "metadata": {
    "cell_id": "a7115ea8-51e7-4e9a-bace-c902f2795bf9",
    "colab": {},
    "colab_type": "code",
    "id": "Qghc631VVYVl"
   },
   "outputs": [
    {
     "data": {
      "image/png": "[encoded data removed]",
      "text/plain": [
       "<Figure size 720x432 with 1 Axes>"
      ]
     },
     "metadata": {
      "needs_background": "light"
     },
     "output_type": "display_data"
    },
    {
     "name": "stdout",
     "output_type": "stream",
     "text": [
      "The lowest validation error occurs at degree 8 with an MSE of 3.541081913996495\n"
     ]
    }
   ],
   "source": [
    "# your code here\n",
    "### Split your training data such that you separate out a single 20% validation split.\n",
    "x_single_train, x_single_test, y_single_train, y_single_test = train_test_split(x_train, y_train, test_size=0.20, random_state=109)\n",
    "\n",
    "### Fit polynomial regression models up to degree 30 on the 80% training set (one model for each degree polynomial regression).\n",
    "# Create a list of degrees\n",
    "degrees = range(0, 31)\n",
    "\n",
    "# Initialize lists to store the MSE vals for the train and validation sets\n",
    "train_mse_list = []\n",
    "test_mse_list = []\n",
    "\n",
    "\n",
    "# Loop through each degree\n",
    "for i in degrees:\n",
    "    # Generate polynomial features on the train data\n",
    "    x_single_train_poly = PolynomialFeatures(degree=i).fit_transform(x_single_train)\n",
    "    x_single_test_poly = PolynomialFeatures(degree=i).fit_transform(x_single_test)\n",
    "\n",
    "    # Initialize a model to perform polynomial regression\n",
    "    polymodel_single = LinearRegression(fit_intercept=False)\n",
    "\n",
    "    # Fit the model on the polynomial transformed train data\n",
    "    polymodel_single.fit(x_single_train_poly,y_single_train)\n",
    "\n",
    "    # Predict on the entire polynomial transformed test data\n",
    "    y_poly_pred_train = polymodel_single.predict(x_single_train_poly)\n",
    "    y_poly_pred_test = polymodel_single.predict(x_single_test_poly)\n",
    "    \n",
    "    train_mse = mean_squared_error(y_single_train, y_poly_pred_train)\n",
    "    test_mse = mean_squared_error(y_single_test, y_poly_pred_test)\n",
    "    \n",
    "    train_mse_list.append(train_mse)\n",
    "    test_mse_list.append(test_mse)\n",
    "    \n",
    "### Generate a single plot illustrating the train and validation 𝑀𝑆𝐸  values for each fitted degree polynomial regression model.\n",
    "fig, ax = plt.subplots(figsize = (10,6))\n",
    "ax.plot(degrees, train_mse_list, color='r', alpha = 0.9, label = \"Training Error\", lw=2.2)\n",
    "ax.plot(degrees, test_mse_list, color='b', alpha = 0.9, label = \"Validation Error\", lw=2.2)\n",
    "ax.legend(loc='best',fontsize=15)\n",
    "ax.set_xlabel(\"Degree of Polynomial\", fontsize=15)\n",
    "ax.set_ylabel(\"Mean Squared Error\", fontsize=15)\n",
    "ax.set_title(\"Train and Validation MSE Values for Each Fitted Degree Polynomial Regression Model\")\n",
    "plt.show();\n",
    "\n",
    "### Compare the validation  𝑀𝑆𝐸  values and select and report the degree for which the validation error is lowest.\n",
    "min_mse = min(test_mse_list)\n",
    "best_degree = degrees[test_mse_list.index(min_mse)]\n",
    "print(\"The lowest validation error occurs at degree \" + str(best_degree) + \" with an MSE of \" + str(min_mse))\n"
   ]
  },
  {
   "cell_type": "markdown",
   "metadata": {
    "cell_id": "0a790850-87c6-4f46-b89e-048a2295c92b",
    "colab_type": "text",
    "id": "IGFtXJmQap2q"
   },
   "source": [
    "<div class='exercise-r'>\n",
    "\n",
    "**3.2** Now, with the best degree selected, train the polynomial regression on the **complete training set** (including the observations that you had previously removed to make the validation set). Report the train and test $MSE$ and add the test $MSE$ to `best_mse_dict`.\n",
    "\n",
    "</div>"
   ]
  },
  {
   "cell_type": "code",
   "execution_count": 9,
   "metadata": {
    "cell_id": "71d87b69-98dc-426e-b164-984c3ac31242",
    "colab": {},
    "colab_type": "code",
    "id": "hrSTOm29fZgP"
   },
   "outputs": [
    {
     "name": "stdout",
     "output_type": "stream",
     "text": [
      "The MSE test value is 2.513 \n",
      "The MSE test value is 2.613 \n",
      "Here's the latest on the best MSE scores so far: {'2.1': 2.6748625754403093, '3.2': 2.61301063735301}\n"
     ]
    }
   ],
   "source": [
    "# your code here\n",
    "# Load split datasets\n",
    "x_train = df_train[['Spreading_factor']].values\n",
    "y_train = df_train['Perc_population'].values\n",
    "x_test = df_test[['Spreading_factor']].values\n",
    "y_test = df_test['Perc_population'].values\n",
    "\n",
    "# Use the \"correct\" polynomial degree based on the above graph\n",
    "guess_degree = 8\n",
    "\n",
    "# Generate polynomial features on the train data\n",
    "x_poly_train = PolynomialFeatures(degree=guess_degree).fit_transform(x_train)\n",
    "\n",
    "# Generate polynomial features on the test data\n",
    "x_poly_test = PolynomialFeatures(degree=guess_degree).fit_transform(x_test)\n",
    "\n",
    "# Initialize a model to perform polynomial regression\n",
    "polymodel = LinearRegression(fit_intercept=False)\n",
    "\n",
    "# Fit the model on the polynomial transformed train data\n",
    "polymodel.fit(x_poly_train,y_train)\n",
    "\n",
    "# Predict on the entire polynomial transformed test data\n",
    "y_poly_pred_train = polymodel.predict(x_poly_train)\n",
    "y_poly_pred_test = polymodel.predict(x_poly_test)\n",
    "\n",
    "# Calculate MSE and report as requested\n",
    "trainmse = mean_squared_error(y_train, y_poly_pred_train)\n",
    "print(f\"The MSE test value is {trainmse:.3f} \")\n",
    "\n",
    "testmse = mean_squared_error(y_test, y_poly_pred_test)\n",
    "print(f\"The MSE test value is {testmse:.3f} \")\n",
    "\n",
    "best_mse_dict[\"3.2\"] = testmse\n",
    "print(\"Here's the latest on the best MSE scores so far: \" + str(best_mse_dict))"
   ]
  },
  {
   "cell_type": "markdown",
   "metadata": {
    "cell_id": "d13f0498-7db8-4008-8209-e99ee4ff6b79",
    "colab_type": "text",
    "id": "V0cd6shRfPjq"
   },
   "source": [
    "<div class='exercise-r'>\n",
    "\n",
    "**3.3** Generate a plot of the data and your regression curve (similar to [Question 2.1](#part2)). Comment on how your model fits the data and compare it to the fit of your \"guesstimated\" model from [Question 2](#part2solutions).\n",
    "\n",
    "</div>"
   ]
  },
  {
   "cell_type": "code",
   "execution_count": 10,
   "metadata": {},
   "outputs": [
    {
     "data": {
      "image/png": "[encoded data removed]",
      "text/plain": [
       "<Figure size 432x288 with 1 Axes>"
      ]
     },
     "metadata": {
      "needs_background": "light"
     },
     "output_type": "display_data"
    }
   ],
   "source": [
    "# your code here\n",
    "# Helper code to visualise the results\n",
    "idx = np.argsort(x_test[:,0])\n",
    "x_test = x_test[idx]\n",
    "\n",
    "# Use the above index to get the appropriate predicted values for y_test\n",
    "# y_test values corresponding to sorted test data\n",
    "y_test = y_test[idx]\n",
    "\n",
    "# Non-linear predicted values\n",
    "y_poly_pred = y_poly_pred_test[idx]\n",
    "\n",
    "# First plot x & y values using plt.scatter\n",
    "plt.scatter(x_train, y_train, s=10, label=\"Train Data\")\n",
    "plt.scatter(x_test, y_test, s=10, label=\"Test Data\")\n",
    "\n",
    "# Plot the polynomial regression fit curve\n",
    "# Use x_test as apposed to x_poly_test because x_poly_test is a matrix\n",
    "plt.plot(x_test, y_poly_pred, label=\"Prediction Curve\", color='red', alpha=0.6)\n",
    "\n",
    "# Graph the train and test data as well as the polynomial fit\n",
    "plt.title(\n",
    "    \"Spreading Factor vs. \"\n",
    "    \"Percentage Change in Bacteria Population with 'Better' Polynomial Fit\",\n",
    "    fontsize=14,\n",
    ")\n",
    "plt.xlabel(\"Spreading Factor\", fontsize=12)\n",
    "plt.ylabel(\"Percentage Change\", fontsize=12)\n",
    "plt.grid(\":\", alpha=0.4)\n",
    "plt.tight_layout()\n",
    "plt.legend()\n",
    "plt.show()"
   ]
  },
  {
   "cell_type": "markdown",
   "metadata": {},
   "source": [
    "**INTERPRETATION:**"
   ]
  },
  {
   "cell_type": "markdown",
   "metadata": {},
   "source": [
    "With this model we get a slightly lower MSE value and the fit of this graph does appear to match the data, however, looking back at the graph from 3.1 we can see that degree 8 and 2 both had similar MSE values so this seems like a pretty minimal improvement.\n"
   ]
  },
  {
   "cell_type": "markdown",
   "metadata": {
    "cell_id": "5c60cdd3-9885-4ac2-8144-635a481460f4",
    "tags": []
   },
   "source": [
    "<a id=\"part4\"></a>\n",
    "\n",
    "## <div class='exercise'>Question 4: Finding the best model by k-fold cross validation [14 pts]</div> \n",
    "\n",
    "[Return to contents](#contents)\n",
    "\n",
    "**4.1** In this part we find the best degree polynomial regression by running the model on a range of degree values and using k-fold cross validation on the `bacteria_train.csv` dataset.\n",
    "\n",
    "- Use scikit-learn's `cross_validate(...)` to perform cross validation with `k=10` for each degree polynomial regression up to **degree 30**.\n",
    "- Generate a single plot showing the mean train and validation $MSE$ values (see note below) for each degree polynomial regression, including the +/- 1 standard deviation bounds for the validation $MSE$ values. Comment on trends and findings illustrated by your plot.\n",
    "- Print the degree of the best model, identified based on the lowest mean validation $MSE$, along with the corresponding mean train and validation $MSE$ values.\n",
    "\n",
    "**NOTE:** When we refer to train and validation $MSE$ values here in Question 4.1 and in future problems where we are performing cross validation, we are referring specifically to the cross-validation generated train and validation $MSE$ values. Just please remember, when accessing your validation $MSE$ values while performing cross validation with scikit-learn's `cross_validate(...)`, scikit-learn rather confusingly refers to its validation scores as `test_score` in the dictionary that it returns, even though those values are actually validation scores. Please see the `cross_validate(...)` [documentation](https://scikit-learn.org/stable/modules/generated/sklearn.model_selection.cross_validate.html) for more info on this function.\n",
    "\n",
    "**4.2** Fit the best model on the entire training data and report the $MSE$.\n",
    "\n",
    "- For the best degree polynomial regression identified in Question 4.1 above, train on the complete training set from the `bacteria_train.csv` file and predict on the test data.\n",
    "- Report the coefficients of the model.\n",
    "- Report both the training and test $MSE$ values, and save the **test** $MSE$ to `best_mse_dict`.\n",
    "\n",
    "\n",
    "**4.3** Generate a plot of the data and your regression curve (similar to [Question 2.1](#part2)). Comment on how your model fits the data and how your model compares relative to the prior best-fit model you generated using just a single validation set in [Question 3](#part3solutions).\n"
   ]
  },
  {
   "cell_type": "markdown",
   "metadata": {},
   "source": [
    "<a id=\"part4solutions\"></a>\n",
    "\n",
    "## Question 4: Solutions\n",
    "\n",
    "[Return to contents](#contents)"
   ]
  },
  {
   "cell_type": "markdown",
   "metadata": {
    "cell_id": "e5f47820-486a-4ad4-9a05-261f6cbd1cdd",
    "colab_type": "text",
    "id": "EMVwiaUxsPzF"
   },
   "source": [
    "<div class='exercise-r'>\n",
    "\n",
    "**4.1** In this part we find the best degree polynomial regression by running the model on a range of degree values and using k-fold cross validation on the `bacteria_train.csv` dataset.\n",
    "\n",
    "- Use scikit-learn's `cross_validate(...)` to perform cross validation with `k=10` for each degree polynomial regression up to **degree 30**.\n",
    "- Generate a single plot showing the mean train and validation $MSE$ values (see note below) for each degree polynomial regression, including the +/- 1 standard deviation bounds for the validation $MSE$ values. Comment on trends and findings illustrated by your plot.\n",
    "- Print the degree of the best model, identified based on the lowest mean validation $MSE$, along with the corresponding mean train and validation $MSE$ values.\n",
    "\n",
    "**NOTE:** When we refer to train and validation $MSE$ values here in Question 4.1 and in future problems where we are performing cross validation, we are referring specifically to the cross-validation generated train and validation $MSE$ values. Just please remember, when accessing your validation $MSE$ values while performing cross validation with scikit-learn's `cross_validate(...)`, scikit-learn rather confusingly refers to its validation scores as `test_score` in the dictionary that it returns, even though those values are actually validation scores. Please see the `cross_validate(...)` [documentation](https://scikit-learn.org/stable/modules/generated/sklearn.model_selection.cross_validate.html) for more info on this function.\n",
    "\n",
    "</div>"
   ]
  },
  {
   "cell_type": "code",
   "execution_count": 23,
   "metadata": {
    "cell_id": "26f3b96b-e54c-417a-b612-aad8c24c46da",
    "colab": {},
    "colab_type": "code",
    "id": "CSMnW7uLbZQE"
   },
   "outputs": [
    {
     "data": {
      "image/png": "[encoded data removed]",
      "text/plain": [
       "<Figure size 720x432 with 1 Axes>"
      ]
     },
     "metadata": {
      "needs_background": "light"
     },
     "output_type": "display_data"
    },
    {
     "name": "stdout",
     "output_type": "stream",
     "text": [
      "The lowest mean validation MSE occurs at degree 2\n",
      "The corresponding mean train MSE value is 3.4336183542563914\n",
      "The corresponding mean train MSE value is 3.4336183542563914\n"
     ]
    }
   ],
   "source": [
    "# your code here\n",
    "### Use scikit-learn's cross_validate(...) to perform cross validation with k=10 for each degree polynomial regression up to degree 30.\n",
    "# Load split datasets\n",
    "x_train = df_train[['Spreading_factor']].values\n",
    "y_train = df_train['Perc_population'].values\n",
    "x_test = df_test[['Spreading_factor']].values\n",
    "y_test = df_test['Perc_population'].values\n",
    "\n",
    "# Split your training data such that you separate out a single 20% validation split.\n",
    "x_ttrain, x_tval, y_ttrain, y_tval = train_test_split(x_train, y_train, test_size=0.20, random_state=109)\n",
    "\n",
    "# Create a list of degrees\n",
    "degrees = range(0, 31)\n",
    "\n",
    "# Initialize lists to store cross-validation MSEs\n",
    "cross_validation_error_train = []\n",
    "cross_validation_error_val = []\n",
    "std_dev_val = []\n",
    "\n",
    "# Loop through each degree\n",
    "for d in degrees:\n",
    "    # Compute the polynomial features for the train data\n",
    "    x_poly_train = PolynomialFeatures(degree=d).fit_transform(x_ttrain)\n",
    "\n",
    "    # Compute the polynomial features for the validation data\n",
    "    x_poly_val = PolynomialFeatures(degree=d).fit_transform(x_tval)\n",
    "    \n",
    "    # Initialize a Linear Regression object\n",
    "    lreg = LinearRegression(fit_intercept = False)\n",
    "    \n",
    "    # Perform cross-validation on the train and test data with 10 folds and get the mse_scores\n",
    "    mse_score_train = cross_validate(lreg, x_poly_train, y_ttrain, cv=10, scoring=\"neg_mean_squared_error\", return_train_score=True )\n",
    "    mse_score_val = cross_validate(lreg, x_poly_val, y_tval, cv=10, scoring=\"neg_mean_squared_error\", return_train_score=True )\n",
    "    \n",
    "    # Compute the mean of the cross validation error and store in respective list \n",
    "    cross_validation_error_train.append(-1*np.mean(mse_score_train['test_score']))\n",
    "    cross_validation_error_val.append(-1*np.mean(mse_score_val['test_score']))\n",
    "    \n",
    "    # Compute standard deviation and add to list\n",
    "    std_dev_val.append(np.std(mse_score_val['test_score']))\n",
    "\n",
    "### Generate a single plot showing the mean train and validation  𝑀𝑆𝐸  values for each degree polynomial regression,\n",
    "### including the +/- 1 standard deviation bounds for the validation  𝑀𝑆𝐸  values.\n",
    "fig, ax = plt.subplots(figsize = (10,6))\n",
    "ax.plot(degrees, np.log(cross_validation_error_train), color='r', alpha = 0.9, label = \"CV Training Error\", lw=2.2)\n",
    "ax.errorbar(degrees, np.log(cross_validation_error_val), yerr=np.log(std_dev_val), color='b', alpha = 0.9, label = \"CV Validation Error\", lw=2.2)\n",
    "ax.legend(loc='best',fontsize=15)\n",
    "ax.set_xlabel(\"Degree of Polynomial\", fontsize=15)\n",
    "ax.set_ylabel(\"Log Mean Squared Error\", fontsize=15)\n",
    "ax.set_title(\"Log of Train and Validation Cross Validation as a function of degree\")\n",
    "plt.show();\n",
    "\n",
    "### Print the degree of the best model, identified based on the lowest mean validation  𝑀𝑆𝐸 , along with the corresponding mean train and validation  𝑀𝑆𝐸  values.\n",
    "min_mse_train = min(cross_validation_error_val)\n",
    "min_mse_val = min(cross_validation_error_val)\n",
    "best_degree = degrees[cross_validation_error_val.index(min_mse_val)]\n",
    "print(\"The lowest mean validation MSE occurs at degree \" + str(best_degree))\n",
    "print(\"The corresponding mean train MSE value is \" + str(min_mse_train))\n",
    "print(\"The corresponding mean train MSE value is \" + str(min_mse_val))"
   ]
  },
  {
   "cell_type": "markdown",
   "metadata": {},
   "source": [
    "**INTERPRETATION:**"
   ]
  },
  {
   "cell_type": "markdown",
   "metadata": {},
   "source": [
    "**your answer here**\n"
   ]
  },
  {
   "cell_type": "markdown",
   "metadata": {
    "cell_id": "8f9f6e8b-e477-4a40-8a72-b4031b111b56",
    "colab_type": "text",
    "id": "Iwnsapke2CYu"
   },
   "source": [
    "<div class='exercise-r'>\n",
    "\n",
    "**4.2** Fit the best model on the entire training data and report the $MSE$.\n",
    "\n",
    "- For the best degree polynomial regression identified in Question 4.1 above, train on the complete training set from the `bacteria_train.csv` file and predict on the test data.\n",
    "- Report the coefficients of the model.\n",
    "- Report both the training and test $MSE$ values, and save the **test** $MSE$ to `best_mse_dict`.\n",
    "\n",
    "</div>"
   ]
  },
  {
   "cell_type": "code",
   "execution_count": 12,
   "metadata": {
    "cell_id": "2f8c3ebe-8856-466b-95a3-e683fd3389cf",
    "colab": {},
    "colab_type": "code",
    "id": "JNWmRvkAsey3"
   },
   "outputs": [],
   "source": [
    "# your code here\n"
   ]
  },
  {
   "cell_type": "markdown",
   "metadata": {
    "cell_id": "cc4960c5-9dad-46a4-a608-02b926bce340",
    "colab_type": "text",
    "id": "uZB7o6VR6Nt6"
   },
   "source": [
    "<div class='exercise-r'>\n",
    "\n",
    "**4.3** Generate a plot of the data and your regression curve (similar to [Question 2.1](#part2)). Comment on how your model fits the data and how your model compares relative to the prior best-fit model you generated using just a single validation set in [Question 3](#part3solutions).\n",
    "\n",
    "</div>"
   ]
  },
  {
   "cell_type": "code",
   "execution_count": 13,
   "metadata": {},
   "outputs": [],
   "source": [
    "# your code here\n"
   ]
  },
  {
   "cell_type": "markdown",
   "metadata": {},
   "source": [
    "**INTERPRETATION:**"
   ]
  },
  {
   "cell_type": "markdown",
   "metadata": {},
   "source": [
    "**your answer here**\n"
   ]
  },
  {
   "cell_type": "markdown",
   "metadata": {
    "cell_id": "5c60cdd3-9885-4ac2-8144-635a481460f4",
    "tags": []
   },
   "source": [
    "<a id=\"part5\"></a>\n",
    "\n",
    "## <div class='exercise'>Question 5: Finding the most consistent model using k-fold cross validation with bootstraps [16 pts]</div> \n",
    "\n",
    "[Return to contents](#contents)\n",
    "\n",
    "**5.1** In the previous part, we used $k$-fold cross validation to find the best model. But how confident are you of your estimated best degree? We have already used bootstraps in [Question 2.2](#part2) to estimate the confidence intervals of our $\\beta_i$ values. In this segment, we will use bootstrapping to test the robustness of our estimation. As before, we use the `bacteria_train.csv` data to train the model and `bacteria_test.csv` to test the model.\n",
    "\n",
    "- Similar to Question 2.2, run **at least 100 bootstraps** of your data.\n",
    "- For each bootstrap:\n",
    "  - Use scikit-learn's `cross_validate(...)` to perform cross validation with `k=10` for each degree polynomial regression up to **degree 30**.\n",
    "  - Select the best cross-validated degree polynomial regression based on lowest mean validation $MSE$ and store that best degree to a list.\n",
    "- After completing your bootstraps, you should have a list of \"best degree\" numbers, one degree for each completed bootstrap.\n",
    "- Generate a bar plot, with the polynomial degree on the $x$-axis and the number of times that degree was deemed best on the $y$-axis, using the “best degree” numbers saved during your bootstraps.\n",
    "\n",
    "**NOTE:** Once complete, your code for this problem will likely take several minutes to execute. This is to be expected.\n",
    "\n",
    "**5.2** What are your observations? \n",
    "\n",
    "- Why do you see so much variation in the \"best degree\" over the bootstraps?\n",
    "- Which degree polynomial regression will you choose as your overall best degree based on your bootstrapped results, and why? \n",
    "\n",
    "**5.3** Now, with the overall best degree identified with your bootstrapping results above, train the polynomial regression model on the **complete training set**. Report both the training and test $MSE$ values, and save the **test** $MSE$ to `best_mse_dict`.\n",
    "\n",
    "**5.4** Generate a plot of the data and your regression curve (similar to [Question 2.1](#part2)). Comment on how your model fits the data and compare it to the fit of your cross-validated model from [Question 4](#part4solutions)."
   ]
  },
  {
   "cell_type": "markdown",
   "metadata": {},
   "source": [
    "<a id=\"part5solutions\"></a>\n",
    "\n",
    "## Question 5: Solutions\n",
    "\n",
    "[Return to contents](#contents)"
   ]
  },
  {
   "cell_type": "markdown",
   "metadata": {
    "cell_id": "0a790850-87c6-4f46-b89e-048a2295c92b",
    "colab_type": "text",
    "id": "IGFtXJmQap2q"
   },
   "source": [
    "<div class='exercise-r'>\n",
    "\n",
    "**5.1** In the previous part, we used $k$-fold cross validation to find the best model. But how confident are you of your estimated best degree? We have already used bootstraps in [Question 2.2](#part2) to estimate the confidence intervals of our $\\beta_i$ values. In this segment, we will use bootstrapping to test the robustness of our estimation. As before, we use the `bacteria_train.csv` data to train the model and `bacteria_test.csv` to test the model.\n",
    "\n",
    "- Similar to Question 2.2, run **at least 100 bootstraps** of your data.\n",
    "- For each bootstrap:\n",
    "  - Use scikit-learn's `cross_validate(...)` to perform cross validation with `k=10` for each degree polynomial regression up to **degree 30**.\n",
    "  - Select the best cross-validated degree polynomial regression based on lowest mean validation $MSE$ and store that best degree to a list.\n",
    "- After completing your bootstraps, you should have a list of \"best degree\" numbers, one degree for each completed bootstrap.\n",
    "- Generate a bar plot, with the polynomial degree on the $x$-axis and the number of times that degree was deemed best on the $y$-axis, using the “best degree” numbers saved during your bootstraps.\n",
    "\n",
    "**NOTE:** Once complete, your code for this problem will likely take several minutes to execute. This is to be expected.\n",
    "\n",
    "</div>"
   ]
  },
  {
   "cell_type": "code",
   "execution_count": 14,
   "metadata": {
    "cell_id": "cf01f169-a2cc-4eda-b7c5-55f9af780310",
    "colab": {},
    "colab_type": "code",
    "id": "BE7HvHLgtcUW",
    "output_cleared": false
   },
   "outputs": [],
   "source": [
    "# your code here\n"
   ]
  },
  {
   "cell_type": "markdown",
   "metadata": {
    "cell_id": "8f9f6e8b-e477-4a40-8a72-b4031b111b56",
    "colab_type": "text",
    "id": "Iwnsapke2CYu"
   },
   "source": [
    "<div class='exercise-r'>\n",
    "\n",
    "**5.2** What are your observations? \n",
    "\n",
    "- Why do you see so much variation in the \"best degree\" over the bootstraps?\n",
    "- Which degree polynomial regression will you choose as your overall best degree based on your bootstrapped results, and why? \n",
    "\n",
    "\n",
    "</div>"
   ]
  },
  {
   "cell_type": "markdown",
   "metadata": {},
   "source": [
    "**your answer here**\n"
   ]
  },
  {
   "cell_type": "markdown",
   "metadata": {
    "cell_id": "8f9f6e8b-e477-4a40-8a72-b4031b111b56",
    "colab_type": "text",
    "id": "Iwnsapke2CYu"
   },
   "source": [
    "<div class='exercise-r'>\n",
    "\n",
    "**5.3** Now, with the overall best degree identified with your bootstrapping results above, train the polynomial regression model on the **complete training set**. Report both the training and test $MSE$ values, and save the **test** $MSE$ to `best_mse_dict`.\n",
    "\n",
    "</div>"
   ]
  },
  {
   "cell_type": "code",
   "execution_count": 15,
   "metadata": {
    "cell_id": "32ac05dc-6db8-4c64-8028-4a6e4c16ec1c"
   },
   "outputs": [],
   "source": [
    "# your code here\n"
   ]
  },
  {
   "cell_type": "markdown",
   "metadata": {},
   "source": [
    "<div class='exercise-r'>\n",
    "\n",
    "**5.4** Generate a plot of the data and your regression curve (similar to [Question 2.1](#part2)). Comment on how your model fits the data and compare it to the fit of your cross-validated model from [Question 4](#part4solutions).\n",
    "\n",
    "</div>"
   ]
  },
  {
   "cell_type": "code",
   "execution_count": 16,
   "metadata": {},
   "outputs": [],
   "source": [
    "# your code here\n"
   ]
  },
  {
   "cell_type": "markdown",
   "metadata": {},
   "source": [
    "**INTERPRETATION:**"
   ]
  },
  {
   "cell_type": "markdown",
   "metadata": {},
   "source": [
    "**your answer here**\n"
   ]
  },
  {
   "cell_type": "markdown",
   "metadata": {
    "cell_id": "8a32aef5-65a6-426d-a7ca-1f6fd63b3b16"
   },
   "source": [
    "<a id=\"part6\"></a>\n",
    "\n",
    "## <div class='exercise'>Question 6: Improving model consistency with LASSO regularization [33 pts]</div> \n",
    "\n",
    "[Return to contents](#contents)\n",
    "\n",
    "In the previous sections, we compared many polynomial models to find the best degree. For each model of degree $n$, we considered all polynomial coefficients *up to* **degree $n$** using `PolynomialFeatures(...)`. In this section we will consider polynomial features of $n=30$, and a **best model** that could be chosen from any possible combination of our 30 degrees.\n",
    "\n",
    "For instance, we could choose a best model with an arbitrary set of polynomial degrees up degree 30, such as $x^i \\in [x^1, x^5, x^{19}, x^{24}]$, rather than the standard approach of using *all* consecutive degrees up to our maximum degree $n=30$ as in $x^i \\in [x^0, x^1, ... , x^{30}]$.\n",
    "\n",
    "However, the total number of such possible models for $n=30$ is $2^{30}\\approx10^9$, and searching through all of them would be laborious and computationally inefficient. Instead, we can use $LASSO$ (i.e. $L1$) regularization, which \"switches off\" highly unstable degree coefficients by shrinking them to zero (or very close to zero), thus giving us an efficient solution to this particular combinatorial challenge.\n",
    "\n",
    "**6.1 Find the best hyper-parameter alpha, $\\alpha$**\n",
    "\n",
    "First, we will use cross validation to find the the best regularization parameter $\\alpha$. As before, we use the `bacteria_train.csv` for cross validation.\n",
    "\n",
    "- Use polynomial features with **degree 30**. \n",
    "- For each regularization parameter $\\alpha$ in $\\alpha \\in [10^{-3}, 10^{-2}, 10^{-1}, 10^{0}, 10^{1}]$, perform scikit-learn's `Lasso(...)` regression using `cross_validate(...)` with `k=10`.\n",
    "- Do not worry about normalizing your $x$ values for any parts of Question 6. It will not meaningfully affect our final results here.\n",
    "- Generate a single plot showing the mean train and validation $MSE$ values for each regularization parameter $\\alpha$, including the +/- 1 standard deviation bounds for the validation $MSE$ values.\n",
    "- Print the best $\\alpha$ value, identified based on the lowest mean validation $MSE$, along with the corresponding mean train and validation $MSE$ values.\n",
    "- Did your $LASSO$ regression model generate any warnings while solving this problem? If so, what was that warning, what did it mean, what steps did you take to address the cause of this warning, and why might it be important to take those steps? (See the [NOTE](#part6note) at the bottom of Question 6 for some hints.)\n",
    "\n",
    "\n",
    "**6.2 Find the most significant degrees**\n",
    "\n",
    "From the previous section, you will now have the `best_alpha` hyperparameter. Now, we will use this best $\\alpha$ value to find the \"most significant\" set of polynomial degrees by using bootstraps.\n",
    "\n",
    "What we mean by this is, for each bootstrap of the data, you will get some set of degrees that are **significant**, as will be indicated by the value of their coefficients. Typically, while using $LASSO$ regularization, we would consider $\\mid\\beta_i\\mid \\gt 0$ as an indication of a particular coefficient's significance. However, for this particular exercise, we are going to use $\\mid\\beta_i\\mid \\gt 0.1$ as our criteria for significance (we have found this $0.1$ threshold to work well when designing this particular problem).\n",
    "\n",
    "Based on this criteria, you will identify which degree coefficients are significant over many bootstrapped iterations with $n=30$ polynomial features and your chosen best $\\alpha$ from Question 6.1.\n",
    "\n",
    "- Use polynomial features with **degree 30**.\n",
    "- Use a dictionary called `significant_degrees` to store a cumulative count for each degree identified as significant during your bootstraps.\n",
    "- Run at least 100 bootstraps of your data.\n",
    "- For each bootstrap:\n",
    "  - Train a `Lasso(...)` model with the `best_alpha` identified in Question 6.1.\n",
    "  - Identify the significant polynomial degree coefficients using $\\mid\\beta_i\\mid \\gt 0.1 $ as our threshold for significance.\n",
    "  - For each significant coefficient, update the count of that degree in your `significant_degrees` dictionary.\n",
    "- Generate a bar plot showing the count for each degree, showing how many times it was identified as significant over your bootstraps.\n",
    "- Based on this plot, there should likely be a clear maximum degree, above which, few if any iterations have been identified as significant. Interpret your bar plot, choose a maximum degree polynomial based upon it, and explain your rationale for choosing that degree.\n",
    "\n",
    "\n",
    "**6.3 Compute and print the test $MSE$**\n",
    "\n",
    "From our Question 6.2 results, we can see that only some degrees are consistently significant over many bootstraps. You will now retrain the $L1$ regularized model on the entire **training** data and find the test $MSE$.\n",
    "\n",
    "- Use polynomial features based on the maximum degree you identified using your results from Question 6.2 (for the sake of simplicity, use all degrees up to that maximum degree as is typically done in polynomial regression).\n",
    "- Train your **LASSO** regularized model using your `best_alpha` hyper-parameter on the entire training set.\n",
    "- Generate a plot of the data and your regression curve (similar to [Question 2.1](#part2)).\n",
    "- Report the polynomial degrees and corresponding coefficients for this fully trained model that have an absolute value greater than 0.1 (i.e. $\\mid\\beta_i\\mid \\gt 0.1 $).\n",
    "- Report the train and test $MSE$ and save the test $MSE$ to `best_mse_dict`.\n",
    "\n",
    "**6.4 What are your observations?**\n",
    "\n",
    "- Compare your `best_degree` from [Question 5](#part5solutions) with your chosen degree in 6.3 above and comment on the difference.\n",
    "- Compare your test $MSE$ in this question with the result from question 5. Which one is smaller, and by how much?\n",
    "- Which degree coefficients in your best fit model from 6.3 are significant? If not all coefficients are significant, why?\n",
    "- Would you expect your current model from 6.3 to be more \"reliable\" or robust than the models in Question 5 and prior? On what basis would you make a claim of its robustness?\n",
    "\n",
    "<a id=\"part6note\"></a>\n",
    "\n",
    "**NOTE:**\n",
    "- Once complete, your code for 6.1 and 6.2 will likely take several minutes to execute. This is to be expected.\n",
    "- You will also likely receive `ConvergenceWarning` messages as your $LASSO$ regression models are trained.\n",
    "  - Try resolving this warning by increasing your $LASSO$ models' maximum iterations by between 20-times to 100-times greater than scikit-learn's default number of iterations for its `Lasso(...)` implementation.\n",
    "  - If that fails to resolve this warning, feel free to also uncomment the [IPython cell magic](https://ipython.readthedocs.io/en/stable/interactive/magics.html#cellmagic-capture) provided at the top the code cell (i.e. `%%capture --no-stdout --no-display`) to silence the warning.\n",
    "  - Please note that using a `%%capture` cell magic such as this is a good alternative to using Python's native `warnings.filterwarnings(...)` when working in a Jupyter notebook, because it helps to ensure you don't accidentally silence important warnings in other parts of your notebook.\n"
   ]
  },
  {
   "cell_type": "markdown",
   "metadata": {},
   "source": [
    "<a id=\"part6solutions\"></a>\n",
    "\n",
    "## Question 6: Solutions\n",
    "\n",
    "[Return to contents](#contents)"
   ]
  },
  {
   "cell_type": "markdown",
   "metadata": {},
   "source": [
    "<div class='exercise-r'>\n",
    "\n",
    "**6.1 Find the best hyper-parameter alpha, $\\alpha$**\n",
    "\n",
    "First, we will use cross validation to find the the best regularization parameter $\\alpha$. As before, we use the `bacteria_train.csv` for cross validation.\n",
    "\n",
    "- Use polynomial features with **degree 30**. \n",
    "- For each regularization parameter $\\alpha$ in $\\alpha \\in [10^{-3}, 10^{-2}, 10^{-1}, 10^{0}, 10^{1}]$, perform scikit-learn's `Lasso(...)` regression using `cross_validate(...)` with `k=10`.\n",
    "- Do not worry about normalizing your $x$ values for any parts of Question 6. It will not meaningfully affect our final results here.\n",
    "- Generate a single plot showing the mean train and validation $MSE$ values for each regularization parameter $\\alpha$, including the +/- 1 standard deviation bounds for the validation $MSE$ values.\n",
    "- Print the best $\\alpha$ value, identified based on the lowest mean validation $MSE$, along with the corresponding mean train and validation $MSE$ values.\n",
    "- Did your $LASSO$ regression model generate any warnings while solving this problem? If so, what was that warning, what did it mean, what steps did you take to address the cause of this warning, and why might it be important to take those steps? (See the [NOTE](#part6note) at the bottom of Question 6 for some hints.)\n",
    "\n",
    "</div>"
   ]
  },
  {
   "cell_type": "code",
   "execution_count": 17,
   "metadata": {
    "cell_id": "4f9d6f96-a6b7-4951-a98a-f29e0351a113",
    "tags": []
   },
   "outputs": [],
   "source": [
    "# %%capture --no-stdout --no-display\n",
    "\n",
    "# your code here\n"
   ]
  },
  {
   "cell_type": "markdown",
   "metadata": {},
   "source": [
    "**INTERPRETATION:**"
   ]
  },
  {
   "cell_type": "markdown",
   "metadata": {},
   "source": [
    "**your answer here**\n"
   ]
  },
  {
   "cell_type": "markdown",
   "metadata": {},
   "source": [
    "<div class='exercise-r'>\n",
    "\n",
    "**6.2 Find the most significant degrees**\n",
    "\n",
    "From the previous section, you will now have the `best_alpha` hyperparameter. Now, we will use this best $\\alpha$ value to find the \"most significant\" set of polynomial degrees by using bootstraps.\n",
    "\n",
    "What we mean by this is, for each bootstrap of the data, you will get some set of degrees that are **significant**, as will be indicated by the value of their coefficients. Typically, while using $LASSO$ regularization, we would consider $\\mid\\beta_i\\mid \\gt 0$ as an indication of a particular coefficient's significance. However, for this particular exercise, we are going to use $\\mid\\beta_i\\mid \\gt 0.1$ as our criteria for significance (we have found this $0.1$ threshold to work well when designing this particular problem).\n",
    "\n",
    "Based on this criteria, you will identify which degree coefficients are significant over many bootstrapped iterations with $n=30$ polynomial features and your chosen best $\\alpha$ from Question 6.1.\n",
    "\n",
    "- Use polynomial features with **degree 30**.\n",
    "- Use a dictionary called `significant_degrees` to store a cumulative count for each degree identified as significant during your bootstraps.\n",
    "- Run at least 100 bootstraps of your data.\n",
    "- For each bootstrap:\n",
    "  - Train a `Lasso(...)` model with the `best_alpha` identified in Question 6.1.\n",
    "  - Identify the significant polynomial degree coefficients using $\\mid\\beta_i\\mid \\gt 0.1 $ as our threshold for significance.\n",
    "  - For each significant coefficient, update the count of that degree in your `significant_degrees` dictionary.\n",
    "- Generate a bar plot showing the count for each degree, showing how many times it was identified as significant over your bootstraps.\n",
    "- Based on this plot, there should likely be a clear maximum degree, above which, few if any iterations have been identified as significant. Interpret your bar plot, choose a maximum degree polynomial based upon it, and explain your rationale for choosing that degree.\n",
    "\n",
    "</div>"
   ]
  },
  {
   "cell_type": "code",
   "execution_count": 18,
   "metadata": {
    "cell_id": "1e847ea0-95b4-47fa-8c71-09636de2c913",
    "tags": []
   },
   "outputs": [],
   "source": [
    "# %%capture --no-stdout --no-display\n",
    "\n",
    "# your code here\n"
   ]
  },
  {
   "cell_type": "markdown",
   "metadata": {},
   "source": [
    "**INTERPRETATION:**"
   ]
  },
  {
   "cell_type": "markdown",
   "metadata": {},
   "source": [
    "**your answer here**\n"
   ]
  },
  {
   "cell_type": "markdown",
   "metadata": {},
   "source": [
    "<div class='exercise-r'>\n",
    "\n",
    "**6.3 Compute and print the test $MSE$**\n",
    "\n",
    "From our Question 6.2 results, we can see that only some degrees are consistently significant over many bootstraps. You will now retrain the $L1$ regularized model on the entire **training** data and find the test $MSE$.\n",
    "\n",
    "- Use polynomial features based on the maximum degree you identified using your results from Question 6.2 (for the sake of simplicity, use all degrees up to that maximum degree as is typically done in polynomial regression).\n",
    "- Train your **LASSO** regularized model using your `best_alpha` hyper-parameter on the entire training set.\n",
    "- Generate a plot of the data and your regression curve (similar to [Question 2.1](#part2)).\n",
    "- Report the polynomial degrees and corresponding coefficients for this fully trained model that have an absolute value greater than 0.1 (i.e. $\\mid\\beta_i\\mid \\gt 0.1 $).\n",
    "- Report the train and test $MSE$ and save the test $MSE$ to `best_mse_dict`.\n",
    "\n",
    "</div>"
   ]
  },
  {
   "cell_type": "code",
   "execution_count": 19,
   "metadata": {
    "cell_id": "8e836c0a-f87f-43f5-9448-838d0028b904",
    "tags": []
   },
   "outputs": [],
   "source": [
    "# your code here\n"
   ]
  },
  {
   "cell_type": "markdown",
   "metadata": {},
   "source": [
    "<div class='exercise-r'>\n",
    "\n",
    "**6.4 What are your observations?**\n",
    "\n",
    "- Compare your `best_degree` from [Question 5](#part5solutions) with your chosen degree in 6.3 above and comment on the difference.\n",
    "- Compare your test $MSE$ in this question with the result from question 5. Which one is smaller, and by how much?\n",
    "- Which degree coefficients in your best fit model from 6.3 are significant? If not all coefficients are significant, why?\n",
    "- Would you expect your current model from 6.3 to be more \"reliable\" or robust than the models in Question 5 and prior? On what basis would you make a claim of its robustness?\n",
    "\n",
    "</div>"
   ]
  },
  {
   "cell_type": "markdown",
   "metadata": {},
   "source": [
    "**your answer here**\n"
   ]
  },
  {
   "cell_type": "markdown",
   "metadata": {
    "cell_id": "fe903f84-5847-4e97-95c5-4424e57a375c",
    "tags": []
   },
   "source": [
    "<a id=\"part7\"></a>\n",
    "\n",
    "## <div class='exercise'>Question 7: Analyze your best test MSEs for each sub section of the homework [6 pts]</div> \n",
    "\n",
    "[Return to contents](#contents)\n",
    "\n",
    "\n",
    "**7.1** Convert the `best_mse_dict` dictionary used to store the best $MSE$ values from each section of the homework into a Pandas dataframe. Generate a bar plot illustrating the $MSE$ values in that dataframe and also display the resulting dataframe.\n",
    "\n",
    "**7.2** Which model do you think is best, and why? What are some of that model's drawbacks compared to the other models? "
   ]
  },
  {
   "cell_type": "markdown",
   "metadata": {},
   "source": [
    "<a id=\"part7solutions\"></a>\n",
    "\n",
    "## Question 7: Solutions\n",
    "\n",
    "[Return to contents](#contents)"
   ]
  },
  {
   "cell_type": "markdown",
   "metadata": {},
   "source": [
    "<div class='exercise-r'>\n",
    "\n",
    "**7.1** Convert the `best_mse_dict` dictionary used to store the best $MSE$ values from each section of the homework into a Pandas dataframe. Generate a bar plot illustrating the $MSE$ values in that dataframe and also display the resulting dataframe.\n",
    "\n",
    "</div>"
   ]
  },
  {
   "cell_type": "code",
   "execution_count": 20,
   "metadata": {
    "cell_id": "6a95aee4-794c-4c64-814f-2c6409017f10",
    "tags": []
   },
   "outputs": [],
   "source": [
    "# your code here\n"
   ]
  },
  {
   "cell_type": "markdown",
   "metadata": {},
   "source": [
    "<div class='exercise-r'>\n",
    "\n",
    "**7.2** Which model do you think is best, and why? What are some of that model's drawbacks compared to the other models? \n",
    "\n",
    "</div>"
   ]
  },
  {
   "cell_type": "markdown",
   "metadata": {},
   "source": [
    "**your answer here**\n"
   ]
  },
  {
   "cell_type": "markdown",
   "metadata": {},
   "source": [
    "#### THE END"
   ]
  }
 ],
 "metadata": {
  "colab": {
   "collapsed_sections": [],
   "name": "Homework2.ipynb",
   "provenance": []
  },
  "deepnote_execution_queue": [
   {
    "cellId": "7925de61-e041-437e-ba6b-b1c3e1b2fb0c",
    "msgId": "81bcbf6f-fa59-42e6-9480-bc996bae8f99",
    "sessionId": "e7116124-0a70-4245-961a-e0041ff25d29"
   },
   {
    "cellId": "32ac05dc-6db8-4c64-8028-4a6e4c16ec1c",
    "msgId": "17b61e3a-31e9-45e0-b1c8-cba828b9a48d",
    "sessionId": "e7116124-0a70-4245-961a-e0041ff25d29"
   },
   {
    "cellId": "9e4ea6c6-2cb0-4aa1-b5bf-67be3a47ac87",
    "msgId": "66b23ef4-2198-4543-a34e-3b998d83f1c7",
    "sessionId": "e7116124-0a70-4245-961a-e0041ff25d29"
   },
   {
    "cellId": "0cdef907-9d0f-4057-a70b-71022017e321",
    "msgId": "125b9c17-7ffa-4214-9ca2-27e9e34df7c7",
    "sessionId": "e7116124-0a70-4245-961a-e0041ff25d29"
   },
   {
    "cellId": "2eefd92c-1d9f-49fe-a7f7-d7f0f4f59e95",
    "msgId": "81a1b165-ee3a-4ab0-afff-99f4dfa74eef",
    "sessionId": "e7116124-0a70-4245-961a-e0041ff25d29"
   },
   {
    "cellId": "40b93f58-240f-49bc-ab9c-a919d74b8e61",
    "msgId": "4b00a64e-a71b-4cf9-a228-cbabdbee0414",
    "sessionId": "e7116124-0a70-4245-961a-e0041ff25d29"
   },
   {
    "cellId": "2f3d3efa-8220-44b2-afbf-9600c2fea073",
    "msgId": "5bdcc501-f577-4908-9e85-aa52b44f652f",
    "sessionId": "e7116124-0a70-4245-961a-e0041ff25d29"
   },
   {
    "cellId": "2f3d3efa-8220-44b2-afbf-9600c2fea073",
    "msgId": "96fa923e-991c-409f-954b-1a9d036a7f0a",
    "sessionId": "e7116124-0a70-4245-961a-e0041ff25d29"
   },
   {
    "cellId": "cc0c9423-6587-41fb-88c4-5e7db61d7791",
    "msgId": "c4775dd8-e4e3-4505-865a-d2b54022e97c",
    "sessionId": "e7116124-0a70-4245-961a-e0041ff25d29"
   },
   {
    "cellId": "4f9d6f96-a6b7-4951-a98a-f29e0351a113",
    "msgId": "2721b704-5efa-4783-a128-ea0b813e202f",
    "sessionId": "e7116124-0a70-4245-961a-e0041ff25d29"
   },
   {
    "cellId": "4f9d6f96-a6b7-4951-a98a-f29e0351a113",
    "msgId": "14cd3ada-ede8-4693-b8ce-b1254e5357cb",
    "sessionId": "e7116124-0a70-4245-961a-e0041ff25d29"
   },
   {
    "cellId": "1e847ea0-95b4-47fa-8c71-09636de2c913",
    "msgId": "a53842aa-e7d2-4787-a474-04717a13bf12",
    "sessionId": "e7116124-0a70-4245-961a-e0041ff25d29"
   },
   {
    "cellId": "4b9d11b1-bc81-4937-8924-eda535bbe287",
    "msgId": "f9fa1ff3-ed3e-4876-8bb3-239ee4ec0279",
    "sessionId": "e7116124-0a70-4245-961a-e0041ff25d29"
   },
   {
    "cellId": "8e836c0a-f87f-43f5-9448-838d0028b904",
    "msgId": "f7641d44-aaf7-4676-bbd4-439a47d4db1f",
    "sessionId": "e7116124-0a70-4245-961a-e0041ff25d29"
   },
   {
    "cellId": "c72943b7-5e58-4fe3-9225-fa0beeff3654",
    "msgId": "1878748e-321b-484f-bee1-344ec8caf68e",
    "sessionId": "e7116124-0a70-4245-961a-e0041ff25d29"
   },
   {
    "cellId": "c4bd7d98-380a-4853-8114-51d41f0cfd95",
    "msgId": "af49c97c-7c7c-4b0c-9543-5c38d238fffb",
    "sessionId": "e7116124-0a70-4245-961a-e0041ff25d29"
   },
   {
    "cellId": "c4bd7d98-380a-4853-8114-51d41f0cfd95",
    "msgId": "691b283d-e47a-4686-9e73-4f457365a32a",
    "sessionId": "e7116124-0a70-4245-961a-e0041ff25d29"
   }
  ],
  "deepnote_notebook_id": "80dec77d-caa5-42a3-a211-a1492a1ab3e6",
  "kernelspec": {
   "display_name": "Python 3 (ipykernel)",
   "language": "python",
   "name": "python3"
  },
  "language_info": {
   "codemirror_mode": {
    "name": "ipython",
    "version": 3
   },
   "file_extension": ".py",
   "mimetype": "text/x-python",
   "name": "python",
   "nbconvert_exporter": "python",
   "pygments_lexer": "ipython3",
   "version": "3.9.7"
  }
 },
 "nbformat": 4,
 "nbformat_minor": 4
}
