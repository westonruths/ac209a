{
 "cells": [
  {
   "cell_type": "markdown",
   "metadata": {
    "tags": []
   },
   "source": [
    "# <img style=\"float: left; padding-right: 10px; width: 45px\" src=\"https://raw.githubusercontent.com/Harvard-IACS/2018-CS109A/master/content/styles/iacs.png\"> CS109A Introduction to Data Science: \n",
    "\n",
    "## Homework 5  AC209: GLMs\n",
    "\n",
    "\n",
    "**Harvard University**<br/>\n",
    "**Fall 2021**<br/>\n",
    "**Instructors**: Pavlos Protopapas, Natesh Pillai\n"
   ]
  },
  {
   "cell_type": "markdown",
   "metadata": {},
   "source": [
    "<hr style=\"height:2pt\">"
   ]
  },
  {
   "cell_type": "code",
   "execution_count": null,
   "metadata": {},
   "outputs": [],
   "source": [
    "# RUN THIS CELL \n",
    "import requests\n",
    "from IPython.core.display import HTML\n",
    "styles = requests.get(\n",
    "    \"https://raw.githubusercontent.com/Harvard-IACS/2021-CS109A/master/\"\n",
    "    \"themes/static/css/cs109.css\"\n",
    ").text\n",
    "HTML(styles)"
   ]
  },
  {
   "cell_type": "markdown",
   "metadata": {},
   "source": [
    "<a id=\"instructions\"></a>\n",
    "\n",
    "<hr style=\"height:2pt\">\n",
    "\n",
    "### INSTRUCTIONS\n",
    "\n",
    "- To submit your assignment follow the instructions given in Canvas.\n",
    "\n",
    "- Please **restart the kernel and run the entire notebook again before you submit.**\n",
    "\n",
    "- Running cells out of order is a common pitfall in Jupyter Notebooks. To make sure your code continues to work, restart the kernel and rerun your notebook periodically while working through this assignment. \n",
    "\n",
    "- We have tried to include all the libraries you may need to do the assignment in the imports cell provided below. **Please use only the libraries provided in those imports.**\n",
    "\n",
    "- Please use `.head(...)` when viewing data. Do not submit a notebook that is **excessively long**. \n",
    "\n",
    "- In questions that require code to answer, such as \"calculate and report $R^2$\", do not just output the value from a cell. Write a `print(...)` function that clearly labels the output, includes a reference to the calculated value, and rounds it to a reasonable number of digits. **Do not hard code values in your printed output**. For example, this is an appropriate print statement:\n",
    "```python\n",
    "print(f'The R^2 is {R:.4f}')\n",
    "```\n",
    "- **Your plots MUST be clearly labeled and easy to read,** including clear labels for the $x$ and $y$ axes, a descriptive title (\"MSE plot\" is NOT a descriptive title; \"95% confidence interval of coefficients for degree-5 polynomial model\" on the other hand is descriptive), a legend when appropriate, and clearly formatted text and graphics.\n",
    "\n",
    "- **Your code may also be evaluated for efficiency and clarity.** As a result, correct output is not always sufficient for full credit.\n",
    "\n",
    "<hr style=\"height:2pt\">"
   ]
  },
  {
   "cell_type": "markdown",
   "metadata": {},
   "source": [
    "### Import Libraries"
   ]
  },
  {
   "cell_type": "code",
   "execution_count": null,
   "metadata": {},
   "outputs": [],
   "source": [
    "# RUN THIS CELL\n",
    "import pandas as pd\n",
    "import numpy as np\n",
    "import matplotlib.pyplot as plt\n",
    "\n",
    "from scipy.stats import poisson \n",
    "from scipy.optimize import minimize\n",
    "from sklearn.linear_model import LinearRegression"
   ]
  },
  {
   "cell_type": "markdown",
   "metadata": {},
   "source": [
    "## <div class='exercise'> Question 1: Poisson regression [20 pts] </b> </div>\n",
    "\n",
    "The probability density function of the Poisson distribution is given by:\n",
    "\n",
    "$$ p(y|\\lambda) =  \\frac{\\lambda^{y}}{y!} e^{-\\lambda}$$\n",
    "\n",
    "\n",
    "**1.1** Show that the Poisson distribution belongs to the general exponential distribution family with probability density:\n",
    "\n",
    "$$f(y|\\theta)= \\exp\\left( \\frac{y  \\,\\theta-b(\\theta)}{\\phi}+c(y,\\phi)\\right)$$\n",
    "\n",
    "**1.2** For the Poisson distribution, calculate the canonical parameter $\\theta$ in terms of $\\lambda$, the cumulant function $b(\\theta)$, the dispersion parameter $\\phi$, and the normalization function $c(y,\\phi)$.\n",
    "\n",
    "**1.3**  Show that the canonical link $g(.)$ for the Poisson regression model is given by:\n",
    "\n",
    "$$\\eta = g(\\lambda) = \\log(\\lambda)$$\n",
    "\n",
    "**1.4** Derive to the *normal equations* that maximizes the likelihood in the Poisson regression model.\n",
    "\n",
    "**1.5** Write a function (name it `pois_loglik`) that returns the log-likelihood (either the positive or negative) for a simple Poisson regression model with one predictor (make sure you incorporate the canonical link properly to connect $\\beta_0+\\beta_1 X_1$ to $\\lambda$).  The inputs should be `beta` (a vector), `X` (a matrix), and `y` (a vector), and a boolean `negative` with default option of `False` (that flags whether or not the negative value should be returned) and returns the log-likelihood evaluation.  **Note:** `X` and `beta` should include the intercept appropriately.\n",
    "\n",
    "**Hint:** [scipy.stats.poisson](https://docs.scipy.org/doc/scipy/reference/generated/scipy.stats.poisson.html) may be helpful.\n",
    "\n",
    "**1.6** Use an appropriate visual to explore whether `storms` is related to `watertemp` in the `atlanticstorms.csv` data set.  Use this visual to guess what values of $\\beta_0$ and $\\beta_1$ would be reasonable in a Poisson regression model.\n",
    "\n",
    "**Hint:** Be careful as to the scale for this guess: be sure to take into account the canonical link connection between $\\beta_0+\\beta_1 X_1$ and $\\lambda$.\n",
    "\n",
    "**Note:** The `atlanticstorms.csv` data set contains annual counts of the number of tropical storms in the Atlantic Ocean (`storms`) along with the average water temperature in the Gulf of Mexico in June of that year (`watertemp`), measured as the deviation from average in degrees Fahrenheit.\n",
    "\n",
    "\n",
    "**1.7** Use your `pois_loglik` function to get the maximum likelihood estimates for $\\beta_0$ and $\\beta_1$ fit to predict `storms` from `watertemp` in the `atlanticstorms.csv` data set.  Be explicit as to the initial starting value you decide on for $\\beta_0$ and $\\beta_1$ (for example, it may match your guesses from the previous part).\n",
    "\n",
    "**Hint:** [scipy.optimize.minimize](https://docs.scipy.org/doc/scipy/reference/generated/scipy.optimize.minimize.html) may be helpful.\n",
    "\n",
    "\n",
    "**1.8** Fit the standard linear regression model (feel free to use sklearn) to predict `np.log(storms)` from `watertemp` in the `atlanticstorms.csv` data set.  Compare the estimates for the coefficients in this model to the Poisson regression model.  What do these models say about the association between the number of storms in the Atlantic (on the original scale) and the water temperature in the Gulf of Mexico?\n",
    "\n",
    "**Hint:** It might be useful to plot both model's curve (along with the scatterplot of the data) on the original scale."
   ]
  },
  {
   "cell_type": "markdown",
   "metadata": {},
   "source": [
    "<hr style=\"height:1pt\"> \n",
    "\n",
    "## Question 1: Solutions\n",
    "\n"
   ]
  },
  {
   "cell_type": "markdown",
   "metadata": {},
   "source": [
    "<div class='exercise-r'>\n",
    "\n",
    "The probability density function of the Poisson distribution is given by:\n",
    "\n",
    "$$ p(y|\\lambda) =  \\frac{\\lambda^{y}}{y!} e^{-\\lambda}$$\n",
    "\n",
    "\n",
    "**1.1** Show that the Poisson distribution belongs to the general exponential distribution family with probability density:\n",
    "\n",
    "$$f(y|\\theta)= \\exp\\left( \\frac{y  \\,\\theta-b(\\theta)}{\\phi}+c(y,\\phi)\\right)$$\n",
    "\n",
    "</div>"
   ]
  },
  {
   "cell_type": "markdown",
   "metadata": {},
   "source": [
    "**your answer here**"
   ]
  },
  {
   "cell_type": "markdown",
   "metadata": {},
   "source": [
    "<div class='exercise-r'>\n",
    "\n",
    "**1.2** For the Poisson distribution, calculate the canonical parameter $\\theta$ in terms of $\\lambda$, the cumulant function $b(\\theta)$, the dispersion parameter $\\phi$, and the normalization function $c(y,\\phi)$.\n",
    "\n",
    "</div>"
   ]
  },
  {
   "cell_type": "markdown",
   "metadata": {},
   "source": [
    "**your answer here**"
   ]
  },
  {
   "cell_type": "markdown",
   "metadata": {},
   "source": [
    "<div class='exercise-r'>\n",
    "\n",
    "**1.3**  Show that the canonical link $g(.)$ for the Poisson regression model is given by:\n",
    "\n",
    "$$\\eta = g(\\lambda) = \\log(\\lambda)$$\n",
    "    \n",
    "</div>"
   ]
  },
  {
   "cell_type": "markdown",
   "metadata": {},
   "source": [
    "**your answer here**"
   ]
  },
  {
   "cell_type": "markdown",
   "metadata": {},
   "source": [
    "<div class='exercise-r'>\n",
    "\n",
    "**1.4** Derive to the *normal equations* that maximizes the likelihood in the Poisson regression model.\n",
    "    \n",
    "</div>"
   ]
  },
  {
   "cell_type": "markdown",
   "metadata": {},
   "source": [
    "**your answer here**"
   ]
  },
  {
   "cell_type": "markdown",
   "metadata": {},
   "source": [
    "<div class='exercise-r'>\n",
    "\n",
    "**1.5** Write a function (name it `pois_loglik`) that returns the log-likelihood (either the positive or negative) for a simple Poisson regression model with one predictor (make sure you incorporate the canonical link properly to connect $\\beta_0+\\beta_1 X_1$ to $\\lambda$).  The inputs should be `beta` (a vector), `X` (a matrix), and `y` (a vector), and a boolean `negative` with default option of `False` (that flags whether or not the negative value should be returned) and returns the log-likelihood evaluation.  **Note:** `X` and `beta` should include the intercept appropriately.\n",
    "\n",
    "**Hint:** [scipy.stats.poisson](https://docs.scipy.org/doc/scipy/reference/generated/scipy.stats.poisson.html) may be helpful.\n",
    "\n",
    "</div>"
   ]
  },
  {
   "cell_type": "code",
   "execution_count": null,
   "metadata": {},
   "outputs": [],
   "source": [
    "def pois_loglik(beta, X, y, negative = False):\n",
    "    \n",
    "    # your code here\n",
    "    "
   ]
  },
  {
   "cell_type": "markdown",
   "metadata": {},
   "source": [
    "<div class='exercise-r'>\n",
    "\n",
    "**1.6** Use an appropriate visual to explore whether `storms` is related to `watertemp` in the `atlanticstorms.csv` data set.  Use this visual to guess what values of $\\beta_0$ and $\\beta_1$ would be reasonable in a Poisson regression model.\n",
    "\n",
    "**Hint:** Be careful as to the scale for this guess: be sure to take into account the canonical link connection between $\\beta_0+\\beta_1 X_1$ and $\\lambda$.\n",
    "\n",
    "**Note:** The `atlanticstorms.csv` data set contains annual counts of the number of tropical storms in the Atlantic Ocean (`storms`) along with the average water temperature in the Gulf of Mexico in June of that year (`watertemp`), measured as the deviation from average in degrees Fahrenheit.\n",
    "    \n",
    "</div>"
   ]
  },
  {
   "cell_type": "code",
   "execution_count": null,
   "metadata": {},
   "outputs": [],
   "source": [
    "# your code here\n"
   ]
  },
  {
   "cell_type": "markdown",
   "metadata": {},
   "source": [
    "**INTERPRETATION:**"
   ]
  },
  {
   "cell_type": "markdown",
   "metadata": {},
   "source": [
    "**your answer here**"
   ]
  },
  {
   "cell_type": "markdown",
   "metadata": {},
   "source": [
    "<div class='exercise-r'>\n",
    "\n",
    "**1.7** Use your `pois_loglik` function to get the maximum likelihood estimates for $\\beta_0$ and $\\beta_1$ fit to predict `storms` from `watertemp` in the `atlanticstorms.csv` data set.  Be explicit as to the initial starting value you decide on for $\\beta_0$ and $\\beta_1$ (for example, it may match your guesses from the previous part).\n",
    "\n",
    "**Hint:** [scipy.optimize.minimize](https://docs.scipy.org/doc/scipy/reference/generated/scipy.optimize.minimize.html) may be helpful.\n",
    "    \n",
    "</div>"
   ]
  },
  {
   "cell_type": "code",
   "execution_count": null,
   "metadata": {},
   "outputs": [],
   "source": [
    "# your code here\n"
   ]
  },
  {
   "cell_type": "markdown",
   "metadata": {},
   "source": [
    "<div class='exercise-r'>\n",
    "\n",
    "**1.8** Fit the standard linear regression model (feel free to use sklearn) to predict `np.log(storms)` from `watertemp` in the `atlanticstorms.csv` data set.  Compare the estimates for the coefficients in this model to the Poisson regression model.  What do these models say about the association between the number of storms in the Atlantic (on the original scale) and the water temperature in the Gulf of Mexico?\n",
    "\n",
    "**Hint:** It might be useful to plot both model's curve (along with the scatterplot of the data) on the original scale.\n",
    "\n",
    "</div>"
   ]
  },
  {
   "cell_type": "code",
   "execution_count": null,
   "metadata": {},
   "outputs": [],
   "source": [
    "# your code here\n"
   ]
  },
  {
   "cell_type": "markdown",
   "metadata": {},
   "source": [
    "**INTERPRETATION:**"
   ]
  },
  {
   "cell_type": "markdown",
   "metadata": {},
   "source": [
    "**your answer here**"
   ]
  },
  {
   "cell_type": "markdown",
   "metadata": {},
   "source": [
    "#### THE END"
   ]
  }
 ],
 "metadata": {
  "kernelspec": {
   "display_name": "Python 3 (ipykernel)",
   "language": "python",
   "name": "python3"
  },
  "language_info": {
   "codemirror_mode": {
    "name": "ipython",
    "version": 3
   },
   "file_extension": ".py",
   "mimetype": "text/x-python",
   "name": "python",
   "nbconvert_exporter": "python",
   "pygments_lexer": "ipython3",
   "version": "3.9.6"
  }
 },
 "nbformat": 4,
 "nbformat_minor": 4
}
