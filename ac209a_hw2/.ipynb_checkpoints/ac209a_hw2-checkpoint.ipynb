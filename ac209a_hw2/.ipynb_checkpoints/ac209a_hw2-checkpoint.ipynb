{
 "cells": [
  {
   "cell_type": "markdown",
   "metadata": {},
   "source": [
    "# <img style=\"float: left; padding-right: 10px; width: 45px\" src=\"https://raw.githubusercontent.com/Harvard-IACS/2018-CS109A/master/content/styles/iacs.png\"> CS109A Introduction to Data Science\n",
    "## Homework 2: kNN and Linear Regression\n",
    "\n",
    "**Harvard University**<br/>\n",
    "**Fall 2021**<br/>\n",
    "**Instructors**: Pavlos Protopapas and Natesh Pillai\n",
    "\n",
    "<hr style=\"height:2.4pt\">"
   ]
  },
  {
   "cell_type": "code",
   "execution_count": 1,
   "metadata": {},
   "outputs": [
    {
     "data": {
      "text/html": [
       "<style>\n",
       "blockquote { background: #AEDE94; }\n",
       "h1 {\n",
       "    padding-top: 25px;\n",
       "    padding-bottom: 25px;\n",
       "    text-align: left;\n",
       "    padding-left: 10px;\n",
       "    background-color: #63ACBE;\n",
       "    color: black;\n",
       "}\n",
       "h2 {\n",
       "    padding-top: 10px;\n",
       "    padding-bottom: 10px;\n",
       "    text-align: left;\n",
       "    padding-left: 5px;\n",
       "    background-color: #EEEEEE;\n",
       "    color: black;\n",
       "}\n",
       "\n",
       "div.exercise {\n",
       "\tbackground-color: #f8b4ab;\n",
       "\tborder-color: #E9967A;\n",
       "\tborder-left: 5px solid #601A4A;\n",
       "\tpadding: 0.5em;\n",
       "}\n",
       "\n",
       "div.exercise-r {\n",
       "\tbackground-color: #ffd0d0;\n",
       "\tborder-color: #E9967A;\n",
       "\tborder-left: 5px solid #601A4A;\n",
       "\tpadding: 0.5em;\n",
       "}\n",
       "\n",
       "\n",
       "span.sub-q {\n",
       "\tfont-weight: bold;\n",
       "}\n",
       "div.theme {\n",
       "\tbackground-color: #63ACBE;\n",
       "\tborder-color: #E9967A;\n",
       "\tborder-left: 5px solid #601A4A;\n",
       "\tpadding: 0.5em;\n",
       "\tfont-size: 18pt;\n",
       "}\n",
       "div.gc {\n",
       "\tbackground-color: #AEDE94;\n",
       "\tborder-color: #E9967A;\n",
       "\tborder-left: 5px solid #601A4A;\n",
       "\tpadding: 0.5em;\n",
       "\tfont-size: 12pt;\n",
       "}\n",
       "p.q1 {\n",
       "    padding-top: 5px;\n",
       "    padding-bottom: 5px;\n",
       "    text-align: left;\n",
       "    padding-left: 5px;\n",
       "    background-color: #EEEEEE;\n",
       "    color: black;\n",
       "}\n",
       "header {\n",
       "   padding-top: 35px;\n",
       "    padding-bottom: 35px;\n",
       "    text-align: left;\n",
       "    padding-left: 10px;\n",
       "    background-color: #DDDDDD;\n",
       "    color: black;\n",
       "}\n",
       "span.emph {\n",
       "\tcolor: #601A4A;\n",
       "\tfont-weight: bold;\n",
       "}\n",
       "\n",
       "</style>\n"
      ],
      "text/plain": [
       "<IPython.core.display.HTML object>"
      ]
     },
     "execution_count": 1,
     "metadata": {},
     "output_type": "execute_result"
    }
   ],
   "source": [
    "# RUN THIS CELL \n",
    "import requests\n",
    "from IPython.core.display import HTML\n",
    "styles = requests.get(\n",
    "    \"https://raw.githubusercontent.com/Harvard-IACS/2021-CS109A/master/\"\n",
    "    \"themes/static/css/cs109.css\"\n",
    ").text\n",
    "HTML(styles)"
   ]
  },
  {
   "cell_type": "markdown",
   "metadata": {},
   "source": [
    "<a id=\"instructions\"></a>\n",
    "\n",
    "<hr style=\"height:2pt\">\n",
    "\n",
    "### INSTRUCTIONS\n",
    "\n",
    "\n",
    "- To submit your assignment follow the instructions given in Canvas.\n",
    "\n",
    "- Please restart the kernel and run the entire notebook again before you submit.\n",
    "\n",
    "- Running cells out of order is a common pitfall in Jupyter Notebooks. To make sure your code continues to work, restart the kernel and rerun the notebook periodically while working through this assignment. \n",
    "\n",
    "- We have tried to include all the libraries you may need to do the assignment in the imports cell provided below. **Please use only the libraries provided in those imports.**\n",
    "\n",
    "- Please use .head() when viewing data. Do not submit a notebook that is **excessively long**. \n",
    "\n",
    "- In questions that require code to answer, such as \"calculate the $R^2$\", do not just output the value from a cell. Write a `print()` function that clearly labels the output, includes a reference to the calculated value, and rounds it to a reasonable number of digits. **Do not hard code values in your printed output**. For example, this is an appropriate print statement:\n",
    "```python\n",
    "print(f'The R^2 is {R:.4f}')\n",
    "```\n",
    "- **Your plots MUST be clearly labeled and easy to read,** including clear labels for the $x$ and $y$ axes, a descriptive title (\"MSE plot\" is NOT a descriptive title; \"95% confidence interval of coefficients of polynomial degree 5\" on the other hand is descriptive), a legend when appropriate, and clearly formatted text and graphics.\n",
    "\n",
    "<hr style=\"height:2pt\">"
   ]
  },
  {
   "cell_type": "code",
   "execution_count": 2,
   "metadata": {
    "cell_id": "c0d45bbc-accf-40bf-9819-f21abadc79a6",
    "colab": {
     "base_uri": "https://localhost:8080/",
     "height": 71
    },
    "colab_type": "code",
    "id": "Gj0IyRyyID1e",
    "outputId": "252f49e5-6651-4bd7-e138-ff8f67d1e551"
   },
   "outputs": [],
   "source": [
    "# RUN THIS CELL\n",
    "import os\n",
    "import pathlib\n",
    "working_dir = pathlib.Path().absolute()\n",
    "os.chdir(working_dir)\n",
    "\n",
    "# Import libraries\n",
    "import matplotlib\n",
    "import matplotlib.pyplot as plt\n",
    "import numpy as np\n",
    "import operator\n",
    "import pandas as pd\n",
    "import seaborn as sns\n",
    "from sklearn.linear_model import LinearRegression\n",
    "from sklearn.metrics import mean_squared_error\n",
    "from sklearn.metrics import r2_score\n",
    "from sklearn.model_selection import train_test_split\n",
    "from sklearn.neighbors import KNeighborsRegressor\n",
    "\n",
    "# pandas tricks for better display\n",
    "pd.options.display.max_columns = 50  \n",
    "pd.options.display.max_rows = 500     \n",
    "pd.options.display.max_colwidth = 100\n",
    "pd.options.display.precision = 3\n",
    "\n",
    "# Question 7 optional imports \n",
    "from scipy.stats import norm\n",
    "from sklearn.preprocessing import PolynomialFeatures\n",
    "\n",
    "%matplotlib inline"
   ]
  },
  {
   "cell_type": "markdown",
   "metadata": {},
   "source": [
    "<a id=\"contents\"></a>\n",
    "\n",
    "## Notebook Contents\n",
    "\n",
    "- [**PART 1 [60 pts]: Predicting the selling price of cars on CarDekho.com**](#part1)\n",
    "  - [Part 1 Overview](#part1intro)\n",
    "  - [Question 1: Exploratory data analysis (EDA) [10 pts]](#part1questions)\n",
    "  - [Question 2: k-Nearest Neighbors [25 pts]](#part2questions)\n",
    "  - [Question 3: Simple linear regression [25 pts]](#part3questions)\n",
    "  - [Question 4 (required for 209a students, optional for others):  Linear regression with feature engineering [10 pts]](#part4questions)\n",
    "\n",
    "\n",
    "- [**PART 2 [40 pts]: Analysis of publically available profiles on SimplyMarry.com**](#part2)\n",
    "  - [Part 2 Overview](#part2intro)\n",
    "  - [Question 5:   Investigating relationships of SimplyMarry.com reported attributes [25 pts]](#part5questions)\n",
    "  - [Question 6:  Calculate the Gini coefficient [15 pts]](#part6questions)\n",
    "  - [Question 7 (required for 209a students, optional for others):  Multi-linear regression [10 pts]](#part7questions)\n"
   ]
  },
  {
   "cell_type": "markdown",
   "metadata": {
    "cell_id": "e3ac03bc-f0ec-4c6b-a41a-9c8eeaa80770",
    "colab_type": "text",
    "id": "-5WJkGo16514"
   },
   "source": [
    "## About this homework\n",
    "\n",
    "This assignment is the first where we will go through the process of loading a dataset, splitting it in train and test sets, pre-processing it, and finally running models and evaluating our results.\n",
    "\n",
    "We have two different datasets, one with car data in [**PART 1**](#part1) and another with data from an Indian matrimonial web site in [**PART 2**](#part2). Using these datasets, you will explore two simple methods for prediction,  **k-nearest neighbors regression (kNN)**, a *non-parametric* method, and **linear regression**, a *parametric* method.\n",
    "\n",
    "**PLEASE NOTE:** [Question 4](#part4questions) and [Question 7](#part7questions) are **required for 209a students** and are **optional for 109a students**. 109a students are welcome to complete Q4 and Q7, if time permits, for your own learning experience. However, neither Q4 nor Q7 will be graded for 109a students and neither will not count toward your grade. On the otherhand, 209a students MUST complete Q4 and Q7, and both questions will be graded."
   ]
  },
  {
   "cell_type": "markdown",
   "metadata": {},
   "source": [
    "<a id=\"part1\"></a>\n",
    "    \n",
    "# PART 1 [60 pts]: Predicting the selling price of cars on CarDekho.com\n",
    "\n",
    "[Return to contents](#contents)"
   ]
  },
  {
   "cell_type": "markdown",
   "metadata": {
    "cell_id": "7e70ce31-0411-4589-8fca-2c9592b4f4cc",
    "colab_type": "text",
    "id": "XL6pJ_Em652E"
   },
   "source": [
    "<a id=\"part1intro\"></a>\n",
    "\n",
    "## Overview\n",
    "\n",
    "[Return to contents](#contents)\n",
    "\n",
    "According to its website, **CarDekho.com** is India's leading car search venture. Its website and app carry rich automotive content such as expert reviews, detailed specs and prices, comparisons, as well as videos and pictures of all car brands and models available in India. Each car has a **current selling price**, which is the price for buying a used car on this site, and an **MRP**, which is the retail price of the car. These two prices differ depending on factors such as brand, make year, mileage, condition, etc.  \n",
    "\n",
    "### Dataset \n",
    "\n",
    "The dataset contains 601 used cars and is available as `data/car_dekho_full.csv`. It contains the following columns:\n",
    "\n",
    "- **Year** - make year (year the car was made), \n",
    "- **Current_Selling_Price** - current price of a used car on CarDekho.com (in lakhs),\n",
    "- **MRP** - maximum retail price of the car when it was new (in lakhs). \n",
    "- **Kms_Driven** - number of kilometers\n",
    "\n",
    "**NOTE:** 1 *lakh*  is 100,000 Rupees in the Indian numbering system. Also, kilometers are used as a measure of distance instead of miles.\n",
    "\n",
    "### Objective\n",
    "\n",
    "Using kNN and linear regression we will predict the `Current_Selling_Price` from the other features available in this dataset."
   ]
  },
  {
   "cell_type": "markdown",
   "metadata": {
    "cell_id": "f730863d-8973-4500-a833-88ae80ff8d60",
    "colab_type": "text",
    "id": "56zUJ3q4652F"
   },
   "source": [
    "<a id=\"part1questions\"></a>\n",
    "\n",
    "## <div class='exercise'><b> Question 1: Exploratory data analysis (EDA) [10 pts]</b></div>\n",
    "\n",
    "[Return to contents](#contents)\n",
    "\n",
    "To reach the goal of predicting the `Current_Selling_Price`, start by inspecting the dataset using Exploratory Data Analysis (EDA).\n",
    "\n",
    "**Load the dataset, inspect it, and answer the following questions:**\n",
    "\n",
    "**1.1** Identify all variables in the dataset. Which ones are quantitative, and which ones are categorical? If you think any variables are categorical, briefly explain why.\n",
    "\n",
    "**1.2** What are the means and standard deviations for `Current_Selling_Price` and `MRP`? \n",
    "\n",
    "**1.3** What is the range of kilometers that the cars have been driven?\n",
    "\n",
    "**1.4** The goal of this part is to identify the best variable from which to predict our response variable `Current_Selling_Price`. \n",
    "\n",
    "- Plot a scatter plot between each predictor and our reponse variable and examine the relationship between the predictors and `Current_Selling_Price`.\n",
    "- Based on the plots, which is the predictor that visually seems to best predict the `Current_Selling_Price`? \n",
    "    \n",
    "    \n",
    "**PLEASE NOTE:** In this course, you will be expected to ALWAYS label your axes, title your graphs, and produce visuals which clearly communicate the data (as described in the [Instructions](#instructions) at the start of this notebook). Visuals should often be accompanied by text identifying the key point of the visual and defending any choices you make as a data scientist regarding the visual to best communicate your data."
   ]
  },
  {
   "cell_type": "markdown",
   "metadata": {
    "cell_id": "eaed1594-de29-4e01-aae5-b6a7f76f6303",
    "colab_type": "text",
    "id": "kCMMuQiS652F",
    "tags": []
   },
   "source": [
    "## Question 1: Solutions \n",
    "\n",
    "[Return to contents](#contents)"
   ]
  },
  {
   "cell_type": "markdown",
   "metadata": {
    "cell_id": "eaed1594-de29-4e01-aae5-b6a7f76f6303",
    "colab_type": "text",
    "id": "kCMMuQiS652F",
    "tags": []
   },
   "source": [
    "<div class='exercise-r'>  \n",
    "\n",
    "To reach the goal of predicting the `Current_Selling_Price`, start by inspecting the dataset using Exploratory Data Analysis (EDA).\n",
    "\n",
    "**Load the dataset, inspect it, and answer the following questions:**\n",
    "    \n",
    "**1.1** Identify all variables in the dataset. Which ones are quantitative, and which ones are categorical? If you think any variables are categorical, briefly explain why.\n",
    "\n",
    "</div>"
   ]
  },
  {
   "cell_type": "code",
   "execution_count": 3,
   "metadata": {
    "cell_id": "c4c06885-2f94-4f6a-b179-f6b7f240f13a",
    "colab": {
     "base_uri": "https://localhost:8080/",
     "height": 119
    },
    "colab_type": "code",
    "id": "rM43pU2oZWwF",
    "outputId": "e1744532-62e7-492b-8a72-239064636dcc"
   },
   "outputs": [
    {
     "data": {
      "text/html": [
       "<div>\n",
       "<style scoped>\n",
       "    .dataframe tbody tr th:only-of-type {\n",
       "        vertical-align: middle;\n",
       "    }\n",
       "\n",
       "    .dataframe tbody tr th {\n",
       "        vertical-align: top;\n",
       "    }\n",
       "\n",
       "    .dataframe thead th {\n",
       "        text-align: right;\n",
       "    }\n",
       "</style>\n",
       "<table border=\"1\" class=\"dataframe\">\n",
       "  <thead>\n",
       "    <tr style=\"text-align: right;\">\n",
       "      <th></th>\n",
       "      <th>Year</th>\n",
       "      <th>Current_Selling_Price</th>\n",
       "      <th>MRP</th>\n",
       "      <th>Kms_Driven</th>\n",
       "    </tr>\n",
       "  </thead>\n",
       "  <tbody>\n",
       "    <tr>\n",
       "      <th>0</th>\n",
       "      <td>2016</td>\n",
       "      <td>5.25</td>\n",
       "      <td>5.70</td>\n",
       "      <td>3493</td>\n",
       "    </tr>\n",
       "    <tr>\n",
       "      <th>1</th>\n",
       "      <td>2005</td>\n",
       "      <td>3.51</td>\n",
       "      <td>13.70</td>\n",
       "      <td>75000</td>\n",
       "    </tr>\n",
       "    <tr>\n",
       "      <th>2</th>\n",
       "      <td>2010</td>\n",
       "      <td>0.31</td>\n",
       "      <td>1.05</td>\n",
       "      <td>213000</td>\n",
       "    </tr>\n",
       "    <tr>\n",
       "      <th>3</th>\n",
       "      <td>2006</td>\n",
       "      <td>2.10</td>\n",
       "      <td>7.60</td>\n",
       "      <td>50456</td>\n",
       "    </tr>\n",
       "    <tr>\n",
       "      <th>4</th>\n",
       "      <td>2005</td>\n",
       "      <td>0.20</td>\n",
       "      <td>0.57</td>\n",
       "      <td>55000</td>\n",
       "    </tr>\n",
       "  </tbody>\n",
       "</table>\n",
       "</div>"
      ],
      "text/plain": [
       "   Year  Current_Selling_Price    MRP  Kms_Driven\n",
       "0  2016                   5.25   5.70        3493\n",
       "1  2005                   3.51  13.70       75000\n",
       "2  2010                   0.31   1.05      213000\n",
       "3  2006                   2.10   7.60       50456\n",
       "4  2005                   0.20   0.57       55000"
      ]
     },
     "execution_count": 3,
     "metadata": {},
     "output_type": "execute_result"
    }
   ],
   "source": [
    "# your code here\n",
    "# Read the data into a Pandas dataframe\n",
    "df = pd.read_csv('data/car_dekho_full.csv')\n",
    "\n",
    "# Take a quick look at the dataframe\n",
    "df.head()\n"
   ]
  },
  {
   "cell_type": "markdown",
   "metadata": {},
   "source": [
    "**INTERPRETATION:**"
   ]
  },
  {
   "cell_type": "markdown",
   "metadata": {},
   "source": [
    "The year is categorical because there is no intrinsic ordering to the year of the car. All other variables (selling price, MRP, and Kms driven) are quantitative since they are continous, accurate measurements of something."
   ]
  },
  {
   "cell_type": "markdown",
   "metadata": {
    "cell_id": "eaed1594-de29-4e01-aae5-b6a7f76f6303",
    "colab_type": "text",
    "id": "kCMMuQiS652F",
    "tags": []
   },
   "source": [
    "<div class='exercise-r'>  \n",
    "\n",
    "**1.2** What are the means and standard deviations for `Current_Selling_Price` and `MRP`? \n",
    "\n",
    "</div>"
   ]
  },
  {
   "cell_type": "code",
   "execution_count": 4,
   "metadata": {
    "cell_id": "6a97b9f1-f440-415a-b0b0-afafc5736dd0",
    "colab": {
     "base_uri": "https://localhost:8080/",
     "height": 170
    },
    "colab_type": "code",
    "id": "g7_gv4Yz652I",
    "outputId": "56d95061-7ab5-4f13-c124-c418486d73be"
   },
   "outputs": [
    {
     "name": "stdout",
     "output_type": "stream",
     "text": [
      "\n",
      "The mean Current Selling Price is 4.3931 lakhs\n",
      "The mean MRP is 6.9116 lakhs\n",
      "The Standard Deviation of Current Selling Price is 4.5183\n",
      "The Standard Deviation of MRP is 6.4801\n"
     ]
    }
   ],
   "source": [
    "# Be certain to name your variables mean_csp, mean_mrp, std_csp, std_mrp\n",
    "# to match the variable names used in the provided print function\n",
    "\n",
    "# your code here\n",
    "mean_csp = df['Current_Selling_Price'].mean()\n",
    "mean_mrp = df['MRP'].mean()\n",
    "\n",
    "std_csp = df['Current_Selling_Price'].std()\n",
    "std_mrp = df['MRP'].std()\n",
    "\n",
    "# end your code here \n",
    "\n",
    "print(\n",
    "    \"\\n\"\n",
    "    f\"The mean Current Selling Price is {mean_csp:.4f} lakhs\\n\"\n",
    "    f\"The mean MRP is {mean_mrp:.4f} lakhs\\n\"\n",
    "    f\"The Standard Deviation of Current Selling Price is {std_csp:.4f}\\n\"\n",
    "    f\"The Standard Deviation of MRP is {std_mrp:.4f}\"\n",
    ")"
   ]
  },
  {
   "cell_type": "markdown",
   "metadata": {
    "cell_id": "eaed1594-de29-4e01-aae5-b6a7f76f6303",
    "colab_type": "text",
    "id": "kCMMuQiS652F",
    "tags": []
   },
   "source": [
    "<div class='exercise-r'>  \n",
    "\n",
    "**1.3** What is the range of kilometers that the cars have been driven?\n",
    "\n",
    "</div>"
   ]
  },
  {
   "cell_type": "code",
   "execution_count": 5,
   "metadata": {
    "cell_id": "bc35837a-ca32-40bd-b805-7cbaed8f4b48",
    "colab": {
     "base_uri": "https://localhost:8080/",
     "height": 34
    },
    "colab_type": "code",
    "id": "YBgFlNau652O",
    "outputId": "9350e79b-50c9-439f-940c-a77a5efbbc72",
    "tags": []
   },
   "outputs": [
    {
     "name": "stdout",
     "output_type": "stream",
     "text": [
      "\n",
      "The range of kilometers that the cars have been driven is 500.0 to 213000.0 kms.\n"
     ]
    }
   ],
   "source": [
    "# your code here\n",
    "print(\n",
    "    \"\\n\"\n",
    "    f\"The range of kilometers that the cars have been driven is {df['Kms_Driven'].min():.1f} to {df['Kms_Driven'].max():.1f} kms.\")"
   ]
  },
  {
   "cell_type": "markdown",
   "metadata": {
    "cell_id": "eaed1594-de29-4e01-aae5-b6a7f76f6303",
    "colab_type": "text",
    "id": "kCMMuQiS652F",
    "tags": []
   },
   "source": [
    "<div class='exercise-r'>  \n",
    "\n",
    "**1.4** The goal of this part is to identify the best variable from which to predict our response variable `Current_Selling_Price`. \n",
    "\n",
    "- Plot a scatter plot between each predictor and our reponse variable and examine the relationship between the predictors and `Current_Selling_Price`.\n",
    "- Based on the plots, which is the predictor that visually seems to best predict the `Current_Selling_Price`? \n",
    "    \n",
    "    \n",
    "**PLEASE NOTE:** In this course, you will be expected to ALWAYS label your axes, title your graphs, and produce visuals which clearly communicate the data (as described in the [Instructions](#instructions) at the start of this notebook). Visuals should often be accompanied by text identifying the key point of the visual and defending any choices you make as a data scientist regarding the visual to best communicate your data.\n",
    "\n",
    "</div>"
   ]
  },
  {
   "cell_type": "code",
   "execution_count": 16,
   "metadata": {
    "cell_id": "e13ca8ad-8ae9-4550-b470-e0928d4216fa",
    "colab": {
     "base_uri": "https://localhost:8080/",
     "height": 491
    },
    "colab_type": "code",
    "id": "-B2z-1DzaWQw",
    "outputId": "f0806e7b-5481-4530-a505-f46286cd5af5"
   },
   "outputs": [
    {
     "data": {
      "image/png": "[encoded data removed]",
      "text/plain": [
       "<Figure size 1440x576 with 3 Axes>"
      ]
     },
     "metadata": {
      "needs_background": "light"
     },
     "output_type": "display_data"
    }
   ],
   "source": [
    "# your code here\n",
    "df['Year'] = df['Year'].astype(pd.api.types.CategoricalDtype(ordered = False))\n",
    "\n",
    "names_dict = {'Current_Selling_Price' : 'Current Selling Price',\n",
    "              'Year' : 'Make Year (year the car was made)',\n",
    "              'MRP' : 'Maximum Retail Price of the Car When It Was New (Lakhs)',\n",
    "              'Kms_Driven' : 'Number of Kilometers the Car Has Driven'}\n",
    "\n",
    "count=1\n",
    "plt.subplots(figsize=(20, 8))\n",
    "for i in df.columns:\n",
    "    if i == 'Current_Selling_Price':\n",
    "        continue\n",
    "    plt.subplot(1,3,count)\n",
    "    sns.scatterplot(data=df, x=i, y='Current_Selling_Price')  \n",
    "\n",
    "    plt.xlabel(names_dict[i])    \n",
    "    plt.ylabel(names_dict['Current_Selling_Price'])\n",
    "    plt.title(names_dict[i])\n",
    "    count+=1\n",
    "\n",
    "plt.show()"
   ]
  },
  {
   "cell_type": "markdown",
   "metadata": {},
   "source": [
    "**INTERPRETATION:**"
   ]
  },
  {
   "cell_type": "markdown",
   "metadata": {
    "cell_id": "30657aff-3cf5-4fdd-9d71-92b5ad02229d",
    "colab_type": "text",
    "id": "EYRjeIA7652a",
    "tags": []
   },
   "source": [
    "The maximum retail price appears to have the strongest correlation with the selling price of the car. Make year is difficult to use as a predictor variable because one input has multiple outputs for selling price. Additionally, the number of kilometers driven appears to be a bad predictor variable as it has high variability and no identifiable trend."
   ]
  },
  {
   "cell_type": "markdown",
   "metadata": {},
   "source": [
    "<a id=\"part2questions\"></a>\n",
    "\n",
    "## <div class='exercise'><b> Question 2:   k-Nearest Neighbors [25 pts]</b></div>\n",
    "\n",
    "[Return to contents](#contents)\n",
    "\n",
    "We begin our modeling with k-Nearest Neighbors (kNN) regression. For this, we will use `sklearn`'s built-in functions.\n",
    "\n",
    "**2.1** Split the dataset into a train and test set with 75% training data and 25% testing data, using argument `random_state = 109`.\n",
    "\n",
    "**2.2** Now, we will fit several kNN regression models for various values of $k$ to identify the best parameterization for our model.\n",
    "\n",
    "- **2.2.1** For each $k$ in $k \\in [1,2,3,5,7,10,50,100]$, fit a k-NN regression model to the training data with response `Current_Selling_Price` and the predictor chosen in Question 1.4. \n",
    "  - For each $k$, make a plot of reponse vs. predictor (8 plots in total, arranged in a 4×2 grid). \n",
    "  - Each plot of your 8 plots should clearly show (a) the training data and the testing data in different colors, (b) the model prediction, and (c) title, legend, and axis labels.\n",
    "  - **NOTE:** Feel free to use the `plt.subplots()` code we provide to specify your 4x2 grid, unless you first try that and decide that you have a clearer, cleaner way of accomplishing this task. \n",
    "- **2.2.2** Plot the training and test $MSE$ values as a function of $k$ (1 plot in total)\n",
    "- **2.2.3** Find the best model based on the test $MSE$ values.\n",
    "- **2.2.4** Evaluate and report the $R^2$ of the best model.\n",
    "\n",
    "\n",
    "**2.3** Discuss your results by answering the following questions.  You should answer the questions directly in the provided markdown cells of your notebook.\n",
    "\n",
    "- **2.3.1** How does the value of $k$ affect the fitted model?\n",
    "- **2.3.2** If $n$ is the number of observations in the training set, what can you say about a kNN regression model that uses $k = n$?  \n",
    "- **2.3.3** Do the training and test $MSE$ plots exhibit different trends?  Explain how the value of $k$ influences the training and test $MSE$ values.\n",
    "- **2.3.4** Try rerunning the same code by changing the random seed during the train-test split (just be certain to return it to `random_state = 109` and then rerun it prior to moving on to Question 3). Do you always get the same answer? If not, why?"
   ]
  },
  {
   "cell_type": "markdown",
   "metadata": {
    "cell_id": "6945faa8-539f-43ba-a531-337ccc393bda",
    "colab_type": "text",
    "id": "iZMcq7c4CKAT"
   },
   "source": [
    "## Question 2: Solutions \n",
    "\n",
    "[Return to contents](#contents)"
   ]
  },
  {
   "cell_type": "markdown",
   "metadata": {
    "cell_id": "eaed1594-de29-4e01-aae5-b6a7f76f6303",
    "colab_type": "text",
    "id": "kCMMuQiS652F",
    "tags": []
   },
   "source": [
    "<div class='exercise-r'>  \n",
    "\n",
    "**2.1** Split the dataset into a train and test set with 75% training data and 25% testing data, using argument `random_state = 109`.\n",
    "\n",
    "</div>"
   ]
  },
  {
   "cell_type": "code",
   "execution_count": null,
   "metadata": {
    "cell_id": "c81c05da-6e1e-4172-9fca-4d426b2d4018",
    "colab": {},
    "colab_type": "code",
    "id": "ariPVC-5hpCD"
   },
   "outputs": [],
   "source": [
    "# your code here\n"
   ]
  },
  {
   "cell_type": "markdown",
   "metadata": {},
   "source": [
    "<div class='exercise-r'>  \n",
    "\n",
    "**2.2** Now, we will fit several kNN regression models for various values of $k$ to identify the best parameterization for our model.\n",
    "    \n",
    "- **2.2.1** For each $k$ in $k \\in [1,2,3,5,7,10,50,100]$, fit a k-NN regression model to the training data with response `Current_Selling_Price` and the predictor chosen in Question 1.4. \n",
    "  - For each $k$, make a plot of reponse vs. predictor (8 plots in total, arranged in a 4×2 grid). \n",
    "  - Each plot of your 8 plots should clearly show (a) the training data and the testing data in different colors, (b) the model prediction, and (c) title, legend, and axis labels.\n",
    "  - **NOTE:** Feel free to use the `plt.subplots()` code we provide to specify your 4x2 grid, unless you first try that and decide that you have a clearer, cleaner way of accomplishing this task. \n",
    "\n",
    "</div>"
   ]
  },
  {
   "cell_type": "code",
   "execution_count": null,
   "metadata": {
    "cell_id": "c81c05da-6e1e-4172-9fca-4d426b2d4018",
    "colab": {},
    "colab_type": "code",
    "id": "ariPVC-5hpCD"
   },
   "outputs": [],
   "source": [
    "fig, axs = plt.subplots(4,2, figsize=(12, 14))\n",
    "fig.subplots_adjust(hspace = .5, wspace=.3)\n",
    "\n",
    "# your code here\n"
   ]
  },
  {
   "cell_type": "markdown",
   "metadata": {},
   "source": [
    "<div class='exercise-r'>  \n",
    "\n",
    "**2.2.2** Plot the training and test $MSE$ values as a function of $k$ (1 plot in total)\n",
    "\n",
    "</div>"
   ]
  },
  {
   "cell_type": "code",
   "execution_count": null,
   "metadata": {
    "cell_id": "b23b23d1-5a2d-48fe-bbff-b373a155e51f",
    "colab": {
     "base_uri": "https://localhost:8080/",
     "height": 513
    },
    "colab_type": "code",
    "id": "zGOrNK2B653F",
    "outputId": "47e9cafe-e18c-4438-c6f4-cf8d02c0e17f"
   },
   "outputs": [],
   "source": [
    "# your code here\n"
   ]
  },
  {
   "cell_type": "markdown",
   "metadata": {},
   "source": [
    "<div class='exercise-r'>  \n",
    "\n",
    "**2.2.3** Find the best model based on the test $MSE$ values.\n",
    "\n",
    "</div>"
   ]
  },
  {
   "cell_type": "code",
   "execution_count": null,
   "metadata": {
    "cell_id": "4fd7f27b-54de-42ae-9da3-26bed05db487",
    "colab": {},
    "colab_type": "code",
    "id": "orqXeQ1xHd-U"
   },
   "outputs": [],
   "source": [
    "# your code here\n"
   ]
  },
  {
   "cell_type": "markdown",
   "metadata": {},
   "source": [
    "<div class='exercise-r'>  \n",
    "\n",
    "**2.2.4** Evaluate and report the $R^2$ of the best model.\n",
    "\n",
    "</div>"
   ]
  },
  {
   "cell_type": "code",
   "execution_count": null,
   "metadata": {
    "cell_id": "4fd7f27b-54de-42ae-9da3-26bed05db487",
    "colab": {},
    "colab_type": "code",
    "id": "orqXeQ1xHd-U",
    "scrolled": true
   },
   "outputs": [],
   "source": [
    "# your code here\n"
   ]
  },
  {
   "cell_type": "markdown",
   "metadata": {
    "cell_id": "eaed1594-de29-4e01-aae5-b6a7f76f6303",
    "colab_type": "text",
    "id": "kCMMuQiS652F",
    "tags": []
   },
   "source": [
    "<div class='exercise-r'>  \n",
    "\n",
    "**2.3** Discuss your results by answering the following questions.  You should answer the questions directly in the provided markdown cells of your notebook.\n",
    "\n",
    "**2.3.1** How does the value of $k$ affect the fitted model?\n",
    "\n",
    "</div>"
   ]
  },
  {
   "cell_type": "markdown",
   "metadata": {},
   "source": [
    "**your answer here**\n"
   ]
  },
  {
   "cell_type": "markdown",
   "metadata": {},
   "source": [
    "\n",
    "<div class='exercise-r'>  \n",
    "\n",
    "**2.3.2** If $n$ is the number of observations in the training set, what can you say about a kNN regression model that uses $k = n$?\n",
    "\n",
    "</div>"
   ]
  },
  {
   "cell_type": "markdown",
   "metadata": {},
   "source": [
    "**your answer here**\n"
   ]
  },
  {
   "cell_type": "markdown",
   "metadata": {},
   "source": [
    "<div class='exercise-r'>  \n",
    "\n",
    "**2.3.3** Do the training and test $MSE$ plots exhibit different trends?  Explain how the value of $k$ influences the training and test $MSE$ values.\n",
    "\n",
    "</div>"
   ]
  },
  {
   "cell_type": "markdown",
   "metadata": {},
   "source": [
    "**your answer here**\n"
   ]
  },
  {
   "cell_type": "markdown",
   "metadata": {},
   "source": [
    "<div class='exercise-r'>  \n",
    "\n",
    "**2.3.4** Try rerunning the same code by changing the random seed during the train-test split (just be certain to return it to `random_state = 109` and then rerun it prior to moving on to Question 3). Do you always get the same answer? If not, why?\n",
    "\n",
    "</div>"
   ]
  },
  {
   "cell_type": "markdown",
   "metadata": {
    "cell_id": "336b5a99-d756-4d0a-9c9a-d129d84fc73d",
    "colab_type": "text",
    "id": "BQoKQlOt653H"
   },
   "source": [
    "**your answer here**\n"
   ]
  },
  {
   "cell_type": "markdown",
   "metadata": {},
   "source": [
    "<a id=\"part3questions\"></a>\n",
    "\n",
    "## <div class='exercise'><b>Question 3:  Simple linear regression [25 pts]</b></div>\n",
    "\n",
    "[Return to contents](#contents)\n",
    "\n",
    "**3.1** We will now fit our data using a linear regression model. Choose the same **predictor** and **response** variables used to model kNN regression. You will use the same 75% training and 25% testing split of the data, using the same `random_state = 109`.\n",
    "\n",
    "- **3.1.1** Run a linear regression model.\n",
    "- **3.1.2** Report the slope/coefficient and intercept values for the fitted linear model.\n",
    "- **3.1.3** Report the $MSE$ for the training and test sets and the $R^2$ for the test set.\n",
    "- **3.1.4** Plot the **residuals**, $e = y - \\hat{y}$, of the model on the training set as a function of the **response** variable. Draw a horizontal line denoting the zero residual value on the $y$-axis.\n",
    "\n",
    "**NOTE:** Use the `sklearn` module for linear regression. Instantiate a `LinearRegression` model object, use the `fit` method in the instance for fitting a linear regression model, and use the `predict` method to make predictions. As previously, you may use the `mean_squared_error` function to compute $MSE$.\n",
    "    \n",
    "**3.2** Discuss your results by answering the following questions.  \n",
    "\n",
    "- **3.2.1** How does the test $MSE$ score compare with the best test $MSE$ value obtained with kNN regression? \n",
    "\n",
    "- **3.2.2** What does the sign of the slope of the fitted linear model convey about the relationship between the predictor and the response?\n",
    "\n",
    "- **3.2.3** Discuss the shape of the residual plot and what it shows for the quality of the model. Be sure to discuss whether or not the assumption of linearity is valid for this data."
   ]
  },
  {
   "cell_type": "markdown",
   "metadata": {},
   "source": [
    "## Question 3: Solutions \n",
    "\n",
    "[Return to contents](#contents)"
   ]
  },
  {
   "cell_type": "markdown",
   "metadata": {
    "cell_id": "eaed1594-de29-4e01-aae5-b6a7f76f6303",
    "colab_type": "text",
    "id": "kCMMuQiS652F",
    "tags": []
   },
   "source": [
    "<div class='exercise-r'>  \n",
    "\n",
    "**3.1** We will now fit our data using a linear regression model. Choose the same **predictor** and **response** variables used to model kNN regression. You will use the same 75% training and 25% testing split of the data, using the same `random_state = 109`.\n",
    "\n",
    "**3.1.1** Run a linear regression model.\n",
    "\n",
    "- **NOTE:** Use the `sklearn` module for linear regression. Instantiate a `LinearRegression` model object, use the `fit` method in the instance for fitting a linear regression model, and use the `predict` method to make predictions.\n",
    "\n",
    "</div>"
   ]
  },
  {
   "cell_type": "code",
   "execution_count": null,
   "metadata": {
    "cell_id": "c1fe1ac5-8d71-474f-99fd-728403e1769a",
    "colab": {},
    "colab_type": "code",
    "id": "kFK9EZbRmXPg"
   },
   "outputs": [],
   "source": [
    "# your code here\n"
   ]
  },
  {
   "cell_type": "markdown",
   "metadata": {},
   "source": [
    "<div class='exercise-r'>  \n",
    "\n",
    "**3.1.2** Report the slope/coefficient and intercept values for the fitted linear model.\n",
    "\n",
    "</div>"
   ]
  },
  {
   "cell_type": "code",
   "execution_count": null,
   "metadata": {
    "cell_id": "c1fe1ac5-8d71-474f-99fd-728403e1769a",
    "colab": {},
    "colab_type": "code",
    "id": "kFK9EZbRmXPg"
   },
   "outputs": [],
   "source": [
    "# your code here\n"
   ]
  },
  {
   "cell_type": "markdown",
   "metadata": {},
   "source": [
    "<div class='exercise-r'>  \n",
    "\n",
    "**3.1.3** Report the $MSE$ for the training and test sets and the $R^2$ for the test set.\n",
    "\n",
    "</div>"
   ]
  },
  {
   "cell_type": "code",
   "execution_count": null,
   "metadata": {
    "cell_id": "c1fe1ac5-8d71-474f-99fd-728403e1769a",
    "colab": {},
    "colab_type": "code",
    "id": "kFK9EZbRmXPg"
   },
   "outputs": [],
   "source": [
    "# your code here \n"
   ]
  },
  {
   "cell_type": "markdown",
   "metadata": {},
   "source": [
    "<div class='exercise-r'>  \n",
    "\n",
    "**3.1.4** Plot the **residuals**, $e = y - \\hat{y}$, of the model on the training set as a function of the **response** variable. Draw a horizontal line denoting the zero residual value on the $y$-axis.\n",
    "\n",
    "</div>"
   ]
  },
  {
   "cell_type": "code",
   "execution_count": null,
   "metadata": {
    "cell_id": "c1fe1ac5-8d71-474f-99fd-728403e1769a",
    "colab": {},
    "colab_type": "code",
    "id": "kFK9EZbRmXPg"
   },
   "outputs": [],
   "source": [
    "# your code here \n"
   ]
  },
  {
   "cell_type": "markdown",
   "metadata": {
    "cell_id": "eaed1594-de29-4e01-aae5-b6a7f76f6303",
    "colab_type": "text",
    "id": "kCMMuQiS652F",
    "tags": []
   },
   "source": [
    "<div class='exercise-r'>  \n",
    "\n",
    "**3.2** Discuss your results by answering the following questions.\n",
    "\n",
    "**3.2.1** How does the test $MSE$ score compare with the best test $MSE$ value obtained with kNN regression?\n",
    "\n",
    "</div>"
   ]
  },
  {
   "cell_type": "markdown",
   "metadata": {},
   "source": [
    "**your answer here**\n"
   ]
  },
  {
   "cell_type": "markdown",
   "metadata": {},
   "source": [
    "<div class='exercise-r'>  \n",
    "\n",
    "**3.2.2** What does the sign of the slope of the fitted linear model convey about the relationship between the predictor and the response?\n",
    "\n",
    "</div>"
   ]
  },
  {
   "cell_type": "markdown",
   "metadata": {},
   "source": [
    "**your answer here**\n"
   ]
  },
  {
   "cell_type": "markdown",
   "metadata": {},
   "source": [
    "<div class='exercise-r'>  \n",
    "\n",
    "**3.2.3** Discuss the shape of the residual plot and what it shows for the quality of the model. Be sure to discuss whether or not the assumption of linearity is valid for this data.\n",
    "\n",
    "</div>"
   ]
  },
  {
   "cell_type": "markdown",
   "metadata": {},
   "source": [
    "**your answer here**\n"
   ]
  },
  {
   "cell_type": "markdown",
   "metadata": {},
   "source": [
    "<a id=\"part4questions\"></a>\n",
    "\n",
    "## <div class='exercise'><b>Question 4 (required for 209a students, optional for others):  Linear regression with feature engineering [10 pts]</b></div>\n",
    "\n",
    "[Return to contents](#contents)\n",
    "\n",
    "**4.1** Creating a new variable from existing data: **percentage depreciation**\n",
    "\n",
    "Feature engineering involves transforming data into features that better represent the underlying problem for a predictive model. This typically results in improved model accuracy on unseen data. \n",
    "\n",
    "Our previous regression model explores the relationship between `Current_Selling_Price` (CSP) and `MRP`.\n",
    "\n",
    "$$CSP = \\beta_0 + \\beta_1 \\cdot MRP$$\n",
    "\n",
    "However, this linear equation does not incorparate other interesting variables such as the year of manufacture (`Year`), or the kilometers driven (`Kms_Driven`), which may be important factors that affect the current value of the car.\n",
    "\n",
    "Instead of using multi-linear analysis, we can perform some intelligent feature engineering to identify other simple linear relationships within our data.\n",
    "\n",
    "From practical experience, we know that the percentage drop of a car's price is proportional to the age of the car ([more on car depreciation here](https://www.finder.com/what-is-car-depreciation)). \n",
    "\n",
    "Hence, it makes sense to investigate this variable seperately and try to identify possible relationships with other variables.  \n",
    "\n",
    "Define the \"percentage depreciation\" of the current selling price to the MRP as follows:\n",
    "\n",
    "$$\\textrm{Percentage of the Selling Price} = perc =\\frac{MRP - CSP}{MRP}$$\n",
    "    \n",
    "Create a new column in your dataframe with each car's `perc` value.\n",
    "\n",
    "    \n",
    "**4.2** Exploratory Data Analysis\n",
    "\n",
    "For this section, we will consider `perc` to be our intermediate response variable. To understand the relationship between `perc` and our predictor variables we will perform EDA.\n",
    "\n",
    "Answer the following questions by plotting graphs and including the required interpretation:\n",
    "\n",
    "- **4.2.1** It was seen previously that there is a relationship between `Year` and `Current_Selling_Price`. Is the relationship between `Year` and `perc` the same. If not, how has it changed and why do you think so?\n",
    "\n",
    "- **4.2.2** Is the trend between the `MRP` and `perc` the same as that between `MRP` and `Current_Selling_Price`?\n",
    "\n",
    "- **4.2.3** Does there seem to be a relationship between `Kms_Driven` and `perc`? \n",
    "\n",
    "- **4.2.4** Which is the best predictor to predict `perc` (if there is one)? Is it the same as that of `Current_Selling_price` or has it changed?\n",
    "\n",
    "\n",
    "**4.3** Fitting a Linear Regression model\n",
    "\n",
    "Based on your EDA choose appropriate **predictor** variables for `perc` as your **response** variable. Use the same split train-test sets with training data of 75% and testing data of 25%.\n",
    "\n",
    "- Fit a separate Linear Regression model for each of the predictors.\n",
    "- Plot each linear model with the training and test data (in different colors with clear legends)\n",
    "- Report the $MSE$ score from the training and test sets for each model.\n",
    "- Find the best model (i.e. the best predictor) based on the $MSE$ of each model.\n",
    "\n",
    "\n",
    "**4.4** You have now established a good linear model for **response** `perc`. At the same time, you also know the relationship between `perc` and `Current_Selling_Price`, which is the **response** that we ultimately want to model. Combining the two pieces of knowledge, what linear model can you build to model `Current_Selling_Price` directly with the predictor that models `perc` the best? Build that model and inspect the $R^2$ score of the new model on `Current_Selling_Price`. Explain the approach you have chosen to take (be explicit in your description). Is the new model better than the model you had built in [Question 3](#part3questions)?"
   ]
  },
  {
   "cell_type": "markdown",
   "metadata": {
    "cell_id": "a7be4db8-2c8f-437e-b016-659c755a08f1",
    "colab_type": "text",
    "id": "KNnTUgmwkWs5"
   },
   "source": [
    "## Question 4: Solutions \n",
    "\n",
    "[Return to contents](#contents)"
   ]
  },
  {
   "cell_type": "markdown",
   "metadata": {
    "cell_id": "eaed1594-de29-4e01-aae5-b6a7f76f6303",
    "colab_type": "text",
    "id": "kCMMuQiS652F",
    "tags": []
   },
   "source": [
    "<div class='exercise-r'>  \n",
    "\n",
    "**4.1** Creating a new variable from existing data: **percentage depreciation**\n",
    "\n",
    "Feature engineering involves transforming data into features that better represent the underlying problem for a predictive model. This typically results in improved model accuracy on unseen data. \n",
    "\n",
    "Our previous regression model explores the relationship between `Current_Selling_Price` (CSP) and `MRP`.\n",
    "\n",
    "$$CSP = \\beta_0 + \\beta_1 \\cdot MRP$$\n",
    "\n",
    "However, this linear equation does not incorparate other interesting variables such as the year of manufacture (`Year`), or the kilometers driven (`Kms_Driven`), which may be important factors that affect the current value of the car.\n",
    "\n",
    "Instead of using multi-linear analysis, we can perform some intelligent feature engineering to identify other simple linear relationships within our data.\n",
    "\n",
    "From practical experience, we know that the percentage drop of a car's price is proportional to the age of the car ([more on car depreciation here](https://www.finder.com/what-is-car-depreciation)). \n",
    "\n",
    "Hence, it makes sense to investigate this variable seperately and try to identify possible relationships with other variables.  \n",
    "\n",
    "Define the \"percentage depreciation\" of the current selling price to the MRP as follows:\n",
    "\n",
    "$$\\textrm{Percentage of the Selling Price} = perc =\\frac{MRP - CSP}{MRP}$$\n",
    "    \n",
    "Create a new column in your dataframe with each car's `perc` value.\n",
    "\n",
    "</div>"
   ]
  },
  {
   "cell_type": "code",
   "execution_count": null,
   "metadata": {
    "cell_id": "914e65cf-8ffa-46c1-9476-023e4afc73dc",
    "colab": {
     "base_uri": "https://localhost:8080/",
     "height": 204
    },
    "colab_type": "code",
    "id": "o6WX5hCnjyIU",
    "outputId": "84a15b40-5870-46f1-e8cf-00cb29f20178"
   },
   "outputs": [],
   "source": [
    "# your code here\n"
   ]
  },
  {
   "cell_type": "markdown",
   "metadata": {
    "cell_id": "eaed1594-de29-4e01-aae5-b6a7f76f6303",
    "colab_type": "text",
    "id": "kCMMuQiS652F",
    "tags": []
   },
   "source": [
    "<div class='exercise-r'>  \n",
    "\n",
    "**4.2** Exploratory Data Analysis\n",
    "\n",
    "For this section, we will consider `perc` to be our intermediate response variable. To understand the relationship between `perc` and our predictor variables we will perform EDA.\n",
    "\n",
    "Answer the following questions by plotting graphs and including the required interpretation:\n",
    "\n",
    "**4.2.1** It was seen previously that there is a relationship between `Year` and `Current_Selling_Price`. Is the relationship between `Year` and `perc` the same. If not, how has it changed and why do you think so?\n",
    "\n",
    "</div>"
   ]
  },
  {
   "cell_type": "code",
   "execution_count": null,
   "metadata": {
    "cell_id": "a63dec60-5228-4840-9334-afb052381735",
    "colab": {
     "base_uri": "https://localhost:8080/",
     "height": 340
    },
    "colab_type": "code",
    "id": "4i8j1QnNMfEf",
    "outputId": "3a2c881e-f77e-4fa0-e1b0-19cc0fa0519d"
   },
   "outputs": [],
   "source": [
    "# your code here\n"
   ]
  },
  {
   "cell_type": "markdown",
   "metadata": {},
   "source": [
    "**INTERPRETATION:**"
   ]
  },
  {
   "cell_type": "markdown",
   "metadata": {
    "cell_id": "0dd79a99-ef62-4ee1-807e-022e7b5eea96",
    "colab_type": "text",
    "id": "qcoyETmQNsXr"
   },
   "source": [
    "**your answer here**\n"
   ]
  },
  {
   "cell_type": "markdown",
   "metadata": {},
   "source": [
    "<div class='exercise-r'>  \n",
    "\n",
    "**4.2.2** Is the trend between the `MRP` and `perc` the same as that between `MRP` and `Current_Selling_Price`?\n",
    "\n",
    "</div>"
   ]
  },
  {
   "cell_type": "code",
   "execution_count": null,
   "metadata": {
    "cell_id": "6496ff05-dd2a-4e36-89cf-b4121dde5932",
    "colab": {
     "base_uri": "https://localhost:8080/",
     "height": 340
    },
    "colab_type": "code",
    "id": "DqerINcqNoWz",
    "outputId": "46052ff1-2aff-4fdd-d8b0-10db87fc93cb"
   },
   "outputs": [],
   "source": [
    "# your code here\n"
   ]
  },
  {
   "cell_type": "markdown",
   "metadata": {},
   "source": [
    "**INTERPRETATION:**"
   ]
  },
  {
   "cell_type": "markdown",
   "metadata": {
    "cell_id": "aeb964bc-a336-4b26-abd9-b0d9bfa35d9c",
    "colab_type": "text",
    "id": "10QmiMT_PGdg"
   },
   "source": [
    "**your answer here**\n"
   ]
  },
  {
   "cell_type": "markdown",
   "metadata": {},
   "source": [
    "<div class='exercise-r'>  \n",
    "\n",
    "**4.2.3** Does there seem to be a relationship between `Kms_Driven` and `perc`? \n",
    "\n",
    "</div>"
   ]
  },
  {
   "cell_type": "code",
   "execution_count": null,
   "metadata": {
    "cell_id": "d8807a62-ed56-423d-8c50-7accfeddea77",
    "colab": {
     "base_uri": "https://localhost:8080/",
     "height": 340
    },
    "colab_type": "code",
    "id": "pjoz78deMfTH",
    "outputId": "93da93b4-177d-4b33-ca5f-95a424c9dcad"
   },
   "outputs": [],
   "source": [
    "# your code here\n"
   ]
  },
  {
   "cell_type": "markdown",
   "metadata": {},
   "source": [
    "**INTERPRETATION:**"
   ]
  },
  {
   "cell_type": "markdown",
   "metadata": {
    "cell_id": "1697f1b1-242d-4c97-a790-2f5cd9a63e75",
    "colab_type": "text",
    "id": "rA-9uW2yRV1g"
   },
   "source": [
    "**your answer here**\n"
   ]
  },
  {
   "cell_type": "markdown",
   "metadata": {},
   "source": [
    "<div class='exercise-r'>  \n",
    "\n",
    "**4.2.4** Which is the best predictor to predict `perc` (if there is one)? Is it the same as that of `Current_Selling_price` or has it changed? \n",
    "\n",
    "</div>"
   ]
  },
  {
   "cell_type": "markdown",
   "metadata": {
    "cell_id": "0f128beb-baa6-44d5-92b7-3d26503e589a",
    "colab_type": "text",
    "id": "_gaOd5l6SA1t"
   },
   "source": [
    "**your answer here**\n"
   ]
  },
  {
   "cell_type": "markdown",
   "metadata": {
    "cell_id": "eaed1594-de29-4e01-aae5-b6a7f76f6303",
    "colab_type": "text",
    "id": "kCMMuQiS652F",
    "tags": []
   },
   "source": [
    "<div class='exercise-r'>  \n",
    "\n",
    "**4.3** Fitting a Linear Regression model\n",
    "\n",
    "Based on your EDA choose appropriate **predictor** variables for `perc` as your **response** variable. Use the same split train-test sets with training data of 75% and testing data of 25%.\n",
    "\n",
    "- Fit a separate Linear Regression model for each of the predictors.\n",
    "- Plot each linear model with the training and test data (in different colors with clear legends)\n",
    "- Report the $MSE$ score from the training and test sets for each model.\n",
    "- Find the best model (i.e. the best predictor) based on the $MSE$ of each model.\n",
    "\n",
    "</div>"
   ]
  },
  {
   "cell_type": "code",
   "execution_count": null,
   "metadata": {
    "cell_id": "1d0be5ee-3e1f-4fd7-978f-ac9d4f6a688a",
    "colab": {
     "base_uri": "https://localhost:8080/",
     "height": 303
    },
    "colab_type": "code",
    "id": "501EdSa8653e",
    "outputId": "7c7cb3c8-4901-434b-caa5-c3a76d58ae58"
   },
   "outputs": [],
   "source": [
    "# your code here\n"
   ]
  },
  {
   "cell_type": "markdown",
   "metadata": {},
   "source": [
    "**INTERPRETATION:**"
   ]
  },
  {
   "cell_type": "markdown",
   "metadata": {
    "cell_id": "aea7be7c-1f0b-4628-a052-fedb2d08372c",
    "colab_type": "text",
    "id": "92yFAaq8YE5K"
   },
   "source": [
    "**your answer here**\n"
   ]
  },
  {
   "cell_type": "markdown",
   "metadata": {
    "cell_id": "eaed1594-de29-4e01-aae5-b6a7f76f6303",
    "colab_type": "text",
    "id": "kCMMuQiS652F",
    "tags": []
   },
   "source": [
    "<div class='exercise-r'>  \n",
    "\n",
    "**4.4** You have now established a good linear model for **response** `perc`. At the same time, you also know the relationship between `perc` and `Current_Selling_Price`, which is the **response** that we ultimately want to model. Combining the two pieces of knowledge, what linear model can you build to model `Current_Selling_Price` directly with the predictor that models `perc` the best? Build that model and inspect the $R^2$ score of the new model on `Current_Selling_Price`. Explain the approach you have chosen to take (be explicit in your description). Is the new model better than the model you had built in [Question 3](#part3questions)?\n",
    "\n",
    "</div>"
   ]
  },
  {
   "cell_type": "code",
   "execution_count": null,
   "metadata": {
    "cell_id": "31f9bc58-94e7-4d38-9f07-438c1d0a8106"
   },
   "outputs": [],
   "source": [
    "# your code here\n"
   ]
  },
  {
   "cell_type": "markdown",
   "metadata": {},
   "source": [
    "**INTERPRETATION:**"
   ]
  },
  {
   "cell_type": "markdown",
   "metadata": {
    "cell_id": "31f9bc58-94e7-4d38-9f07-438c1d0a8106"
   },
   "source": [
    "**your answer here**\n"
   ]
  },
  {
   "cell_type": "markdown",
   "metadata": {},
   "source": [
    "<a id=\"part2\"></a>\n",
    "    \n",
    "# PART 2 [40 pts]: Analysis of publically available profiles on SimplyMarry.com\n",
    "\n",
    "[Return to contents](#contents)"
   ]
  },
  {
   "cell_type": "markdown",
   "metadata": {
    "cell_id": "da342829-572c-4a6b-bb45-a2d2f3d0468e"
   },
   "source": [
    "<a id=\"part2intro\"></a>\n",
    "\n",
    "## Overview\n",
    "\n",
    "[Return to contents](#contents)\n",
    "\n",
    "In this part we analyze data from publically available [profiles on SimplyMarry.com](https://en.wikipedia.org/wiki/SimplyMarry), an Indian matrimonial matching portal that was closed in 2017. We will use this data to investigate relationships among various attributes reported in user profiles and examine trends embedded in this data that relate user-reported income.\n",
    "\n",
    "### Dataset\n",
    "\n",
    "The SimplyMarry.com data is aggregated in the file named `data/Income_prediction.csv`. All attributes in this dataset refer to traits and preferences of users looking for a spouse on SimplyMarry.com. The attributes that refer specifically to preferences, rather than traits, are clarified in the list below. \n",
    "\n",
    "- **age** - Age of person looking for a spouse\n",
    "- **gender** - {'Female': 0, 'Male': 1} \n",
    "- **height** - Height in inches\n",
    "- **bmi** - Body mass index (BMI) calculated based on height and weight\n",
    "- **eating** - {'No Restrictions': 0, 'Jain': 1, 'Vegetarian': 2, 'Vegetarian With Eggs': 3, 'Non Vegetarian': 4}\n",
    "- **family_type** - Family living arrangement preference of the person looking for a spouse ('Doesn't Matter': 0, 'Other': 3, 'Nuclear': 1, 'Joint family': 2}\n",
    "- **status** - Social status preference of the person looking for a spouse: {'Doesn't Matter': 0, 'Middle Class': 1, 'Upper Middle Class': 2, 'High Class': 3, 'Rich / Affluent': 4}\n",
    "- **manglik** - {'No': 0, 'Yes': 1, 'Do Not Know': 2} ([More on this feature](https://en.wikipedia.org/wiki/Mangala_Dosha))\n",
    "- **drinking** - {'Prefers Not To Respond': 0, 'No': 1, 'Occasionally': 2, 'Yes': 3}\n",
    "- **complexion** - {'Very Fair ': 1, 'Fair ': 2, 'Wheatish ': 3, 'Wheatish Medium ': 4, 'Dark': 5}\n",
    "- **body** - {'Slim': 1, 'Average': 2, 'Heavy': 3, 'Athletic': 4}\n",
    "- **education** - {'High School': 0, 'Some college': 1, 'Undergrad': 2, 'Grad': 3, 'Doctorate': 4}\n",
    "- **city** - ('International': 1, 'Mumbai': 2, 'Delhi': 3, 'Kolkata': 4, 'Bengaluru': 5, 'Chennai': 6, 'Hyderabad': 7, 'Pune': 8, 'Ahmedabad': 9, 'Surat': 10, 'Vishakapatnam': 11, 'Others': 12)\n",
    "- **income** - Annual income in dollars\n",
    "\n",
    "**NOTE:** Within the **family_type** attribute, the 'Joint family' category denoted by a value of 2 comprises several more granular joint-family options not shown here. Those various types of joint family arrangements include 'Joint family both parents', 'Joint family only mother', 'Joint family father mother and brothers sisters', 'Joint family single parent brothers and or sisters', and 'Joint family only father', each of which has simply been aggregated under 'Joint family' in our dataset.\n",
    "\n",
    "*Source: Harvard IACS*\n",
    "\n",
    "### Disclaimer\n",
    "\n",
    "This dataset is several years old and representative of profiles from a site that no longer exists. Some attributes represented in this dataset are particularly challenging to approach even with far more sophisticated analyses and nuanced considerations than we will be applying in this assignment. Extremely simple, reductive analysis on sensitive topics such as these can sometimes do more harm than good. For those reasons, please be cognizant not to draw pontentially harmful generalizations from any results or findings you generate below. We will be exploring ethics and the potential harms of biases and generalizations in data science in greater depth as we continue throughout this semester."
   ]
  },
  {
   "cell_type": "markdown",
   "metadata": {
    "cell_id": "c919f665-f1a2-46dd-955c-4cc11bc3ec5d"
   },
   "source": [
    "<a id=\"part5questions\"></a>\n",
    "\n",
    "## <div class='exercise'><b>Question 5: Investigating relationships of SimplyMarry.com reported attributes [25 pts]</b></div>\n",
    "\n",
    "[Return to contents](#contents)\n",
    "\n",
    "First we are going to use simple analytics to learn more about the relationships of different attributes in this dataset. The idea is to use basic modeling based on averages and sample distributions to uncover potential relationships in the data.\n",
    "\n",
    "Here we will answer the below questions using plots and simple statistics.\n",
    "\n",
    "**5.1** Is there a disparity in income of participants by gender? Consider using a log scale or another technique to communicate findings more clearly.\n",
    "\n",
    "**5.2** Is there a relationship between income and the \"eating\" variable? Is there a relationship between income and skin complexion? Is it possible to consider skin complexion as an ordinal variable? For instance, consider whether retaining this ordering as in the dataset might be preferable to considering skin complexion as a categorical variable lacking order. \n",
    "\n",
    "**5.3** Is there a discernable trend in the incomes of participants from different regions/cities?\n",
    "\n",
    "**5.4** Is there a clear trend between BMI and income?\n",
    "\n",
    "**5.5** Does the level of education show a clear trend with income? Is the trend similar across both levels of the gender variable available in this dataset?\n",
    "\n",
    "**5.6** Do any of the quantitative attributes show a clear linear or non-linear association with income?\n",
    "\n",
    "**5.7** Is income lower or higher for those living in \"nuclear\" families?\n",
    "\n",
    "**5.8** What is the average effect of the \"Manglik\" variable on income?\n"
   ]
  },
  {
   "cell_type": "markdown",
   "metadata": {
    "cell_id": "a7be4db8-2c8f-437e-b016-659c755a08f1",
    "colab_type": "text",
    "id": "KNnTUgmwkWs5"
   },
   "source": [
    "## Question 5: Solutions \n",
    "\n",
    "[Return to contents](#contents)"
   ]
  },
  {
   "cell_type": "markdown",
   "metadata": {
    "cell_id": "eaed1594-de29-4e01-aae5-b6a7f76f6303",
    "colab_type": "text",
    "id": "kCMMuQiS652F",
    "tags": []
   },
   "source": [
    "<div class='exercise-r'>  \n",
    "\n",
    "First we are going to use simple analytics to learn more about the relationships of different attributes in this dataset. The idea is to use basic modeling based on averages and sample distributions to uncover potential relationships in the data.\n",
    "\n",
    "Here we will answer the below questions using plots and simple statistics.\n",
    "\n",
    "**5.1** Is there a disparity in income of participants by gender? Consider using a log scale or another technique to communicate findings more clearly.\n",
    "\n",
    "</div>"
   ]
  },
  {
   "cell_type": "code",
   "execution_count": null,
   "metadata": {},
   "outputs": [],
   "source": [
    "# your code here \n"
   ]
  },
  {
   "cell_type": "markdown",
   "metadata": {},
   "source": [
    "**INTERPRETATION:**"
   ]
  },
  {
   "cell_type": "markdown",
   "metadata": {},
   "source": [
    "**your answer here**\n"
   ]
  },
  {
   "cell_type": "markdown",
   "metadata": {
    "cell_id": "eaed1594-de29-4e01-aae5-b6a7f76f6303",
    "colab_type": "text",
    "id": "kCMMuQiS652F",
    "tags": []
   },
   "source": [
    "<div class='exercise-r'>  \n",
    "\n",
    "**5.2** Is there a relationship between income and the \"eating\" variable? Is there a relationship between income and skin complexion? Is it possible to consider skin complexion as an ordinal variable? For instance, consider whether retaining this ordering as in the dataset might be preferable to considering skin complexion as a categorical variable lacking order.\n",
    "\n",
    "</div>"
   ]
  },
  {
   "cell_type": "code",
   "execution_count": null,
   "metadata": {
    "cell_id": "8a2496d6-c369-4db9-a3b4-543357b510f3",
    "scrolled": true
   },
   "outputs": [],
   "source": [
    "# your code here \n"
   ]
  },
  {
   "cell_type": "markdown",
   "metadata": {},
   "source": [
    "**INTERPRETATION:**"
   ]
  },
  {
   "cell_type": "markdown",
   "metadata": {},
   "source": [
    "**your answer here**\n"
   ]
  },
  {
   "cell_type": "markdown",
   "metadata": {
    "cell_id": "eaed1594-de29-4e01-aae5-b6a7f76f6303",
    "colab_type": "text",
    "id": "kCMMuQiS652F",
    "tags": []
   },
   "source": [
    "<div class='exercise-r'>  \n",
    "\n",
    "**5.3** Is there a discernable trend in the incomes of participants from different regions/cities?\n",
    "\n",
    "</div>"
   ]
  },
  {
   "cell_type": "code",
   "execution_count": null,
   "metadata": {
    "cell_id": "1973e45d-b713-47ae-91ad-788442c83382"
   },
   "outputs": [],
   "source": [
    "# your code here\n"
   ]
  },
  {
   "cell_type": "markdown",
   "metadata": {},
   "source": [
    "**INTERPRETATION:**"
   ]
  },
  {
   "cell_type": "markdown",
   "metadata": {},
   "source": [
    "**your answer here**\n"
   ]
  },
  {
   "cell_type": "markdown",
   "metadata": {
    "cell_id": "eaed1594-de29-4e01-aae5-b6a7f76f6303",
    "colab_type": "text",
    "id": "kCMMuQiS652F",
    "tags": []
   },
   "source": [
    "<div class='exercise-r'>  \n",
    "\n",
    "**5.4** Is there a clear trend between BMI and income?\n",
    "\n",
    "</div>"
   ]
  },
  {
   "cell_type": "code",
   "execution_count": null,
   "metadata": {},
   "outputs": [],
   "source": [
    "# your code here\n"
   ]
  },
  {
   "cell_type": "markdown",
   "metadata": {},
   "source": [
    "**INTERPRETATION:**"
   ]
  },
  {
   "cell_type": "markdown",
   "metadata": {},
   "source": [
    "**your answer here**\n"
   ]
  },
  {
   "cell_type": "markdown",
   "metadata": {
    "cell_id": "eaed1594-de29-4e01-aae5-b6a7f76f6303",
    "colab_type": "text",
    "id": "kCMMuQiS652F",
    "tags": []
   },
   "source": [
    "<div class='exercise-r'>  \n",
    "\n",
    "**5.5** Does the level of education show a clear trend with income? Is the trend similar across both levels of the gender variable available in this dataset?\n",
    "\n",
    "</div>"
   ]
  },
  {
   "cell_type": "code",
   "execution_count": null,
   "metadata": {
    "cell_id": "94570040-6ae8-4154-ab8a-ba53b0544fc5"
   },
   "outputs": [],
   "source": [
    "# your code here\n"
   ]
  },
  {
   "cell_type": "markdown",
   "metadata": {},
   "source": [
    "**INTERPRETATION:**"
   ]
  },
  {
   "cell_type": "markdown",
   "metadata": {},
   "source": [
    "**your answer here**\n"
   ]
  },
  {
   "cell_type": "markdown",
   "metadata": {
    "cell_id": "eaed1594-de29-4e01-aae5-b6a7f76f6303",
    "colab_type": "text",
    "id": "kCMMuQiS652F",
    "tags": []
   },
   "source": [
    "<div class='exercise-r'>  \n",
    "\n",
    "**5.6** Do any of the quantitative attributes show a clear linear or non-linear association with income?\n",
    "\n",
    "</div>"
   ]
  },
  {
   "cell_type": "code",
   "execution_count": null,
   "metadata": {},
   "outputs": [],
   "source": [
    "# your code here\n"
   ]
  },
  {
   "cell_type": "markdown",
   "metadata": {},
   "source": [
    "**INTERPRETATION:**"
   ]
  },
  {
   "cell_type": "markdown",
   "metadata": {},
   "source": [
    "**your answer here**\n"
   ]
  },
  {
   "cell_type": "markdown",
   "metadata": {
    "cell_id": "eaed1594-de29-4e01-aae5-b6a7f76f6303",
    "colab_type": "text",
    "id": "kCMMuQiS652F",
    "tags": []
   },
   "source": [
    "<div class='exercise-r'>  \n",
    "\n",
    "**5.7** Is income lower or higher for those living in \"nuclear\" families?\n",
    "\n",
    "</div>"
   ]
  },
  {
   "cell_type": "code",
   "execution_count": null,
   "metadata": {},
   "outputs": [],
   "source": [
    "# your code here \n"
   ]
  },
  {
   "cell_type": "markdown",
   "metadata": {},
   "source": [
    "**INTERPRETATION:**"
   ]
  },
  {
   "cell_type": "markdown",
   "metadata": {},
   "source": [
    "**your answer here**\n"
   ]
  },
  {
   "cell_type": "markdown",
   "metadata": {
    "cell_id": "eaed1594-de29-4e01-aae5-b6a7f76f6303",
    "colab_type": "text",
    "id": "kCMMuQiS652F",
    "tags": []
   },
   "source": [
    "<div class='exercise-r'>  \n",
    "\n",
    "**5.8** What is the average effect of the \"Manglik\" variable on income?\n",
    "\n",
    "</div>"
   ]
  },
  {
   "cell_type": "code",
   "execution_count": null,
   "metadata": {},
   "outputs": [],
   "source": [
    "# your code here\n"
   ]
  },
  {
   "cell_type": "markdown",
   "metadata": {},
   "source": [
    "**INTERPRETATION:**"
   ]
  },
  {
   "cell_type": "markdown",
   "metadata": {},
   "source": [
    "**your answer here**\n"
   ]
  },
  {
   "cell_type": "markdown",
   "metadata": {
    "cell_id": "47c47e2e-427f-408c-9384-a92fa779b3aa"
   },
   "source": [
    "<a id=\"part6questions\"></a>\n",
    "\n",
    "## <div class='exercise'><b>Question 6:  Calculate the Gini coefficient [15 pts]</b></div>\n",
    "\n",
    "[Return to contents](#contents)\n",
    "\n",
    "\n",
    "**Gini coefficients are often used to quantify income inequality.** For an introductory overview of the Gini coefficient, its derivation, and its uses, feel free to [read more about it here](https://en.wikipedia.org/wiki/Gini_coefficient). That article also provides [a useful graphical representation](https://en.wikipedia.org/wiki/File:Economics_Gini_coefficient2.svg) of the Gini coefficient to better understand how it measures inequality. \n",
    "\n",
    "The Gini coefficient is defined by the formula:\n",
    "\n",
    "$$G = \\dfrac{ \\sum_{i=1}^{n} (2i - n - 1) x_i}{n  \\sum_{i=1}^{n} x_i}$$\n",
    "\n",
    "where $x$ is an observed value, $n$ is the number of values observed and $i$ is the rank of values in **ascending** order.\n",
    "\n",
    "A Gini coefficient of $G=0$ implies perfect income equality, whereas a Gini coefficient close to $G=1$ implies a concentration of wealth among the richest few.\n",
    "\n",
    "**6.1** Based on the above formula, calculate and report the Gini coefficient for the income of the participants in our SimplyMarry.com dataset.\n",
    "\n",
    "- **NOTE:** For algorithmic simplicity and consistency, you can rank income values for all observations, keeping duplicate values in your sorted array. Therefore, you will likely have sorted income values $x_i$ similar to `[417, 417, 417, ..., 250000, 250000, 250000]` with corresponding rank indices $i$ similar to `[1, 2, 3, ..., 12353, 12354, 12355]`. Nothing more sophisticated than that is required for dealing with ties (i.e. duplicates) in your sorted income values for Question 6.1.\n",
    "\n",
    "**6.2** Compare your Gini coefficient with Gini benchmark countries:\n",
    "\n",
    "- According to the [world bank estimate](https://www.indexmundi.com/facts/indicators/SI.POV.GINI/rankings) the country with the largest Gini coefficient is South Africa, ranked 1st at $0.63$, while the lowest is Ukraine, ranked 159th at $0.25$. India (i.e. SimplyMarry.com's primary user base) is ranked 95th on the list and has a Gini index of $0.357$.\n",
    "\n",
    "\n",
    "- Based on your calculated Gini coefficient value for this dataset, what is your conclusion on the relationship of the income disparity of SimplyMarry.com's user base compared to the three countries listed above?\n",
    "\n",
    "\n",
    "- Do the data source, self-report nature of the data, or sampling procedure affect your conclusions? If so, how?"
   ]
  },
  {
   "cell_type": "markdown",
   "metadata": {},
   "source": [
    "## Question 6: Solutions \n",
    "\n",
    "[Return to contents](#contents)"
   ]
  },
  {
   "cell_type": "markdown",
   "metadata": {
    "cell_id": "eaed1594-de29-4e01-aae5-b6a7f76f6303",
    "colab_type": "text",
    "id": "kCMMuQiS652F",
    "tags": []
   },
   "source": [
    "<div class='exercise-r'>  \n",
    "\n",
    "**Gini coefficients are often used to quantify income inequality.** For an introductory overview of the Gini coefficient, its derivation, and its uses, feel free to [read more about it here](https://en.wikipedia.org/wiki/Gini_coefficient). That article also provides [a useful graphical representation](https://en.wikipedia.org/wiki/File:Economics_Gini_coefficient2.svg) of the Gini coefficient to better understand how it measures inequality. \n",
    "\n",
    "The Gini coefficient is defined by the formula:\n",
    "\n",
    "$$G = \\dfrac{ \\sum_{i=1}^{n} (2i - n - 1) x_i}{n  \\sum_{i=1}^{n} x_i}$$\n",
    "\n",
    "where $x$ is an observed value, $n$ is the number of values observed and $i$ is the rank of values in **ascending** order.\n",
    "\n",
    "A Gini coefficient of $G=0$ implies perfect income equality, whereas a Gini coefficient close to $G=1$ implies a concentration of wealth among the richest few.\n",
    "\n",
    "**6.1** Based on the above formula, calculate and report the Gini coefficient for the income of the participants in our SimplyMarry.com dataset.\n",
    "\n",
    "- **NOTE:** For algorithmic simplicity and consistency, you can rank income values for all observations, keeping duplicate values in your sorted array. Therefore, you will likely have sorted income values $x_i$ similar to `[417, 417, 417, ..., 250000, 250000, 250000]` with corresponding rank indices $i$ similar to `[1, 2, 3, ..., 12353, 12354, 12355]`. Nothing more sophisticated than that is required for dealing with ties (i.e. duplicates) in your sorted income values for Question 6.1.\n",
    "\n",
    "</div>"
   ]
  },
  {
   "cell_type": "code",
   "execution_count": null,
   "metadata": {
    "cell_id": "5fe3f404-ec97-4146-ac4d-c44e54db51d3"
   },
   "outputs": [],
   "source": [
    "# your code here\n"
   ]
  },
  {
   "cell_type": "markdown",
   "metadata": {
    "cell_id": "eaed1594-de29-4e01-aae5-b6a7f76f6303",
    "colab_type": "text",
    "id": "kCMMuQiS652F",
    "tags": []
   },
   "source": [
    "<div class='exercise-r'>  \n",
    "\n",
    "**6.2** Compare your Gini coefficient with Gini benchmark countries:\n",
    "\n",
    "- According to the [world bank estimate](https://www.indexmundi.com/facts/indicators/SI.POV.GINI/rankings) the country with the largest Gini coefficient is South Africa, ranked 1st at $0.63$, while the lowest is Ukraine, ranked 159th at $0.25$. India (i.e. SimplyMarry.com's primary user base) is ranked 95th on the list and has a Gini index of $0.357$.\n",
    "\n",
    "\n",
    "- Based on your calculated Gini coefficient value for this dataset, what is your conclusion on the relationship of the income disparity of SimplyMarry.com's user base compared to the three countries listed above?\n",
    "\n",
    "\n",
    "- Do the data source, self-report nature of the data, or sampling procedure affect your conclusions? If so, how?\n",
    "\n",
    "</div>"
   ]
  },
  {
   "cell_type": "markdown",
   "metadata": {},
   "source": [
    "**your answer here**\n"
   ]
  },
  {
   "cell_type": "markdown",
   "metadata": {
    "cell_id": "8b3ed64a-92ac-482f-8f1d-bd1c6cbf772b"
   },
   "source": [
    "<a id=\"part7questions\"></a>\n",
    "\n",
    "### <div class='exercise'><b>Question 7 (required for 209a students, optional for others): Multi-linear regression [10 pts]</b></div>\n",
    "\n",
    "[Return to contents](#contents)\n",
    "\n",
    "Now we increase the scope of our analysis to solve another problem that is related to income of our SimplyMarry.com users.\n"
   ]
  },
  {
   "cell_type": "markdown",
   "metadata": {
    "cell_id": "9de3ea4c-961f-46c0-b308-febe73da6df0"
   },
   "source": [
    "![](data/modi.png)"
   ]
  },
  {
   "cell_type": "markdown",
   "metadata": {},
   "source": [
    "*Image Source: [The Economic Times](https://economictimes.indiatimes.com/news/politics-and-nation/you-can-run-but-cant-hide-modis-long-arm-reaches-out-for-tax-evaders/articleshow/62293002.cms)*"
   ]
  },
  {
   "cell_type": "markdown",
   "metadata": {
    "cell_id": "d6f44620-e4b1-447d-841c-185066aae37f"
   },
   "source": [
    "### Problem Description\n",
    "\n",
    "Owing to a large number of people underreporting their income to evade taxes, as [reported by The Economic Times in 2017](https://economictimes.indiatimes.com/news/politics-and-nation/you-can-run-but-cant-hide-modis-long-arm-reaches-out-for-tax-evaders/articleshow/62293002.cms), the Income Tax Department of India wants you, an esteemed data scientist, to build a machine learning model that can predict the income of a given tax-payer based on information commonly available on SimplyMarry.com.\n",
    "\n",
    "This will help the department flag suspected individuals who may show discernable trends of earing high values of income but are excessively under-reporting on their annual income.\n",
    "\n",
    "The goal is to build the best model with the given SimplyMarry.com dataset, using both the categorical and quantitative predictors available in this dataset.\n",
    "\n",
    "As with all other homework problems, this is a learning exercise. And, as absurd or problematic as it might seem to use SimplyMarry.com data for this purpose, in the real world, it will be your decision to choose the types of data science projects on which you will work as well as the clients with which you will work. "
   ]
  },
  {
   "cell_type": "markdown",
   "metadata": {
    "cell_id": "8edf8b8b-f950-4745-a886-2e991e6185cc"
   },
   "source": [
    "### Deliverables\n",
    "\n",
    "To accomplish this task, we will fit a multiple linear regression model to the training set.\n",
    "\n",
    "Use the `sklearn` library. Your code should be contained in a Jupyter notebook cell.  An appropriate level of code comments are necessary.  Your code should run and output the required outputs described below.\n",
    "\n",
    "### Required Outputs\n",
    "\n",
    "- Fit a multiple linear regression model on the training set and predict on the train and test sets.\n",
    "- Report the $MSE$ for the train and test set.\n",
    "- Report the $R^2$ score on the test set.\n",
    "- Make a plot of residuals vs. log of predicted values $\\hat{y}$, with residuals on the $y$-axis and predicted values on the $x$-axis. Use the formula ${\\epsilon} = y - \\hat{y}$ to compute the residual values. Include a horizontal line denoting the zero residual value on the $y$-axis.\n",
    "- Plot a histogram of the residuals values.\n",
    "- Be certain to provide a written interpretation of your findings and any important aspects of your modeling approach of which you'd want the teaching staff to be aware, particularly if you attempt any optional outputs as mentioned below.\n",
    "\n",
    "### Optional Outputs\n",
    "\n",
    "You are encouraged to experiment with ways to improve your model *after first reporting results with only the required outputs*. Some ideas are given below:\n",
    "\n",
    "- Polynomial terms for continous variables,\n",
    "- Interaction terms between variables,\n",
    "- Feature selection among given predictors.\n"
   ]
  },
  {
   "cell_type": "markdown",
   "metadata": {},
   "source": [
    "## Question 7: Solutions \n",
    "\n",
    "[Return to contents](#contents)"
   ]
  },
  {
   "cell_type": "code",
   "execution_count": null,
   "metadata": {
    "cell_id": "3e92c915-d65d-4fbb-bb99-82415a3be594"
   },
   "outputs": [],
   "source": [
    "# your code here\n"
   ]
  },
  {
   "cell_type": "markdown",
   "metadata": {},
   "source": [
    "**INTERPRETATION:**"
   ]
  },
  {
   "cell_type": "markdown",
   "metadata": {},
   "source": [
    "**your answer here**\n"
   ]
  },
  {
   "cell_type": "code",
   "execution_count": null,
   "metadata": {},
   "outputs": [],
   "source": [
    "                                                                                                                                                                                                                                                                                                                                                                                                                                                                                                                                                                                                                                         "
   ]
  }
 ],
 "metadata": {
  "colab": {
   "collapsed_sections": [],
   "name": "hw1-part1.ipynb",
   "provenance": []
  },
  "deepnote_execution_queue": [],
  "deepnote_notebook_id": "5e5027d5-1cf7-4394-a1d5-c57eaedde1db",
  "kernelspec": {
   "display_name": "Python 3 (ipykernel)",
   "language": "python",
   "name": "python3"
  },
  "language_info": {
   "codemirror_mode": {
    "name": "ipython",
    "version": 3
   },
   "file_extension": ".py",
   "mimetype": "text/x-python",
   "name": "python",
   "nbconvert_exporter": "python",
   "pygments_lexer": "ipython3",
   "version": "3.9.6"
  }
 },
 "nbformat": 4,
 "nbformat_minor": 4
}
