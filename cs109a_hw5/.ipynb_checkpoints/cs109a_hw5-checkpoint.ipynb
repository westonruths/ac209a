{
 "cells": [
  {
   "cell_type": "markdown",
   "metadata": {},
   "source": [
    "# <img style=\"float: left; padding-right: 10px; width: 45px\" src=\"https://raw.githubusercontent.com/Harvard-IACS/2018-CS109A/master/content/styles/iacs.png\"> CS109A Introduction to Data Science: \n",
    "## Homework 5: Predicting College Admissions\n",
    "\n",
    "**Harvard University**<br/>\n",
    "**Fall 2021**<br/>\n",
    "**Instructors**: Pavlos Protopapas, Natesh Pillai\n",
    "\n",
    "<hr style=\"height:2.4pt\">"
   ]
  },
  {
   "cell_type": "code",
   "execution_count": 1,
   "metadata": {},
   "outputs": [
    {
     "data": {
      "text/html": [
       "<style>\n",
       "blockquote { background: #AEDE94; }\n",
       "h1 {\n",
       "    padding-top: 25px;\n",
       "    padding-bottom: 25px;\n",
       "    text-align: left;\n",
       "    padding-left: 10px;\n",
       "    background-color: #63ACBE;\n",
       "    color: black;\n",
       "}\n",
       "h2 {\n",
       "    padding-top: 10px;\n",
       "    padding-bottom: 10px;\n",
       "    text-align: left;\n",
       "    padding-left: 5px;\n",
       "    background-color: #EEEEEE;\n",
       "    color: black;\n",
       "}\n",
       "\n",
       "div.exercise {\n",
       "\tbackground-color: #f8b4ab;\n",
       "\tborder-color: #E9967A;\n",
       "\tborder-left: 5px solid #601A4A;\n",
       "\tpadding: 0.5em;\n",
       "}\n",
       "\n",
       "div.exercise-r {\n",
       "\tbackground-color: #ffd0d0;\n",
       "\tborder-color: #E9967A;\n",
       "\tborder-left: 5px solid #601A4A;\n",
       "\tpadding: 0.5em;\n",
       "}\n",
       "\n",
       "\n",
       "span.sub-q {\n",
       "\tfont-weight: bold;\n",
       "}\n",
       "div.theme {\n",
       "\tbackground-color: #63ACBE;\n",
       "\tborder-color: #E9967A;\n",
       "\tborder-left: 5px solid #601A4A;\n",
       "\tpadding: 0.5em;\n",
       "\tfont-size: 18pt;\n",
       "}\n",
       "div.gc {\n",
       "\tbackground-color: #AEDE94;\n",
       "\tborder-color: #E9967A;\n",
       "\tborder-left: 5px solid #601A4A;\n",
       "\tpadding: 0.5em;\n",
       "\tfont-size: 12pt;\n",
       "}\n",
       "p.q1 {\n",
       "    padding-top: 5px;\n",
       "    padding-bottom: 5px;\n",
       "    text-align: left;\n",
       "    padding-left: 5px;\n",
       "    background-color: #EEEEEE;\n",
       "    color: black;\n",
       "}\n",
       "header {\n",
       "   padding-top: 35px;\n",
       "    padding-bottom: 35px;\n",
       "    text-align: left;\n",
       "    padding-left: 10px;\n",
       "    background-color: #DDDDDD;\n",
       "    color: black;\n",
       "}\n",
       "span.emph {\n",
       "\tcolor: #601A4A;\n",
       "\tfont-weight: bold;\n",
       "}\n",
       "\n",
       "</style>\n"
      ],
      "text/plain": [
       "<IPython.core.display.HTML object>"
      ]
     },
     "execution_count": 1,
     "metadata": {},
     "output_type": "execute_result"
    }
   ],
   "source": [
    "# RUN THIS CELL \n",
    "import requests\n",
    "from IPython.core.display import HTML\n",
    "styles = requests.get(\n",
    "    \"https://raw.githubusercontent.com/Harvard-IACS/2021-CS109A/master/\"\n",
    "    \"themes/static/css/cs109.css\"\n",
    ").text\n",
    "HTML(styles)"
   ]
  },
  {
   "cell_type": "markdown",
   "metadata": {},
   "source": [
    "### Import Libraries"
   ]
  },
  {
   "cell_type": "code",
   "execution_count": 2,
   "metadata": {},
   "outputs": [],
   "source": [
    "# RUN THIS CELL\n",
    "import itertools\n",
    "import math\n",
    "\n",
    "import numpy as np\n",
    "import pandas as pd\n",
    "import seaborn as sns\n",
    "import matplotlib.pyplot as plt\n",
    "\n",
    "from sklearn.model_selection import train_test_split\n",
    "from sklearn.preprocessing import PolynomialFeatures\n",
    "from sklearn.preprocessing import StandardScaler\n",
    "from sklearn.model_selection import cross_validate\n",
    "\n",
    "from sklearn.linear_model import LogisticRegression\n",
    "from sklearn.neighbors import KNeighborsClassifier\n",
    "from sklearn.linear_model import LogisticRegressionCV\n",
    "\n",
    "from sklearn.metrics import accuracy_score\n",
    "from sklearn.metrics import roc_curve\n",
    "from sklearn.metrics import roc_auc_score\n",
    "\n",
    "# pandas tricks for better display\n",
    "pd.options.display.max_columns = 50  \n",
    "pd.options.display.max_rows = 500     \n",
    "pd.options.display.max_colwidth = 100\n",
    "pd.options.display.precision = 3\n",
    "\n",
    "%matplotlib inline"
   ]
  },
  {
   "cell_type": "markdown",
   "metadata": {},
   "source": [
    "<a id=\"instructions\"></a>\n",
    "\n",
    "<hr style=\"height:2pt\">\n",
    "\n",
    "### INSTRUCTIONS\n",
    "\n",
    "\n",
    "- To submit your assignment follow the instructions given in Canvas.\n",
    "\n",
    "- Please **restart the kernel and run the entire notebook again before you submit.**\n",
    "\n",
    "- Running cells out of order is a common pitfall in Jupyter Notebooks. To make sure your code continues to work, restart the kernel and rerun your notebook periodically while working through this assignment. \n",
    "\n",
    "- We have tried to include all the libraries you may need to do the assignment in the imports cell provided below. **Please use only the libraries provided in those imports.**\n",
    "\n",
    "- Please use `.head(...)` when viewing data. Do not submit a notebook that is **excessively long**. \n",
    "\n",
    "- In questions that require code to answer, such as \"calculate and report $R^2$\", do not just output the value from a cell. Write a `print(...)` function that clearly labels the output, includes a reference to the calculated value, and rounds it to a reasonable number of digits. **Do not hard code values in your printed output**. For example, this is an appropriate print statement:\n",
    "```python\n",
    "print(f'The R^2 is {R:.4f}')\n",
    "```\n",
    "- **Your plots MUST be clearly labeled and easy to read,** including clear labels for the $x$ and $y$ axes, a descriptive title (\"MSE plot\" is NOT a descriptive title; \"95% confidence interval of coefficients for degree-5 polynomial model\" on the other hand is descriptive), a legend when appropriate, and clearly formatted text and graphics.\n",
    "\n",
    "- **Your code may also be evaluated for efficiency and clarity.** As a result, correct output is not always sufficient for full credit.\n",
    "\n",
    "<hr style=\"height:2pt\">"
   ]
  },
  {
   "cell_type": "markdown",
   "metadata": {},
   "source": [
    "<a id=\"contents\"></a>\n",
    "\n",
    "## Notebook contents\n",
    "\n",
    "- [**Overview and data description**](#intro)\n",
    "\n",
    "\n",
    "- [**Question 1: Data exploration using train and basic models [16 pts]**](#part1)\n",
    "  - [Solutions](#part1solutions)\n",
    "\n",
    "\n",
    "- [**Question 2: Interpretable modeling [18 pts]**](#part2)\n",
    "  - [Solutions](#part2solutions)\n",
    "\n",
    "\n",
    "- [**Question 3: Harvard and Yale? [30 pts]**](#part3)\n",
    "  - [Solutions](#part3solutions)\n",
    "\n",
    "\n",
    "- [**Question 4: Building predictive models for admitted [24 pts]**](#part4)\n",
    "  - [Solutions](#part4solutions)\n",
    "\n",
    "\n",
    "- [**Question 5: Evaluating results [12 pts]**](#part5)\n",
    "  - [Solutions](#part5solutions)"
   ]
  },
  {
   "cell_type": "markdown",
   "metadata": {},
   "source": [
    "<a id=\"intro\"></a>\n",
    "\n",
    "## Overview and data description\n",
    "\n",
    "[Return to contents](#contents)\n",
    "\n",
    "### Predicting admissions into elite universities\n",
    "\n",
    "In this problem set we will model the chances of high school students being accepted into two different elite undergraduate colleges (one is elite at least :) ): Harvard and Yale.  The data are provided in the file `data/college_admissions.csv` and were scraped from [collegedata.com](https://www.collegedata.com/) (where applicants volunteer to share their information).  Each observation corresponds to an applicant to one of the two different colleges (note: the same applicant may show up in two rows: once for each college).  The main response is the `\"admitted\"` variable (1 = admitted, 0 = denied), and there are are several predictors to consider:\n",
    "\n",
    "- **id**: a unique identifier for the applicant \n",
    "- **test**: a standardized measurement of the applicant's highest ACT or SAT combined score (2400 is the maximum)\n",
    "- **ap**: the number of AP tests taken\n",
    "- **avg_ap**: the average score on the AP tests taken (0 if no tests were taken)\n",
    "- **sat_subjects**: the number of SAT subject tests taken\n",
    "- **gpa**: the unweighted GPA of the applicant (max of 4.0)\n",
    "- **female**:  a binary indicator for gender: 1 = female, 0 = otherwise\n",
    "- **minority**: a binary indicator for under-represented minority: 1 = minority, 0 = otherwise \n",
    "- **international**: a binary indicator for international status: 1 = international, 0 = United States\n",
    "- **sports**: a binary indicator for High School All-American: 1 = all-American athlete, 0 = otherwise\n",
    "- **school**: a categorical variable for school applied to: \"Harvard\" or \"Yale\"\n",
    "- **early_app**: a binary indicator for application type: 1 = early action, 0 = regular\n",
    "- **alumni**:  a binary indicator for parents' alumni status of school: 1 = a parent is an alumnus, 0 = otherwise\n",
    "- **program**: the program applied to by the student with many choices (we will not use this as a predictor)\n",
    "- **add_info**: additional (optional) info provided by applicant (we will not use this as a predictor)\n",
    "\n",
    "**The main set of 12 predictors is:**\n",
    "\n",
    "```python\n",
    "[\n",
    "    \"test\", \"ap\", \"avg_ap\", \"sat_subjects\", \n",
    "    \"gpa\", \"female\", \"minority\", \"international\",\n",
    "    \"sports\", \"school\", \"early_app\", \"alumni\",\n",
    "]\n",
    "```\n",
    "\n",
    "Please note, you may need to modify this list when fitting different models, and you will be replacing the `\"school\"` variable with a binary `\"harvard\"` variable early in the questions below.\n",
    "\n",
    "Please use this dataset to answer the following questions below.\n",
    "\n",
    "**IMPORTANT NOTES:**\n",
    "\n",
    "- Unless stated otherwise, all logistic regression models should be unregularized (use `penalty=\"none\"`) and include the intercept (which is the default in `sklearn`).\n",
    "\n",
    "\n",
    "- When printing your output (e.g. coefficients, accuracy scores, etc.), DO NOT just print numbers without context. Please be certain provide clarifying labels for all printed numbers and limit the number of digits showing after decimals to a reasonable length (e.g. 4 decimal points for coefficients and accuracy scores).\n",
    "\n",
    "\n",
    "- Also be sure to practice good data science principles: always use train to do analysis and never touch the test set until the very end."
   ]
  },
  {
   "cell_type": "markdown",
   "metadata": {},
   "source": [
    "---"
   ]
  },
  {
   "cell_type": "markdown",
   "metadata": {},
   "source": [
    "<a id=\"part1\"></a>\n",
    "\n",
    "## <div class='exercise'>Question 1: Data exploration using train and basic models [16 pts]</div>\n",
    "\n",
    "[Return to contents](#contents)\n",
    "\n",
    "The first step is to split the observations into an approximate 80-20 train-test split.  Below is some code to do this for you (we want to make sure everyone has the same splits). It also prints the dataset's shape before splitting and after splitting. \n",
    "\n",
    "**IMPORTANT:** While an argument could be made to scale our predictors here, please **DO NOT** do so **UNTIL** it is requested of you in **[Question 4.1](#part4)**.\n",
    "\n",
    "**1.1** What proportion of observations were admitted overall?  What would be the train and test classification accuracies for a baseline \"naive\" model where we classified ALL applicants as either admitted or not admitted using just this overall proportion to make our decision (i.e. we apply the same outcome to all applicants based on this proportion)?\n",
    "\n",
    "**1.2** Create a binary (\"dummy\") variable named `\"harvard\"` that takes on the value 1 if `school == \"Harvard\"` and 0 otherwise. Now, explore the marginal association of each of our 12 predictors with whether or not an applicant is admitted into the college to which they applied (`admitted`). Create a separate **visual** for each of our predictors to investigate their relationship with college admissions. **Suggestion:** Place these 12 visuals in a *matrix* of subplots with 3 columns and 4 rows.\n",
    "\n",
    "**NOTE:** We will be using our dummified `harvard` predictor instead of `school` throughout the remainder of this problem set.\n",
    "\n",
    "**1.3** Based on the visuals above, which predictor seems to have the most potential for predicting `admitted`? Why do you think this it the best potential single predictor?\n",
    "\n",
    "\n",
    "**1.4** Fit a logistic regression to predict `admitted` from `harvard` (call it `logit1_4`).  Interpret the coefficient estimates: which college is estimated to be easier to get into?  What are the estimated probabilities of getting into each school?\n",
    "\n",
    "\n",
    "**1.5** Create a contingency table between `admitted` and `harvard`.  Use this table to calculate and confirm the coefficient estimates in the `logit1_4` model (both the intercept and slope).\n",
    "\n",
    "\n",
    "**1.6** Compare the estimated probabilities of being admitted into the schools to the overall acceptance rate (as seen [here](https://www.ivycoach.com/2023-ivy-league-admissions-statistics/)).  Why may what you've observed in this comparison be the case?\n"
   ]
  },
  {
   "cell_type": "code",
   "execution_count": 3,
   "metadata": {},
   "outputs": [
    {
     "name": "stdout",
     "output_type": "stream",
     "text": [
      "(1871, 16)\n",
      "(1496, 16) (375, 16)\n"
     ]
    }
   ],
   "source": [
    "#############################\n",
    "## DO NOT MODIFY THIS CODE ##\n",
    "#############################\n",
    "\n",
    "college = pd.read_csv(\"data/college_admissions.csv\")\n",
    "np.random.seed(121)\n",
    "\n",
    "college_train, college_test = train_test_split(\n",
    "    college,\n",
    "    test_size=0.2,\n",
    "    random_state=121,\n",
    "    shuffle=True,\n",
    "    stratify=college[\"school\"],\n",
    ")\n",
    "\n",
    "print(college.shape)\n",
    "print(college_train.shape, college_test.shape)"
   ]
  },
  {
   "cell_type": "markdown",
   "metadata": {},
   "source": [
    "<a id=\"part1solutions\"></a>\n",
    "\n",
    "## Question 1: Solutions\n",
    "\n",
    "[Return to contents](#contents)"
   ]
  },
  {
   "cell_type": "markdown",
   "metadata": {
    "cell_id": "0a790850-87c6-4f46-b89e-048a2295c92b",
    "colab_type": "text",
    "id": "IGFtXJmQap2q"
   },
   "source": [
    "<div class='exercise-r'>\n",
    "\n",
    "**1.1** What proportion of observations were admitted overall?  What would be the train and test classification accuracies for a baseline \"naive\" model where we classified ALL applicants as either admitted or not admitted using just this overall proportion to make our decision (i.e. we apply the same outcome to all applicants based on this proportion)?\n",
    "    \n",
    "</div>"
   ]
  },
  {
   "cell_type": "code",
   "execution_count": 4,
   "metadata": {},
   "outputs": [
    {
     "name": "stdout",
     "output_type": "stream",
     "text": [
      "Proportion of observations that were admitted overall: 0.2699\n",
      "Train Classification Accuracy for a baseline naive model: 73.7299%\n",
      "Test Classification Accuracy for a baseline naive model: 70.1333%\n"
     ]
    }
   ],
   "source": [
    "# your code here\n",
    "\n",
    "# What proportion of observations were admitted overall?\n",
    "admitted_overall_proportion = college['admitted'].sum()/college.shape[0]\n",
    "print(\"Proportion of observations that were admitted overall: {:.4f}\".format(admitted_overall_proportion))\n",
    "\n",
    "#Perfromance Evaluation\n",
    "college_naive_pred_train = np.round(np.full(college_train.shape[0],admitted_overall_proportion)).astype(int)\n",
    "college_naive_pred_test = np.round(np.full(college_test.shape[0],admitted_overall_proportion)).astype(int)\n",
    "\n",
    "train_score = accuracy_score(college_train['admitted'], college_naive_pred_train)*100\n",
    "test_score = accuracy_score(college_test['admitted'], college_naive_pred_test)*100\n",
    "\n",
    "print(\"Train Classification Accuracy for a baseline naive model: {:.4f}%\".format(train_score))\n",
    "print(\"Test Classification Accuracy for a baseline naive model: {:.4f}%\".format(test_score))\n",
    "\n",
    "score_naive_model = test_score"
   ]
  },
  {
   "cell_type": "markdown",
   "metadata": {
    "cell_id": "0a790850-87c6-4f46-b89e-048a2295c92b",
    "colab_type": "text",
    "id": "IGFtXJmQap2q"
   },
   "source": [
    "<div class='exercise-r'>\n",
    "\n",
    "**1.2** Create a binary (\"dummy\") variable named `\"harvard\"` that takes on the value 1 if `school == \"Harvard\"` and 0 otherwise. Now, explore the marginal association of each of our 12 predictors with whether or not an applicant is admitted into the college to which they applied (`admitted`). Create a separate **visual** for each of our predictors to investigate their relationship with college admissions. **Suggestion:** Place these 12 visuals in a *matrix* of subplots with 3 columns and 4 rows.\n",
    "\n",
    "**NOTE:** We will be using our dummified `harvard` predictor instead of `school` throughout the remainder of this problem set.\n",
    "    \n",
    "</div>"
   ]
  },
  {
   "cell_type": "code",
   "execution_count": 5,
   "metadata": {},
   "outputs": [
    {
     "name": "stderr",
     "output_type": "stream",
     "text": [
      "/var/folders/7w/dkjvv8f57hv2qg30psq105jr0000gn/T/ipykernel_89845/2932717117.py:3: SettingWithCopyWarning: \n",
      "A value is trying to be set on a copy of a slice from a DataFrame.\n",
      "Try using .loc[row_indexer,col_indexer] = value instead\n",
      "\n",
      "See the caveats in the documentation: https://pandas.pydata.org/pandas-docs/stable/user_guide/indexing.html#returning-a-view-versus-a-copy\n",
      "  college_train['harvard'] = np.where(college_train['school']== 'Harvard', 1, 0)\n",
      "/var/folders/7w/dkjvv8f57hv2qg30psq105jr0000gn/T/ipykernel_89845/2932717117.py:4: SettingWithCopyWarning: \n",
      "A value is trying to be set on a copy of a slice from a DataFrame.\n",
      "Try using .loc[row_indexer,col_indexer] = value instead\n",
      "\n",
      "See the caveats in the documentation: https://pandas.pydata.org/pandas-docs/stable/user_guide/indexing.html#returning-a-view-versus-a-copy\n",
      "  college_test['harvard'] = np.where(college_test['school']== 'Harvard', 1, 0)\n"
     ]
    },
    {
     "data": {
      "image/png": "[encoded data removed]",
      "text/plain": [
       "<Figure size 1440x1440 with 12 Axes>"
      ]
     },
     "metadata": {
      "needs_background": "light"
     },
     "output_type": "display_data"
    }
   ],
   "source": [
    "# your code here\n",
    "college['harvard'] = np.where(college['school']== 'Harvard', 1, 0)\n",
    "college_train['harvard'] = np.where(college_train['school']== 'Harvard', 1, 0)\n",
    "college_test['harvard'] = np.where(college_test['school']== 'Harvard', 1, 0)\n",
    "\n",
    "fig, axes = plt.subplots(4, 3, figsize=(20,20))\n",
    "fig.suptitle('Exploration of Marginal Association of Each Predictor')\n",
    "predictors = [\n",
    "    \"test\", \"ap\", \"avg_ap\", \"sat_subjects\", \n",
    "    \"gpa\", \"female\", \"minority\", \"international\",\n",
    "    \"sports\", \"school\", \"early_app\", \"alumni\",\n",
    "]\n",
    "\n",
    "for pred, ax in zip(predictors, axes.flatten()):\n",
    "    ax.scatter(college_train[pred], college_train['admitted'])\n",
    "    ax.set_title(pred)\n",
    "    ax.set_xlabel(pred)\n",
    "    ax.set_ylabel('admitted')\n"
   ]
  },
  {
   "cell_type": "markdown",
   "metadata": {
    "cell_id": "0a790850-87c6-4f46-b89e-048a2295c92b",
    "colab_type": "text",
    "id": "IGFtXJmQap2q"
   },
   "source": [
    "<div class='exercise-r'>\n",
    "\n",
    "**1.3** Based on the visuals above, which predictor seems to have the most potential for predicting `admitted`? Why do you think this it the best potential single predictor?\n",
    "    \n",
    "</div>"
   ]
  },
  {
   "cell_type": "markdown",
   "metadata": {},
   "source": [
    "We believe that test is the best predictor as the scatterplot appears to show grouping that shows that lower test scores lead to no admission."
   ]
  },
  {
   "cell_type": "markdown",
   "metadata": {
    "cell_id": "0a790850-87c6-4f46-b89e-048a2295c92b",
    "colab_type": "text",
    "id": "IGFtXJmQap2q"
   },
   "source": [
    "<div class='exercise-r'>\n",
    "    \n",
    "**1.4** Fit a logistic regression to predict `admitted` from `harvard` (call it `logit1_4`).  Interpret the coefficient estimates: which college is estimated to be easier to get into?  What are the estimated probabilities of getting into each school?\n",
    "    \n",
    "</div>"
   ]
  },
  {
   "cell_type": "code",
   "execution_count": 6,
   "metadata": {},
   "outputs": [
    {
     "name": "stdout",
     "output_type": "stream",
     "text": [
      "Logistic Regression Estimated Beta 0: -1.1137\n",
      "Logistic Regression Estimated Beta 1: 0.1532\n",
      "Probablity of Getting into Yale: 24.7191%\n",
      "Probablity of Getting into Harvard: 27.6786%\n"
     ]
    }
   ],
   "source": [
    "# your code here\n",
    "logit1_4 = LogisticRegression(penalty='none', max_iter = 1000)\n",
    "\n",
    "#Fit the model\n",
    "logit1_4.fit(college_train[['harvard']], college_train['admitted'])\n",
    "\n",
    "# Get the coefficient estimates\n",
    "print(\"Logistic Regression Estimated Beta 0: {:.4f}\".format(logit1_4.intercept_[0]))\n",
    "print(\"Logistic Regression Estimated Beta 1: {:.4f}\".format(logit1_4.coef_[0][0]))   \n",
    "\n",
    "print(\"Probablity of Getting into Yale: {:.4f}%\".format(logit1_4.predict_proba([[0]])[0][1]*100))\n",
    "print(\"Probablity of Getting into Harvard: {:.4f}%\".format(logit1_4.predict_proba([[1]])[0][1]*100))"
   ]
  },
  {
   "cell_type": "markdown",
   "metadata": {},
   "source": [
    "**INTERPRETATION:**"
   ]
  },
  {
   "cell_type": "markdown",
   "metadata": {},
   "source": [
    "Harvard is easier to get into because it has a higher probability of admitting a student while Yale has a lower probability."
   ]
  },
  {
   "cell_type": "markdown",
   "metadata": {
    "cell_id": "0a790850-87c6-4f46-b89e-048a2295c92b",
    "colab_type": "text",
    "id": "IGFtXJmQap2q"
   },
   "source": [
    "<div class='exercise-r'>\n",
    "\n",
    "**1.5** Create a contingency table between `admitted` and `harvard`.  Use this table to calculate and confirm the coefficient estimates in the `logit1_4` model (both the intercept and slope).\n",
    "\n",
    "</div>"
   ]
  },
  {
   "cell_type": "code",
   "execution_count": 7,
   "metadata": {},
   "outputs": [
    {
     "data": {
      "text/html": [
       "<div>\n",
       "<style scoped>\n",
       "    .dataframe tbody tr th:only-of-type {\n",
       "        vertical-align: middle;\n",
       "    }\n",
       "\n",
       "    .dataframe tbody tr th {\n",
       "        vertical-align: top;\n",
       "    }\n",
       "\n",
       "    .dataframe thead th {\n",
       "        text-align: right;\n",
       "    }\n",
       "</style>\n",
       "<table border=\"1\" class=\"dataframe\">\n",
       "  <thead>\n",
       "    <tr style=\"text-align: right;\">\n",
       "      <th>Harvard</th>\n",
       "      <th>0</th>\n",
       "      <th>1</th>\n",
       "    </tr>\n",
       "    <tr>\n",
       "      <th>Admitted</th>\n",
       "      <th></th>\n",
       "      <th></th>\n",
       "    </tr>\n",
       "  </thead>\n",
       "  <tbody>\n",
       "    <tr>\n",
       "      <th>0</th>\n",
       "      <td>536</td>\n",
       "      <td>567</td>\n",
       "    </tr>\n",
       "    <tr>\n",
       "      <th>1</th>\n",
       "      <td>176</td>\n",
       "      <td>217</td>\n",
       "    </tr>\n",
       "  </tbody>\n",
       "</table>\n",
       "</div>"
      ],
      "text/plain": [
       "Harvard     0    1\n",
       "Admitted          \n",
       "0         536  567\n",
       "1         176  217"
      ]
     },
     "metadata": {},
     "output_type": "display_data"
    },
    {
     "name": "stdout",
     "output_type": "stream",
     "text": [
      "Beta 0: -1.1137\n",
      "Beta 1: 0.1532\n"
     ]
    }
   ],
   "source": [
    "# your code here\n",
    "# Create a contingency table between admitted and harvard.\n",
    "confusion_matrix = pd.crosstab(\n",
    "    college_train['admitted'], \n",
    "    college_train['harvard'], \n",
    "    rownames=['Admitted'], \n",
    "    colnames=['Harvard'],\n",
    ")\n",
    "display(confusion_matrix)\n",
    "\n",
    "# Use this table to calculate and confirm the coefficient estimates in the logit1_4 model (both the intercept and slope).\n",
    "num_0 = confusion_matrix[0][1]/(confusion_matrix[0][0]+confusion_matrix[0][1])\n",
    "den_0 = 1 - num_0\n",
    "b0 = np.log(num_0/den_0)\n",
    "\n",
    "num_1 = confusion_matrix[1][1]/(confusion_matrix[1][0]+confusion_matrix[1][1])\n",
    "den_1 = 1 - num_1\n",
    "b1 = np.log(num_1/den_1) - b0\n",
    "\n",
    "print(\"Beta 0: {:.4f}\".format(b0))\n",
    "print(\"Beta 1: {:.4f}\".format(b1))"
   ]
  },
  {
   "cell_type": "markdown",
   "metadata": {
    "cell_id": "0a790850-87c6-4f46-b89e-048a2295c92b",
    "colab_type": "text",
    "id": "IGFtXJmQap2q"
   },
   "source": [
    "<div class='exercise-r'>\n",
    "\n",
    "**1.6** Compare the estimated probabilities of being admitted into the schools to the overall acceptance rate (as seen [here](https://www.ivycoach.com/2023-ivy-league-admissions-statistics/)).  Why may what you've observed in this comparison be the case?\n",
    "    \n",
    "</div>"
   ]
  },
  {
   "cell_type": "markdown",
   "metadata": {},
   "source": [
    "The estimated probability for Harvard was 28.7% and the estimated probability for Yale was 25%. This is higher than the actual observed probabilities for admission into Harvard and Yale. This may be because our data-set is not a representative sample of the overall population. There also could be other predictors that we have not accounted for."
   ]
  },
  {
   "cell_type": "markdown",
   "metadata": {},
   "source": [
    "---"
   ]
  },
  {
   "cell_type": "markdown",
   "metadata": {},
   "source": [
    "<a id=\"part2\"></a>\n",
    "\n",
    "## <div class='exercise'>Question 2: Interpretable modeling [18 pts]</div>\n",
    "\n",
    "[Return to contents](#contents)\n",
    "\n",
    "**2.1** Fit a logistic regression model to predict `admitted` from `test` alone (call it `logit2_1`).  Print out the coefficient estimates (remember to always print both intercept and slope coefficients) along with the classification accuracies for this model (on both train and test data). \n",
    "\n",
    "**2.2** What is the estimated probability of an applicant being admitted with an *average* `test` score of 2250?  What about if they had a perfect test score of 2400?  What test score would be needed to have a 50-50 chance (i.e. 0.5 probability) of being admitted?\n",
    "\n",
    "**2.3**  Fit a logistic regression model to predict `admitted` from `test` and `avg_ap` (call it `logit2_3`).  Print out the coefficient estimates along with the classification accuracies for this model (on both train and test data). \n",
    "\n",
    "**2.4** Interpret the coefficient estimates for both predictors in `logit2_3` and compare the coefficient estimate for `test` to the one from `logit2_1`.  Why has this estimate changed?\n",
    "\n",
    "**HINT:** You may want to inspect the relationship between `test` and `avg_ap` to help get a better sense for what might be happening here.\n",
    "\n",
    "**2.5** Interpret and compare the classification accuracies for the two models, `logit2_1` and `logit2_3`.  Explain why these accuracies are the same or different, and what about the data makes these accuracies so similar or different.\n"
   ]
  },
  {
   "cell_type": "markdown",
   "metadata": {},
   "source": [
    "<a id=\"part2solutions\"></a>\n",
    "\n",
    "## Question 2: Solutions\n",
    "\n",
    "[Return to contents](#contents)"
   ]
  },
  {
   "cell_type": "markdown",
   "metadata": {
    "cell_id": "0a790850-87c6-4f46-b89e-048a2295c92b",
    "colab_type": "text",
    "id": "IGFtXJmQap2q"
   },
   "source": [
    "<div class='exercise-r'>\n",
    "\n",
    "**2.1** Fit a logistic regression model to predict `admitted` from `test` alone (call it `logit2_1`).  Print out the coefficient estimates (remember to always print both intercept and slope coefficients) along with the classification accuracies for this model (on both train and test data).\n",
    "    \n",
    "</div>"
   ]
  },
  {
   "cell_type": "code",
   "execution_count": 8,
   "metadata": {},
   "outputs": [
    {
     "name": "stdout",
     "output_type": "stream",
     "text": [
      "Logistic Regression Estimated Beta 0: -9.4136\n",
      "Logistic Regression Estimated Beta 1: 0.0038\n",
      "Training Set Accuracy: 73.7299%\n",
      "Testing Set Accuracy: 70.1333%\n",
      "\n"
     ]
    }
   ],
   "source": [
    "# your code here\n",
    "logit2_1 = LogisticRegression(penalty='none', max_iter = 1000)\n",
    "\n",
    "#Fit the model\n",
    "logit2_1.fit(college_train[['test']], college_train['admitted'])\n",
    "\n",
    "# Get the coefficient estimates\n",
    "print(\"Logistic Regression Estimated Beta 0: {:.4f}\".format(logit2_1.intercept_[0]))\n",
    "print(\"Logistic Regression Estimated Beta 1: {:.4f}\".format(logit2_1.coef_[0][0]))   \n",
    "\n",
    "# Score model\n",
    "train_score2_1 = logit2_1.score(college_train[['test']], college_train['admitted'])\n",
    "test_score2_1 = logit2_1.score(college_test[['test']], college_test['admitted'])\n",
    "\n",
    "# Print scores\n",
    "print(\"Training Set Accuracy: {:.4f}%\".format(train_score2_1*100))\n",
    "print(\"Testing Set Accuracy: {:.4f}%\\n\".format(test_score2_1*100))"
   ]
  },
  {
   "cell_type": "markdown",
   "metadata": {
    "cell_id": "0a790850-87c6-4f46-b89e-048a2295c92b",
    "colab_type": "text",
    "id": "IGFtXJmQap2q"
   },
   "source": [
    "<div class='exercise-r'>\n",
    "\n",
    "**2.2** What is the estimated probability of an applicant being admitted with an *average* `test` score of 2250?  What about if they had a perfect test score of 2400?  What test score would be needed to have a 50-50 chance (i.e. 0.5 probability) of being admitted?\n",
    "    \n",
    "</div>"
   ]
  },
  {
   "cell_type": "code",
   "execution_count": 9,
   "metadata": {},
   "outputs": [
    {
     "name": "stdout",
     "output_type": "stream",
     "text": [
      "Probablity of Admission with Score of 2250: 29.2949%\n",
      "Probablity of Admission with Score of 2400: 42.2561%\n",
      "Test score for a 50% chance of admission would be: 2482.3446\n"
     ]
    }
   ],
   "source": [
    "# your code here\n",
    "print(\"Probablity of Admission with Score of 2250: {:.4f}%\".format(logit2_1.predict_proba([[2250]])[0][1]*100))\n",
    "print(\"Probablity of Admission with Score of 2400: {:.4f}%\".format(logit2_1.predict_proba([[2400]])[0][1]*100))\n",
    "\n",
    "test_score = -logit2_1.intercept_[0]/logit2_1.coef_[0][0]\n",
    "\n",
    "print(\"Test score for a 50% chance of admission would be: {:.4f}\".format(test_score))"
   ]
  },
  {
   "cell_type": "markdown",
   "metadata": {},
   "source": [
    "Increasing test scores lead to a higher probability of being admitted. A test score of 2482 would be necessary to have a 50% chance of admission. However, this exceeds the bounds of potential scores."
   ]
  },
  {
   "cell_type": "markdown",
   "metadata": {
    "cell_id": "0a790850-87c6-4f46-b89e-048a2295c92b",
    "colab_type": "text",
    "id": "IGFtXJmQap2q"
   },
   "source": [
    "<div class='exercise-r'>\n",
    "\n",
    "**2.3** Fit a logistic regression model to predict `admitted` from `test` and `avg_ap` (call it `logit2_3`).  Print out the coefficient estimates along with the classification accuracies for this model (on both train and test data).\n",
    "    \n",
    "</div>"
   ]
  },
  {
   "cell_type": "code",
   "execution_count": 10,
   "metadata": {},
   "outputs": [
    {
     "name": "stdout",
     "output_type": "stream",
     "text": [
      "Logistic Regression Estimated Beta 0: -0.0188\n",
      "Logistic Regression Estimated Beta 1: -0.0005\n",
      "Logistic Regression Estimated Beta 2: 0.0533\n",
      "Training Set Accuracy: 73.7299%\n",
      "Testing Set Accuracy: 70.1333%\n",
      "\n"
     ]
    }
   ],
   "source": [
    "# your code here\n",
    "logit2_3 = LogisticRegression(penalty='none', max_iter = 1000)\n",
    "\n",
    "#Fit the model\n",
    "logit2_3.fit(college_train[['test', 'avg_ap']], college_train['admitted'])\n",
    "\n",
    "# Get the coefficient estimates\n",
    "print(\"Logistic Regression Estimated Beta 0: {:.4f}\".format(logit2_3.intercept_[0]))\n",
    "print(\"Logistic Regression Estimated Beta 1: {:.4f}\".format(logit2_3.coef_[0][0])) \n",
    "print(\"Logistic Regression Estimated Beta 2: {:.4f}\".format(logit2_3.coef_[0][1])) \n",
    "\n",
    "# Score model\n",
    "train_score2_3 = logit2_3.score(college_train[['test', 'avg_ap']], college_train['admitted'])\n",
    "test_score2_3 = logit2_3.score(college_test[['test', 'avg_ap']], college_test['admitted'])\n",
    "\n",
    "# Print scores\n",
    "print(\"Training Set Accuracy: {:.4f}%\".format(train_score2_3*100))\n",
    "print(\"Testing Set Accuracy: {:.4f}%\\n\".format(test_score2_3*100))"
   ]
  },
  {
   "cell_type": "markdown",
   "metadata": {
    "cell_id": "0a790850-87c6-4f46-b89e-048a2295c92b",
    "colab_type": "text",
    "id": "IGFtXJmQap2q"
   },
   "source": [
    "<div class='exercise-r'>\n",
    "\n",
    "**2.4** Interpret the coefficient estimates for both predictors in `logit2_3` and compare the coefficient estimate for `test` to the one from `logit2_1`.  Why has this estimate changed?\n",
    "\n",
    "**HINT:** You may want to inspect the relationship between `test` and `avg_ap` to help get a better sense for what might be happening here.\n",
    "\n",
    "</div>"
   ]
  },
  {
   "cell_type": "code",
   "execution_count": 11,
   "metadata": {},
   "outputs": [
    {
     "data": {
      "text/plain": [
       "Text(0, 0.5, 'Average AP Score')"
      ]
     },
     "execution_count": 11,
     "metadata": {},
     "output_type": "execute_result"
    },
    {
     "data": {
      "image/png": "[encoded data removed]",
      "text/plain": [
       "<Figure size 432x288 with 1 Axes>"
      ]
     },
     "metadata": {
      "needs_background": "light"
     },
     "output_type": "display_data"
    }
   ],
   "source": [
    "# your code here\n",
    "plt.scatter(college_train['test'], college_train['avg_ap'])\n",
    "plt.title(\"Test vs Avg_Ap\")\n",
    "plt.xlabel(\"Test Score\")\n",
    "plt.ylabel(\"Average AP Score\")"
   ]
  },
  {
   "cell_type": "markdown",
   "metadata": {},
   "source": [
    "**INTERPRETATION:**"
   ]
  },
  {
   "cell_type": "markdown",
   "metadata": {},
   "source": [
    "The coefficient for test in 2_1 was 0.003 and now in 2_3 it is -0.0005. The coefficient for test has become negative since 2_3 also takes avg_ap as a predictor. Test and Avg_ap are positively correlated, so the logistic regression model is compensating by making test negative so that it does not over-predict the probability of admission. The coefficient for avg_ap is positive because an increase in the avg_ap score leads to a higher probability of admission in general."
   ]
  },
  {
   "cell_type": "markdown",
   "metadata": {
    "cell_id": "0a790850-87c6-4f46-b89e-048a2295c92b",
    "colab_type": "text",
    "id": "IGFtXJmQap2q"
   },
   "source": [
    "<div class='exercise-r'>\n",
    "\n",
    "**2.5** Interpret and compare the classification accuracies for the two models, `logit2_1` and `logit2_3`.  Explain why these accuracies are the same or different, and what about the data makes these accuracies so similar or different.\n",
    "\n",
    "</div>"
   ]
  },
  {
   "cell_type": "markdown",
   "metadata": {},
   "source": [
    "The accuracies are the same for logit2_1 and logit 2_3. This is because the predictors have collinearity, so adding an additional predictor avg_ap does nothing to increase the predictive power of the model."
   ]
  },
  {
   "cell_type": "markdown",
   "metadata": {},
   "source": [
    "---"
   ]
  },
  {
   "cell_type": "markdown",
   "metadata": {},
   "source": [
    "<a id=\"part3\"></a>\n",
    "\n",
    "## <div class='exercise'>Question 3: Harvard and Yale? [30 pts]</div>\n",
    "\n",
    "[Return to contents](#contents)\n",
    "\n",
    "**3.1** Fit a logistic regression model (call it `logit3_1`) to predict `admitted` from 7 predictors: `[\"harvard\", \"test\", \"ap\", \"avg_ap\", \"gpa\", \"female\", \"minority\"]`.  Output and interpret the coefficient estimates for the binary predictors in this model.\n",
    "\n",
    "**HINT:** If you have convergence warnings, increasing the maximum number of iterations will likely solve this issue.\n",
    "\n",
    "**3.2** Fit a logistic regression model (call it `logit3_2`) to predict `admitted` from 3 predictors: `[\"harvard\", \"test\", \"ap\"]` along with the 2 interaction terms: `harvard` with `test` and `harvard` with `ap`. Name the columns for these interaction terms something sensible.  Print out the coefficient estimates for this model.\n",
    "\n",
    "**3.3** Simplify and write out mathematically the above model from Question 3.2 for 2 applicants: (1) someone who is applying to Harvard and for (2) someone who is applying to Yale (keep `test` and `ap` as the unknown $X$s).  The basic framework given to you below may be helpful:\n",
    "\n",
    "$$ \\ln \\left( \\frac{P(Y=1)}{1-P(Y=1)} \\right) = \\beta_0 + \\beta_1 X_1 + \\dots + \\beta_p X_p $$\n",
    "\n",
    "**NOTE:** All of your mathematical statements should be written out in your markdown cells using $\\LaTeX$.\n",
    "\n",
    "**3.4** Determine two classification boundaries mathematically for the model in the previous part (using the estimated coefficients): What range of values of `test` as a function of `ap` would an applicant be predicted to have a better than 50% chance (i.e. 0.5 probability) of being admitted into the college they applied (each college is associated with a different function)? If a student scored a perfect 2400 on `test`, what is the range of AP tests they should take in order to have a better than 50% chance of being admitted into Harvard?\n",
    "\n",
    "**3.5** Create two separate scatterplots (one for Harvard applicants and one for Yale applicants) with the predictor `test` on the y-axis and `ap` on the x-axis where `admitted` is color-coded and the marker denotes train vs. test data.  Then add the appropriate classification boundary from the previous part.  Compare these two plots (including both the location of the boundaries and where the points lie around these boundaries).\n",
    "\n",
    "**NOTE:** As always, please be certain (a) your plot is titled, (b) everything is clearly labeled, and (c) the plot itself is formatted in a manner that makes it easy to read and interpret. It will likely take some careful work here to generate plots with data points that are clear and easy to see.\n",
    "\n",
    "**3.6** Fit a logistic regression model (call it `logit3_6`) to predict `admitted` from 4 predictors: `[\"harvard\", \"test\", \"female\", \"minority\"]` along with 2 interaction terms: `harvard` with `female` and `harvard` with `minority`.  Print out the coefficient estimates for this model.\n",
    "\n",
    "**3.7** Interpret the coefficients associated with `female` and `minority` (the two main effects AND the two interaction terms).\n",
    "\n",
    "**3.8** Based on this sample, how does it appear that Harvard and Yale compare in admitting these groups?  Why would it be wrong to take this interpretation as truth?"
   ]
  },
  {
   "cell_type": "markdown",
   "metadata": {},
   "source": [
    "<a id=\"part3solutions\"></a>\n",
    "\n",
    "## Question 3: Solutions\n",
    "\n",
    "[Return to contents](#contents)"
   ]
  },
  {
   "cell_type": "markdown",
   "metadata": {
    "cell_id": "0a790850-87c6-4f46-b89e-048a2295c92b",
    "colab_type": "text",
    "id": "IGFtXJmQap2q"
   },
   "source": [
    "<div class='exercise-r'>\n",
    "\n",
    "**3.1** Fit a logistic regression model (call it `logit3_1`) to predict `admitted` from 7 predictors: `[\"harvard\", \"test\", \"ap\", \"avg_ap\", \"gpa\", \"female\", \"minority\"]`.  Output and interpret the coefficient estimates for the binary predictors in this model.\n",
    "\n",
    "**HINT:** If you have convergence warnings, increasing the maximum number of iterations will likely solve this issue.\n",
    "    \n",
    "</div>"
   ]
  },
  {
   "cell_type": "code",
   "execution_count": 12,
   "metadata": {
    "scrolled": true
   },
   "outputs": [
    {
     "name": "stdout",
     "output_type": "stream",
     "text": [
      "Logistic Regression Estimated Beta 0: -1.1726\n",
      "Logistic Regression Estimated Beta 1 (harvard): 0.1423\n",
      "Logistic Regression Estimated Beta 6 (female): -0.0298\n",
      "Logistic Regression Estimated Beta 7 (minority): 0.4575\n"
     ]
    }
   ],
   "source": [
    "# your code here\n",
    "logit3_1 = LogisticRegression(penalty='none', max_iter = 1000, random_state=5)\n",
    "\n",
    "#Fit the model\n",
    "logit3_1.fit(college_train[[\"harvard\", \"test\", \"ap\", \"avg_ap\", \"gpa\", \"female\", \"minority\"]], college_train['admitted'])\n",
    "\n",
    "# Get the coefficient estimates\n",
    "print(\"Logistic Regression Estimated Beta 0: {:.4f}\".format(logit3_1.intercept_[0]))\n",
    "print(\"Logistic Regression Estimated Beta 1 (harvard): {:.4f}\".format(logit3_1.coef_[0][0])) \n",
    "print(\"Logistic Regression Estimated Beta 6 (female): {:.4f}\".format(logit3_1.coef_[0][5])) \n",
    "print(\"Logistic Regression Estimated Beta 7 (minority): {:.4f}\".format(logit3_1.coef_[0][6])) "
   ]
  },
  {
   "cell_type": "markdown",
   "metadata": {},
   "source": [
    "**INTERPRETATION:**"
   ]
  },
  {
   "cell_type": "markdown",
   "metadata": {},
   "source": [
    "The natural log of the odds of being admitted increases when a person applies to Harvard. The natural log of the odds of being admitted decreases when a female applies to university. The natural log of the odds of being admitted increases when a person who is a minority applies to university. Out of all predictors, minority has the strongest effect on the odds of getting into university."
   ]
  },
  {
   "cell_type": "markdown",
   "metadata": {
    "cell_id": "0a790850-87c6-4f46-b89e-048a2295c92b",
    "colab_type": "text",
    "id": "IGFtXJmQap2q"
   },
   "source": [
    "<div class='exercise-r'>\n",
    "\n",
    "**3.2** Fit a logistic regression model (call it `logit3_2`) to predict `admitted` from 3 predictors: `[\"harvard\", \"test\", \"ap\"]` along with the 2 interaction terms: `harvard` with `test` and `harvard` with `ap`. Name the columns for these interaction terms something sensible.  Print out the coefficient estimates for this model.\n",
    "\n",
    "</div>"
   ]
  },
  {
   "cell_type": "code",
   "execution_count": 13,
   "metadata": {},
   "outputs": [
    {
     "name": "stdout",
     "output_type": "stream",
     "text": [
      "Logistic Regression Estimated Beta 0: -7.1344\n",
      "Logistic Regression Estimated Beta 1 (harvard): -4.4410\n",
      "Logistic Regression Estimated Beta 2 (test): 0.0027\n",
      "Logistic Regression Estimated Beta 3 (ap): 0.0240\n",
      "Logistic Regression Estimated Beta 4 (harvard_test): 0.0022\n",
      "Logistic Regression Estimated Beta 5 (harvard_ap): -0.1101\n"
     ]
    }
   ],
   "source": [
    "# your code here\n",
    "logit3_2 = LogisticRegression(penalty='none', max_iter = 1000, random_state=5)\n",
    "\n",
    "#Interaction terms\n",
    "predictors_htest = [\"harvard\", \"test\"]\n",
    "predictors_hap = [\"harvard\", \"ap\"]\n",
    "for college in [college_train, college_test]:\n",
    "    college[\"_\".join(predictors_htest)] = college[predictors_htest[0]] * college[predictors_htest[1]]\n",
    "    college[\"_\".join(predictors_hap)] = college[predictors_hap[0]] * college[predictors_hap[1]]\n",
    "    \n",
    "#Fit the model\n",
    "predictors = [\"harvard\", \"test\", \"ap\", \"harvard_test\", \"harvard_ap\"]\n",
    "logit3_2.fit(college_train[predictors], college_train['admitted'])\n",
    "\n",
    "# Get the coefficient estimates\n",
    "print(\"Logistic Regression Estimated Beta 0: {:.4f}\".format(logit3_2.intercept_[0]))\n",
    "\n",
    "for i, name in enumerate(logit3_2.coef_[0]):\n",
    "    print(\"Logistic Regression Estimated Beta {} ({}): {:.4f}\".format(i+1, predictors[i], logit3_2.coef_[0][i])) "
   ]
  },
  {
   "cell_type": "markdown",
   "metadata": {
    "cell_id": "0a790850-87c6-4f46-b89e-048a2295c92b",
    "colab_type": "text",
    "id": "IGFtXJmQap2q"
   },
   "source": [
    "<div class='exercise-r'>\n",
    "\n",
    "**3.3** Simplify and write out mathematically the above model from Question 3.2 for 2 applicants: (1) someone who is applying to Harvard and for (2) someone who is applying to Yale (keep `test` and `ap` as the unknown $X$s).  The basic framework given to you below may be helpful:\n",
    "\n",
    "$$ \\ln \\left( \\frac{P(Y=1)}{1-P(Y=1)} \\right) = \\beta_0 + \\beta_1 X_1 + \\dots + \\beta_p X_p $$\n",
    "    \n",
    "**NOTE:** All of your mathematical statements should be written out in your markdown cells using $\\LaTeX$.\n",
    "\n",
    "</div>"
   ]
  },
  {
   "cell_type": "markdown",
   "metadata": {},
   "source": [
    "$HarvardOdds= (B_0 + B_1) + (B_2 + B_4)Test + (B_3+B_5)AP$\n",
    "\n",
    "$YaleOdds= B_0 + B_2Test + B_3AP$"
   ]
  },
  {
   "cell_type": "markdown",
   "metadata": {
    "cell_id": "0a790850-87c6-4f46-b89e-048a2295c92b",
    "colab_type": "text",
    "id": "IGFtXJmQap2q"
   },
   "source": [
    "<div class='exercise-r'>\n",
    "\n",
    "**3.4** Determine two classification boundaries mathematically for the model in the previous part (using the estimated coefficients): What range of values of `test` as a function of `ap` would an applicant be predicted to have a better than 50% chance (i.e. 0.5 probability) of being admitted into the college they applied (each college is associated with a different function)? If a student scored a perfect 2400 on `test`, what is the range of AP tests they should take in order to have a better than 50% chance of being admitted into Harvard?\n",
    "\n",
    "</div>"
   ]
  },
  {
   "cell_type": "markdown",
   "metadata": {},
   "source": [
    "$HarvardTest= \\frac{(B_0 + B_1) + (B_3 + B_5)AP} {-B_2-B_4}$\n",
    "\n",
    "$2400 = -40.4858 (-11.5754 - 0.0861 AP)$\n",
    "\n",
    "$AP \\geq 554.06$\n",
    "\n",
    "$ ------ $\n",
    "\n",
    "$YaleTest= \\frac{B_0 + B_3AP} {-B_2}$\n",
    "\n",
    "$2400 = -370.37 (-7.1344 - 0.024 x)$\n",
    "\n",
    "$AP \\geq -27.2667$"
   ]
  },
  {
   "cell_type": "markdown",
   "metadata": {
    "cell_id": "0a790850-87c6-4f46-b89e-048a2295c92b",
    "colab_type": "text",
    "id": "IGFtXJmQap2q"
   },
   "source": [
    "<div class='exercise-r'>\n",
    "\n",
    "**3.5** Create two separate scatterplots (one for Harvard applicants and one for Yale applicants) with the predictor `test` on the y-axis and `ap` on the x-axis where `admitted` is color-coded and the marker denotes train vs. test data.  Then add the appropriate classification boundary from the previous part.  Compare these two plots (including both the location of the boundaries and where the points lie around these boundaries).\n",
    "\n",
    "**NOTE:** As always, please be certain (a) your plot is titled, (b) everything is clearly labeled, and (c) the plot itself is formatted in a manner that makes it easy to read and interpret. It will likely take some careful work here to generate plots with data points that are clear and easy to see.\n",
    "    \n",
    "</div>"
   ]
  },
  {
   "cell_type": "code",
   "execution_count": 14,
   "metadata": {},
   "outputs": [
    {
     "data": {
      "image/png": "[encoded data removed]",
      "text/plain": [
       "<Figure size 1008x432 with 2 Axes>"
      ]
     },
     "metadata": {
      "needs_background": "light"
     },
     "output_type": "display_data"
    }
   ],
   "source": [
    "# your code here\n",
    "y = college_train['test']\n",
    "x = college_train[['ap']]\n",
    "\n",
    "x_harv= college_train[college_train['harvard']==1][['ap']]\n",
    "c_harv= college_train[college_train['harvard']==1]['admitted']\n",
    "y_harvp= college_train[college_train['harvard']==1]['test']\n",
    "\n",
    "x_harvt= college_test[college_test['harvard']==1][['ap']]\n",
    "c_harvt= college_test[college_test['harvard']==1]['admitted']\n",
    "y_harvpt= college_test[college_test['harvard']==1]['test']\n",
    "\n",
    "x_yale= college_train[college_train['harvard']==0][['ap']]\n",
    "c_yale= college_train[college_train['harvard']==0]['admitted']\n",
    "y_yalep= college_train[college_train['harvard']==0]['test']\n",
    "\n",
    "x_yalet= college_test[college_test['harvard']==0][['ap']]\n",
    "c_yalet= college_test[college_test['harvard']==0]['admitted']\n",
    "y_yalept= college_test[college_test['harvard']==0]['test']\n",
    "\n",
    "b0= logit3_2.intercept_[0]\n",
    "b1= logit3_2.coef_[0][0]\n",
    "b2= logit3_2.coef_[0][1]\n",
    "b3= logit3_2.coef_[0][2]\n",
    "b4= logit3_2.coef_[0][3]\n",
    "b5= logit3_2.coef_[0][4]\n",
    "\n",
    "y_harv= ((b0+b1)+(b3+b5)*x)/(-b2-b4)\n",
    "y_yale= (b0+b3*x)/(-b2)\n",
    "\n",
    "f, axes = plt.subplots(1,2, figsize=(14,6), sharey='row')\n",
    "\n",
    "axes[0].plot(x, y_harv, 'k--', label=\"Harvard Classification Boundary\")\n",
    "axes[0].scatter(x_harv, y_harvp, marker='v', c=c_harv, label=\"Train\", alpha = 0.5)\n",
    "axes[0].scatter(x_harvt, y_harvpt, marker='^', c=c_harvt, label=\"Test\", alpha = 0.5, s=100)\n",
    "axes[0].legend()\n",
    "axes[0].set_title(\n",
    "    'Harvard Classification Boundary\\n Yellow=Admitted, Purple=Not Admitted',\n",
    "    fontsize=14,\n",
    ")\n",
    "axes[0].set_ylabel('test score', fontsize=12)\n",
    "axes[0].set_xlabel('ap score', fontsize=12)\n",
    "\n",
    "axes[1].plot(x, y_yale, 'k--', label=\"Yale Classification Boundary\")\n",
    "axes[1].scatter(x_yale, y_yalep, marker='v', c=c_yale, label=\"Train\", alpha = 0.5)\n",
    "axes[1].scatter(x_yalet, y_yalept, marker='^', c=c_yalet, label=\"Test\", alpha = 0.5, s=100)\n",
    "axes[1].legend()\n",
    "axes[1].set_title(\n",
    "    'Yale Classification Boundary\\n Yellow=Admitted, Purple=Not Admitted',\n",
    "    fontsize=14,\n",
    ")\n",
    "axes[1].set_ylabel('test score', fontsize=12)\n",
    "axes[1].set_xlabel('ap score', fontsize=12)\n",
    "\n",
    "\n",
    "plt.tight_layout()\n",
    "plt.show()\n"
   ]
  },
  {
   "cell_type": "markdown",
   "metadata": {},
   "source": [
    "**INTERPRETATION:**"
   ]
  },
  {
   "cell_type": "markdown",
   "metadata": {},
   "source": [
    "**Looking at this graph, the classification error is high for our logistic regression model. The boundary lines that we derived for the probability of being admitted is consistently higher than the actual admitted data for Harvard and Yale. This means that the logistic regression we made consistently under-predicts the probability of being admitted and has a high classification error.**"
   ]
  },
  {
   "cell_type": "markdown",
   "metadata": {
    "cell_id": "0a790850-87c6-4f46-b89e-048a2295c92b",
    "colab_type": "text",
    "id": "IGFtXJmQap2q"
   },
   "source": [
    "<div class='exercise-r'>\n",
    "\n",
    "**3.6** Fit a logistic regression model (call it `logit3_6`) to predict `admitted` from 4 predictors: `[\"harvard\", \"test\", \"female\", \"minority\"]` along with 2 interaction terms: `harvard` with `female` and `harvard` with `minority`.  Print out the coefficient estimates for this model.\n",
    "    \n",
    "</div>"
   ]
  },
  {
   "cell_type": "code",
   "execution_count": 15,
   "metadata": {},
   "outputs": [
    {
     "name": "stdout",
     "output_type": "stream",
     "text": [
      "Logistic Regression Estimated Beta 0: -10.6615\n",
      "Logistic Regression Estimated Beta 1 (harvard): 0.3864\n",
      "Logistic Regression Estimated Beta 2 (test): 0.0042\n",
      "Logistic Regression Estimated Beta 3 (female): 0.0184\n",
      "Logistic Regression Estimated Beta 4 (minority): 1.4378\n",
      "Logistic Regression Estimated Beta 5 (harvard_female): 0.0777\n",
      "Logistic Regression Estimated Beta 6 (harvard_minority): -1.0612\n"
     ]
    }
   ],
   "source": [
    "# your code here\n",
    "logit3_6 = LogisticRegression(penalty='none', max_iter = 1000, random_state=5)\n",
    "\n",
    "predictors = ['harvard', 'test', 'female', 'minority']\n",
    "x_train= college_train[predictors]\n",
    "x_test= college_test[predictors]\n",
    "\n",
    "predictors_hfem = [\"harvard\", \"female\"]\n",
    "predictors_hmin = [\"harvard\", \"minority\"]\n",
    "for college in [college_train, college_test]:\n",
    "    college[\"_\".join(predictors_hfem)] = college[predictors_hfem[0]] * college[predictors_hfem[1]]\n",
    "    college[\"_\".join(predictors_hmin)] = college[predictors_hmin[0]] * college[predictors_hmin[1]]\n",
    "    \n",
    "#Fit the model\n",
    "predictors = [\"harvard\", \"test\", \"female\", \"minority\", \"harvard_female\", \"harvard_minority\"]\n",
    "logit3_6.fit(college_train[predictors], college_train['admitted'])\n",
    "\n",
    "# Get the coefficient estimates\n",
    "print(\"Logistic Regression Estimated Beta 0: {:.4f}\".format(logit3_6.intercept_[0]))\n",
    "\n",
    "for i, name in enumerate(logit3_6.coef_[0]):\n",
    "    print(\"Logistic Regression Estimated Beta {} ({}): {:.4f}\".format(i+1, predictors[i], logit3_6.coef_[0][i]))"
   ]
  },
  {
   "cell_type": "markdown",
   "metadata": {
    "cell_id": "0a790850-87c6-4f46-b89e-048a2295c92b",
    "colab_type": "text",
    "id": "IGFtXJmQap2q"
   },
   "source": [
    "<div class='exercise-r'>\n",
    "\n",
    "**3.7** Interpret the coefficients associated with `female` and `minority` (the two main effects AND the two interaction terms).\n",
    "    \n",
    "</div>"
   ]
  },
  {
   "cell_type": "markdown",
   "metadata": {},
   "source": [
    "**The natural logs of the odds of a female getting into harvard increases by approimately 0.08 when the female is applying to harvard. When the female is applying to yale, the natural log of the odds of a female getting into yale increases by 0.0184. The natural log of the odds of a minority getting into harvard increases by approximately 0.37, and the natural log of the odds of a minority getting into Yale increases by 1.4378.**"
   ]
  },
  {
   "cell_type": "markdown",
   "metadata": {
    "cell_id": "0a790850-87c6-4f46-b89e-048a2295c92b",
    "colab_type": "text",
    "id": "IGFtXJmQap2q"
   },
   "source": [
    "<div class='exercise-r'>\n",
    "\n",
    "**3.8** Based on this sample, how does it appear that Harvard and Yale compare in admitting these groups?  Why would it be wrong to take this interpretation as truth?\n",
    "\n",
    "</div>"
   ]
  },
  {
   "cell_type": "markdown",
   "metadata": {},
   "source": [
    "**Harvard is more likely to accept females while Yale is more likely to accept minorities compared to Harvard. It would be wrong to take this interpretation as truth because this is a logistic regression, and we may not be considering other factors that could potentially change our predicted probabilities of admission for female applicants and minority applicants.**"
   ]
  },
  {
   "cell_type": "markdown",
   "metadata": {},
   "source": [
    "---"
   ]
  },
  {
   "cell_type": "markdown",
   "metadata": {},
   "source": [
    "<a id=\"part4\"></a>\n",
    "\n",
    "## <div class='exercise'>Question 4: Building predictive models for admitted [24 pts]</div>\n",
    "\n",
    "[Return to contents](#contents)\n",
    "\n",
    "**4.1** You were instructed to NOT scale predictors in the prior sections above. The primary reason for this was to focus instead on the interpretability of our logistic regression coefficients. However, as we're sure you noticed, the numeric scale among our different predictors varies greatly (i.e. `test` values are in the 1,000's while others are much, much smaller). In practice, we might want to put our predictors all on a similar scale, particularly for regularized regression and/or distance-based algorithms such as $k$-NN classification. (1) Please explain why scaling under these circumstances might be important. Then, (2) actually apply standardized scaling to all of the **non-binary** predictors in our original set of 12 predictors (for both the training and test sets).\n",
    "\n",
    "**IMPORTANT:** These scaled predictors should be used instead of the original unscaled versions of the predictors for the remainder of this problem set.\n",
    "\n",
    "**4.2** Fit a well-tuned $k$-NN classification model with main effects of all 12 predictors in it (call it `knn_model`).  Use `ks = [1, 3, 5, 9, 15, 21, 51, 71, 101, 131, 171, 201]` and 10-fold cross-validation with classification accuracy as the scoring metric. Plot, on a single set of axes, your resulting cross-validation mean training and mean validation scores at each value $k$. Then, report your chosen $k$ and the classification accuracy on train and test for your final fitted model.\n",
    "\n",
    "**4.3** Fit the full logistic regression model (without penalty) with main effects of all 12 predictors in it (call it `logit_full`). Print out the coefficient estimates and report the classification accuracy on train and test for this model.\n",
    "\n",
    "**HINT:** If you have convergence warnings, increasing the maximum number of iterations will likely solve this issue.\n",
    "\n",
    "**4.4** Fit a well-tuned Lasso-like logistic regression model from all 12 predictors in it (call it `logit_lasso`). Use `Cs = [1e-4, 1e-3, 1e-2, 1e-1, 1e0, 1e1, 1e2, 1e3, 1e4]` and 10-fold cross-validation with classification accuracy as the scoring metric.  Print out the coefficient estimates and report the classification accuracy on train and test for this model.\n",
    "\n",
    "**4.5** Which predictors were deemed important in `logit_lasso`?  Which were deemed unimportant? Please remember that, as a general practice, zero-value Lasso coefficients (i.e. $\\beta_i=0$) are considered \"unimportant\".\n",
    "\n",
    "**4.6** Fit a well-tuned Lasso-like logistic regression model with all important predictors from `logit_lasso` and all the unique 2-way interactions between them (call it `logit_lasso_interact`).  Again use `Cs = [1e-4, 1e-3, 1e-2, 1e-1, 1e0, 1e1, 1e2, 1e3, 1e4]` and 10-fold cross-validation with classification accuracy as the scoring metric. Report the classification accuracy on train and test for this model.\n",
    "\n",
    "**4.7** How many of the predictors in our `logit_lasso_interact` model were deemed important and unimportant? (Feel free to just report on the number of them found to be important and unimportant. There is no need to list them all here.)"
   ]
  },
  {
   "cell_type": "markdown",
   "metadata": {},
   "source": [
    "<a id=\"part4solutions\"></a>\n",
    "\n",
    "## Question 4: Solutions\n",
    "\n",
    "[Return to contents](#contents)"
   ]
  },
  {
   "cell_type": "markdown",
   "metadata": {
    "cell_id": "0a790850-87c6-4f46-b89e-048a2295c92b",
    "colab_type": "text",
    "id": "IGFtXJmQap2q"
   },
   "source": [
    "<div class='exercise-r'>\n",
    "\n",
    "**4.1** You were instructed to NOT scale predictors in the prior sections above. The primary reason for this was to focus instead on the interpretability of our logistic regression coefficients. However, as we're sure you noticed, the numeric scale among our different predictors varies greatly (i.e. `test` values are in the 1,000's while others are much, much smaller). In practice, we might want to put our predictors all on a similar scale, particularly for regularized regression and/or distance-based algorithms such as $k$-NN classification. (1) Please explain why scaling under these circumstances might be important. Then, (2) actually apply standardized scaling to all of the **non-binary** predictors in our original set of 12 predictors (for both the training and test sets).\n",
    "\n",
    "**IMPORTANT:** These scaled predictors should be used instead of the original unscaled versions of the predictors for the remainder of this problem set.\n",
    "\n",
    "</div>"
   ]
  },
  {
   "cell_type": "markdown",
   "metadata": {},
   "source": [
    "**INTERPRETATION:**"
   ]
  },
  {
   "cell_type": "markdown",
   "metadata": {},
   "source": [
    "**Scaling is important because it puts all predictors on the same level playing field and helps to address issues where much larger numbers might be addressed as significantly superior or more important. It equalizes the importance of the predictors.**"
   ]
  },
  {
   "cell_type": "code",
   "execution_count": 16,
   "metadata": {},
   "outputs": [],
   "source": [
    "# your code here\n",
    "non_binary_predict= [\"test\", \"ap\", \"avg_ap\", \"sat_subjects\", \"gpa\"]\n",
    "scaler= StandardScaler()\n",
    "nbpredict= scaler.fit_transform(college_train[non_binary_predict])\n",
    "nbpredict1= scaler.fit_transform(college_test[non_binary_predict])\n",
    "\n",
    "college_train['test']= nbpredict[:, 0]\n",
    "college_train['ap']= nbpredict[:, 1]\n",
    "college_train['avg_ap']= nbpredict[:,2]\n",
    "college_train['sat_subjects']= nbpredict[:,3]\n",
    "college_train['gpa']= nbpredict[:, 4]\n",
    "\n",
    "college_test['test']= nbpredict1[:, 0]\n",
    "college_test['ap']= nbpredict1[:, 1]\n",
    "college_test['avg_ap']= nbpredict1[:,2]\n",
    "college_test['sat_subjects']= nbpredict1[:,3]\n",
    "college_test['gpa']= nbpredict1[:, 4]"
   ]
  },
  {
   "cell_type": "code",
   "execution_count": 17,
   "metadata": {},
   "outputs": [
    {
     "data": {
      "text/html": [
       "<div>\n",
       "<style scoped>\n",
       "    .dataframe tbody tr th:only-of-type {\n",
       "        vertical-align: middle;\n",
       "    }\n",
       "\n",
       "    .dataframe tbody tr th {\n",
       "        vertical-align: top;\n",
       "    }\n",
       "\n",
       "    .dataframe thead th {\n",
       "        text-align: right;\n",
       "    }\n",
       "</style>\n",
       "<table border=\"1\" class=\"dataframe\">\n",
       "  <thead>\n",
       "    <tr style=\"text-align: right;\">\n",
       "      <th></th>\n",
       "      <th>id</th>\n",
       "      <th>admitted</th>\n",
       "      <th>test</th>\n",
       "      <th>ap</th>\n",
       "      <th>avg_ap</th>\n",
       "      <th>sat_subjects</th>\n",
       "      <th>gpa</th>\n",
       "      <th>female</th>\n",
       "      <th>minority</th>\n",
       "      <th>international</th>\n",
       "      <th>sports</th>\n",
       "      <th>school</th>\n",
       "      <th>early_app</th>\n",
       "      <th>alumni</th>\n",
       "      <th>program</th>\n",
       "      <th>add_info</th>\n",
       "      <th>harvard</th>\n",
       "      <th>harvard_test</th>\n",
       "      <th>harvard_ap</th>\n",
       "      <th>harvard_female</th>\n",
       "      <th>harvard_minority</th>\n",
       "    </tr>\n",
       "  </thead>\n",
       "  <tbody>\n",
       "    <tr>\n",
       "      <th>584</th>\n",
       "      <td>JTEQOV7ZCB</td>\n",
       "      <td>0</td>\n",
       "      <td>-0.620</td>\n",
       "      <td>0.670</td>\n",
       "      <td>0.398</td>\n",
       "      <td>0.881</td>\n",
       "      <td>0.108</td>\n",
       "      <td>1</td>\n",
       "      <td>0</td>\n",
       "      <td>0</td>\n",
       "      <td>0</td>\n",
       "      <td>Harvard</td>\n",
       "      <td>1</td>\n",
       "      <td>0</td>\n",
       "      <td>Mechanical Engineering</td>\n",
       "      <td>Swimming 3 years Water Polo 3 years Foreign Language Honor Society PresidentMerit award in Socia...</td>\n",
       "      <td>1</td>\n",
       "      <td>2080</td>\n",
       "      <td>5</td>\n",
       "      <td>1</td>\n",
       "      <td>0</td>\n",
       "    </tr>\n",
       "    <tr>\n",
       "      <th>1817</th>\n",
       "      <td>I03PV24OHY</td>\n",
       "      <td>1</td>\n",
       "      <td>0.026</td>\n",
       "      <td>1.099</td>\n",
       "      <td>-0.034</td>\n",
       "      <td>0.105</td>\n",
       "      <td>0.460</td>\n",
       "      <td>1</td>\n",
       "      <td>0</td>\n",
       "      <td>0</td>\n",
       "      <td>0</td>\n",
       "      <td>Yale</td>\n",
       "      <td>0</td>\n",
       "      <td>0</td>\n",
       "      <td>legal studies</td>\n",
       "      <td>horseback riding 5 hrs week year round marching concert jazz and orchestral ensembles 30 hrs wee...</td>\n",
       "      <td>0</td>\n",
       "      <td>0</td>\n",
       "      <td>0</td>\n",
       "      <td>0</td>\n",
       "      <td>0</td>\n",
       "    </tr>\n",
       "    <tr>\n",
       "      <th>1308</th>\n",
       "      <td>K42SAOUYJJ</td>\n",
       "      <td>0</td>\n",
       "      <td>-0.268</td>\n",
       "      <td>-0.616</td>\n",
       "      <td>0.456</td>\n",
       "      <td>0.105</td>\n",
       "      <td>-0.896</td>\n",
       "      <td>0</td>\n",
       "      <td>0</td>\n",
       "      <td>0</td>\n",
       "      <td>0</td>\n",
       "      <td>Yale</td>\n",
       "      <td>0</td>\n",
       "      <td>0</td>\n",
       "      <td>Film</td>\n",
       "      <td>Lacrosse Film Club Take Action Club NYU Tisch Summer Film WorkshopNational Honors Society World ...</td>\n",
       "      <td>0</td>\n",
       "      <td>0</td>\n",
       "      <td>0</td>\n",
       "      <td>0</td>\n",
       "      <td>0</td>\n",
       "    </tr>\n",
       "    <tr>\n",
       "      <th>1336</th>\n",
       "      <td>LODYYSRTYZ</td>\n",
       "      <td>0</td>\n",
       "      <td>-0.385</td>\n",
       "      <td>1.099</td>\n",
       "      <td>-0.230</td>\n",
       "      <td>0.105</td>\n",
       "      <td>0.610</td>\n",
       "      <td>1</td>\n",
       "      <td>0</td>\n",
       "      <td>0</td>\n",
       "      <td>0</td>\n",
       "      <td>Yale</td>\n",
       "      <td>1</td>\n",
       "      <td>0</td>\n",
       "      <td>Biological Sciences</td>\n",
       "      <td>Varsity Orchestra Music Librarian 10 11 12 Violin Player Girl Scouts 10 year Member sold over 65...</td>\n",
       "      <td>0</td>\n",
       "      <td>0</td>\n",
       "      <td>0</td>\n",
       "      <td>0</td>\n",
       "      <td>0</td>\n",
       "    </tr>\n",
       "    <tr>\n",
       "      <th>3</th>\n",
       "      <td>OC717EAKXN</td>\n",
       "      <td>1</td>\n",
       "      <td>1.261</td>\n",
       "      <td>0.670</td>\n",
       "      <td>0.751</td>\n",
       "      <td>1.656</td>\n",
       "      <td>0.610</td>\n",
       "      <td>1</td>\n",
       "      <td>0</td>\n",
       "      <td>0</td>\n",
       "      <td>0</td>\n",
       "      <td>Harvard</td>\n",
       "      <td>0</td>\n",
       "      <td>0</td>\n",
       "      <td>Mathematics</td>\n",
       "      <td>NaN</td>\n",
       "      <td>1</td>\n",
       "      <td>2400</td>\n",
       "      <td>5</td>\n",
       "      <td>1</td>\n",
       "      <td>0</td>\n",
       "    </tr>\n",
       "  </tbody>\n",
       "</table>\n",
       "</div>"
      ],
      "text/plain": [
       "              id  admitted   test     ap  avg_ap  sat_subjects    gpa  female  \\\n",
       "584   JTEQOV7ZCB         0 -0.620  0.670   0.398         0.881  0.108       1   \n",
       "1817  I03PV24OHY         1  0.026  1.099  -0.034         0.105  0.460       1   \n",
       "1308  K42SAOUYJJ         0 -0.268 -0.616   0.456         0.105 -0.896       0   \n",
       "1336  LODYYSRTYZ         0 -0.385  1.099  -0.230         0.105  0.610       1   \n",
       "3     OC717EAKXN         1  1.261  0.670   0.751         1.656  0.610       1   \n",
       "\n",
       "      minority  international  sports   school  early_app  alumni  \\\n",
       "584          0              0       0  Harvard          1       0   \n",
       "1817         0              0       0     Yale          0       0   \n",
       "1308         0              0       0     Yale          0       0   \n",
       "1336         0              0       0     Yale          1       0   \n",
       "3            0              0       0  Harvard          0       0   \n",
       "\n",
       "                     program  \\\n",
       "584   Mechanical Engineering   \n",
       "1817           legal studies   \n",
       "1308                    Film   \n",
       "1336     Biological Sciences   \n",
       "3                Mathematics   \n",
       "\n",
       "                                                                                                 add_info  \\\n",
       "584   Swimming 3 years Water Polo 3 years Foreign Language Honor Society PresidentMerit award in Socia...   \n",
       "1817  horseback riding 5 hrs week year round marching concert jazz and orchestral ensembles 30 hrs wee...   \n",
       "1308  Lacrosse Film Club Take Action Club NYU Tisch Summer Film WorkshopNational Honors Society World ...   \n",
       "1336  Varsity Orchestra Music Librarian 10 11 12 Violin Player Girl Scouts 10 year Member sold over 65...   \n",
       "3                                                                                                     NaN   \n",
       "\n",
       "      harvard  harvard_test  harvard_ap  harvard_female  harvard_minority  \n",
       "584         1          2080           5               1                 0  \n",
       "1817        0             0           0               0                 0  \n",
       "1308        0             0           0               0                 0  \n",
       "1336        0             0           0               0                 0  \n",
       "3           1          2400           5               1                 0  "
      ]
     },
     "execution_count": 17,
     "metadata": {},
     "output_type": "execute_result"
    }
   ],
   "source": [
    "college_train.head()"
   ]
  },
  {
   "cell_type": "markdown",
   "metadata": {
    "cell_id": "0a790850-87c6-4f46-b89e-048a2295c92b",
    "colab_type": "text",
    "id": "IGFtXJmQap2q"
   },
   "source": [
    "<div class='exercise-r'>\n",
    "\n",
    "**4.2** Fit a well-tuned $k$-NN classification model with main effects of all 12 predictors in it (call it `knn_model`).  Use `ks = [1, 3, 5, 9, 15, 21, 51, 71, 101, 131, 171, 201]` and 10-fold cross-validation with classification accuracy as the scoring metric. Plot, on a single set of axes, your resulting cross-validation mean training and mean validation scores at each value $k$. Then, report your chosen $k$ and the classification accuracy on train and test for your final fitted model.\n",
    "    \n",
    "</div>"
   ]
  },
  {
   "cell_type": "code",
   "execution_count": 18,
   "metadata": {},
   "outputs": [
    {
     "name": "stdout",
     "output_type": "stream",
     "text": [
      "MSE Values:  {1: 0.6731096196868008, 3: 0.6999149888143178, 5: 0.7246308724832213, 9: 0.7306085011185682, 15: 0.7353109619686801, 21: 0.7386442953020134, 51: 0.7373020134228188, 71: 0.7373020134228188, 101: 0.7373020134228188, 131: 0.7373020134228188, 171: 0.7373020134228188, 201: 0.7373020134228188}\n",
      "\n",
      "The best k is  21\n"
     ]
    },
    {
     "data": {
      "image/png": "[encoded data removed]",
      "text/plain": [
       "<Figure size 432x288 with 1 Axes>"
      ]
     },
     "metadata": {
      "needs_background": "light"
     },
     "output_type": "display_data"
    },
    {
     "name": "stdout",
     "output_type": "stream",
     "text": [
      "Training Set Accuracy: 74.3984%\n",
      "Testing Set Accuracy: 71.2000%\n"
     ]
    }
   ],
   "source": [
    "np.random.seed(121) # Do not delete or modify this line of code\n",
    "\n",
    "# your code here\n",
    "ks = [1, 3, 5, 9, 15, 21, 51, 71, 101, 131, 171, 201]\n",
    "predictors = [\n",
    "    \"test\", \"ap\", \"avg_ap\", \"sat_subjects\", \n",
    "    \"gpa\", \"female\", \"minority\", \"international\",\n",
    "    \"sports\", \"harvard\", \"early_app\", \"alumni\",\n",
    "]\n",
    "\n",
    "X_train = college_train[predictors]\n",
    "y_train = college_train['admitted']\n",
    "\n",
    "X_test = college_test[predictors]\n",
    "y_test = college_test['admitted']\n",
    "\n",
    "mse_vals_train = {}\n",
    "mse_vals_test = {}\n",
    "\n",
    "for k in ks:\n",
    "    knn_model = KNeighborsClassifier(n_neighbors=k).fit(X_train, y_train)\n",
    "    mse_score = cross_validate(knn_model, X_train, y_train, cv=10, scoring=\"accuracy\", return_train_score=True)\n",
    "    mse_vals_train[k] = np.mean(mse_score['train_score'])\n",
    "    mse_vals_test[k] = np.mean(mse_score['test_score'])\n",
    "    \n",
    "print (\"MSE Values: \", mse_vals_test)\n",
    "best_k = max(mse_vals_test, key=mse_vals_test.get)\n",
    "print (\"\\nThe best k is \", best_k)\n",
    "\n",
    "plt.plot(mse_vals_train.keys(), mse_vals_train.values(), \"x--\", label=\"Train\")\n",
    "plt.plot(mse_vals_test.keys(), mse_vals_test.values(), \"o--\", label=\"Test\")\n",
    "plt.title(\"Mean Accuracy Scores for Different Number of Components\")\n",
    "plt.xlabel(\"Number of Components, k\")\n",
    "plt.ylabel(\"Mean Accuracy Scores\")\n",
    "plt.legend()\n",
    "plt.tight_layout()\n",
    "plt.show()\n",
    "\n",
    "#Training\n",
    "knn_model = KNeighborsClassifier(n_neighbors=best_k).fit(X_train, y_train)\n",
    "\n",
    "#Predict\n",
    "y_pred_train = knn_model.predict(X_train)\n",
    "y_pred_test = knn_model.predict(X_test)\n",
    "\n",
    "#Perfromance Evaluation\n",
    "train_score = accuracy_score(y_train, y_pred_train)*100\n",
    "test_score = accuracy_score(y_test, y_pred_test)*100\n",
    "\n",
    "print(\"Training Set Accuracy: {:.4f}%\".format(train_score))\n",
    "print(\"Testing Set Accuracy: {:.4f}%\".format(test_score))\n",
    "\n",
    "score_knn_model = test_score"
   ]
  },
  {
   "cell_type": "markdown",
   "metadata": {
    "cell_id": "0a790850-87c6-4f46-b89e-048a2295c92b",
    "colab_type": "text",
    "id": "IGFtXJmQap2q"
   },
   "source": [
    "<div class='exercise-r'>\n",
    "\n",
    "**4.3** Fit the full logistic regression model (without penalty) with main effects of all 12 predictors in it (call it `logit_full`). Print out the coefficient estimates and report the classification accuracy on train and test for this model.\n",
    "\n",
    "**HINT:** If you have convergence warnings, increasing the maximum number of iterations will likely solve this issue.\n",
    "    \n",
    "</div>"
   ]
  },
  {
   "cell_type": "code",
   "execution_count": 19,
   "metadata": {},
   "outputs": [
    {
     "name": "stdout",
     "output_type": "stream",
     "text": [
      "Logistic Regression Estimated Beta 0: -1.7090\n",
      "Logistic Regression Estimated Beta 1 (test): 0.7838\n",
      "Logistic Regression Estimated Beta 2 (ap): -0.1403\n",
      "Logistic Regression Estimated Beta 3 (avg_ap): 0.0975\n",
      "Logistic Regression Estimated Beta 4 (sat_subjects): -0.0952\n",
      "Logistic Regression Estimated Beta 5 (gpa): 0.1056\n",
      "Logistic Regression Estimated Beta 6 (female): 0.0518\n",
      "Logistic Regression Estimated Beta 7 (minority): 0.9165\n",
      "Logistic Regression Estimated Beta 8 (international): 0.4500\n",
      "Logistic Regression Estimated Beta 9 (sports): 1.2334\n",
      "Logistic Regression Estimated Beta 10 (harvard): 0.2581\n",
      "Logistic Regression Estimated Beta 11 (early_app): 0.3737\n",
      "Logistic Regression Estimated Beta 12 (alumni): 0.6629\n",
      "Training Set Accuracy: 74.5321%\n",
      "Testing Set Accuracy: 70.9333%\n"
     ]
    }
   ],
   "source": [
    "# your code here\n",
    "logit_full = LogisticRegression(penalty='none', max_iter = 1000)\n",
    "\n",
    "predictors = [\n",
    "    \"test\", \"ap\", \"avg_ap\", \"sat_subjects\", \n",
    "    \"gpa\", \"female\", \"minority\", \"international\",\n",
    "    \"sports\", \"harvard\", \"early_app\", \"alumni\",\n",
    "]\n",
    "X_train = college_train[predictors]\n",
    "y_train = college_train['admitted']\n",
    "\n",
    "X_test = college_test[predictors]\n",
    "y_test = college_test['admitted']\n",
    "    \n",
    "#Fit the model\n",
    "logit_full.fit(X_train, y_train)\n",
    "\n",
    "# Get the coefficient estimates\n",
    "print(\"Logistic Regression Estimated Beta 0: {:.4f}\".format(logit_full.intercept_[0]))\n",
    "\n",
    "for i, name in enumerate(logit_full.coef_[0]):\n",
    "    print(\"Logistic Regression Estimated Beta {} ({}): {:.4f}\".format(i+1, predictors[i], logit_full.coef_[0][i]))\n",
    "\n",
    "#Predict\n",
    "y_pred_train = logit_full.predict(X_train)\n",
    "y_pred_test = logit_full.predict(X_test)\n",
    "\n",
    "#Perfromance Evaluation\n",
    "train_score = accuracy_score(y_train, y_pred_train)*100\n",
    "test_score = accuracy_score(y_test, y_pred_test)*100\n",
    "\n",
    "print(\"Training Set Accuracy: {:.4f}%\".format(train_score))\n",
    "print(\"Testing Set Accuracy: {:.4f}%\".format(test_score))\n",
    "\n",
    "score_logit_full = test_score"
   ]
  },
  {
   "cell_type": "markdown",
   "metadata": {
    "cell_id": "0a790850-87c6-4f46-b89e-048a2295c92b",
    "colab_type": "text",
    "id": "IGFtXJmQap2q",
    "tags": []
   },
   "source": [
    "<div class='exercise-r'>\n",
    "\n",
    "**4.4** Fit a well-tuned Lasso-like logistic regression model from all 12 predictors in it (call it `logit_lasso`). Use `Cs = [1e-4, 1e-3, 1e-2, 1e-1, 1e0, 1e1, 1e2, 1e3, 1e4]` and 10-fold cross-validation with classification accuracy as the scoring metric.  Print out the coefficient estimates and report the classification accuracy on train and test for this model.\n",
    "\n",
    "</div>"
   ]
  },
  {
   "cell_type": "code",
   "execution_count": 20,
   "metadata": {},
   "outputs": [
    {
     "name": "stdout",
     "output_type": "stream",
     "text": [
      "Logistic Regression Estimated Beta 0: -1.7014\n",
      "Logistic Regression Estimated Beta 1 (test): 0.7819\n",
      "Logistic Regression Estimated Beta 2 (ap): -0.1388\n",
      "Logistic Regression Estimated Beta 3 (avg_ap): 0.0952\n",
      "Logistic Regression Estimated Beta 4 (sat_subjects): -0.0943\n",
      "Logistic Regression Estimated Beta 5 (gpa): 0.1045\n",
      "Logistic Regression Estimated Beta 6 (female): 0.0493\n",
      "Logistic Regression Estimated Beta 7 (minority): 0.9121\n",
      "Logistic Regression Estimated Beta 8 (international): 0.4403\n",
      "Logistic Regression Estimated Beta 9 (sports): 1.2214\n",
      "Logistic Regression Estimated Beta 10 (harvard): 0.2545\n",
      "Logistic Regression Estimated Beta 11 (early_app): 0.3702\n",
      "Logistic Regression Estimated Beta 12 (alumni): 0.6563\n",
      "Training Set Accuracy: 74.5321%\n",
      "Testing Set Accuracy: 70.6667%\n"
     ]
    }
   ],
   "source": [
    "# your code here\n",
    "# Fit cv logistic regression model to predictors\n",
    "Cs = [1e-4,1e-3,1e-2,1e-1,1e0,1e1,1e2,1e3,1e4]\n",
    "cv = 10\n",
    "penalty = 'l1'\n",
    "solver = 'liblinear'\n",
    "\n",
    "logit_lasso = LogisticRegressionCV(\n",
    "    Cs=Cs, cv=cv, penalty=penalty, solver='liblinear'\n",
    ").fit(X_train, y_train)\n",
    "\n",
    "# Get the coefficient estimates\n",
    "print(\"Logistic Regression Estimated Beta 0: {:.4f}\".format(logit_lasso.intercept_[0]))\n",
    "\n",
    "for i, name in enumerate(logit_lasso.coef_[0]):\n",
    "    print(\"Logistic Regression Estimated Beta {} ({}): {:.4f}\".format(i+1, predictors[i], logit_lasso.coef_[0][i]))\n",
    "\n",
    "#Predict\n",
    "y_pred_train = logit_lasso.predict(X_train)\n",
    "y_pred_test = logit_lasso.predict(X_test)\n",
    "\n",
    "#Perfromance Evaluation\n",
    "train_score = accuracy_score(y_train, y_pred_train)*100\n",
    "test_score = accuracy_score(y_test, y_pred_test)*100\n",
    "\n",
    "print(\"Training Set Accuracy: {:.4f}%\".format(train_score))\n",
    "print(\"Testing Set Accuracy: {:.4f}%\".format(test_score))\n",
    "\n",
    "score_logit_lasso = test_score"
   ]
  },
  {
   "cell_type": "markdown",
   "metadata": {
    "cell_id": "0a790850-87c6-4f46-b89e-048a2295c92b",
    "colab_type": "text",
    "id": "IGFtXJmQap2q"
   },
   "source": [
    "<div class='exercise-r'>\n",
    "\n",
    "**4.5** Which predictors were deemed important in `logit_lasso`?  Which were deemed unimportant? Please remember that, as a general practice, zero-value Lasso coefficients (i.e. $\\beta_i=0$) are considered \"unimportant\".\n",
    " \n",
    "</div>"
   ]
  },
  {
   "cell_type": "code",
   "execution_count": 21,
   "metadata": {},
   "outputs": [
    {
     "name": "stdout",
     "output_type": "stream",
     "text": [
      "All features were deemed important.\n"
     ]
    }
   ],
   "source": [
    "# your code here\n",
    "counter = 0\n",
    "for i, name in enumerate(logit_lasso.coef_[0]):\n",
    "    if logit_lasso.coef_[0][i] == 0:\n",
    "        counter += 1\n",
    "        print(\"Logistic Regression Estimated Beta {} ({}) is unimportant.\")\n",
    "\n",
    "if counter == 0:\n",
    "    print(\"All features were deemed important.\")\n"
   ]
  },
  {
   "cell_type": "markdown",
   "metadata": {
    "cell_id": "0a790850-87c6-4f46-b89e-048a2295c92b",
    "colab_type": "text",
    "id": "IGFtXJmQap2q"
   },
   "source": [
    "<div class='exercise-r'>\n",
    "\n",
    "**4.6** Fit a well-tuned Lasso-like logistic regression model with all important predictors from `logit_lasso` and all the unique 2-way interactions between them (call it `logit_lasso_interact`).  Again use `Cs = [1e-4, 1e-3, 1e-2, 1e-1, 1e0, 1e1, 1e2, 1e3, 1e4]` and 10-fold cross-validation with classification accuracy as the scoring metric. Report the classification accuracy on train and test for this model.\n",
    "\n",
    "</div>"
   ]
  },
  {
   "cell_type": "code",
   "execution_count": 22,
   "metadata": {},
   "outputs": [
    {
     "name": "stdout",
     "output_type": "stream",
     "text": [
      "Logistic Regression Estimated Beta 0: -1.7012\n",
      "Logistic Regression Estimated Beta 1 (test): 0.7819\n",
      "Logistic Regression Estimated Beta 2 (ap): -0.1387\n",
      "Logistic Regression Estimated Beta 3 (avg_ap): 0.0952\n",
      "Logistic Regression Estimated Beta 4 (sat_subjects): -0.0943\n",
      "Logistic Regression Estimated Beta 5 (gpa): 0.1045\n",
      "Logistic Regression Estimated Beta 6 (female): 0.0492\n",
      "Logistic Regression Estimated Beta 7 (minority): 0.9120\n",
      "Logistic Regression Estimated Beta 8 (international): 0.4403\n",
      "Logistic Regression Estimated Beta 9 (sports): 1.2213\n",
      "Logistic Regression Estimated Beta 10 (harvard): 0.2544\n",
      "Logistic Regression Estimated Beta 11 (early_app): 0.3701\n",
      "Logistic Regression Estimated Beta 12 (alumni): 0.6562\n",
      "Training Set Accuracy: 74.5321%\n",
      "Testing Set Accuracy: 70.6667%\n"
     ]
    }
   ],
   "source": [
    "# your code here\n",
    "# Fit cv logistic regression model to predictors\n",
    "Cs = [1e-4,1e-3,1e-2,1e-1,1e0,1e1,1e2,1e3,1e4]\n",
    "cv = 10\n",
    "penalty = 'l1'\n",
    "solver = 'liblinear'\n",
    "\n",
    "predictors = [\n",
    "    \"test\", \"ap\", \"avg_ap\", \"sat_subjects\", \n",
    "    \"gpa\", \"female\", \"minority\", \"international\",\n",
    "    \"sports\", \"harvard\", \"early_app\", \"alumni\",\n",
    "]\n",
    "\n",
    "x_train= college_train[predictors]\n",
    "x_test= college_test[predictors]\n",
    "\n",
    "X_train_poly = PolynomialFeatures(degree=1, interaction_only=True, include_bias= False).fit_transform(x_train)\n",
    "X_test_poly = PolynomialFeatures(degree=1, interaction_only=True, include_bias= False).fit_transform(x_test)\n",
    "\n",
    "y_train= college_train['admitted']\n",
    "y_test= college_test['admitted']\n",
    "\n",
    "\n",
    "logit_lasso_interact = LogisticRegressionCV(\n",
    "    Cs=Cs, cv=cv, penalty=penalty, solver='liblinear'\n",
    ").fit(X_train_poly, y_train)\n",
    "\n",
    "# Get the coefficient estimates\n",
    "print(\"Logistic Regression Estimated Beta 0: {:.4f}\".format(logit_lasso_interact.intercept_[0]))\n",
    "\n",
    "for i, name in enumerate(logit_lasso_interact.coef_[0]):\n",
    "    print(\"Logistic Regression Estimated Beta {} ({}): {:.4f}\".format(i+1, predictors[i], logit_lasso_interact.coef_[0][i]))\n",
    "\n",
    "#Predict\n",
    "y_pred_train = logit_lasso_interact.predict(X_train_poly)\n",
    "y_pred_test = logit_lasso_interact.predict(X_test_poly)\n",
    "\n",
    "#Perfromance Evaluation\n",
    "train_score = accuracy_score(y_train, y_pred_train)*100\n",
    "test_score = accuracy_score(y_test, y_pred_test)*100\n",
    "\n",
    "print(\"Training Set Accuracy: {:.4f}%\".format(train_score))\n",
    "print(\"Testing Set Accuracy: {:.4f}%\".format(test_score))\n",
    "\n",
    "score_logit_lasso_interact = test_score"
   ]
  },
  {
   "cell_type": "markdown",
   "metadata": {
    "cell_id": "0a790850-87c6-4f46-b89e-048a2295c92b",
    "colab_type": "text",
    "id": "IGFtXJmQap2q"
   },
   "source": [
    "<div class='exercise-r'>\n",
    "\n",
    "**4.7** How many of the predictors in our `logit_lasso_interact` model were deemed important and unimportant? (Feel free to just report on the number of them found to be important and unimportant. There is no need to list them all here.)\n",
    "    \n",
    "</div>"
   ]
  },
  {
   "cell_type": "code",
   "execution_count": 23,
   "metadata": {},
   "outputs": [
    {
     "name": "stdout",
     "output_type": "stream",
     "text": [
      "All features were deemed important.\n"
     ]
    }
   ],
   "source": [
    "# your code here\n",
    "counter = 0\n",
    "for i, name in enumerate(logit_lasso_interact.coef_[0]):\n",
    "    if logit_lasso.coef_[0][i] == 0:\n",
    "        counter += 1\n",
    "        print(\"Logistic Regression Estimated Beta {} ({}) is unimportant.\")\n",
    "\n",
    "if counter == 0:\n",
    "    print(\"All features were deemed important.\")"
   ]
  },
  {
   "cell_type": "markdown",
   "metadata": {},
   "source": [
    "---"
   ]
  },
  {
   "cell_type": "markdown",
   "metadata": {},
   "source": [
    "<a id=\"part5\"></a>\n",
    "\n",
    "## <div class='exercise'>Question 5: Evaluating results [12 pts]</div>\n",
    "\n",
    "[Return to contents](#contents)\n",
    "\n",
    "**5.1** Which of the 4 models in Question 4 performs the best based on classification accuracy?  Which performs the worst? Based on these accuracies, how do these models perform compared to your baseline \"naive\" model back in Question 1.1? What does this comparison to the \"naive\" model tell us?\n",
    "\n",
    "**5.2** Draw the four ROC curves on the same set of axes using the test data.  How do these ROC curves compare?  Do the ROC curves support that the best model identified in Question 5.1 is better than the worst model identified in 5.1?  How do you know?\n",
    "\n",
    "**5.3** Calculate and report AUC for all 4 models.  Do the rankings of these 4 models based on AUC match those for classification accuracy?  Why do you think this is the case?\n",
    "\n",
    "**5.4** If you were to use one of these 4 models to present as a prediction model for the website [collegedata.com](https://www.collegedata.com/), which would you use and why?  What may be the biggest issue if this was a publicly available tool for college applicants to use to determine their chances of getting into Harvard and/or Yale?\n"
   ]
  },
  {
   "cell_type": "markdown",
   "metadata": {},
   "source": [
    "<a id=\"part5solutions\"></a>\n",
    "\n",
    "## Question 5: Solutions\n",
    "\n",
    "[Return to contents](#contents)"
   ]
  },
  {
   "cell_type": "markdown",
   "metadata": {
    "cell_id": "0a790850-87c6-4f46-b89e-048a2295c92b",
    "colab_type": "text",
    "id": "IGFtXJmQap2q"
   },
   "source": [
    "<div class='exercise-r'>\n",
    "\n",
    "**5.1** Which of the 4 models in Question 4 performs the best based on classification accuracy?  Which performs the worst? Based on these accuracies, how do these models perform compared to your baseline \"naive\" model back in Question 1.1? What does this comparison to the \"naive\" model tell us?\n",
    "    \n",
    "</div>"
   ]
  },
  {
   "cell_type": "code",
   "execution_count": 24,
   "metadata": {},
   "outputs": [
    {
     "name": "stdout",
     "output_type": "stream",
     "text": [
      "Knn Model Classification Accuracy: 71.2000%\n",
      "Logit Full Classification Accuracy: 70.9333%\n",
      "Logit Lasso Classification Accuracy: 70.6667%\n",
      "Logit Lasso Interact Classification Accuracy: 70.6667%\n",
      "Naive Model Classification Accuracy: 70.1333%\n"
     ]
    }
   ],
   "source": [
    "# your code here\n",
    "print(\"Knn Model Classification Accuracy: {:.4f}%\".format(score_knn_model))\n",
    "print(\"Logit Full Classification Accuracy: {:.4f}%\".format(score_logit_full))\n",
    "print(\"Logit Lasso Classification Accuracy: {:.4f}%\".format(score_logit_lasso))\n",
    "print(\"Logit Lasso Interact Classification Accuracy: {:.4f}%\".format(score_logit_lasso_interact))\n",
    "print(\"Naive Model Classification Accuracy: {:.4f}%\".format(score_naive_model))\n"
   ]
  },
  {
   "cell_type": "markdown",
   "metadata": {},
   "source": [
    "**INTERPRETATION:**"
   ]
  },
  {
   "cell_type": "markdown",
   "metadata": {},
   "source": [
    "**Of the four models, the Knn model has the best classificataion accuracy. The worst is a tie between the two Lasso Models. All of the models though perform better than the naive model in Question 1.1. This tells us that there are predictors in this data set that more accurately predict admission results than simply averaging the results across the data set.**"
   ]
  },
  {
   "cell_type": "markdown",
   "metadata": {
    "cell_id": "0a790850-87c6-4f46-b89e-048a2295c92b",
    "colab_type": "text",
    "id": "IGFtXJmQap2q"
   },
   "source": [
    "<div class='exercise-r'>\n",
    "\n",
    "**5.2** Draw the four ROC curves on the same set of axes using the test data.  How do these ROC curves compare?  Do the ROC curves support that the best model identified in Question 5.1 is better than the worst model identified in 5.1?  How do you know?\n",
    "    \n",
    "</div>"
   ]
  },
  {
   "cell_type": "code",
   "execution_count": 25,
   "metadata": {},
   "outputs": [
    {
     "data": {
      "image/png": "[encoded data removed]",
      "text/plain": [
       "<Figure size 432x288 with 1 Axes>"
      ]
     },
     "metadata": {
      "needs_background": "light"
     },
     "output_type": "display_data"
    }
   ],
   "source": [
    "# your code here\n",
    "predictors = [\n",
    "    \"test\", \"ap\", \"avg_ap\", \"sat_subjects\", \n",
    "    \"gpa\", \"female\", \"minority\", \"international\",\n",
    "    \"sports\", \"harvard\", \"early_app\", \"alumni\",\n",
    "]\n",
    "X_test = college_test[predictors]\n",
    "y_test = college_test['admitted']\n",
    "\n",
    "# Plot the ROC curve\n",
    "yhat_knn_model= knn_model.predict_proba(X_test)[:,1]\n",
    "yhat_logit_full= logit_full.predict_proba(X_test)[:,1]\n",
    "yhat_logit_lasso= logit_lasso.predict_proba(X_test)[:,1]\n",
    "yhat_logit_lasso_interact= logit_lasso_interact.predict_proba(X_test)[:,1]\n",
    "\n",
    "fpr_knn, tpr_knn, thresholds_knn = roc_curve(y_test, yhat_knn_model)\n",
    "fpr_logit_full, tpr_logit_full, thresholds_logit_full = roc_curve(y_test, yhat_logit_full)\n",
    "fpr_logit_lasso, tpr_logit_lasso, thresholds_logit_lasso = roc_curve(y_test, yhat_logit_lasso)\n",
    "fpr_logit_lasso_interact, tpr_logit_lasso_interact, thresholds_logit_lasso_interact = roc_curve(y_test, yhat_logit_lasso_interact)\n",
    "\n",
    "x=np.arange(0,100)/100\n",
    "plt.plot(x,x,'--',color=\"gray\",alpha=0.3)\n",
    "plt.plot(fpr_knn, tpr_knn,label=\"knn_model\")\n",
    "plt.plot(fpr_logit_full, tpr_logit_full,label=\"logit_full\")\n",
    "plt.plot(fpr_logit_lasso, tpr_logit_lasso, label=\"logit_lasso\")\n",
    "plt.plot(fpr_logit_lasso_interact, tpr_logit_lasso_interact,label=\"logit_lasso_interact\")\n",
    "plt.ylabel(\"True Positive Rate\")\n",
    "plt.xlabel(\"False Positive Rate\")\n",
    "plt.title(\"ROC Curves for The Different Models in Question 4\")\n",
    "plt.legend()\n",
    "plt.show()"
   ]
  },
  {
   "cell_type": "markdown",
   "metadata": {},
   "source": [
    "**INTERPRETATION:**"
   ]
  },
  {
   "cell_type": "markdown",
   "metadata": {},
   "source": [
    "**The logit models are all very similar as we can see that they are overlapping. The knn model is not as good of a classifier than the other three models because it appears to not have as large of an area under its curve and appears to move closer towards the line that would denote a random classifier. This does run counter to our accuracy scores that we saw in the previous question.**"
   ]
  },
  {
   "cell_type": "markdown",
   "metadata": {
    "cell_id": "0a790850-87c6-4f46-b89e-048a2295c92b",
    "colab_type": "text",
    "id": "IGFtXJmQap2q"
   },
   "source": [
    "<div class='exercise-r'>\n",
    "\n",
    "**5.3** Calculate and report AUC for all 4 models.  Do the rankings of these 4 models based on AUC match those for classification accuracy?  Why do you think this is the case?\n",
    "    \n",
    "</div>"
   ]
  },
  {
   "cell_type": "code",
   "execution_count": 26,
   "metadata": {},
   "outputs": [
    {
     "name": "stdout",
     "output_type": "stream",
     "text": [
      "Knn Model AUC Score: 0.6793\n",
      "Logit Full AUC Score: 0.6970\n",
      "Logit Lasso AUC Score: 0.6969\n",
      "Logit Lasso Interact AUC Score: 0.6970\n"
     ]
    }
   ],
   "source": [
    "# your code here\n",
    "auc_knn_model = roc_auc_score(y_test, yhat_knn_model)\n",
    "auc_logit_full = roc_auc_score(y_test, yhat_logit_full)\n",
    "auc_logit_lasso = roc_auc_score(y_test, yhat_logit_lasso)\n",
    "auc_logit_lasso_interact = roc_auc_score(y_test, yhat_logit_lasso_interact)\n",
    "\n",
    "print(\"Knn Model AUC Score: {:.4f}\".format(auc_knn_model))\n",
    "print(\"Logit Full AUC Score: {:.4f}\".format(auc_logit_full))\n",
    "print(\"Logit Lasso AUC Score: {:.4f}\".format(auc_logit_lasso))\n",
    "print(\"Logit Lasso Interact AUC Score: {:.4f}\".format(auc_logit_lasso_interact))"
   ]
  },
  {
   "cell_type": "markdown",
   "metadata": {},
   "source": [
    "**INTERPRETATION:**"
   ]
  },
  {
   "cell_type": "markdown",
   "metadata": {},
   "source": [
    "**The rankings from the AUC scores don't match the classification accuracy and are actually the inverse with knn performing worst and the lasso models doing best. This is the case because AUC reports something quite different than classification accuracy. AUC provides an optimization between True Positive and False Positive rate vs accuracy which only looks at true positives and true negatives.**"
   ]
  },
  {
   "cell_type": "markdown",
   "metadata": {
    "cell_id": "0a790850-87c6-4f46-b89e-048a2295c92b",
    "colab_type": "text",
    "id": "IGFtXJmQap2q"
   },
   "source": [
    "<div class='exercise-r'>\n",
    "\n",
    "**5.4** If you were to use one of these 4 models to present as a prediction model for the website [collegedata.com](https://www.collegedata.com/), which would you use and why?  What may be the biggest issue if this was a publicly available tool for college applicants to use to determine their chances of getting into Harvard and/or Yale?\n",
    "    \n",
    "</div>"
   ]
  },
  {
   "cell_type": "markdown",
   "metadata": {},
   "source": [
    "**We would choose logit_lasso_interact because we want to minimize the number of false positives that we would give- i.e. we don't want to tell someone that they will get admitted and they don't get admitted. Having a high number of false positives will diminish trust in our model. Since this is the case, we will choose the model with the highest AUC, which is logit_lasso_interact. If this tool was publicly available, students may feel entitled to admission when there is more nuance to the decision-making process. Students could also try to game the system by misrepresenting facts to have a \"higher chance of admission\"**"
   ]
  },
  {
   "cell_type": "markdown",
   "metadata": {},
   "source": [
    "#### THE END\n",
    "\n",
    "[Return to contents](#contents)"
   ]
  }
 ],
 "metadata": {
  "interpreter": {
   "hash": "aee8b7b246df8f9039afb4144a1f6fd8d2ca17a180786b69acc140d282b71a49"
  },
  "kernelspec": {
   "display_name": "Python 3 (ipykernel)",
   "language": "python",
   "name": "python3"
  },
  "language_info": {
   "codemirror_mode": {
    "name": "ipython",
    "version": 3
   },
   "file_extension": ".py",
   "mimetype": "text/x-python",
   "name": "python",
   "nbconvert_exporter": "python",
   "pygments_lexer": "ipython3",
   "version": "3.9.6"
  }
 },
 "nbformat": 4,
 "nbformat_minor": 4
}
