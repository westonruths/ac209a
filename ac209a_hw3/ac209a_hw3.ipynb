{
 "cells": [
  {
   "cell_type": "markdown",
   "metadata": {},
   "source": [
    "# <img style=\"float: left; padding-right: 10px; width: 45px\" src=\"https://raw.githubusercontent.com/Harvard-IACS/2018-CS109A/master/content/styles/iacs.png\"> CS109A Introduction to Data Science\n",
    "\n",
    "## Homework 3  AC209 : Linear Algebra, Accuracy, and Confidence Intervals\n",
    "\n",
    "\n",
    "**Harvard University**<br/>\n",
    "**Fall 2021**<br/>\n",
    "**Instructors**: Pavlos Protopapas and Natesh Pillai\n",
    "\n",
    "<hr style=\"height:2pt\">\n"
   ]
  },
  {
   "cell_type": "code",
   "execution_count": 1,
   "metadata": {},
   "outputs": [
    {
     "data": {
      "text/html": [
       "<style>\n",
       "blockquote { background: #AEDE94; }\n",
       "h1 {\n",
       "    padding-top: 25px;\n",
       "    padding-bottom: 25px;\n",
       "    text-align: left;\n",
       "    padding-left: 10px;\n",
       "    background-color: #63ACBE;\n",
       "    color: black;\n",
       "}\n",
       "h2 {\n",
       "    padding-top: 10px;\n",
       "    padding-bottom: 10px;\n",
       "    text-align: left;\n",
       "    padding-left: 5px;\n",
       "    background-color: #EEEEEE;\n",
       "    color: black;\n",
       "}\n",
       "\n",
       "div.exercise {\n",
       "\tbackground-color: #f8b4ab;\n",
       "\tborder-color: #E9967A;\n",
       "\tborder-left: 5px solid #601A4A;\n",
       "\tpadding: 0.5em;\n",
       "}\n",
       "\n",
       "div.exercise-r {\n",
       "\tbackground-color: #ffd0d0;\n",
       "\tborder-color: #E9967A;\n",
       "\tborder-left: 5px solid #601A4A;\n",
       "\tpadding: 0.5em;\n",
       "}\n",
       "\n",
       "\n",
       "span.sub-q {\n",
       "\tfont-weight: bold;\n",
       "}\n",
       "div.theme {\n",
       "\tbackground-color: #63ACBE;\n",
       "\tborder-color: #E9967A;\n",
       "\tborder-left: 5px solid #601A4A;\n",
       "\tpadding: 0.5em;\n",
       "\tfont-size: 18pt;\n",
       "}\n",
       "div.gc {\n",
       "\tbackground-color: #AEDE94;\n",
       "\tborder-color: #E9967A;\n",
       "\tborder-left: 5px solid #601A4A;\n",
       "\tpadding: 0.5em;\n",
       "\tfont-size: 12pt;\n",
       "}\n",
       "p.q1 {\n",
       "    padding-top: 5px;\n",
       "    padding-bottom: 5px;\n",
       "    text-align: left;\n",
       "    padding-left: 5px;\n",
       "    background-color: #EEEEEE;\n",
       "    color: black;\n",
       "}\n",
       "header {\n",
       "   padding-top: 35px;\n",
       "    padding-bottom: 35px;\n",
       "    text-align: left;\n",
       "    padding-left: 10px;\n",
       "    background-color: #DDDDDD;\n",
       "    color: black;\n",
       "}\n",
       "span.emph {\n",
       "\tcolor: #601A4A;\n",
       "\tfont-weight: bold;\n",
       "}\n",
       "\n",
       "</style>\n"
      ],
      "text/plain": [
       "<IPython.core.display.HTML object>"
      ]
     },
     "execution_count": 1,
     "metadata": {},
     "output_type": "execute_result"
    }
   ],
   "source": [
    "# RUN THIS CELL \n",
    "import requests\n",
    "from IPython.core.display import HTML\n",
    "styles = requests.get(\n",
    "    \"https://raw.githubusercontent.com/Harvard-IACS/2021-CS109A/master/\"\n",
    "    \"themes/static/css/cs109.css\"\n",
    ").text\n",
    "HTML(styles)"
   ]
  },
  {
   "cell_type": "markdown",
   "metadata": {},
   "source": [
    "### INSTRUCTIONS\n",
    "\n",
    "- **THIS IS AN INDIVIDUAL ASSIGNMENT. Collaboration on this homework is NOT PERMITTED.**\n",
    "\n",
    "- To submit your assignment follow the instructions given in canvas.\n",
    "\n",
    "- As much as possible, try and stick to the provided hints, as well as the functions we import at the top of the homework. Those are the ideas and tools supported and taught by this course. If a problem specifies a particular library, you are required to use that library, and possibly others too from the import list.\n",
    "\n",
    "- Please **restart the kernel and run the entire notebook again before you submit.**\n",
    "\n",
    "- Running cells out of order is a common pitfall in Jupyter Notebooks. To make sure your code continues to work, restart the kernel and rerun your notebook periodically while working through this assignment. \n",
    "\n",
    "- Please use `.head(...)` when viewing data. Do not submit a notebook that is **excessively long**. \n",
    "\n",
    "- In questions that require code to answer, such as \"calculate the $R^2$\", do not just output the value from a cell. Write a `print(...)` function that clearly labels the output, includes a reference to the calculated value, and rounds it to a reasonable number of digits. **Do not hard code values in your printed output**. For example, this is an appropriate print statement:\n",
    "```python\n",
    "print(f'The R^2 is {R:.4f}')\n",
    "```\n",
    "\n",
    "- **Your plots MUST be clearly labeled and easy to read,** including clear labels for the $x$ and $y$ axes, a descriptive title (\"MSE plot\" is NOT a descriptive title; \"95% confidence interval of coefficients for degree-5 polynomial model\" on the other hand is descriptive), a legend when appropriate, and clearly formatted text and graphics.\n",
    "\n",
    "- **Your code may also be evaluated for efficiency and clarity.** As a result, correct output is not always sufficient for full credit."
   ]
  },
  {
   "cell_type": "markdown",
   "metadata": {},
   "source": [
    "### IMPORTS"
   ]
  },
  {
   "cell_type": "code",
   "execution_count": 2,
   "metadata": {
    "scrolled": true
   },
   "outputs": [],
   "source": [
    "import numpy as np\n",
    "import pandas as pd\n",
    "import matplotlib\n",
    "import matplotlib.pyplot as plt\n",
    "from sklearn.metrics import r2_score\n",
    "from sklearn.neighbors import KNeighborsRegressor\n",
    "from sklearn.linear_model import LinearRegression\n",
    "from sklearn.model_selection import train_test_split\n",
    "import statsmodels.api as sm\n",
    "from statsmodels.api import OLS\n",
    "%matplotlib inline"
   ]
  },
  {
   "cell_type": "markdown",
   "metadata": {},
   "source": [
    "**The data for this supplement are imported for you in the cells below.**"
   ]
  },
  {
   "cell_type": "code",
   "execution_count": 3,
   "metadata": {},
   "outputs": [
    {
     "data": {
      "text/html": [
       "<div>\n",
       "<style scoped>\n",
       "    .dataframe tbody tr th:only-of-type {\n",
       "        vertical-align: middle;\n",
       "    }\n",
       "\n",
       "    .dataframe tbody tr th {\n",
       "        vertical-align: top;\n",
       "    }\n",
       "\n",
       "    .dataframe thead th {\n",
       "        text-align: right;\n",
       "    }\n",
       "</style>\n",
       "<table border=\"1\" class=\"dataframe\">\n",
       "  <thead>\n",
       "    <tr style=\"text-align: right;\">\n",
       "      <th></th>\n",
       "      <th>name</th>\n",
       "      <th>mpg</th>\n",
       "      <th>cyl</th>\n",
       "      <th>disp</th>\n",
       "      <th>hp</th>\n",
       "      <th>drat</th>\n",
       "      <th>wt</th>\n",
       "      <th>qsec</th>\n",
       "      <th>vs</th>\n",
       "      <th>am</th>\n",
       "      <th>gear</th>\n",
       "      <th>carb</th>\n",
       "    </tr>\n",
       "  </thead>\n",
       "  <tbody>\n",
       "    <tr>\n",
       "      <th>0</th>\n",
       "      <td>Mazda RX4</td>\n",
       "      <td>21.0</td>\n",
       "      <td>6</td>\n",
       "      <td>160.0</td>\n",
       "      <td>110</td>\n",
       "      <td>3.90</td>\n",
       "      <td>2.620</td>\n",
       "      <td>16.46</td>\n",
       "      <td>0</td>\n",
       "      <td>1</td>\n",
       "      <td>4</td>\n",
       "      <td>4</td>\n",
       "    </tr>\n",
       "    <tr>\n",
       "      <th>1</th>\n",
       "      <td>Mazda RX4 Wag</td>\n",
       "      <td>21.0</td>\n",
       "      <td>6</td>\n",
       "      <td>160.0</td>\n",
       "      <td>110</td>\n",
       "      <td>3.90</td>\n",
       "      <td>2.875</td>\n",
       "      <td>17.02</td>\n",
       "      <td>0</td>\n",
       "      <td>1</td>\n",
       "      <td>4</td>\n",
       "      <td>4</td>\n",
       "    </tr>\n",
       "    <tr>\n",
       "      <th>2</th>\n",
       "      <td>Datsun 710</td>\n",
       "      <td>22.8</td>\n",
       "      <td>4</td>\n",
       "      <td>108.0</td>\n",
       "      <td>93</td>\n",
       "      <td>3.85</td>\n",
       "      <td>2.320</td>\n",
       "      <td>18.61</td>\n",
       "      <td>1</td>\n",
       "      <td>1</td>\n",
       "      <td>4</td>\n",
       "      <td>1</td>\n",
       "    </tr>\n",
       "    <tr>\n",
       "      <th>3</th>\n",
       "      <td>Hornet 4 Drive</td>\n",
       "      <td>21.4</td>\n",
       "      <td>6</td>\n",
       "      <td>258.0</td>\n",
       "      <td>110</td>\n",
       "      <td>3.08</td>\n",
       "      <td>3.215</td>\n",
       "      <td>19.44</td>\n",
       "      <td>1</td>\n",
       "      <td>0</td>\n",
       "      <td>3</td>\n",
       "      <td>1</td>\n",
       "    </tr>\n",
       "    <tr>\n",
       "      <th>4</th>\n",
       "      <td>Hornet Sportabout</td>\n",
       "      <td>18.7</td>\n",
       "      <td>8</td>\n",
       "      <td>360.0</td>\n",
       "      <td>175</td>\n",
       "      <td>3.15</td>\n",
       "      <td>3.440</td>\n",
       "      <td>17.02</td>\n",
       "      <td>0</td>\n",
       "      <td>0</td>\n",
       "      <td>3</td>\n",
       "      <td>2</td>\n",
       "    </tr>\n",
       "  </tbody>\n",
       "</table>\n",
       "</div>"
      ],
      "text/plain": [
       "                name   mpg  cyl   disp   hp  drat     wt   qsec  vs  am  gear  \\\n",
       "0          Mazda RX4  21.0    6  160.0  110  3.90  2.620  16.46   0   1     4   \n",
       "1      Mazda RX4 Wag  21.0    6  160.0  110  3.90  2.875  17.02   0   1     4   \n",
       "2         Datsun 710  22.8    4  108.0   93  3.85  2.320  18.61   1   1     4   \n",
       "3     Hornet 4 Drive  21.4    6  258.0  110  3.08  3.215  19.44   1   0     3   \n",
       "4  Hornet Sportabout  18.7    8  360.0  175  3.15  3.440  17.02   0   0     3   \n",
       "\n",
       "   carb  \n",
       "0     4  \n",
       "1     4  \n",
       "2     1  \n",
       "3     1  \n",
       "4     2  "
      ]
     },
     "execution_count": 3,
     "metadata": {},
     "output_type": "execute_result"
    }
   ],
   "source": [
    "df = pd.read_csv(\"data/cleaned_mtcars.csv\")\n",
    "df.head()"
   ]
  },
  {
   "cell_type": "code",
   "execution_count": 4,
   "metadata": {},
   "outputs": [],
   "source": [
    "y = df[['mpg']].values\n",
    "X = df[['cyl','disp','hp','wt','qsec']]\n",
    "\n",
    "X = sm.add_constant(X)"
   ]
  },
  {
   "cell_type": "markdown",
   "metadata": {},
   "source": [
    "<hr style=\"height:2pt\">\n",
    "\n",
    "## Linear Algebra, Accuracy, and Confidence Intervals\n",
    "\n",
    "In this homework, you will see how *uncertainty* in the $\\beta$ coefficients can directly impact our ability to make predictions with a linear regression model and how in general we can do inference on the predictors. "
   ]
  },
  {
   "cell_type": "markdown",
   "metadata": {},
   "source": [
    "### First a little review...\n",
    "\n",
    "The linear model assumes:\n",
    "\n",
    "$$ y_i \\sim N(\\beta_0+\\beta_1 x_i,\\sigma^2 )   $$\n",
    "\n",
    "This means, pun intended, that $ \\mu_{y_i} = \\beta_0+\\beta_1 x_i $, which can be estimated with $ \\hat{\\mu}_{y_i} = \\hat{\\beta}_0+\\hat{\\beta}_1 x_i $.\n",
    "\n",
    "And for a new observation not in the data set, once we measure the new predictor value, $x^*$, we can predict its response, $y^*$, from our model as:\n",
    "\n",
    "$$\\hat{y}^* = \\hat{\\mu}_{y_i} + \\hat{\\varepsilon}^* $$\n",
    "\n",
    "Which can be calculated by using the estimate for $\\hat{\\mu}_{y_i}$ and adding on a randomly selected value for $\\hat{\\varepsilon}^*$ from its assumed (and estimated) distribution, $N(0,\\hat{\\sigma}^2)$.\n"
   ]
  },
  {
   "cell_type": "markdown",
   "metadata": {},
   "source": [
    "## <div class='exercise'>Question 1 [20 pts]</div>\n",
    "\n",
    "**1.1** Fit a simple linear regression model to predict `mpg` with `disp` using [OLS](https://www.statsmodels.org/dev/examples/notebooks/generated/ols.html) from `statsmodels.api` which will calculate confidence intervals (and other useful statistics) for you. Be aware that (1) unlike sklearn's LinearRegression, statsmodels does **not** add an intercept by default and (2) the expected order of arguments to `fit()` is flipped: $y$ first, then $X$. You can use `sm.add_constant()` to add the ones column. As always, be sure to consult the [documentation](https://www.statsmodels.org/dev/index.html). Once you've fit the model you can can call `your_fitted_OLS.get_prediction().summary_frame()` to access the confidence intervals for our true mean predictions at various values of `disp` and make a well-labeled plot showing:\n",
    "\n",
    " 1. The observed values of `disp` and `mpg`.\n",
    " 2. The estimated regression line.\n",
    " 3. The upper and lower bounds of the 95% confidence interval for the true average (not the observed) `mpg` at any given displacement.\n",
    " \n",
    "**1.2** Why do we have a confidence interval for our true mean prediction values?  Why isn't the mean prediction just a single number?\n",
    "\n",
    "**1.3** Someone asks what mean `mpg` you would predict for a `disp` value of 400. What do you tell them?  How about when paying attention to the confidence interval (1.1.3) above?\n",
    "\n",
    "**1.4** Why does the 95% confidence interval for the mean predicted `mpg` become wider as we move away from the data's center? \n",
    "\n",
    "**1.5** An alternative way to produce the confidence intervals from 1.1 is through the bootstrap.  Create 100 bootstrap samples in order to create 100 bootstrapped regression models and store their estimated intercept and slope values.  Use these bootstrapped estimates to build the 95% confidence intervals as in 1.1, and recreate the plot from that question with your new bootstrapped confidence intervals.  Compare this new plot to the one from 1.1.\n",
    "\n",
    "**1.6** Another interval of uncertainty in a regression model is called a *prediction interval*.  A prediction interval gives a range of plausible values for a future individual observation, $\\hat{y}^*$, given a specific value of $x$ in general (`disp` here).  How should the 95\\% prediction interval calculated at a `disp` value of 400 compare to the corresponding 95\\% confidence interval for the mean predicted `mpg`?  Justify with a few sentences.\n"
   ]
  },
  {
   "cell_type": "markdown",
   "metadata": {},
   "source": [
    "## Solutions"
   ]
  },
  {
   "cell_type": "markdown",
   "metadata": {},
   "source": [
    "<div class='exercise-r'>\n",
    "\n",
    "**1.1** Fit a simple linear regression model to predict `mpg` with `disp`. Use the `your_fitted_OLS.get_prediction().summary_frame()` method to access the confidence intervals for our true mean predictions at various values of `disp` and make a well-labeled plot showing:\n",
    "\n",
    " 1. The observed values of `disp` and `mpg`.\n",
    " 2. The estimated regression line.\n",
    " 3. The upper and lower bounds of the 95% confidence interval for the true average (not the observed) `mpg` at any given displacement.\n",
    "\n",
    "</div>"
   ]
  },
  {
   "cell_type": "code",
   "execution_count": 5,
   "metadata": {},
   "outputs": [
    {
     "data": {
      "image/png": "[encoded data removed]",
      "text/plain": [
       "<Figure size 432x288 with 1 Axes>"
      ]
     },
     "metadata": {
      "needs_background": "light"
     },
     "output_type": "display_data"
    }
   ],
   "source": [
    "# your code here \n",
    "### Fit a simple linear regression model to predict mpg with disp\n",
    "x_train = X[['disp', 'const']]\n",
    "x = X[['disp']].values\n",
    "model = sm.OLS(y, x_train)\n",
    "results = model.fit()\n",
    "\n",
    "pred_ols = results.get_prediction()\n",
    "iv_l = pred_ols.summary_frame()[\"mean_ci_lower\"]\n",
    "iv_u = pred_ols.summary_frame()[\"mean_ci_upper\"]\n",
    "\n",
    "# Helper code to visualise the results\n",
    "idx = np.argsort(x[:,0])\n",
    "x_test = x[idx]\n",
    "\n",
    "# Use the above index to get the appropriate predicted values for y_test\n",
    "# y_test values corresponding to sorted test data\n",
    "y_test = y[idx]\n",
    "\n",
    "# Linear predicted values and confidence intervals\n",
    "y_pred = results.fittedvalues[idx]\n",
    "iv_u_pred = iv_u[idx]\n",
    "iv_l_pred = iv_l[idx]\n",
    "\n",
    "### Plot the observed values of disp and mpg\n",
    "plt.scatter(x_test, y_test, s=10, label=\"Observed Values\")\n",
    "\n",
    "### Plot the estimated regression line\n",
    "plt.plot(x_test, y_pred, label=\"Estimated Regression Line\", color='red', alpha=0.6)\n",
    "\n",
    "### Plot upper and lower bounds of the 95% confidence interval for the true average (not the observed) mpg at any given displacement.\n",
    "plt.plot(x_test, iv_u_pred, \"g--\", label=\"Confidence Intervals\")\n",
    "plt.plot(x_test, iv_l_pred, \"g--\")\n",
    "\n",
    "plt.title(\n",
    "    \"Disp vs MPG with Regression Model\",\n",
    "    fontsize=14,\n",
    ")\n",
    "plt.xlabel(\"Displacement\", fontsize=12)\n",
    "plt.ylabel(\"Miles Per Gallon\", fontsize=12)\n",
    "plt.grid(\":\", alpha=0.4)\n",
    "plt.tight_layout()\n",
    "plt.legend()\n",
    "plt.show()\n"
   ]
  },
  {
   "cell_type": "markdown",
   "metadata": {},
   "source": [
    "<div class='exercise-r'>\n",
    "\n",
    "**1.2** Why do we have a confidence interval for our true mean prediction values?  Why isn't the mean prediction just a single number?\n",
    "\n",
    "</div>"
   ]
  },
  {
   "cell_type": "markdown",
   "metadata": {},
   "source": [
    "The confidence intervals tell us how well we have determined the mean. We can't say with certainty that a single number is our best prediction of the mean. Instead wee can say that within the bounds of our confidence intervals that we expect that 95% of thos intervals include the true value of the population mean. These confidence intervals tells us about the likely location of the true population parameter which is much more valuable insight than a single number prediction could provide. \n"
   ]
  },
  {
   "cell_type": "markdown",
   "metadata": {},
   "source": [
    "<div class='exercise-r'>\n",
    "\n",
    "**1.3** Someone asks what mean `mpg` you would predict for a `disp` value of 400. What do you tell them?  How about when paying attention to the confidence interval (1.1.3) above?\n",
    "\n",
    "</div>"
   ]
  },
  {
   "cell_type": "code",
   "execution_count": 6,
   "metadata": {},
   "outputs": [
    {
     "name": "stdout",
     "output_type": "stream",
     "text": [
      "The mean mpg that is predicted at a disp of 400 is  13.113806771049497  with a confidence interval of  11.105975775409775 ,  15.121637766689219\n"
     ]
    }
   ],
   "source": [
    "# your code here\n",
    "for i, obs in enumerate(x):\n",
    "    if obs == 400:\n",
    "        print (\"The mean mpg that is predicted at a disp of 400 is \", results.fittedvalues[i], \n",
    "               \" with a confidence interval of \", iv_l[i], \", \", iv_u[i])"
   ]
  },
  {
   "cell_type": "markdown",
   "metadata": {},
   "source": [
    "I would tell them that the expected value would be 23.6mpg but that 95 out of 100 times this estimate will actually fall between 15.6mpg and 31.5mpg.\n"
   ]
  },
  {
   "cell_type": "markdown",
   "metadata": {},
   "source": [
    "<div class='exercise-r'>\n",
    "\n",
    "**1.4** Why does the 95% confidence interval for the mean predicted `mpg` become wider as we move away from the data's center?\n",
    "\n",
    "</div>"
   ]
  },
  {
   "cell_type": "markdown",
   "metadata": {},
   "source": [
    "Our confidence interval widens away from the data's center because there is uncertainty with both the overall mean of the estimate and the estimate of the slope. Due to these uncertainties there is a greater spread between the high and low estimates and away from the center the confidence interval widens."
   ]
  },
  {
   "cell_type": "markdown",
   "metadata": {},
   "source": [
    "<div class='exercise-r'>\n",
    "\n",
    "**1.5** An alternative way to produce the confidence intervals from 1.1 is through the bootstrap.  Create 100 bootstrap samples in order to create 100 bootstrapped regression models and store their estimated intercept and slope values.  Use these bootstrapped estimates to build the 95\\% confidence intervals as in 1.1, and recreate the plot from that question with your new bootstrapped confidence intervals.  Compare this new plot to the one from 1.1.\n",
    "\n",
    "</div>"
   ]
  },
  {
   "cell_type": "code",
   "execution_count": 13,
   "metadata": {},
   "outputs": [
    {
     "data": {
      "image/png": "[encoded data removed]",
      "text/plain": [
       "<Figure size 432x288 with 1 Axes>"
      ]
     },
     "metadata": {
      "needs_background": "light"
     },
     "output_type": "display_data"
    }
   ],
   "source": [
    "# your code here\n",
    "# Create 100 bootstrap samples in order to create 100 bootstrapped regression models\n",
    "numboot = 100\n",
    "\n",
    "intercept  = []\n",
    "slope = []\n",
    "\n",
    "# Loop through each bootstrap\n",
    "for i in range(numboot):\n",
    "    # Create bootstrapped version of the training data using the sample function\n",
    "    # Set frac=1 and replace=True to get a bootstrap\n",
    "    df_sample = df.sample(frac=1, replace=True)\n",
    "    \n",
    "    # Get the predictor data from the new bootstrapped data\n",
    "    # Get the response data from the new bootstrapped data\n",
    "    y_sample = df_sample[['mpg']].values\n",
    "    X_sample = df_sample[['disp']]\n",
    "    X_sample = sm.add_constant(X_sample)\n",
    "    x = X_sample[['disp']].values\n",
    "    \n",
    "    ### Fit a simple linear regression model to predict mpg with disp\n",
    "    model = sm.OLS(y_sample, X_sample)\n",
    "    results = model.fit()\n",
    "    \n",
    "    intercept.append(results.params.const)\n",
    "    slope.append(results.params.disp)\n",
    "\n",
    "ci_l_intercept = np.percentile(intercept, 2.5)\n",
    "ci_l_slope = np.percentile(slope, 2.5)\n",
    "\n",
    "ci_u_intercept = np.percentile(intercept, 97.5)\n",
    "ci_u_slope = np.percentile(slope, 97.5)\n",
    "\n",
    "### Plot the observed values of disp and mpg\n",
    "plt.scatter(x_test, y_test, s=10, label=\"Observed Values\")\n",
    "\n",
    "### Plot the estimated regression line\n",
    "plt.plot(x_test, y_pred, label=\"Estimated Regression Line\", color='red', alpha=0.6)\n",
    "\n",
    "### Plot upper and lower bounds of the 95% confidence interval\n",
    "ci_l_vals = []\n",
    "ci_u_vals = []\n",
    "for xval in x_test:\n",
    "    ci_l_vals.append(ci_l_intercept + ci_l_slope*xval)\n",
    "    ci_u_vals.append(ci_u_intercept + ci_u_slope*xval)\n",
    "plt.plot(x_test, ci_u_vals, \"g--\", label=\"Confidence Interval Upper\")\n",
    "plt.plot(x_test, ci_l_vals, \"b--\", label=\"Confidence Interval Lower\")\n",
    "\n",
    "plt.title(\n",
    "    \"Disp vs MPG with Regression Model\",\n",
    "    fontsize=14,\n",
    ")\n",
    "plt.xlabel(\"Displacement\", fontsize=12)\n",
    "plt.ylabel(\"Miles Per Gallon\", fontsize=12)\n",
    "plt.grid(\":\", alpha=0.4)\n",
    "plt.tight_layout()\n",
    "plt.legend()\n",
    "plt.show()\n"
   ]
  },
  {
   "cell_type": "markdown",
   "metadata": {},
   "source": [
    "**your answer here**\n"
   ]
  },
  {
   "cell_type": "markdown",
   "metadata": {},
   "source": [
    "<div class='exercise-r'>\n",
    "\n",
    "**1.6** Another interval of uncertainty in a regression model is called a *prediction interval*.  A prediction interval gives a range of plausible values for a future individual observation, $\\hat{y}^*$, given a specific value of $x$ in general (`disp` here).  How should the 95\\% prediction interval calculated at a `disp` value of 400 compare to the corresponding 95\\% confidence interval for the mean predicted `mpg`?  Justify with a few sentences.\n",
    "\n",
    "</div>"
   ]
  },
  {
   "cell_type": "markdown",
   "metadata": {},
   "source": [
    "**your answer here**\n"
   ]
  },
  {
   "cell_type": "markdown",
   "metadata": {},
   "source": [
    "**THE END**"
   ]
  }
 ],
 "metadata": {
  "anaconda-cloud": {},
  "kernelspec": {
   "display_name": "Python 3 (ipykernel)",
   "language": "python",
   "name": "python3"
  },
  "language_info": {
   "codemirror_mode": {
    "name": "ipython",
    "version": 3
   },
   "file_extension": ".py",
   "mimetype": "text/x-python",
   "name": "python",
   "nbconvert_exporter": "python",
   "pygments_lexer": "ipython3",
   "version": "3.9.7"
  }
 },
 "nbformat": 4,
 "nbformat_minor": 4
}
