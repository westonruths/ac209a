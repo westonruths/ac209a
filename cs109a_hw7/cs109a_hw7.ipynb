{
 "cells": [
  {
   "cell_type": "markdown",
   "metadata": {},
   "source": [
    "# <img style=\"float: left; padding-right: 10px; width: 45px\" src=\"https://raw.githubusercontent.com/Harvard-IACS/2018-CS109A/master/content/styles/iacs.png\"> CS109A Introduction to Data Science\n",
    "\n",
    "## Homework 7: Fairness and Bias\n",
    "\n",
    "\n",
    "**Harvard University**<br/>\n",
    "**Fall 2021**<br/>\n",
    "**Instructors**: Pavlos Protopapas and Natesh Pillai\n",
    "\n",
    "<hr style=\"height:2pt\">"
   ]
  },
  {
   "cell_type": "code",
   "execution_count": 1,
   "metadata": {
    "scrolled": true
   },
   "outputs": [
    {
     "data": {
      "text/html": [
       "<style>\n",
       "blockquote { background: #AEDE94; }\n",
       "h1 {\n",
       "    padding-top: 25px;\n",
       "    padding-bottom: 25px;\n",
       "    text-align: left;\n",
       "    padding-left: 10px;\n",
       "    background-color: #63ACBE;\n",
       "    color: black;\n",
       "}\n",
       "h2 {\n",
       "    padding-top: 10px;\n",
       "    padding-bottom: 10px;\n",
       "    text-align: left;\n",
       "    padding-left: 5px;\n",
       "    background-color: #EEEEEE;\n",
       "    color: black;\n",
       "}\n",
       "\n",
       "div.exercise {\n",
       "\tbackground-color: #f8b4ab;\n",
       "\tborder-color: #E9967A;\n",
       "\tborder-left: 5px solid #601A4A;\n",
       "\tpadding: 0.5em;\n",
       "}\n",
       "\n",
       "div.exercise-r {\n",
       "\tbackground-color: #ffd0d0;\n",
       "\tborder-color: #E9967A;\n",
       "\tborder-left: 5px solid #601A4A;\n",
       "\tpadding: 0.5em;\n",
       "}\n",
       "\n",
       "\n",
       "span.sub-q {\n",
       "\tfont-weight: bold;\n",
       "}\n",
       "div.theme {\n",
       "\tbackground-color: #63ACBE;\n",
       "\tborder-color: #E9967A;\n",
       "\tborder-left: 5px solid #601A4A;\n",
       "\tpadding: 0.5em;\n",
       "\tfont-size: 18pt;\n",
       "}\n",
       "div.gc {\n",
       "\tbackground-color: #AEDE94;\n",
       "\tborder-color: #E9967A;\n",
       "\tborder-left: 5px solid #601A4A;\n",
       "\tpadding: 0.5em;\n",
       "\tfont-size: 12pt;\n",
       "}\n",
       "p.q1 {\n",
       "    padding-top: 5px;\n",
       "    padding-bottom: 5px;\n",
       "    text-align: left;\n",
       "    padding-left: 5px;\n",
       "    background-color: #EEEEEE;\n",
       "    color: black;\n",
       "}\n",
       "header {\n",
       "   padding-top: 35px;\n",
       "    padding-bottom: 35px;\n",
       "    text-align: left;\n",
       "    padding-left: 10px;\n",
       "    background-color: #DDDDDD;\n",
       "    color: black;\n",
       "}\n",
       "span.emph {\n",
       "\tcolor: #601A4A;\n",
       "\tfont-weight: bold;\n",
       "}\n",
       "\n",
       "</style>\n"
      ],
      "text/plain": [
       "<IPython.core.display.HTML object>"
      ]
     },
     "execution_count": 1,
     "metadata": {},
     "output_type": "execute_result"
    }
   ],
   "source": [
    "# RUN THIS CELL \n",
    "import requests\n",
    "from IPython.core.display import HTML\n",
    "styles = requests.get(\n",
    "    \"https://raw.githubusercontent.com/Harvard-IACS/2021-CS109A/master/\"\n",
    "    \"themes/static/css/cs109.css\"\n",
    ").text\n",
    "HTML(styles)"
   ]
  },
  {
   "cell_type": "markdown",
   "metadata": {},
   "source": [
    "### Import Libraries"
   ]
  },
  {
   "cell_type": "code",
   "execution_count": 2,
   "metadata": {},
   "outputs": [],
   "source": [
    "import random\n",
    "random.seed(112358)\n",
    "\n",
    "import os\n",
    "import sys\n",
    "\n",
    "import matplotlib.pyplot as plt\n",
    "import numpy as np\n",
    "import pandas as pd\n",
    "import seaborn as sns\n",
    "from sklearn.linear_model import LogisticRegressionCV\n",
    "from sklearn.metrics import (\n",
    "    accuracy_score, confusion_matrix, roc_curve, roc_auc_score\n",
    ")                           \n",
    "from sklearn.model_selection import train_test_split\n",
    "from sklearn.preprocessing import MinMaxScaler\n",
    "\n",
    "%matplotlib inline"
   ]
  },
  {
   "cell_type": "markdown",
   "metadata": {},
   "source": [
    "<a id=\"instructions\"></a>\n",
    "\n",
    "<hr style=\"height:2pt\">\n",
    "\n",
    "### INSTRUCTIONS\n",
    "\n",
    "- To submit your assignment follow the instructions given in Canvas.\n",
    "\n",
    "- Please **restart the kernel and run the entire notebook again before you submit.**\n",
    "\n",
    "- Running cells out of order is a common pitfall in Jupyter Notebooks. To make sure your code continues to work, restart the kernel and rerun your notebook periodically while working through this assignment. \n",
    "\n",
    "- We have tried to include all the libraries you may need to do the assignment in the imports cell provided below. **Please use only the libraries provided in those imports.**\n",
    "\n",
    "- Please use `.head(...)` when viewing data. Do not submit a notebook that is **excessively long**. \n",
    "\n",
    "- In questions that require code to answer, such as \"calculate and report $R^2$\", do not just output the value from a cell. Write a `print(...)` function that clearly labels the output, includes a reference to the calculated value, and rounds it to a reasonable number of digits. **Do not hard code values in your printed output**. For example, this is an appropriate print statement:\n",
    "```python\n",
    "print(f'The R^2 is {R:.4f}')\n",
    "```\n",
    "- **Your plots MUST be clearly labeled and easy to read,** including clear labels for the $x$ and $y$ axes, a descriptive title (\"MSE plot\" is NOT a descriptive title; \"95% confidence interval of coefficients for degree-5 polynomial model\" on the other hand is descriptive), a legend when appropriate, and clearly formatted text and graphics.\n",
    "\n",
    "- **Your code may also be evaluated for efficiency and clarity.** As a result, correct output is not always sufficient for full credit.\n",
    "\n",
    "<hr style=\"height:2pt\">"
   ]
  },
  {
   "cell_type": "markdown",
   "metadata": {},
   "source": [
    "<a id=\"contents\"></a>\n",
    "\n",
    "## Notebook contents\n",
    "\n",
    "- [**Required reading and data description**](#intro)\n",
    "\n",
    "\n",
    "- [**Question 1: Data exploration [26 pts]**](#part1)\n",
    "  - [Solutions](#part1solutions)\n",
    "\n",
    "\n",
    "- [**Question 2: Baseline modeling [21 pts]**](#part2)\n",
    "  - [Solutions](#part2solutions)\n",
    "\n",
    "\n",
    "- [**Question 3: Predicting without using `race` [19 pts]**](#part3)\n",
    "  - [Solutions](#part3solutions)\n",
    "\n",
    "\n",
    "- [**Question 4: Classification thresholds and fairness [34 pts]**](#part4)\n",
    "  - [Solutions](#part4solutions)"
   ]
  },
  {
   "cell_type": "markdown",
   "metadata": {},
   "source": [
    "<a id=\"intro\"></a>\n",
    "\n",
    "## Required reading and data description\n",
    "\n",
    "[Return to contents](#contents)\n",
    "\n",
    "### Required reading\n",
    "\n",
    "The required readings for this homework are two articles that report on the effectiveness of and issues surrounding the COMPAS recidivism algorithm used in U.S. courts. One article is published by ProPublica and the other by the MIT Technology Review:\n",
    "\n",
    "1. Angwin, Julia; Larson, Jeff; Mattu, Surya; Kirchner, Lauren (2016). \"Machine Bias: There’s software used across the country to predict future criminals. And it’s biased against blacks.\" ProPublica, May 23, 2016. https://www.propublica.org/article/machine-bias-risk-assessments-in-criminal-sentencing\n",
    "\n",
    "\n",
    "2. Hao, Karen; Stray, Jonathan (2019). \"Can you make AI fairer than a judge? Play our courtroom algorithm game: The US criminal legal system uses predictive algorithms to try to make the judicial process less biased. But there’s a deeper problem.\" MIT Technology Review, October 17, 2019. https://www.technologyreview.com/2019/10/17/75285/ai-fairer-than-judge-criminal-risk-assessment-algorithm/\n",
    "\n",
    "You will need to read these articles for the sufficient background needed to successfully complete this homework assignment. It may also be useful to refer back to content covered during the mid-semester lecture on ethics: [Lecture 13: EthiCS](https://edstem.org/us/courses/9045/lessons/23452/slides/138052).\n",
    "\n",
    "### Data description\n",
    "\n",
    "In this assignment, we will be analyzing a portion of the data set used by ProPublica in their report. The data are found in the `compas.csv` file and the \"data dictionary\", which very briefly explains each variable in the data set, can be found in the `compas_datadict.csv` file."
   ]
  },
  {
   "cell_type": "markdown",
   "metadata": {},
   "source": [
    "<a id=\"part1\"></a>\n",
    "\n",
    "## <div class='exercise'>Question 1: Data exploration [26 pts]</div> \n",
    "    \n",
    "[Return to contents](#contents)\n",
    "\n",
    "**1.1** What is the statistical objective of the COMPAS algorithm?  How is recidivism prediction used in courtrooms?\n",
    "\n",
    "**1.2** Consider the information in the provided `compas_datadict.csv`.  Which variables are raw data?  Which are pre-processed data?  Which is the target variable of the COMPAS algorithm?  Which are output(s) of the COMPAS algorithm?   Which should not be used in building our own model to predict recidivism?  \n",
    "\n",
    "**1.3** Read-in the data and split it into 80% training and 20% test **stratified by `race`** (use `random_state=50`). Before splitting, you may want to process the categorical predictors `c_charge_degree`, `race`, and `sex` first so you don't have to do it separately in train and test later.\n",
    "\n",
    "**1.4** Now we will do a little EDA. Provide visuals to explore which **unprocessed** quantitative variables, including `decile_score` (**not** the derived binary variables or pre-processed versions of the available quantitative variables, for example), are related to `race`.\n",
    "\n",
    "**HINT:** You may find your Question 1.4 visuals to be more legible and Question 1.5 easier to answer by grouping your non-Caucasion and non-African-American observations together as \"all other\" racial groups in your plots. However, if you choose to do so, this should only be a temporary grouping of those observations for plotting purposes. Your actual observations should NOT be grouped.\n",
    "\n",
    "**1.5** Based on your visuals, report which 3 variables appear to have the most significant differences between Caucasians and African Americans. Briefly interpret your findings for each of those 3 variables, being certain to explain your justification for choosing each.\n",
    "\n",
    "**NOTE:** As illustrated by [the required readings](#intro), reporting on the U.S. Criminal Justice system often concentrates on the disparate experiences between Caucasians and African Americans, thus we have focused our approaches similarly. However, to ensure the efficacy of our models in Question 2 and Question 3, we must be certain to still keep observations for all racial groups included in our data. \n",
    "\n",
    "**1.6** With respect to these 3 chosen variables, how could bias in the data or data collection be impacting or causing these differences?"
   ]
  },
  {
   "cell_type": "markdown",
   "metadata": {},
   "source": [
    "<a id=\"part1solutions\"></a>\n",
    "\n",
    "## Question 1: Solutions\n",
    "\n",
    "[Return to contents](#contents)"
   ]
  },
  {
   "cell_type": "markdown",
   "metadata": {},
   "source": [
    "<div class='exercise-r'>\n",
    "\n",
    "**1.1** What is the statistical objective of the COMPAS algorithm?  How is recidivism prediction used in courtrooms?\n",
    "\n",
    "</div>"
   ]
  },
  {
   "cell_type": "markdown",
   "metadata": {},
   "source": [
    "**The COMPAS algorithm's objective is to assess risk as well as nearly two dozen so-called “criminogenic needs” that relate to the major theories of criminality, including “criminal personality,” “social isolation,” “substance abuse” and “residence/stability.” Defendants are ranked low, medium or high risk in each category. Courtrooms use these predictions to inform decisions about who can be set free at every stage of the criminal justice system.**"
   ]
  },
  {
   "cell_type": "markdown",
   "metadata": {},
   "source": [
    "<div class='exercise-r'>\n",
    "\n",
    "**1.2** Consider the information in the provided `compas_datadict.csv`.  Which variables are raw data?  Which are pre-processed data?  Which is the target variable of the COMPAS algorithm?  Which are output(s) of the COMPAS algorithm?   Which should not be used in building our own model to predict recidivism?\n",
    "\n",
    "</div>"
   ]
  },
  {
   "cell_type": "markdown",
   "metadata": {},
   "source": [
    "**The raw variables are: Age, Type of Crime charged with, Race, Sex, Length of Stay, Priors Count, Juvenile Felony Count, Juvenile Misdemeanor Count, Juvenile Other Count, and Description of Charge.**\n",
    "\n",
    "**Pre-processed data is: Length of Stay Thresholded, Priors 1, Priors 234, Priors 5 plus, Juvenile Felony 1 Plus, Juvenile Misdemeanor 1 Plus, Juvenile Other 1 Plus, Charge Any Drug, Charge Any Violence Aggression, Charge Any Theft**\n",
    "\n",
    "**The outputs are: Score Test and Decile Score. The target is Two Year Recid**\n",
    "\n",
    "**We should not use race to build our model to predict recidivism since they are biased predictors.**"
   ]
  },
  {
   "cell_type": "markdown",
   "metadata": {},
   "source": [
    "<div class='exercise-r'>\n",
    "\n",
    "**1.3** Read-in the data and split it into 80% training and 20% test **stratified by `race`** (use `random_state=50`). Before splitting, you may want to process the categorical predictors `c_charge_degree`, `race`, and `sex` first so you don't have to do it separately in train and test later.\n",
    "\n",
    "</div>"
   ]
  },
  {
   "cell_type": "code",
   "execution_count": 3,
   "metadata": {},
   "outputs": [
    {
     "name": "stdout",
     "output_type": "stream",
     "text": [
      "(6172, 33)\n",
      "(4937, 33) (1235, 33)\n"
     ]
    }
   ],
   "source": [
    "# your code here\n",
    "data = pd.read_csv(\"data/compas.csv\")\n",
    "\n",
    "# Process categorical variables\n",
    "categorical_columns = ['c_charge_degree', 'race', 'sex']\n",
    "for column in categorical_columns:\n",
    "    tempdf = pd.get_dummies(data[column], prefix=column)\n",
    "    data = pd.merge(\n",
    "        left=data,\n",
    "        right=tempdf,\n",
    "        left_index=True,\n",
    "        right_index=True,\n",
    "    )\n",
    "\n",
    "data_train, data_test = train_test_split(\n",
    "    data,\n",
    "    test_size=0.2,\n",
    "    random_state=121,\n",
    "    stratify=data['race'],\n",
    "    shuffle=True,\n",
    ")\n",
    "\n",
    "print(data.shape)\n",
    "print(data_train.shape, data_test.shape)"
   ]
  },
  {
   "cell_type": "code",
   "execution_count": 4,
   "metadata": {},
   "outputs": [
    {
     "data": {
      "text/html": [
       "<div>\n",
       "<style scoped>\n",
       "    .dataframe tbody tr th:only-of-type {\n",
       "        vertical-align: middle;\n",
       "    }\n",
       "\n",
       "    .dataframe tbody tr th {\n",
       "        vertical-align: top;\n",
       "    }\n",
       "\n",
       "    .dataframe thead th {\n",
       "        text-align: right;\n",
       "    }\n",
       "</style>\n",
       "<table border=\"1\" class=\"dataframe\">\n",
       "  <thead>\n",
       "    <tr style=\"text-align: right;\">\n",
       "      <th></th>\n",
       "      <th>age</th>\n",
       "      <th>c_charge_degree</th>\n",
       "      <th>c_charge_desc</th>\n",
       "      <th>race</th>\n",
       "      <th>score_text</th>\n",
       "      <th>sex</th>\n",
       "      <th>priors_count</th>\n",
       "      <th>juv_fel_count</th>\n",
       "      <th>juv_misd_count</th>\n",
       "      <th>juv_other_count</th>\n",
       "      <th>...</th>\n",
       "      <th>c_charge_degree_F</th>\n",
       "      <th>c_charge_degree_M</th>\n",
       "      <th>race_African-American</th>\n",
       "      <th>race_Asian</th>\n",
       "      <th>race_Caucasian</th>\n",
       "      <th>race_Hispanic</th>\n",
       "      <th>race_Native American</th>\n",
       "      <th>race_Other</th>\n",
       "      <th>sex_Female</th>\n",
       "      <th>sex_Male</th>\n",
       "    </tr>\n",
       "  </thead>\n",
       "  <tbody>\n",
       "    <tr>\n",
       "      <th>0</th>\n",
       "      <td>69</td>\n",
       "      <td>F</td>\n",
       "      <td>Aggravated Assault w/Firearm</td>\n",
       "      <td>Other</td>\n",
       "      <td>Low</td>\n",
       "      <td>Male</td>\n",
       "      <td>0</td>\n",
       "      <td>0</td>\n",
       "      <td>0</td>\n",
       "      <td>0</td>\n",
       "      <td>...</td>\n",
       "      <td>1</td>\n",
       "      <td>0</td>\n",
       "      <td>0</td>\n",
       "      <td>0</td>\n",
       "      <td>0</td>\n",
       "      <td>0</td>\n",
       "      <td>0</td>\n",
       "      <td>1</td>\n",
       "      <td>0</td>\n",
       "      <td>1</td>\n",
       "    </tr>\n",
       "    <tr>\n",
       "      <th>1</th>\n",
       "      <td>34</td>\n",
       "      <td>F</td>\n",
       "      <td>Felony Battery w/Prior Convict</td>\n",
       "      <td>African-American</td>\n",
       "      <td>Low</td>\n",
       "      <td>Male</td>\n",
       "      <td>0</td>\n",
       "      <td>0</td>\n",
       "      <td>0</td>\n",
       "      <td>0</td>\n",
       "      <td>...</td>\n",
       "      <td>1</td>\n",
       "      <td>0</td>\n",
       "      <td>1</td>\n",
       "      <td>0</td>\n",
       "      <td>0</td>\n",
       "      <td>0</td>\n",
       "      <td>0</td>\n",
       "      <td>0</td>\n",
       "      <td>0</td>\n",
       "      <td>1</td>\n",
       "    </tr>\n",
       "    <tr>\n",
       "      <th>2</th>\n",
       "      <td>24</td>\n",
       "      <td>F</td>\n",
       "      <td>Possession of Cocaine</td>\n",
       "      <td>African-American</td>\n",
       "      <td>Low</td>\n",
       "      <td>Male</td>\n",
       "      <td>4</td>\n",
       "      <td>0</td>\n",
       "      <td>0</td>\n",
       "      <td>1</td>\n",
       "      <td>...</td>\n",
       "      <td>1</td>\n",
       "      <td>0</td>\n",
       "      <td>1</td>\n",
       "      <td>0</td>\n",
       "      <td>0</td>\n",
       "      <td>0</td>\n",
       "      <td>0</td>\n",
       "      <td>0</td>\n",
       "      <td>0</td>\n",
       "      <td>1</td>\n",
       "    </tr>\n",
       "    <tr>\n",
       "      <th>3</th>\n",
       "      <td>44</td>\n",
       "      <td>M</td>\n",
       "      <td>Battery</td>\n",
       "      <td>Other</td>\n",
       "      <td>Low</td>\n",
       "      <td>Male</td>\n",
       "      <td>0</td>\n",
       "      <td>0</td>\n",
       "      <td>0</td>\n",
       "      <td>0</td>\n",
       "      <td>...</td>\n",
       "      <td>0</td>\n",
       "      <td>1</td>\n",
       "      <td>0</td>\n",
       "      <td>0</td>\n",
       "      <td>0</td>\n",
       "      <td>0</td>\n",
       "      <td>0</td>\n",
       "      <td>1</td>\n",
       "      <td>0</td>\n",
       "      <td>1</td>\n",
       "    </tr>\n",
       "    <tr>\n",
       "      <th>4</th>\n",
       "      <td>41</td>\n",
       "      <td>F</td>\n",
       "      <td>Possession Burglary Tools</td>\n",
       "      <td>Caucasian</td>\n",
       "      <td>Medium</td>\n",
       "      <td>Male</td>\n",
       "      <td>14</td>\n",
       "      <td>0</td>\n",
       "      <td>0</td>\n",
       "      <td>0</td>\n",
       "      <td>...</td>\n",
       "      <td>1</td>\n",
       "      <td>0</td>\n",
       "      <td>0</td>\n",
       "      <td>0</td>\n",
       "      <td>1</td>\n",
       "      <td>0</td>\n",
       "      <td>0</td>\n",
       "      <td>0</td>\n",
       "      <td>0</td>\n",
       "      <td>1</td>\n",
       "    </tr>\n",
       "  </tbody>\n",
       "</table>\n",
       "<p>5 rows × 33 columns</p>\n",
       "</div>"
      ],
      "text/plain": [
       "   age c_charge_degree                   c_charge_desc              race  \\\n",
       "0   69               F    Aggravated Assault w/Firearm             Other   \n",
       "1   34               F  Felony Battery w/Prior Convict  African-American   \n",
       "2   24               F           Possession of Cocaine  African-American   \n",
       "3   44               M                         Battery             Other   \n",
       "4   41               F       Possession Burglary Tools         Caucasian   \n",
       "\n",
       "  score_text   sex  priors_count  juv_fel_count  juv_misd_count  \\\n",
       "0        Low  Male             0              0               0   \n",
       "1        Low  Male             0              0               0   \n",
       "2        Low  Male             4              0               0   \n",
       "3        Low  Male             0              0               0   \n",
       "4     Medium  Male            14              0               0   \n",
       "\n",
       "   juv_other_count  ...  c_charge_degree_F  c_charge_degree_M  \\\n",
       "0                0  ...                  1                  0   \n",
       "1                0  ...                  1                  0   \n",
       "2                1  ...                  1                  0   \n",
       "3                0  ...                  0                  1   \n",
       "4                0  ...                  1                  0   \n",
       "\n",
       "   race_African-American  race_Asian  race_Caucasian  race_Hispanic  \\\n",
       "0                      0           0               0              0   \n",
       "1                      1           0               0              0   \n",
       "2                      1           0               0              0   \n",
       "3                      0           0               0              0   \n",
       "4                      0           0               1              0   \n",
       "\n",
       "   race_Native American  race_Other  sex_Female  sex_Male  \n",
       "0                     0           1           0         1  \n",
       "1                     0           0           0         1  \n",
       "2                     0           0           0         1  \n",
       "3                     0           1           0         1  \n",
       "4                     0           0           0         1  \n",
       "\n",
       "[5 rows x 33 columns]"
      ]
     },
     "execution_count": 4,
     "metadata": {},
     "output_type": "execute_result"
    }
   ],
   "source": [
    "data.head()"
   ]
  },
  {
   "cell_type": "markdown",
   "metadata": {},
   "source": [
    "<div class='exercise-r'>\n",
    "\n",
    "**1.4** Now we will do a little EDA. Provide visuals to explore which **unprocessed** quantitative variables, including `decile_score` (**not** the derived binary variables or pre-processed versions of the available quantitative variables, for example), are related to `race`.\n",
    "\n",
    "**HINT:** You may find your Question 1.4 visuals to be more legible and Question 1.5 easier to answer by grouping your non-Caucasion and non-African-American observations together as \"all other\" racial groups in your plots. However, if you choose to do so, this should only be a temporary grouping of those observations for plotting purposes. Your actual observations should NOT be grouped.\n",
    "\n",
    "</div>"
   ]
  },
  {
   "cell_type": "code",
   "execution_count": 5,
   "metadata": {},
   "outputs": [
    {
     "data": {
      "image/png": "[encoded data removed]",
      "text/plain": [
       "<Figure size 1800x864 with 6 Axes>"
      ]
     },
     "metadata": {
      "needs_background": "light"
     },
     "output_type": "display_data"
    }
   ],
   "source": [
    "# your code here\n",
    "pd.options.mode.chained_assignment = None  # default='warn'\n",
    "\n",
    "data_train['race_gen']=data_train['race']\n",
    "data_train['race_gen']=data_train['race_gen'].str.replace('Asian', 'Other')\n",
    "data_train['race_gen']=data_train['race_gen'].str.replace('Hispanic', 'Other')\n",
    "data_train['race_gen']=data_train['race_gen'].str.replace('Native American', 'Other')\n",
    "\n",
    "predictors = [\n",
    "    \"age\",\"length_of_stay\",\"priors_count\",\"juv_fel_count\",\n",
    "    \"juv_misd_count\",\"juv_other_count\"\n",
    "]\n",
    "\n",
    "fig, axes = plt.subplots(2, 3, figsize=(25,12))\n",
    "fig.suptitle('Exploration of Unprocessed Variables vs Race')\n",
    "for pred, ax in zip(predictors, axes.flatten()):\n",
    "    sns.boxplot(x=data_train['race_gen'], y=data_train[pred], ax=ax)\n",
    "    ax.set_title(pred)\n",
    "    ax.set_xlabel('race')\n",
    "    ax.set_ylabel(pred)\n"
   ]
  },
  {
   "cell_type": "markdown",
   "metadata": {},
   "source": [
    "<div class='exercise-r'>\n",
    "\n",
    "**1.5** Based on your visuals, report which 3 variables appear to have the most significant differences between Caucasians and African Americans. Briefly interpret your findings for each of those 3 variables, being certain to explain your justification for choosing each.\n",
    "\n",
    "**NOTE:** As illustrated by [the required readings](#intro), reporting on the U.S. Criminal Justice system often concentrates on the disparate experiences between Caucasians and African Americans, thus we have focused our approaches similarly. However, to ensure the efficacy of our models in Question 2 and Question 3, we must be certain to still keep observations for all racial groups included in our data. \n",
    "\n",
    "</div>"
   ]
  },
  {
   "cell_type": "markdown",
   "metadata": {},
   "source": [
    "**Length of stay, Age, Priors Count are the most different between Caucasians and African Americans. Age is significantly different between Caucasians and African Americans as the mean is approximately 4 years lower for African Americans than it is for Caucasians. Length of stay is significantly different- Caucasians have a maximum length of stay of 500 while African Americans have a maximum length of stay of 800. Priors count is significantly higher as the average is higher for African Americans than Caucasians. These three predictors have the largest difference in their means for African Americans and Caucasians, which is why we chose them.**"
   ]
  },
  {
   "cell_type": "markdown",
   "metadata": {},
   "source": [
    "<div class='exercise-r'>\n",
    "\n",
    "**1.6** With respect to these 3 chosen variables, how could bias in the data or data collection be impacting or causing these differences?\n",
    "\n",
    "</div>"
   ]
  },
  {
   "cell_type": "markdown",
   "metadata": {},
   "source": [
    "**Judges might have biased results in their verdicts and for how long they are sentencing prisoners. The datset might not be sampled in a fair way which would cause bias in our results.**"
   ]
  },
  {
   "cell_type": "markdown",
   "metadata": {},
   "source": [
    "---"
   ]
  },
  {
   "cell_type": "markdown",
   "metadata": {},
   "source": [
    "<a id=\"part2\"></a>\n",
    "\n",
    "## <div class=\"exercise\">Question 2: Baseline modeling [21 pts]</div> \n",
    "    \n",
    "[Return to contents](#contents)\n",
    "\n",
    "**2.1**  Build a well-tuned $LASSO$-like regularized logistic regression model to predict recidivism (i.e. `two_year_recid` is your response variable). Use the following predictors: `age`, `priors_1`, `priors_234`, `priors_5plus`, `juv_fel_1plus`, `juv_misd_1plus`, `juv_other_1plus`, `charge_any_drug`, `charge_any_violence_aggression`, `charge_any_theft`, as well as your one-hot-encoded predictors for `c_charge_degree`, `sex`, and `race`. Report your resulting coefficients and interpret what this model is saying about the relationship of `two_year_recid` to `race`.\n",
    "\n",
    "\n",
    "**2.2**  Report the following on the **test set**:\n",
    "\n",
    "1. **Overall model accuracy score**\n",
    "\n",
    "\n",
    "2. **False positive rates (FPR)** for each of the two groups (please note that a \"positive\" here is `two_year_recid==1`)\n",
    "    - `African-American`\n",
    "    - `Cacausian`\n",
    "    \n",
    "    \n",
    "3. **False negative rates (FNR)** for each of the two groups:\n",
    "    - `African-American`\n",
    "    - `Caucasian`\n",
    "\n",
    "\n",
    "4. **Ratios of error rates**:\n",
    "    - Ratio of the FPR between `African-American` and `Caucasian` groups\n",
    "    - Ratio of the FNR between `African-American` and `Caucasian` groups\n",
    "    - These ratios can be expressed as:\n",
    "\n",
    "$$\\frac{FPR(AA)}{FPR(CC)} \\; \\text{and} \\; \\frac{FNR(AA)}{FNR(CC)}$$\n",
    "\n",
    "\n",
    "**2.3**  What do you observe? Is there any disparity in the $FPR$ and $FNR$ for the two groups? What are the implications of your findings? Explain your findings in 3-6 sentences.\n",
    "    \n",
    "  "
   ]
  },
  {
   "cell_type": "markdown",
   "metadata": {},
   "source": [
    "<a id=\"part2solutions\"></a>\n",
    "\n",
    "## Question 2: Solutions\n",
    "\n",
    "[Return to contents](#contents)"
   ]
  },
  {
   "cell_type": "markdown",
   "metadata": {},
   "source": [
    "<div class='exercise-r'>\n",
    "\n",
    "**2.1**  Build a well-tuned $LASSO$-like regularized logistic regression model to predict recidivism (i.e. `two_year_recid` is your response variable). Use the following predictors: `age`, `priors_1`, `priors_234`, `priors_5plus`, `juv_fel_1plus`, `juv_misd_1plus`, `juv_other_1plus`, `charge_any_drug`, `charge_any_violence_aggression`, `charge_any_theft`, as well as your one-hot-encoded predictors for `c_charge_degree`, `sex`, and `race`. Report your resulting coefficients and interpret what this model is saying about the relationship of `two_year_recid` to `race`.\n",
    "\n",
    "</div>"
   ]
  },
  {
   "cell_type": "code",
   "execution_count": 6,
   "metadata": {},
   "outputs": [
    {
     "name": "stdout",
     "output_type": "stream",
     "text": [
      "Logistic Regression Estimated Beta 0: 0.0000\n",
      "Logistic Regression Estimated Beta 1 (age): -0.0379\n",
      "Logistic Regression Estimated Beta 2 (priors_1): 0.2483\n",
      "Logistic Regression Estimated Beta 3 (priors_234): 0.8353\n",
      "Logistic Regression Estimated Beta 4 (priors_5plus): 1.6791\n",
      "Logistic Regression Estimated Beta 5 (juv_fel_1plus): 0.0000\n",
      "Logistic Regression Estimated Beta 6 (juv_misd_1plus): 0.0005\n",
      "Logistic Regression Estimated Beta 7 (juv_other_1plus): 0.5137\n",
      "Logistic Regression Estimated Beta 8 (charge_any_drug): 0.2287\n",
      "Logistic Regression Estimated Beta 9 (charge_any_violence_aggression): 0.0000\n",
      "Logistic Regression Estimated Beta 10 (charge_any_theft): 0.2450\n",
      "Logistic Regression Estimated Beta 11 (c_charge_degree_F): 0.1248\n",
      "Logistic Regression Estimated Beta 12 (c_charge_degree_M): 0.0000\n",
      "Logistic Regression Estimated Beta 13 (sex_Female): 0.0000\n",
      "Logistic Regression Estimated Beta 14 (sex_Male): 0.2376\n",
      "Logistic Regression Estimated Beta 15 (race_Asian): 0.0000\n",
      "Logistic Regression Estimated Beta 16 (race_African-American): 0.1315\n",
      "Logistic Regression Estimated Beta 17 (race_Caucasian): 0.0186\n",
      "Logistic Regression Estimated Beta 18 (race_Hispanic): 0.0000\n",
      "Logistic Regression Estimated Beta 19 (race_Native American): 0.0000\n",
      "Logistic Regression Estimated Beta 20 (race_Other): 0.0000\n"
     ]
    }
   ],
   "source": [
    "# your code here\n",
    "predictors= ['age',\n",
    "             'priors_1',\n",
    "             'priors_234',\n",
    "             'priors_5plus',\n",
    "             'juv_fel_1plus',\n",
    "             'juv_misd_1plus',\n",
    "             'juv_other_1plus',\n",
    "             'charge_any_drug',\n",
    "             'charge_any_violence_aggression',\n",
    "             'charge_any_theft',\n",
    "             'c_charge_degree_F',\n",
    "             'c_charge_degree_M',\n",
    "             'sex_Female',\n",
    "             'sex_Male',\n",
    "             'race_Asian',\n",
    "             'race_African-American',\n",
    "             'race_Caucasian',\n",
    "             'race_Hispanic',\n",
    "             'race_Native American',\n",
    "             'race_Other'\n",
    "            ]\n",
    "\n",
    "X_train = data_train[predictors]\n",
    "y_train = data_train['two_year_recid']\n",
    "X_test = data_test[predictors]\n",
    "y_test = data_test['two_year_recid']\n",
    "\n",
    "Cs = [1e-4,1e-3,1e-2,1e-1,1e0,1e1,1e2,1e3,1e4]\n",
    "cv = 10\n",
    "penalty = 'l1'\n",
    "solver = 'liblinear'\n",
    "\n",
    "logit_lasso = LogisticRegressionCV(\n",
    "    Cs=Cs, cv=cv, penalty=penalty, solver='liblinear'\n",
    ").fit(X_train, y_train)\n",
    "\n",
    "# Get the coefficient estimates\n",
    "print(\"Logistic Regression Estimated Beta 0: {:.4f}\".format(logit_lasso.intercept_[0]))\n",
    "\n",
    "for i, name in enumerate(logit_lasso.coef_[0]):\n",
    "    print(\"Logistic Regression Estimated Beta {} ({}): {:.4f}\".format(i+1, predictors[i], logit_lasso.coef_[0][i]))"
   ]
  },
  {
   "cell_type": "markdown",
   "metadata": {},
   "source": [
    "**INTERPRETATION:**"
   ]
  },
  {
   "cell_type": "markdown",
   "metadata": {},
   "source": [
    "**Looking at the coefficients for our race columns, there does appear to be a positive correlation race and two_year_recid. The strongest correlations are with Africa-American at 0.1316 and Caucasion at 0.0188.**"
   ]
  },
  {
   "cell_type": "markdown",
   "metadata": {},
   "source": [
    "<div class='exercise-r'>\n",
    "\n",
    "**2.2**  Report the following on the **test set**:\n",
    "\n",
    "1. **Overall model accuracy score**\n",
    "\n",
    "\n",
    "2. **False positive rates (FPR)** for each of the two groups (please note that a \"positive\" here is `two_year_recid==1`)\n",
    "    - `African-American`\n",
    "    - `Cacausian`\n",
    "    \n",
    "    \n",
    "3. **False negative rates (FNR)** for each of the two groups:\n",
    "    - `African-American`\n",
    "    - `Caucasian`\n",
    "\n",
    "\n",
    "4. **Ratios of error rates**:\n",
    "    - Ratio of the FPR between `African-American` and `Caucasian` groups\n",
    "    - Ratio of the FNR between `African-American` and `Caucasian` groups\n",
    "    - These ratios can be expressed as:\n",
    "\n",
    "$$\\frac{FPR(AA)}{FPR(CC)} \\; \\text{and} \\; \\frac{FNR(AA)}{FNR(CC)}$$\n",
    "\n",
    "</div>"
   ]
  },
  {
   "cell_type": "code",
   "execution_count": 7,
   "metadata": {},
   "outputs": [
    {
     "name": "stdout",
     "output_type": "stream",
     "text": [
      "Overall Testing Set Accuracy: 66.4777%\n",
      "\n",
      "False Positive Rate for African Americans: 37.5817%\n",
      "False Positive Rate for Caucasians: 17.0370%\n",
      "\n",
      "False Negative Rate for African Americans: 32.2188%\n",
      "False Negative Rate for Caucasians: 53.6424%\n",
      "\n",
      "Ratio of the FPR between African-American and Caucasian groups: 2.2059\n",
      "Ratio of the FNR between African-American and Caucasian groups: 0.6006\n"
     ]
    }
   ],
   "source": [
    "# your code here\n",
    "#Predict\n",
    "y_pred_train = logit_lasso.predict(X_train)\n",
    "y_pred_test = logit_lasso.predict(X_test)\n",
    "\n",
    "# Overall model accuracy score\n",
    "train_score = accuracy_score(y_train, y_pred_train)*100\n",
    "test_score = accuracy_score(y_test, y_pred_test)*100\n",
    "\n",
    "print(\"Overall Testing Set Accuracy: {:.4f}%\".format(test_score))\n",
    "print('')\n",
    "\n",
    "# Confusion matrix\n",
    "aa_index = X_test.index[X_test['race_African-American']==1].tolist()\n",
    "cc_index = X_test.index[X_test['race_Caucasian']==1].tolist()\n",
    "\n",
    "tn_aa, fp_aa, fn_aa, tp_aa = confusion_matrix(y_test.loc[aa_index], \n",
    "                                  logit_lasso.predict(X_test.loc[aa_index])).ravel()\n",
    "\n",
    "tn_cc, fp_cc, fn_cc, tp_cc = confusion_matrix(y_test.loc[cc_index], \n",
    "                                  logit_lasso.predict(X_test.loc[cc_index])).ravel()\n",
    "\n",
    "# False Positive rate\n",
    "fpr_aa = fp_aa/(fp_aa+tn_aa)*100\n",
    "fpr_cc = fp_cc/(fp_cc+tn_cc)*100\n",
    "print(\"False Positive Rate for African Americans: {:.4f}%\".format(fpr_aa))\n",
    "print(\"False Positive Rate for Caucasians: {:.4f}%\".format(fpr_cc))\n",
    "print('')\n",
    "\n",
    "# False Negatives rate\n",
    "fnr_aa = fn_aa/(fn_aa+tp_aa)*100\n",
    "fnr_cc = fn_cc/(fn_cc+tp_cc)*100\n",
    "print(\"False Negative Rate for African Americans: {:.4f}%\".format(fnr_aa))\n",
    "print(\"False Negative Rate for Caucasians: {:.4f}%\".format(fnr_cc))\n",
    "print('')\n",
    "\n",
    "# False Negatives rate\n",
    "fpr_ratio = fpr_aa/fpr_cc\n",
    "fnr_ratio = fnr_aa/fnr_cc\n",
    "print(\"Ratio of the FPR between African-American and Caucasian groups: {:.4f}\".format(fpr_ratio))\n",
    "print(\"Ratio of the FNR between African-American and Caucasian groups: {:.4f}\".format(fnr_ratio))"
   ]
  },
  {
   "cell_type": "markdown",
   "metadata": {},
   "source": [
    "<div class='exercise-r'>\n",
    "\n",
    "**2.3**  What do you observe? Is there any disparity in the $FPR$ and $FNR$ for the two groups? What are the implications of your findings? Explain your findings in 3-6 sentences.\n",
    "\n",
    "</div>"
   ]
  },
  {
   "cell_type": "markdown",
   "metadata": {},
   "source": [
    "**There is a disparity between FPR and FNR between the two groups. The FPR for African Americans is greater than Caucasians and the FNR for African Americans is less than Caucasians. What the gap in FPR means is that more African Americans are incorrectly being predicted as reocurring criminals when they are not. The gap in FNR means that more Caucasians are not being labeled as reoccuring criminals when they will be. The model is more accomodating towards Caucasians, while it is harsher towards African-Americans. This shows that there is significant bias against the African American racial group as they are at a disadvantage with current FPR and FNR scores.**"
   ]
  },
  {
   "cell_type": "markdown",
   "metadata": {},
   "source": [
    "---"
   ]
  },
  {
   "cell_type": "markdown",
   "metadata": {},
   "source": [
    "<a id=\"part3\"></a>\n",
    "\n",
    "## <div class='exercise'>Question 3: Predicting without using `race` [19 pts]</div> \n",
    "    \n",
    "[Return to contents](#contents)\n",
    "\n",
    "**3.1** Fit another well-tuned $LASSO$-like regularized logistic regression model just as you did in Question 2.1, but this time **without** `race` as a predictor. Report your resulting coefficients.\n",
    "\n",
    "**3.2** Again, report the following on the **test set**:\n",
    "\n",
    "1. **Overall model accuracy score**\n",
    "\n",
    "\n",
    "2. **False positive rates (FPR)** for each of the two groups (please note that a \"positive\" here is `two_year_recid==1`)\n",
    "    - `African-American`\n",
    "    - `Cacausian`\n",
    "    \n",
    "    \n",
    "3. **False negative rates (FNR)** for each of the two groups:\n",
    "    - `African-American`\n",
    "    - `Caucasian`\n",
    "\n",
    "\n",
    "4. **Ratios of error rates**:\n",
    "    - Ratio of the FPR between `African-American` and `Caucasian` groups\n",
    "    - Ratio of the FNR between `African-American` and `Caucasian` groups\n",
    "    - These ratios can be expressed as:\n",
    "\n",
    "$$\\frac{FPR(AA)}{FPR(CC)} \\; \\text{and} \\; \\frac{FNR(AA)}{FNR(CC)}$$\n",
    "\n",
    "\n",
    "**3.3**  How do these metrics compare to the model when the variable `race` **is** included as a predictor?\n",
    "\n",
    "**3.4**  Given your exploration and modeling of the data, should a predictive tool be trusted to be unbiased even if it doesn’t explicitly use a variable such as race to predict future crime?  Why or why not? Give careful consideration to why the bias is still occurring or not still occurring in your results and what the real-life implications/effects might be for such a tool."
   ]
  },
  {
   "cell_type": "markdown",
   "metadata": {},
   "source": [
    "<a id=\"part3solutions\"></a>\n",
    "\n",
    "## Question 3: Solutions\n",
    "\n",
    "[Return to contents](#contents)"
   ]
  },
  {
   "cell_type": "markdown",
   "metadata": {},
   "source": [
    "<div class='exercise-r'>\n",
    "\n",
    "**3.1** Fit another well-tuned $LASSO$-like regularized logistic regression model just as you did in Question 2.1, but this time **without** `race` as a predictor. Report your resulting coefficients.\n",
    "\n",
    "</div>"
   ]
  },
  {
   "cell_type": "code",
   "execution_count": 8,
   "metadata": {},
   "outputs": [
    {
     "name": "stdout",
     "output_type": "stream",
     "text": [
      "Logistic Regression Estimated Beta 0: 0.0618\n",
      "Logistic Regression Estimated Beta 1 (age): -0.0387\n",
      "Logistic Regression Estimated Beta 2 (priors_1): 0.3922\n",
      "Logistic Regression Estimated Beta 3 (priors_234): 0.9636\n",
      "Logistic Regression Estimated Beta 4 (priors_5plus): 1.8198\n",
      "Logistic Regression Estimated Beta 5 (juv_fel_1plus): 0.1704\n",
      "Logistic Regression Estimated Beta 6 (juv_misd_1plus): 0.1363\n",
      "Logistic Regression Estimated Beta 7 (juv_other_1plus): 0.6176\n",
      "Logistic Regression Estimated Beta 8 (charge_any_drug): 0.3355\n",
      "Logistic Regression Estimated Beta 9 (charge_any_violence_aggression): 0.0946\n",
      "Logistic Regression Estimated Beta 10 (charge_any_theft): 0.3746\n",
      "Logistic Regression Estimated Beta 11 (c_charge_degree_F): 0.0905\n",
      "Logistic Regression Estimated Beta 12 (c_charge_degree_M): -0.0572\n",
      "Logistic Regression Estimated Beta 13 (sex_Female): -0.1271\n",
      "Logistic Regression Estimated Beta 14 (sex_Male): 0.1476\n"
     ]
    }
   ],
   "source": [
    "# your code here\n",
    "# Remove race predictors\n",
    "predictors2= ['age',\n",
    "             'priors_1',\n",
    "             'priors_234',\n",
    "             'priors_5plus',\n",
    "             'juv_fel_1plus',\n",
    "             'juv_misd_1plus',\n",
    "             'juv_other_1plus',\n",
    "             'charge_any_drug',\n",
    "             'charge_any_violence_aggression',\n",
    "             'charge_any_theft',\n",
    "             'c_charge_degree_F',\n",
    "             'c_charge_degree_M',\n",
    "             'sex_Female',\n",
    "             'sex_Male',\n",
    "            ]\n",
    "\n",
    "X_train = data_train[predictors2]\n",
    "y_train = data_train['two_year_recid']\n",
    "X_test = data_test[predictors2]\n",
    "y_test = data_test['two_year_recid']\n",
    "\n",
    "Cs = [1e-4,1e-3,1e-2,1e-1,1e0,1e1,1e2,1e3,1e4]\n",
    "cv = 10\n",
    "penalty = 'l1'\n",
    "solver = 'liblinear'\n",
    "\n",
    "logit_lasso = LogisticRegressionCV(\n",
    "    Cs=Cs, cv=cv, penalty=penalty, solver='liblinear'\n",
    ").fit(X_train, y_train)\n",
    "\n",
    "# Get the coefficient estimates\n",
    "print(\"Logistic Regression Estimated Beta 0: {:.4f}\".format(logit_lasso.intercept_[0]))\n",
    "\n",
    "for i, name in enumerate(logit_lasso.coef_[0]):\n",
    "    print(\"Logistic Regression Estimated Beta {} ({}): {:.4f}\".format(i+1, predictors[i], logit_lasso.coef_[0][i]))"
   ]
  },
  {
   "cell_type": "markdown",
   "metadata": {},
   "source": [
    "<div class='exercise-r'>\n",
    "\n",
    "**3.2** Again, report the following on the **test set**:\n",
    "\n",
    "1. **Overall model accuracy score**\n",
    "\n",
    "\n",
    "2. **False positive rates (FPR)** for each of the two groups (please note that a \"positive\" here is `two_year_recid==1`)\n",
    "    - `African-American`\n",
    "    - `Cacausian`\n",
    "    \n",
    "    \n",
    "3. **False negative rates (FNR)** for each of the two groups:\n",
    "    - `African-American`\n",
    "    - `Caucasian`\n",
    "\n",
    "\n",
    "4. **Ratios of error rates**:\n",
    "    - Ratio of the FPR between `African-American` and `Caucasian` groups\n",
    "    - Ratio of the FNR between `African-American` and `Caucasian` groups\n",
    "    - These ratios can be expressed as:\n",
    "\n",
    "$$\\frac{FPR(AA)}{FPR(CC)} \\; \\text{and} \\; \\frac{FNR(AA)}{FNR(CC)}$$\n",
    "\n",
    "</div>"
   ]
  },
  {
   "cell_type": "code",
   "execution_count": 9,
   "metadata": {},
   "outputs": [
    {
     "name": "stdout",
     "output_type": "stream",
     "text": [
      "Overall Testing Set Accuracy: 67.1255%\n",
      "\n",
      "False Positive Rate for African Americans: 35.9477%\n",
      "False Positive Rate for Caucasians: 19.6296%\n",
      "\n",
      "False Negative Rate for African Americans: 32.8267%\n",
      "False Negative Rate for Caucasians: 47.0199%\n",
      "\n",
      "Ratio of the FPR between African-American and Caucasian groups: 1.8313\n",
      "Ratio of the FNR between African-American and Caucasian groups: 0.6981\n"
     ]
    }
   ],
   "source": [
    "# your code here\n",
    "#Predict\n",
    "y_pred_train = logit_lasso.predict(X_train)\n",
    "y_pred_test = logit_lasso.predict(X_test)\n",
    "\n",
    "# Overall model accuracy score\n",
    "train_score = accuracy_score(y_train, y_pred_train)*100\n",
    "test_score = accuracy_score(y_test, y_pred_test)*100\n",
    "\n",
    "print(\"Overall Testing Set Accuracy: {:.4f}%\".format(test_score))\n",
    "print('')\n",
    "\n",
    "# Confusion matrix\n",
    "aa_index = data_test.index[data_test['race_African-American']==1].tolist()\n",
    "cc_index = data_test.index[data_test['race_Caucasian']==1].tolist()\n",
    "\n",
    "tn_aa, fp_aa, fn_aa, tp_aa = confusion_matrix(y_test.loc[aa_index], \n",
    "                                  logit_lasso.predict(X_test.loc[aa_index])).ravel()\n",
    "\n",
    "tn_cc, fp_cc, fn_cc, tp_cc = confusion_matrix(y_test.loc[cc_index], \n",
    "                                  logit_lasso.predict(X_test.loc[cc_index])).ravel()\n",
    "\n",
    "# False Positive rate\n",
    "fpr_aa = fp_aa/(fp_aa+tn_aa)*100\n",
    "fpr_cc = fp_cc/(fp_cc+tn_cc)*100\n",
    "print(\"False Positive Rate for African Americans: {:.4f}%\".format(fpr_aa))\n",
    "print(\"False Positive Rate for Caucasians: {:.4f}%\".format(fpr_cc))\n",
    "print('')\n",
    "\n",
    "# False Negatives rate\n",
    "fnr_aa = fn_aa/(fn_aa+tp_aa)*100\n",
    "fnr_cc = fn_cc/(fn_cc+tp_cc)*100\n",
    "print(\"False Negative Rate for African Americans: {:.4f}%\".format(fnr_aa))\n",
    "print(\"False Negative Rate for Caucasians: {:.4f}%\".format(fnr_cc))\n",
    "print('')\n",
    "\n",
    "# False Negatives rate\n",
    "fpr_ratio = fpr_aa/fpr_cc\n",
    "fnr_ratio = fnr_aa/fnr_cc\n",
    "print(\"Ratio of the FPR between African-American and Caucasian groups: {:.4f}\".format(fpr_ratio))\n",
    "print(\"Ratio of the FNR between African-American and Caucasian groups: {:.4f}\".format(fnr_ratio))"
   ]
  },
  {
   "cell_type": "markdown",
   "metadata": {},
   "source": [
    "<div class='exercise-r'>\n",
    "\n",
    "**3.3**  How do these metrics compare to the model when the variable `race` **is** included as a predictor?\n",
    "\n",
    "</div>"
   ]
  },
  {
   "cell_type": "markdown",
   "metadata": {},
   "source": [
    "**The results are not that different from when race was included as a predictor. There is still the same disparity on both FPR and FNR fronts.**"
   ]
  },
  {
   "cell_type": "markdown",
   "metadata": {},
   "source": [
    "<div class='exercise-r'>\n",
    "\n",
    "**3.4**  Given your exploration and modeling of the data, should a predictive tool be trusted to be unbiased even if it doesn’t explicitly use a variable such as race to predict future crime?  Why or why not? Give careful consideration to why the bias is still occurring or not still occurring in your results and what the real-life implications/effects might be for such a tool.\n",
    "\n",
    "</div>"
   ]
  },
  {
   "cell_type": "markdown",
   "metadata": {},
   "source": [
    "**A predictive tool should not be trusted to be unbiased even if it doesn't explicitly contain the predictor in question, such as race. Given our results from the previous question we can see that even if we eliminate the race variable we still encounter the same disparities in our FPR and FNR. This bias might still occur because there are other variables that are indicative of race. Additionally, there might be historic bias in the dataset which is impacted by other factors such as arrest rates (as seen in the provided articles).**"
   ]
  },
  {
   "cell_type": "markdown",
   "metadata": {},
   "source": [
    "---"
   ]
  },
  {
   "cell_type": "markdown",
   "metadata": {},
   "source": [
    "<a id=\"part4\"></a>\n",
    "\n",
    "## <div class='exercise'>Question 4: Classification thresholds and fairness [34 pts]</div> \n",
    "    \n",
    "[Return to contents](#contents)\n",
    "\n",
    "**4.1** Use the logistic regression model from Question 3.1 and plot the Receiver Operating Characteristic (ROC) curves for two racial groups: `African-American` and `Caucasian` in the **training set**.\n",
    "    \n",
    "**4.2** The default threshold used for determining the classification metrics analyzed in Question 2.2 and Question 3.2 was $\\hat{p}=0.5$.  Choose a new single threshold for the model from Question 3.1 that will reduce the bias between these two racial groups as measured by the \"Ratios of Error Rates\" (as defined by the formulas shown in Question 3.2). Be certain to justify your choice and interpet how this threshold choice affects your model results.\n",
    "\n",
    "**HINT:** There is no one correct answer here. However, to arrive at an answer you can support with an evidence-based justification, you will likely need to inspect the \"Ratio of $FPR$\", \"Ratio of $FNR$\", and accuracy trends across varying classification thresholds. There should be no need to refit your model from Question 3.1 to accomplish this task.\n",
    "\n",
    "**4.3** A second approach to reducing bias is to use different thresholds for the different racial groups to better ensure that the individual groups have similar false positive and false negative rates.  Choose a pair of thresholds (one for the `African-American` group and one for the `Caucasian` group) that improves the group bias (while still taking accuracy into consideration). Be certain to justify your choices and interpet how these threshold choices affect your model results.\n",
    "\n",
    "**HINT:** To arrive at an answer you can support with an evidence-based justification, you will likely need to inspect $FPR$, $FNR$, and accuracy trends across varying classification thresholds for each group (`African-American` and `Caucasian`) individually. There should be no need to refit your model from Question 3.1 to accomplish this task.\n",
    "\n",
    "**4.4** Comment on [the fairness](<https://en.wikipedia.org/wiki/Fairness_(machine_learning)>) of the two methods in Question 4.2 and Question 4.3 from two different perspectives: the fairness of each group (called \"group fairness\") and the fairness for an individual defendant (called \"individual fairness\"). \n",
    "\n",
    "**4.5** Changing the thresholds can *reduce* bias between the two classes, but it can also affect model accuracy. We want our model to be **accurate** but also **fair**.  What can be done to balance these two criteria?  Write down your strategy to overcome this difficulty. Please limit your response to at most 150 words.  \n",
    "     "
   ]
  },
  {
   "cell_type": "markdown",
   "metadata": {},
   "source": [
    "<a id=\"part4solutions\"></a>\n",
    "\n",
    "## Question 4: Solutions\n",
    "\n",
    "[Return to contents](#contents)"
   ]
  },
  {
   "cell_type": "markdown",
   "metadata": {},
   "source": [
    "<div class='exercise-r'>\n",
    "\n",
    "**4.1** Use the logistic regression model from Question 3.1 and plot the Receiver Operating Characteristic (ROC) curves for two racial groups: `African-American` and `Caucasian` in the **training set**.\n",
    "\n",
    "</div>"
   ]
  },
  {
   "cell_type": "code",
   "execution_count": 10,
   "metadata": {},
   "outputs": [
    {
     "data": {
      "image/png": "[encoded data removed]",
      "text/plain": [
       "<Figure size 432x288 with 1 Axes>"
      ]
     },
     "metadata": {
      "needs_background": "light"
     },
     "output_type": "display_data"
    },
    {
     "name": "stdout",
     "output_type": "stream",
     "text": [
      "False Positive Rate for African Americans: 35.9477%\n",
      "False Positive Rate for Caucasians: 19.6296%\n",
      "\n",
      "False Negative Rate for African Americans: 32.8267%\n",
      "False Negative Rate for Caucasians: 47.0199%\n",
      "\n",
      "Ratio of the FPR between African-American and Caucasian groups: 1.8313\n",
      "Ratio of the FNR between African-American and Caucasian groups: 0.6981\n"
     ]
    }
   ],
   "source": [
    "# your code here\n",
    "# Plot the ROC curve\n",
    "fpr_aa, tpr_aa, thresholds_aa = roc_curve(y_test.loc[aa_index], logit_lasso.predict_proba(X_test.loc[aa_index])[:,1])\n",
    "fpr_cc, tpr_cc, thresholds_cc = roc_curve(y_test.loc[cc_index], logit_lasso.predict_proba(X_test.loc[cc_index])[:,1])\n",
    "\n",
    "x=np.arange(0,100)/100\n",
    "plt.plot(x,x,'--',color=\"gray\",alpha=0.3)\n",
    "plt.plot(fpr_aa, tpr_aa, label=\"African-American\")\n",
    "plt.plot(fpr_cc, tpr_cc, label=\"Caucasian\")\n",
    "plt.ylabel(\"True Positive Rate\")\n",
    "plt.xlabel(\"False Positive Rate\")\n",
    "plt.title(\"ROC Curves for African American and Caucasian Populations\")\n",
    "plt.legend()\n",
    "plt.show()\n",
    "\n",
    "# Confusion matrix\n",
    "aa_index = data_test.index[data_test['race_African-American']==1].tolist()\n",
    "cc_index = data_test.index[data_test['race_Caucasian']==1].tolist()\n",
    "\n",
    "tn_aa, fp_aa, fn_aa, tp_aa = confusion_matrix(y_test.loc[aa_index], \n",
    "                                  logit_lasso.predict(X_test.loc[aa_index])).ravel()\n",
    "\n",
    "tn_cc, fp_cc, fn_cc, tp_cc = confusion_matrix(y_test.loc[cc_index], \n",
    "                                  logit_lasso.predict(X_test.loc[cc_index])).ravel()\n",
    "\n",
    "# False Positive rate\n",
    "fpr_aa = fp_aa/(fp_aa+tn_aa)*100\n",
    "fpr_cc = fp_cc/(fp_cc+tn_cc)*100\n",
    "print(\"False Positive Rate for African Americans: {:.4f}%\".format(fpr_aa))\n",
    "print(\"False Positive Rate for Caucasians: {:.4f}%\".format(fpr_cc))\n",
    "print('')\n",
    "\n",
    "# False Negatives rate\n",
    "fnr_aa = fn_aa/(fn_aa+tp_aa)*100\n",
    "fnr_cc = fn_cc/(fn_cc+tp_cc)*100\n",
    "print(\"False Negative Rate for African Americans: {:.4f}%\".format(fnr_aa))\n",
    "print(\"False Negative Rate for Caucasians: {:.4f}%\".format(fnr_cc))\n",
    "print('')\n",
    "\n",
    "# False Negatives rate\n",
    "fpr_ratio = fpr_aa/fpr_cc\n",
    "fnr_ratio = fnr_aa/fnr_cc\n",
    "print(\"Ratio of the FPR between African-American and Caucasian groups: {:.4f}\".format(fpr_ratio))\n",
    "print(\"Ratio of the FNR between African-American and Caucasian groups: {:.4f}\".format(fnr_ratio))"
   ]
  },
  {
   "cell_type": "markdown",
   "metadata": {},
   "source": [
    "<div class='exercise-r'>\n",
    "\n",
    "**4.2** The default threshold used for determining the classification metrics analyzed in Question 2.2 and Question 3.2 was $\\hat{p}=0.5$.  Choose a new single threshold for the model from Question 3.1 that will reduce the bias between these two racial groups as measured by the \"Ratios of Error Rates\" (as defined by the formulas shown in Question 3.2). Be certain to justify your choice and interpet how this threshold choice affects your model results.\n",
    "\n",
    "**HINT:** There is no one correct answer here. However, to arrive at an answer you can support with an evidence-based justification, you will likely need to inspect the \"Ratio of $FPR$\", \"Ratio of $FNR$\", and accuracy trends across varying classification thresholds. There should be no need to refit your model from Question 3.1 to accomplish this task.\n",
    "\n",
    "</div>"
   ]
  },
  {
   "cell_type": "code",
   "execution_count": 11,
   "metadata": {},
   "outputs": [
    {
     "data": {
      "image/png": "[encoded data removed]",
      "text/plain": [
       "<Figure size 432x288 with 1 Axes>"
      ]
     },
     "metadata": {
      "needs_background": "light"
     },
     "output_type": "display_data"
    }
   ],
   "source": [
    "# your code here\n",
    "fpr_aa, tpr_aa, thresholds_aa = roc_curve(y_test.loc[aa_index], logit_lasso.predict_proba(X_test.loc[aa_index])[:,1])\n",
    "fpr_cc, tpr_cc, thresholds_cc = roc_curve(y_test.loc[cc_index], logit_lasso.predict_proba(X_test.loc[cc_index])[:,1])\n",
    "\n",
    "fnr_aa = 1 - tpr_aa\n",
    "fnr_cc = 1 - tpr_cc\n",
    "tnr_aa = 1 - fpr_aa\n",
    "tnr_cc = 1 - fpr_cc\n",
    "\n",
    "acc_aa = (tpr_aa + tnr_aa)/(tpr_aa + tnr_aa + fpr_aa + fnr_aa)\n",
    "acc_cc = (tpr_cc + tnr_cc)/(tpr_cc + tnr_cc + fpr_cc + fnr_cc)\n",
    "\n",
    "x=np.arange(0,100)/100\n",
    "plt.plot(thresholds_aa, fpr_aa, label=\"African-American FPR\")\n",
    "plt.plot(thresholds_cc, fpr_cc, label=\"Caucasian FPR\")\n",
    "plt.plot(thresholds_aa, fnr_aa, label=\"African-American FNR\")\n",
    "plt.plot(thresholds_cc, fnr_cc, label=\"Caucasian FNR\")\n",
    "plt.plot(thresholds_aa, acc_aa, label=\"African-American Accuracy\")\n",
    "plt.plot(thresholds_cc, acc_cc, label=\"Caucasian Accuracy\")\n",
    "plt.axvline(x=0.60)\n",
    "plt.ylabel(\"Rate\")\n",
    "plt.xlabel(\"Thresholds\")\n",
    "plt.title(\"FPR and FNR at Different Thresholds\")\n",
    "plt.legend()\n",
    "plt.show()"
   ]
  },
  {
   "cell_type": "markdown",
   "metadata": {},
   "source": [
    "**INTERPRETATION:**"
   ]
  },
  {
   "cell_type": "markdown",
   "metadata": {},
   "source": [
    "**We suggest changing the threshold to 60%. Although this decreases our accuracy from 65% to 62.5% and increases our False Negative Rate from 40% to 60%, it decreases the False Positive Rate for both African Americans and Caucasians. We believe that the effects of incorrectly classifying the risk of someone (false positive) is much more severe than underestimating the risk of someone committing a crime. Especially since in the US, we have an 'innocent until proven guilty' approach, we thought that our model should minimize false positives in order to maintain a fair justice system.**"
   ]
  },
  {
   "cell_type": "markdown",
   "metadata": {},
   "source": [
    "<div class='exercise-r'>\n",
    "\n",
    "**4.3** A second approach to reducing bias is to use different thresholds for the different racial groups to better ensure that the individual groups have similar false positive and false negative rates.  Choose a pair of thresholds (one for the `African-American` group and one for the `Caucasian` group) that improves the group bias (while still taking accuracy into consideration). Be certain to justify your choices and interpet how these threshold choices affect your model results.\n",
    "\n",
    "**HINT:** To arrive at an answer you can support with an evidence-based justification, you will likely need to inspect $FPR$, $FNR$, and accuracy trends across varying classification thresholds for each group (`African-American` and `Caucasian`) individually. There should be no need to refit your model from Question 3.1 to accomplish this task.\n",
    "\n",
    "</div>"
   ]
  },
  {
   "cell_type": "code",
   "execution_count": 12,
   "metadata": {},
   "outputs": [
    {
     "data": {
      "image/png": "[encoded data removed]",
      "text/plain": [
       "<Figure size 432x288 with 1 Axes>"
      ]
     },
     "metadata": {
      "needs_background": "light"
     },
     "output_type": "display_data"
    },
    {
     "data": {
      "image/png": "[encoded data removed]",
      "text/plain": [
       "<Figure size 432x288 with 1 Axes>"
      ]
     },
     "metadata": {
      "needs_background": "light"
     },
     "output_type": "display_data"
    }
   ],
   "source": [
    "# your code here\n",
    "fpr_aa, tpr_aa, thresholds_aa = roc_curve(y_test.loc[aa_index], logit_lasso.predict_proba(X_test.loc[aa_index])[:,1])\n",
    "fpr_cc, tpr_cc, thresholds_cc = roc_curve(y_test.loc[cc_index], logit_lasso.predict_proba(X_test.loc[cc_index])[:,1])\n",
    "\n",
    "fnr_aa = 1 - tpr_aa\n",
    "fnr_cc = 1 - tpr_cc\n",
    "tnr_aa = 1 - fpr_aa\n",
    "tnr_cc = 1 - fpr_cc\n",
    "\n",
    "acc_aa = (tpr_aa + tnr_aa)/(tpr_aa + tnr_aa + fpr_aa + fnr_aa)\n",
    "acc_cc = (tpr_cc + tnr_cc)/(tpr_cc + tnr_cc + fpr_cc + fnr_cc)\n",
    "\n",
    "x=np.arange(0,100)/100\n",
    "plt.plot(thresholds_cc, fpr_cc, label=\"Caucasian FPR\")\n",
    "plt.plot(thresholds_cc, fnr_cc, label=\"Caucasian FNR\")\n",
    "plt.plot(thresholds_cc, acc_cc, label=\"Caucasian Accuracy\")\n",
    "plt.axvline(x=0.49)\n",
    "plt.ylabel(\"Rate\")\n",
    "plt.xlabel(\"Thresholds\")\n",
    "plt.title(\"FPR and FNR at Different Thresholds for Caucasians\")\n",
    "plt.legend()\n",
    "plt.show()\n",
    "\n",
    "plt.plot(thresholds_aa, fpr_aa, label=\"African-American FPR\")\n",
    "plt.plot(thresholds_aa, fnr_aa, label=\"African-American FNR\")\n",
    "plt.plot(thresholds_aa, acc_aa, label=\"African-American Accuracy\")\n",
    "plt.axvline(x=0.60)\n",
    "plt.ylabel(\"Rate\")\n",
    "plt.xlabel(\"Thresholds\")\n",
    "plt.title(\"FPR and FNR at Different Thresholds for African Americans\")\n",
    "plt.legend()\n",
    "plt.show()"
   ]
  },
  {
   "cell_type": "markdown",
   "metadata": {},
   "source": [
    "**INTERPRETATION:**"
   ]
  },
  {
   "cell_type": "markdown",
   "metadata": {},
   "source": [
    "**In this scenario, since we are able to optimize for both racial groups, we decided to place thresholds at p=0.49 for Caucasians and p=0.60 for African Americans. At these thresholds, we maintain a high accuracy score around 60% while simultaneously reducing the FPR for both groups to approximately 20%. FNR for both groups has increased to about 50% but as discussed earlier this is a tradeoff we are willing to make to ensure fairness for defendants.**"
   ]
  },
  {
   "cell_type": "markdown",
   "metadata": {},
   "source": [
    "<div class='exercise-r'>\n",
    "\n",
    "**4.4** Comment on [the fairness](<https://en.wikipedia.org/wiki/Fairness_(machine_learning)>) of the two methods in Question 4.2 and Question 4.3 from two different perspectives: the fairness of each group (called \"group fairness\") and the fairness for an individual defendant (called \"individual fairness\"). \n",
    "\n",
    "</div>"
   ]
  },
  {
   "cell_type": "markdown",
   "metadata": {},
   "source": [
    "**While the method in 4.2 optimizes for individual fairness, it does not optimize for group fairness. The method in 4.2 and the parameters we chose serve to reduce the false positive rate for the defendants- which ensures that they are treated fairly. However, the group inequality still remains-- African Americans will still continue to have a higher false positive rate than Caucasians at the same threshold because of the discrepancies in the FPR curves. In method 4.3, we are optimizing for individual fairness and group fairness. Choosing different thresholds for African Americans and for Caucasians allows us to give both groups the same false positive rate. This means that the model does not discriminate anymore against African Americans. Some groups may raise a question on the ethics of applying different thresholds to people based on race- but in this case, the disparity in thresholds helps to overcome racial bias.**"
   ]
  },
  {
   "cell_type": "markdown",
   "metadata": {},
   "source": [
    "<div class='exercise-r'>\n",
    "\n",
    "**4.5** Changing the thresholds can *reduce* bias between the two classes, but it can also affect model accuracy. We want our model to be **accurate** but also **fair**.  What can be done to balance these two criteria?  Write down your strategy to overcome this difficulty. Please limit your response to at most 150 words.  \n",
    "\n",
    "</div>"
   ]
  },
  {
   "cell_type": "markdown",
   "metadata": {},
   "source": [
    "**The tradeoff between accuracy and fairness is difficult to navigate. We approached this by setting a minimum accuracy level that we wanted to accomplish-- in our case this was 60% - the model has to perform better than random probability. We then tried to pick a threshold where we would minimize the FPR the most for a certain group while also trying to balance the increase in FNR. The strategy to balance FPR vs FNR depends on the relative severity of a false positive versus a false negative. In our case, it may be best to minimize false positives versus false negatives.**"
   ]
  },
  {
   "cell_type": "markdown",
   "metadata": {},
   "source": [
    "#### THE END\n",
    "\n",
    "[Return to contents](#contents)"
   ]
  }
 ],
 "metadata": {
  "kernelspec": {
   "display_name": "Python 3 (ipykernel)",
   "language": "python",
   "name": "python3"
  },
  "language_info": {
   "codemirror_mode": {
    "name": "ipython",
    "version": 3
   },
   "file_extension": ".py",
   "mimetype": "text/x-python",
   "name": "python",
   "nbconvert_exporter": "python",
   "pygments_lexer": "ipython3",
   "version": "3.9.6"
  }
 },
 "nbformat": 4,
 "nbformat_minor": 4
}
